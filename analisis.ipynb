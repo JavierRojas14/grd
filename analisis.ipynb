{
 "cells": [
  {
   "cell_type": "code",
   "execution_count": 29,
   "metadata": {},
   "outputs": [],
   "source": [
    "import pandas as pd\n",
    "import polars as pl\n",
    "\n",
    "import numpy as np"
   ]
  },
  {
   "cell_type": "code",
   "execution_count": null,
   "metadata": {},
   "outputs": [],
   "source": [
    "dict_dtypes = {'COD_HOSPITAL': dtype('int64'),\n",
    " 'CIP_ENCRIPTADO': dtype('float64'),\n",
    " 'SEXO': dtype('O'),\n",
    " 'FECHA_NACIMIENTO': dtype('O'),\n",
    " 'ETNIA': dtype('O'),\n",
    " 'PROVINCIA': dtype('O'),\n",
    " 'COMUNA': dtype('O'),\n",
    " 'NACIONALIDAD': dtype('O'),\n",
    " 'PREVISION': dtype('O'),\n",
    " 'SERVICIO_SALUD': dtype('O'),\n",
    " 'TIPO_PROCEDENCIA': dtype('O'),\n",
    " 'TIPO_INGRESO': dtype('O'),\n",
    " 'ESPECIALIDAD_MEDICA': dtype('O'),\n",
    " 'TIPO_ACTIVIDAD': dtype('O'),\n",
    " 'FECHA_INGRESO': dtype('O'),\n",
    " 'SERVICIOINGRESO': dtype('O'),\n",
    " 'FECHATRASLADO1': dtype('O'),\n",
    " 'SERVICIOTRASLADO1': dtype('O'),\n",
    " 'FECHATRASLADO2': dtype('O'),\n",
    " 'SERVICIOTRASLADO2': dtype('O'),\n",
    " 'FECHATRASLADO3': dtype('O'),\n",
    " 'SERVICIOTRASLADO3': dtype('O'),\n",
    " 'FECHATRASLADO4': dtype('O'),\n",
    " 'SERVICIOTRASLADO4': dtype('O'),\n",
    " 'FECHATRASLADO5': dtype('O'),\n",
    " 'SERVICIOTRASLADO5': dtype('O'),\n",
    " 'FECHATRASLADO6': dtype('O'),\n",
    " 'SERVICIOTRASLADO6': dtype('O'),\n",
    " 'FECHATRASLADO7': dtype('O'),\n",
    " 'SERVICIOTRASLADO7': dtype('O'),\n",
    " 'FECHATRASLADO8': dtype('O'),\n",
    " 'SERVICIOTRASLADO8': dtype('O'),\n",
    " 'FECHATRASLADO9': dtype('O'),\n",
    " 'SERVICIOTRASLADO9': dtype('O'),\n",
    " 'FECHAALTA': dtype('O'),\n",
    " 'SERVICIOALTA': dtype('O'),\n",
    " 'TIPOALTA': dtype('O'),\n",
    " 'CONDICIONDEALTANEONATO1': dtype('float64'),\n",
    " 'PESORN1': dtype('float64'),\n",
    " 'SEXORN1': dtype('O'),\n",
    " 'RN1ESTADO': dtype('float64'),\n",
    " 'CONDICIONDEALTANEONATO2': dtype('float64'),\n",
    " 'PESORN2': dtype('float64'),\n",
    " 'SEXORN2': dtype('O'),\n",
    " 'RN2ESTADO': dtype('float64'),\n",
    " 'CONDICIONDEALTANEONATO3': dtype('float64'),\n",
    " 'PESORN3': dtype('float64'),\n",
    " 'SEXORN3': dtype('O'),\n",
    " 'RN3ESTADO': dtype('float64'),\n",
    " 'CONDICIONDEALTANEONATO4': dtype('float64'),\n",
    " 'PESORN4': dtype('float64'),\n",
    " 'SEXORN4': dtype('float64'),\n",
    " 'RN4ESTADO': dtype('float64'),\n",
    " 'DIAGNOSTICO1': dtype('O'),\n",
    " 'DIAGNOSTICO2': dtype('O'),\n",
    " 'DIAGNOSTICO3': dtype('O'),\n",
    " 'DIAGNOSTICO4': dtype('O'),\n",
    " 'DIAGNOSTICO5': dtype('O'),\n",
    " 'DIAGNOSTICO6': dtype('O'),\n",
    " 'DIAGNOSTICO7': dtype('O'),\n",
    " 'DIAGNOSTICO8': dtype('O'),\n",
    " 'DIAGNOSTICO9': dtype('O'),\n",
    " 'DIAGNOSTICO10': dtype('O'),\n",
    " 'DIAGNOSTICO11': dtype('O'),\n",
    " 'DIAGNOSTICO12': dtype('O'),\n",
    " 'DIAGNOSTICO13': dtype('O'),\n",
    " 'DIAGNOSTICO14': dtype('O'),\n",
    " 'DIAGNOSTICO15': dtype('O'),\n",
    " 'DIAGNOSTICO16': dtype('O'),\n",
    " 'DIAGNOSTICO17': dtype('O'),\n",
    " 'DIAGNOSTICO18': dtype('O'),\n",
    " 'DIAGNOSTICO19': dtype('O'),\n",
    " 'DIAGNOSTICO20': dtype('O'),\n",
    " 'DIAGNOSTICO21': dtype('O'),\n",
    " 'DIAGNOSTICO22': dtype('O'),\n",
    " 'DIAGNOSTICO23': dtype('O'),\n",
    " 'DIAGNOSTICO24': dtype('O'),\n",
    " 'DIAGNOSTICO25': dtype('O'),\n",
    " 'DIAGNOSTICO26': dtype('O'),\n",
    " 'DIAGNOSTICO27': dtype('O'),\n",
    " 'DIAGNOSTICO28': dtype('O'),\n",
    " 'DIAGNOSTICO29': dtype('O'),\n",
    " 'DIAGNOSTICO30': dtype('O'),\n",
    " 'DIAGNOSTICO31': dtype('O'),\n",
    " 'DIAGNOSTICO32': dtype('O'),\n",
    " 'DIAGNOSTICO33': dtype('O'),\n",
    " 'DIAGNOSTICO34': dtype('O'),\n",
    " 'DIAGNOSTICO35': dtype('O'),\n",
    " 'PROCEDIMIENTO1': dtype('O'),\n",
    " 'PROCEDIMIENTO2': dtype('O'),\n",
    " 'PROCEDIMIENTO3': dtype('O'),\n",
    " 'PROCEDIMIENTO4': dtype('float64'),\n",
    " 'PROCEDIMIENTO5': dtype('O'),\n",
    " 'PROCEDIMIENTO6': dtype('float64'),\n",
    " 'PROCEDIMIENTO7': dtype('float64'),\n",
    " 'PROCEDIMIENTO8': dtype('float64'),\n",
    " 'PROCEDIMIENTO9': dtype('float64'),\n",
    " 'PROCEDIMIENTO10': dtype('float64'),\n",
    " 'PROCEDIMIENTO11': dtype('float64'),\n",
    " 'PROCEDIMIENTO12': dtype('float64'),\n",
    " 'PROCEDIMIENTO13': dtype('float64'),\n",
    " 'PROCEDIMIENTO14': dtype('float64'),\n",
    " 'PROCEDIMIENTO15': dtype('float64'),\n",
    " 'PROCEDIMIENTO16': dtype('float64'),\n",
    " 'PROCEDIMIENTO17': dtype('float64'),\n",
    " 'PROCEDIMIENTO18': dtype('float64'),\n",
    " 'PROCEDIMIENTO19': dtype('float64'),\n",
    " 'PROCEDIMIENTO20': dtype('float64'),\n",
    " 'PROCEDIMIENTO21': dtype('float64'),\n",
    " 'PROCEDIMIENTO22': dtype('float64'),\n",
    " 'PROCEDIMIENTO23': dtype('float64'),\n",
    " 'PROCEDIMIENTO24': dtype('float64'),\n",
    " 'PROCEDIMIENTO25': dtype('float64'),\n",
    " 'PROCEDIMIENTO26': dtype('float64'),\n",
    " 'PROCEDIMIENTO27': dtype('float64'),\n",
    " 'PROCEDIMIENTO28': dtype('float64'),\n",
    " 'PROCEDIMIENTO29': dtype('float64'),\n",
    " 'PROCEDIMIENTO30': dtype('float64'),\n",
    " 'MEDICOINTERV1_ENCRIPTADO': dtype('float64'),\n",
    " 'FECHAPROCEDIMIENTO1': dtype('float64'),\n",
    " 'FECHAINTERV1': dtype('O'),\n",
    " 'ESPECIALIDADINTERVENCION': dtype('O'),\n",
    " 'MEDICOALTA_ENCRIPTADO': dtype('int64'),\n",
    " 'USOSPABELLON': dtype('float64'),\n",
    " 'IR_29301_COD_GRD': dtype('int64'),\n",
    " 'IR_29301_PESO': dtype('O'),\n",
    " 'IR_29301_SEVERIDAD': dtype('int64'),\n",
    " 'IR_29301_MORTALIDAD': dtype('int64'),\n",
    " 'HOSPPROCEDENCIA': dtype('O')}"
   ]
  },
  {
   "cell_type": "code",
   "execution_count": 119,
   "metadata": {},
   "outputs": [
    {
     "name": "stderr",
     "output_type": "stream",
     "text": [
      "C:\\Users\\ppizarro\\AppData\\Local\\Temp\\ipykernel_8372\\3830658916.py:1: DtypeWarning: Columns (26,27,28,29,30,31,32,33,47,83,84,85,86,87,88,89,90,92) have mixed types. Specify dtype option on import or set low_memory=False.\n",
      "  df = pd.read_csv('input/GRD_PUBLICO_2021.txt', sep='|')\n"
     ]
    }
   ],
   "source": [
    "df = pd.read_csv('input/GRD_PUBLICO_2021.txt', sep='|')"
   ]
  },
  {
   "cell_type": "code",
   "execution_count": 120,
   "metadata": {},
   "outputs": [],
   "source": [
    "df['IR_29301_PESO'] = df['IR_29301_PESO'].str.replace(',', '.').astype(float)\n",
    "df['FECHAALTA'] = pd.to_datetime(df['FECHAALTA'])\n",
    "df['FECHA_INGRESO'] = pd.to_datetime(df['FECHA_INGRESO'])"
   ]
  },
  {
   "cell_type": "code",
   "execution_count": 121,
   "metadata": {},
   "outputs": [],
   "source": [
    "df['ESTANCIA'] = (df['FECHAALTA'] - df['FECHA_INGRESO'])"
   ]
  },
  {
   "cell_type": "code",
   "execution_count": 122,
   "metadata": {},
   "outputs": [],
   "source": [
    "procedimientos = df.loc[:, 'PROCEDIMIENTO1': 'PROCEDIMIENTO30']\n",
    "procedimientos['PROCEDIMIENTO1'] = procedimientos['PROCEDIMIENTO1'].replace('DESCONOCIDO', np.nan).astype(float)\n",
    "procedimientos['PROCEDIMIENTO2'] = procedimientos['PROCEDIMIENTO2'].replace('DESCONOCIDO', np.nan).astype(float)\n",
    "procedimientos['PROCEDIMIENTO3'] = procedimientos['PROCEDIMIENTO3'].replace('DESCONOCIDO', np.nan).astype(float)\n",
    "procedimientos['PROCEDIMIENTO5'] = procedimientos['PROCEDIMIENTO5'].replace('DESCONOCIDO', np.nan).astype(float)"
   ]
  },
  {
   "cell_type": "code",
   "execution_count": 123,
   "metadata": {},
   "outputs": [],
   "source": [
    "contiene_nuestros_proc = procedimientos.isin([31.1, 31.29]).sum(axis=1).astype(bool)\n",
    "ambos_proc = contiene_nuestros_proc[contiene_nuestros_proc > 1].astype(bool)"
   ]
  },
  {
   "cell_type": "code",
   "execution_count": 124,
   "metadata": {},
   "outputs": [],
   "source": [
    "proc_nacionales = df[contiene_nuestros_proc]\n",
    "proc_torax = proc_nacionales.query('COD_HOSPITAL == 112103')"
   ]
  },
  {
   "cell_type": "code",
   "execution_count": 126,
   "metadata": {},
   "outputs": [],
   "source": [
    "metricas = proc_nacionales.groupby('SERVICIO_SALUD').agg(n_egresos=('COD_HOSPITAL', 'count'),\n",
    "                                              peso_medio=('IR_29301_PESO', 'mean'),\n",
    "                                              estancia_media=('ESTANCIA', 'mean'))"
   ]
  },
  {
   "cell_type": "code",
   "execution_count": 127,
   "metadata": {},
   "outputs": [],
   "source": [
    "metricas.to_excel('resumen_traqueostomia_2021.xlsx')\n",
    "proc_nacionales.to_excel('crudo_traqueostomias_nacionales_2021.xlsx')"
   ]
  },
  {
   "cell_type": "code",
   "execution_count": 130,
   "metadata": {},
   "outputs": [],
   "source": []
  },
  {
   "cell_type": "code",
   "execution_count": null,
   "metadata": {},
   "outputs": [],
   "source": []
  }
 ],
 "metadata": {
  "kernelspec": {
   "display_name": "Python 3",
   "language": "python",
   "name": "python3"
  },
  "language_info": {
   "codemirror_mode": {
    "name": "ipython",
    "version": 3
   },
   "file_extension": ".py",
   "mimetype": "text/x-python",
   "name": "python",
   "nbconvert_exporter": "python",
   "pygments_lexer": "ipython3",
   "version": "3.10.9"
  },
  "orig_nbformat": 4
 },
 "nbformat": 4,
 "nbformat_minor": 2
}
