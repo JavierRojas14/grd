{
 "cells": [
  {
   "cell_type": "code",
   "execution_count": 1,
   "metadata": {},
   "outputs": [],
   "source": [
    "import pandas as pd\n",
    "import polars as pl\n",
    "\n",
    "import numpy as np\n",
    "\n",
    "import lectura_archivos as fr"
   ]
  },
  {
   "attachments": {},
   "cell_type": "markdown",
   "metadata": {},
   "source": [
    "# Analisis de Cantidad de Traqueostomias por Servicio de Salud\n",
    "\n",
    "- En este apartado se quiere ver la cantidad de traqueostomias que se hicieron por Servicio de Salud.\n",
    "Este analisis se realiza por anio."
   ]
  },
  {
   "attachments": {},
   "cell_type": "markdown",
   "metadata": {},
   "source": [
    "## Carga de Archivos de GRD"
   ]
  },
  {
   "cell_type": "code",
   "execution_count": 2,
   "metadata": {},
   "outputs": [],
   "source": [
    "dfp = fr.leer_grd()\n"
   ]
  },
  {
   "cell_type": "code",
   "execution_count": 3,
   "metadata": {},
   "outputs": [],
   "source": [
    "df = dfp.to_pandas()\n"
   ]
  },
  {
   "attachments": {},
   "cell_type": "markdown",
   "metadata": {},
   "source": [
    "## Analisis de Traqueostomia"
   ]
  },
  {
   "cell_type": "code",
   "execution_count": 5,
   "metadata": {},
   "outputs": [],
   "source": [
    "procedimientos = df.loc[:, \"PROCEDIMIENTO1\":\"PROCEDIMIENTO30\"]\n",
    "contiene_nuestros_proc = procedimientos.isin([\"31.1\", \"31.29\"]).sum(axis=1).astype(bool)\n",
    "proc_nacionales = df[contiene_nuestros_proc]\n"
   ]
  },
  {
   "cell_type": "code",
   "execution_count": 6,
   "metadata": {},
   "outputs": [],
   "source": [
    "metricas = (\n",
    "    proc_nacionales.groupby([\"ANIO_EGRESO\", \"SERVICIO_SALUD\"])\n",
    "    .agg(\n",
    "        n_egresos=(\"COD_HOSPITAL\", \"count\"),\n",
    "        peso_medio=(\"IR_29301_PESO\", \"mean\"),\n",
    "        estancia_media=(\"ESTANCIA\", \"mean\"),\n",
    "    )\n",
    "    .sort_values([\"ANIO_EGRESO\", \"n_egresos\"], ascending=False)\n",
    ")"
   ]
  },
  {
   "cell_type": "code",
   "execution_count": 7,
   "metadata": {},
   "outputs": [],
   "source": [
    "metricas.to_excel(\"output/resumen_traqueostomia_hist.xlsx\")"
   ]
  },
  {
   "attachments": {},
   "cell_type": "markdown",
   "metadata": {},
   "source": [
    "# Analisis de Prestaciones por Diagnostico"
   ]
  },
  {
   "attachments": {},
   "cell_type": "markdown",
   "metadata": {},
   "source": [
    "- En este apartado se quiere ver la cantidad de prestaciones que se realizan por cada diagnostico\n",
    "principal.\n",
    "\n",
    "- El resultado que se quiere obtener es parecido al siguiente:\n",
    "\n",
    "|Año|Diagnostico|Resumen Procedimientos|\n",
    "|---|-----------|----------------------|\n",
    "|2019|\"I25.1\"|{\"45.23\": 20, \"73.59\": 10}|\n",
    "|2020|\"I25.1\"|{\"45.23\": 7, \"73.59\": 3}|"
   ]
  },
  {
   "attachments": {},
   "cell_type": "markdown",
   "metadata": {},
   "source": [
    "## Analisis Exploratorio"
   ]
  },
  {
   "attachments": {},
   "cell_type": "markdown",
   "metadata": {},
   "source": [
    "### Obtener conteo de diagnosticos en el Torax"
   ]
  },
  {
   "cell_type": "code",
   "execution_count": 4,
   "metadata": {},
   "outputs": [
    {
     "data": {
      "text/html": [
       "<div><style>\n",
       ".dataframe > thead > tr > th,\n",
       ".dataframe > tbody > tr > td {\n",
       "  text-align: right;\n",
       "}\n",
       "</style>\n",
       "<small>shape: (568, 2)</small><table border=\"1\" class=\"dataframe\"><thead><tr><th>DIAGNOSTICO1</th><th>count</th></tr><tr><td>str</td><td>u32</td></tr></thead><tbody><tr><td>&quot;I25.1&quot;</td><td>1366</td></tr><tr><td>&quot;Z51.1&quot;</td><td>811</td></tr><tr><td>&quot;U07.1&quot;</td><td>706</td></tr><tr><td>&quot;Z51.4&quot;</td><td>595</td></tr><tr><td>&quot;Z13.6&quot;</td><td>489</td></tr><tr><td>&quot;Z29.1&quot;</td><td>394</td></tr><tr><td>&quot;C34.1&quot;</td><td>367</td></tr><tr><td>&quot;I35.0&quot;</td><td>365</td></tr><tr><td>&quot;Z45.0&quot;</td><td>322</td></tr><tr><td>&quot;I21.4&quot;</td><td>264</td></tr><tr><td>&quot;J84.1&quot;</td><td>247</td></tr><tr><td>&quot;I21.0&quot;</td><td>234</td></tr><tr><td>&hellip;</td><td>&hellip;</td></tr><tr><td>&quot;J32.4&quot;</td><td>1</td></tr><tr><td>&quot;Z03.0&quot;</td><td>1</td></tr><tr><td>&quot;C47.3&quot;</td><td>1</td></tr><tr><td>&quot;D70&quot;</td><td>1</td></tr><tr><td>&quot;K57.9&quot;</td><td>1</td></tr><tr><td>&quot;I87.8&quot;</td><td>1</td></tr><tr><td>&quot;E04.9&quot;</td><td>1</td></tr><tr><td>&quot;C13.9&quot;</td><td>1</td></tr><tr><td>&quot;K61.0&quot;</td><td>1</td></tr><tr><td>&quot;J12.0&quot;</td><td>1</td></tr><tr><td>&quot;T66&quot;</td><td>1</td></tr><tr><td>&quot;I46.1&quot;</td><td>1</td></tr></tbody></table></div>"
      ],
      "text/plain": [
       "shape: (568, 2)\n",
       "┌──────────────┬───────┐\n",
       "│ DIAGNOSTICO1 ┆ count │\n",
       "│ ---          ┆ ---   │\n",
       "│ str          ┆ u32   │\n",
       "╞══════════════╪═══════╡\n",
       "│ I25.1        ┆ 1366  │\n",
       "│ Z51.1        ┆ 811   │\n",
       "│ U07.1        ┆ 706   │\n",
       "│ Z51.4        ┆ 595   │\n",
       "│ …            ┆ …     │\n",
       "│ K61.0        ┆ 1     │\n",
       "│ J12.0        ┆ 1     │\n",
       "│ T66          ┆ 1     │\n",
       "│ I46.1        ┆ 1     │\n",
       "└──────────────┴───────┘"
      ]
     },
     "execution_count": 4,
     "metadata": {},
     "output_type": "execute_result"
    }
   ],
   "source": [
    "torax = dfp.filter(pl.col(\"COD_HOSPITAL\") == 112103)\n",
    "torax.groupby([\"DIAGNOSTICO1\"]).agg(pl.count()).sort(by=\"count\", descending=True)\n"
   ]
  },
  {
   "attachments": {},
   "cell_type": "markdown",
   "metadata": {},
   "source": [
    "- De estos resultados, se puede ver que el diagnostico Z51.4 es el diagnostico mas frecuente\n",
    "entre 2019 y 2021. Tuvo 1366 egresos.\n",
    "\n",
    "- A modo de ejemplo, se quiere ver el dataframe completo del diagnostico Z51.4, y analizar\n",
    "los procedimientos que tiene incluidos."
   ]
  },
  {
   "attachments": {},
   "cell_type": "markdown",
   "metadata": {},
   "source": [
    "### Analisis de conteo de procedimientos"
   ]
  },
  {
   "attachments": {},
   "cell_type": "markdown",
   "metadata": {},
   "source": [
    "### Forma 1"
   ]
  },
  {
   "cell_type": "code",
   "execution_count": 5,
   "metadata": {},
   "outputs": [],
   "source": [
    "from functools import reduce\n",
    "\n",
    "i251 = torax.filter(pl.col(\"DIAGNOSTICO1\") == \"I25.1\").to_pandas()\n",
    "listas_procedimientos = (\n",
    "    i251.loc[:, \"PROCEDIMIENTO1\":\"PROCEDIMIENTO30\"].fillna(\"\").agg(\"-\".join, axis=1).str.split(\"-\")\n",
    ")\n",
    "\n",
    "\n",
    "sumado = reduce(lambda x, y: x + y, listas_procedimientos.values)"
   ]
  },
  {
   "attachments": {},
   "cell_type": "markdown",
   "metadata": {},
   "source": [
    "### Forma 2"
   ]
  },
  {
   "cell_type": "code",
   "execution_count": 6,
   "metadata": {},
   "outputs": [
    {
     "data": {
      "text/plain": [
       "99.29    1196\n",
       "99.19    1125\n",
       "89.54    1035\n",
       "93.96     930\n",
       "37.22     806\n",
       "         ... \n",
       "78.61       1\n",
       "39.98       1\n",
       "99.10       1\n",
       "37.99       1\n",
       "37.87       1\n",
       "Name: value, Length: 257, dtype: int64"
      ]
     },
     "execution_count": 6,
     "metadata": {},
     "output_type": "execute_result"
    }
   ],
   "source": [
    "cambiada = pd.melt(\n",
    "    i251, id_vars=\"DIAGNOSTICO1\", value_vars=[f\"PROCEDIMIENTO{i}\" for i in range(1, 31)]\n",
    ")\n",
    "cambiada[\"value\"].value_counts()\n"
   ]
  },
  {
   "attachments": {},
   "cell_type": "markdown",
   "metadata": {},
   "source": [
    "## Analisis Completo\n",
    "\n",
    "- Se quiere ver la cantida dde procedimientos hechos por posicion de procedimiento. O sea,\n",
    "en el \"PROCEDIMIENTO1\" que procedimientos se ingresaron, y cuales son sus frecuencias ordenadas\n",
    "de mayor a menor?\n",
    "\n",
    "- Tambien se quiere ver la frecuencia global. O sea, para el diagnostico X, cuales son los\n",
    "procedimientos que mas se le realizan, independiente de la posicion del procedimiento."
   ]
  },
  {
   "attachments": {},
   "cell_type": "markdown",
   "metadata": {},
   "source": [
    "#### Cambio de nombre de columnas PROCEDIMIENTO\n",
    "\n",
    "- Esto se realiza, ya que permite ordenar estas columnas al utilizar .value_counts() en la\n",
    "proxima celda."
   ]
  },
  {
   "cell_type": "code",
   "execution_count": 7,
   "metadata": {},
   "outputs": [],
   "source": [
    "import string\n",
    "\n",
    "procedimientos = [f\"PROCEDIMIENTO{i}\" for i in range(1, 31)]\n",
    "letras = list(string.ascii_uppercase) + [\"a\", \"b\", \"c\", \"d\"]\n",
    "codificacion = dict(zip(procedimientos, letras))\n",
    "codificacion_reversa = dict(zip(letras, procedimientos))\n",
    "\n",
    "torax_pandas = torax.to_pandas()\n",
    "long_prestaciones = pd.melt(\n",
    "    torax_pandas,\n",
    "    id_vars=[\"ANIO_EGRESO\", \"DIAGNOSTICO1\"],\n",
    "    value_vars=procedimientos,\n",
    ")\n",
    "\n",
    "long_prestaciones[\"variable\"] = long_prestaciones[\"variable\"].replace(codificacion)"
   ]
  },
  {
   "cell_type": "code",
   "execution_count": 28,
   "metadata": {},
   "outputs": [],
   "source": [
    "resumen_prestaciones_global = (\n",
    "    long_prestaciones.groupby([\"ANIO_EGRESO\", \"DIAGNOSTICO1\"])[\"value\"]\n",
    "    .value_counts()\n",
    "    .reset_index(name=\"n_procedimientos\")\n",
    ")\n",
    "\n",
    "por_procedimiento = (\n",
    "    long_prestaciones.groupby([\"ANIO_EGRESO\", \"DIAGNOSTICO1\", \"variable\"])[\"value\"]\n",
    "    .value_counts()\n",
    "    .reset_index(name=\"n_procedimientos\")\n",
    ")\n",
    "\n",
    "por_procedimiento[\"variable\"] = por_procedimiento[\"variable\"].replace(codificacion_reversa)\n",
    "por_procedimiento = por_procedimiento.rename({\"value\": \"codigo_procedimiento\"}, axis=1)\n"
   ]
  },
  {
   "cell_type": "code",
   "execution_count": 29,
   "metadata": {},
   "outputs": [],
   "source": [
    "resumen_prestaciones_global.to_excel(\"output/prestaciones_globales.xlsx\")\n",
    "por_procedimiento.to_excel(\"output/prestaciones_por_procedimiento.xlsx\")"
   ]
  },
  {
   "attachments": {},
   "cell_type": "markdown",
   "metadata": {},
   "source": [
    "### Obtener Cantidad de Egresos"
   ]
  },
  {
   "cell_type": "code",
   "execution_count": 30,
   "metadata": {},
   "outputs": [
    {
     "data": {
      "text/plain": [
       "I25.1    1366\n",
       "Z51.1     811\n",
       "U07.1     706\n",
       "Z51.4     595\n",
       "Z13.6     489\n",
       "         ... \n",
       "T86.0       1\n",
       "N62         1\n",
       "H44.0       1\n",
       "G53.0       1\n",
       "C39.8       1\n",
       "Name: DIAGNOSTICO1, Length: 568, dtype: int64"
      ]
     },
     "metadata": {},
     "output_type": "display_data"
    }
   ],
   "source": [
    "cantidad_egresos = (\n",
    "    long_prestaciones.query('variable == \"A\"').groupby(\"ANIO_EGRESO\").DIAGNOSTICO1.value_counts()\n",
    ").reset_index(name=\"n_egresos\")\n",
    "\n",
    "cantidad_egresos_totales = long_prestaciones.query('variable == \"A\"').DIAGNOSTICO1.value_counts()\n",
    "display(cantidad_egresos_totales)"
   ]
  },
  {
   "attachments": {},
   "cell_type": "markdown",
   "metadata": {},
   "source": [
    "- Se puede observar que este metodo de calculo permite obtener la cantidad de egresos de \n",
    "[forma similar a lo visto anteriormente](#obtener-conteo-de-diagnosticos-en-el-torax)"
   ]
  },
  {
   "cell_type": "code",
   "execution_count": 33,
   "metadata": {},
   "outputs": [],
   "source": [
    "procedimientos_egresos = pd.merge(\n",
    "    por_procedimiento, cantidad_egresos, how=\"inner\", on=[\"ANIO_EGRESO\", \"DIAGNOSTICO1\"]\n",
    ")"
   ]
  }
 ],
 "metadata": {
  "kernelspec": {
   "display_name": "Python 3",
   "language": "python",
   "name": "python3"
  },
  "language_info": {
   "codemirror_mode": {
    "name": "ipython",
    "version": 3
   },
   "file_extension": ".py",
   "mimetype": "text/x-python",
   "name": "python",
   "nbconvert_exporter": "python",
   "pygments_lexer": "ipython3",
   "version": "3.10.9"
  },
  "orig_nbformat": 4
 },
 "nbformat": 4,
 "nbformat_minor": 2
}
