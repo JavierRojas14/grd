{
 "cells": [
  {
   "cell_type": "code",
   "execution_count": 1,
   "metadata": {},
   "outputs": [],
   "source": [
    "import pandas as pd\n",
    "import polars as pl\n",
    "\n",
    "import numpy as np"
   ]
  },
  {
   "cell_type": "code",
   "execution_count": 9,
   "metadata": {},
   "outputs": [],
   "source": [
    "COLUMNAS_POLARS = {\n",
    "    \"COD_HOSPITAL\": pl.Int32,\n",
    "    \"CIP_ENCRIPTADO\": pl.Int32,\n",
    "    \"SEXO\": pl.Categorical,\n",
    "    \"FECHA_NACIMIENTO\": pl.Date,\n",
    "    \"ETNIA\": pl.Categorical,\n",
    "    \"PROVINCIA\": pl.Categorical,\n",
    "    \"COMUNA\": pl.Categorical,\n",
    "    \"NACIONALIDAD\": pl.Categorical,\n",
    "    \"PREVISION\": pl.Categorical,\n",
    "    \"SERVICIO_SALUD\": pl.Categorical,\n",
    "    \"TIPO_PROCEDENCIA\": pl.Categorical,\n",
    "    \"TIPO_INGRESO\": pl.Categorical,\n",
    "    \"ESPECIALIDAD_MEDICA\": pl.Categorical,\n",
    "    \"TIPO_ACTIVIDAD\": pl.Categorical,\n",
    "    \"FECHA_INGRESO\": pl.Date,\n",
    "    \"SERVICIOINGRESO\": pl.Categorical,\n",
    "    \"FECHATRASLADO1\": pl.Date,\n",
    "    \"SERVICIOTRASLADO1\": pl.Categorical,\n",
    "    \"FECHATRASLADO2\": pl.Date,\n",
    "    \"SERVICIOTRASLADO2\": pl.Categorical,\n",
    "    \"FECHATRASLADO3\": pl.Date,\n",
    "    \"SERVICIOTRASLADO3\": pl.Categorical,\n",
    "    \"FECHATRASLADO4\": pl.Date,\n",
    "    \"SERVICIOTRASLADO4\": pl.Categorical,\n",
    "    \"FECHATRASLADO5\": pl.Date,\n",
    "    \"SERVICIOTRASLADO5\": pl.Categorical,\n",
    "    \"FECHATRASLADO6\": pl.Date,\n",
    "    \"SERVICIOTRASLADO6\": pl.Categorical,\n",
    "    \"FECHATRASLADO7\": pl.Date,\n",
    "    \"SERVICIOTRASLADO7\": pl.Categorical,\n",
    "    \"FECHATRASLADO8\": pl.Date,\n",
    "    \"SERVICIOTRASLADO8\": pl.Categorical,\n",
    "    \"FECHATRASLADO9\": pl.Date,\n",
    "    \"SERVICIOTRASLADO9\": pl.Categorical,\n",
    "    \"FECHAALTA\": pl.Date,\n",
    "    \"SERVICIOALTA\": pl.Categorical,\n",
    "    \"TIPOALTA\": pl.Categorical,\n",
    "    \"CONDICIONDEALTANEONATO1\": pl.Categorical,\n",
    "    \"PESORN1\": pl.Int16,\n",
    "    \"SEXORN1\": pl.Categorical,\n",
    "    \"RN1ESTADO\": pl.Int8,\n",
    "    \"CONDICIONDEALTANEONATO2\": pl.Categorical,\n",
    "    \"PESORN2\": pl.Int16,\n",
    "    \"SEXORN2\": pl.Categorical,\n",
    "    \"RN2ESTADO\": pl.Int8,\n",
    "    \"CONDICIONDEALTANEONATO3\": pl.Categorical,\n",
    "    \"PESORN3\": pl.Int16,\n",
    "    \"SEXORN3\": pl.Categorical,\n",
    "    \"RN3ESTADO\": pl.Int8,\n",
    "    \"CONDICIONDEALTANEONATO4\": pl.Categorical,\n",
    "    \"PESORN4\": pl.Int16,\n",
    "    \"SEXORN4\": pl.Categorical,\n",
    "    \"RN4ESTADO\": pl.Int8,\n",
    "    \"DIAGNOSTICO1\": str,\n",
    "    \"DIAGNOSTICO2\": str,\n",
    "    \"DIAGNOSTICO3\": str,\n",
    "    \"DIAGNOSTICO4\": str,\n",
    "    \"DIAGNOSTICO5\": str,\n",
    "    \"DIAGNOSTICO6\": str,\n",
    "    \"DIAGNOSTICO7\": str,\n",
    "    \"DIAGNOSTICO8\": str,\n",
    "    \"DIAGNOSTICO9\": str,\n",
    "    \"DIAGNOSTICO10\": str,\n",
    "    \"DIAGNOSTICO11\": str,\n",
    "    \"DIAGNOSTICO12\": str,\n",
    "    \"DIAGNOSTICO13\": str,\n",
    "    \"DIAGNOSTICO14\": str,\n",
    "    \"DIAGNOSTICO15\": str,\n",
    "    \"DIAGNOSTICO16\": str,\n",
    "    \"DIAGNOSTICO17\": str,\n",
    "    \"DIAGNOSTICO18\": str,\n",
    "    \"DIAGNOSTICO19\": str,\n",
    "    \"DIAGNOSTICO20\": str,\n",
    "    \"DIAGNOSTICO21\": str,\n",
    "    \"DIAGNOSTICO22\": str,\n",
    "    \"DIAGNOSTICO23\": str,\n",
    "    \"DIAGNOSTICO24\": str,\n",
    "    \"DIAGNOSTICO25\": str,\n",
    "    \"DIAGNOSTICO26\": str,\n",
    "    \"DIAGNOSTICO27\": str,\n",
    "    \"DIAGNOSTICO28\": str,\n",
    "    \"DIAGNOSTICO29\": str,\n",
    "    \"DIAGNOSTICO30\": str,\n",
    "    \"DIAGNOSTICO31\": str,\n",
    "    \"DIAGNOSTICO32\": str,\n",
    "    \"DIAGNOSTICO33\": str,\n",
    "    \"DIAGNOSTICO34\": str,\n",
    "    \"DIAGNOSTICO35\": str,\n",
    "    \"PROCEDIMIENTO1\": str,\n",
    "    \"PROCEDIMIENTO2\": str,\n",
    "    \"PROCEDIMIENTO3\": str,\n",
    "    \"PROCEDIMIENTO4\": str,\n",
    "    \"PROCEDIMIENTO5\": str,\n",
    "    \"PROCEDIMIENTO6\": str,\n",
    "    \"PROCEDIMIENTO7\": str,\n",
    "    \"PROCEDIMIENTO8\": str,\n",
    "    \"PROCEDIMIENTO9\": str,\n",
    "    \"PROCEDIMIENTO10\": str,\n",
    "    \"PROCEDIMIENTO11\": str,\n",
    "    \"PROCEDIMIENTO12\": str,\n",
    "    \"PROCEDIMIENTO13\": str,\n",
    "    \"PROCEDIMIENTO14\": str,\n",
    "    \"PROCEDIMIENTO15\": str,\n",
    "    \"PROCEDIMIENTO16\": str,\n",
    "    \"PROCEDIMIENTO17\": str,\n",
    "    \"PROCEDIMIENTO18\": str,\n",
    "    \"PROCEDIMIENTO19\": str,\n",
    "    \"PROCEDIMIENTO20\": str,\n",
    "    \"PROCEDIMIENTO21\": str,\n",
    "    \"PROCEDIMIENTO22\": str,\n",
    "    \"PROCEDIMIENTO23\": str,\n",
    "    \"PROCEDIMIENTO24\": str,\n",
    "    \"PROCEDIMIENTO25\": str,\n",
    "    \"PROCEDIMIENTO26\": str,\n",
    "    \"PROCEDIMIENTO27\": str,\n",
    "    \"PROCEDIMIENTO28\": str,\n",
    "    \"PROCEDIMIENTO29\": str,\n",
    "    \"PROCEDIMIENTO30\": str,\n",
    "    \"MEDICOINTERV1_ENCRIPTADO\": pl.Int32,\n",
    "    \"FECHAPROCEDIMIENTO1\": pl.Date,\n",
    "    \"FECHAINTERV1\": pl.Date,\n",
    "    \"ESPECIALIDADINTERVENCION\": pl.Categorical,\n",
    "    \"MEDICOALTA_ENCRIPTADO\": pl.Int32,\n",
    "    \"USOSPABELLON\": str,\n",
    "    \"IR_29301_COD_GRD\": pl.Int32,\n",
    "    \"IR_29301_PESO\": str,\n",
    "    \"IR_29301_SEVERIDAD\": pl.Int8,\n",
    "    \"IR_29301_MORTALIDAD\": pl.Int8,\n",
    "    \"HOSPPROCEDENCIA\": str,\n",
    "}\n"
   ]
  },
  {
   "cell_type": "code",
   "execution_count": 16,
   "metadata": {},
   "outputs": [],
   "source": [
    "VALORES_NULOS_COLUMNAS = {\n",
    "    'CIP_ENCRIPTADO': 'SIN INFORMACIÓN',\n",
    "    'PROCEDIMIENTO1': 'DESCONOCIDO',\n",
    "    'PROCEDIMIENTO2': 'DESCONOCIDO',\n",
    "    'PROCEDIMIENTO3': 'DESCONOCIDO',\n",
    "    'PROCEDIMIENTO5': 'DESCONOCIDO',\n",
    "    'IR_29301_COD_GRD': 'DESCONOCIDO',\n",
    "    'IR_29301_SEVERIDAD': 'DESCONOCIDO',\n",
    "    'IR_29301_MORTALIDAD': 'DESCONOCIDO'\n",
    "}"
   ]
  },
  {
   "cell_type": "code",
   "execution_count": 18,
   "metadata": {},
   "outputs": [],
   "source": [
    "with pl.StringCache():\n",
    "    dfp = pl.read_csv(\"input/*.txt\", separator=\"|\", dtypes=COLUMNAS_POLARS,\n",
    "                    null_values=VALORES_NULOS_COLUMNAS)"
   ]
  },
  {
   "cell_type": "code",
   "execution_count": 119,
   "metadata": {},
   "outputs": [
    {
     "name": "stderr",
     "output_type": "stream",
     "text": [
      "C:\\Users\\ppizarro\\AppData\\Local\\Temp\\ipykernel_8372\\3830658916.py:1: DtypeWarning: Columns (26,27,28,29,30,31,32,33,47,83,84,85,86,87,88,89,90,92) have mixed types. Specify dtype option on import or set low_memory=False.\n",
      "  df = pd.read_csv('input/GRD_PUBLICO_2021.txt', sep='|')\n"
     ]
    }
   ],
   "source": [
    "df = pd.read_csv(\"input/GRD_PUBLICO_2021.txt\", sep=\"|\")\n"
   ]
  },
  {
   "cell_type": "code",
   "execution_count": 155,
   "metadata": {},
   "outputs": [
    {
     "data": {
      "text/plain": [
       "HOSPITAL SAN PABLO (COQUIMBO)                                14180\n",
       "HOSPITAL CLÍNICO DE MAGALLANES DR. LAUTARO NAVARRO AVARIA     9046\n",
       "HOSPITAL SAN JOSÉ (CORONEL)                                   5743\n",
       "HOSPITAL CARLOS VAN BUREN (VALPARAÍSO)                        2411\n",
       "INSTITUTO DE NEUROCIRUGÍA DR. ALFONSO ASENJO                  2259\n",
       "                                                             ...  \n",
       "CLÍNICA OFTALMOLÓGICA (MAS VISIÓN)                               1\n",
       "HOSPITAL INSTITUTO DE SEGURIDAD - DEL TRABAJO TALCAHUANO         1\n",
       "CLÍNICA ASTRA                                                    1\n",
       "102240                                                           1\n",
       "200576                                                           1\n",
       "Name: HOSPPROCEDENCIA, Length: 354, dtype: int64"
      ]
     },
     "execution_count": 155,
     "metadata": {},
     "output_type": "execute_result"
    }
   ],
   "source": [
    "df.HOSPPROCEDENCIA.value_counts()"
   ]
  },
  {
   "cell_type": "code",
   "execution_count": 120,
   "metadata": {},
   "outputs": [],
   "source": [
    "df[\"IR_29301_PESO\"] = df[\"IR_29301_PESO\"].str.replace(\",\", \".\").astype(float)\n",
    "df[\"FECHAALTA\"] = pd.to_datetime(df[\"FECHAALTA\"])\n",
    "df[\"FECHA_INGRESO\"] = pd.to_datetime(df[\"FECHA_INGRESO\"])\n"
   ]
  },
  {
   "cell_type": "code",
   "execution_count": 121,
   "metadata": {},
   "outputs": [],
   "source": [
    "df[\"ESTANCIA\"] = df[\"FECHAALTA\"] - df[\"FECHA_INGRESO\"]\n"
   ]
  },
  {
   "cell_type": "code",
   "execution_count": 122,
   "metadata": {},
   "outputs": [],
   "source": [
    "procedimientos = df.loc[:, \"PROCEDIMIENTO1\":\"PROCEDIMIENTO30\"]\n",
    "procedimientos[\"PROCEDIMIENTO1\"] = (\n",
    "    procedimientos[\"PROCEDIMIENTO1\"].replace(\"DESCONOCIDO\", np.nan).astype(float)\n",
    ")\n",
    "procedimientos[\"PROCEDIMIENTO2\"] = (\n",
    "    procedimientos[\"PROCEDIMIENTO2\"].replace(\"DESCONOCIDO\", np.nan).astype(float)\n",
    ")\n",
    "procedimientos[\"PROCEDIMIENTO3\"] = (\n",
    "    procedimientos[\"PROCEDIMIENTO3\"].replace(\"DESCONOCIDO\", np.nan).astype(float)\n",
    ")\n",
    "procedimientos[\"PROCEDIMIENTO5\"] = (\n",
    "    procedimientos[\"PROCEDIMIENTO5\"].replace(\"DESCONOCIDO\", np.nan).astype(float)\n",
    ")\n"
   ]
  },
  {
   "cell_type": "code",
   "execution_count": 123,
   "metadata": {},
   "outputs": [],
   "source": [
    "contiene_nuestros_proc = procedimientos.isin([31.1, 31.29]).sum(axis=1).astype(bool)\n",
    "ambos_proc = contiene_nuestros_proc[contiene_nuestros_proc > 1].astype(bool)"
   ]
  },
  {
   "cell_type": "code",
   "execution_count": 124,
   "metadata": {},
   "outputs": [],
   "source": [
    "proc_nacionales = df[contiene_nuestros_proc]\n",
    "proc_torax = proc_nacionales.query(\"COD_HOSPITAL == 112103\")\n"
   ]
  },
  {
   "cell_type": "code",
   "execution_count": 126,
   "metadata": {},
   "outputs": [],
   "source": [
    "metricas = proc_nacionales.groupby(\"SERVICIO_SALUD\").agg(\n",
    "    n_egresos=(\"COD_HOSPITAL\", \"count\"),\n",
    "    peso_medio=(\"IR_29301_PESO\", \"mean\"),\n",
    "    estancia_media=(\"ESTANCIA\", \"mean\"),\n",
    ")\n"
   ]
  },
  {
   "cell_type": "code",
   "execution_count": 131,
   "metadata": {},
   "outputs": [],
   "source": [
    "metricas.to_excel(\"resumen_traqueostomia_2021.xlsx\")\n",
    "proc_nacionales.to_excel(\"crudo_traqueostomias_nacionales_2021.xlsx\")\n"
   ]
  },
  {
   "cell_type": "code",
   "execution_count": 130,
   "metadata": {},
   "outputs": [],
   "source": []
  },
  {
   "cell_type": "code",
   "execution_count": null,
   "metadata": {},
   "outputs": [],
   "source": []
  }
 ],
 "metadata": {
  "kernelspec": {
   "display_name": "Python 3",
   "language": "python",
   "name": "python3"
  },
  "language_info": {
   "codemirror_mode": {
    "name": "ipython",
    "version": 3
   },
   "file_extension": ".py",
   "mimetype": "text/x-python",
   "name": "python",
   "nbconvert_exporter": "python",
   "pygments_lexer": "ipython3",
   "version": "3.10.9"
  },
  "orig_nbformat": 4
 },
 "nbformat": 4,
 "nbformat_minor": 2
}
