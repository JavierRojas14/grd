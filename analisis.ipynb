{
 "cells": [
  {
   "cell_type": "code",
   "execution_count": 1,
   "metadata": {},
   "outputs": [],
   "source": [
    "import pandas as pd\n",
    "import polars as pl\n",
    "\n",
    "import numpy as np\n",
    "\n",
    "import lectura_archivos as fr"
   ]
  },
  {
   "attachments": {},
   "cell_type": "markdown",
   "metadata": {},
   "source": [
    "# Analisis de Cantidad de Traqueostomias por Servicio de Salud\n",
    "\n",
    "- En este apartado se quiere ver la cantidad de traqueostomias que se hicieron por Servicio de Salud.\n",
    "Este analisis se realiza por anio."
   ]
  },
  {
   "attachments": {},
   "cell_type": "markdown",
   "metadata": {},
   "source": [
    "## Carga de Archivos de GRD"
   ]
  },
  {
   "cell_type": "code",
   "execution_count": 2,
   "metadata": {},
   "outputs": [],
   "source": [
    "dfp = fr.leer_grd()\n"
   ]
  },
  {
   "cell_type": "code",
   "execution_count": 3,
   "metadata": {},
   "outputs": [],
   "source": [
    "df = dfp.to_pandas()\n"
   ]
  },
  {
   "attachments": {},
   "cell_type": "markdown",
   "metadata": {},
   "source": [
    "## Analisis de Traqueostomia"
   ]
  },
  {
   "cell_type": "code",
   "execution_count": 4,
   "metadata": {},
   "outputs": [],
   "source": [
    "procedimientos = df.loc[:, \"PROCEDIMIENTO1\":\"PROCEDIMIENTO30\"]\n",
    "contiene_nuestros_proc = procedimientos.isin([\"31.1\", \"31.29\"]).sum(axis=1).astype(bool)\n",
    "proc_nacionales = df[contiene_nuestros_proc]\n"
   ]
  },
  {
   "cell_type": "code",
   "execution_count": 5,
   "metadata": {},
   "outputs": [],
   "source": [
    "metricas = (\n",
    "    proc_nacionales.groupby([\"ANIO_EGRESO\", \"SERVICIO_SALUD\"])\n",
    "    .agg(\n",
    "        n_egresos=(\"COD_HOSPITAL\", \"count\"),\n",
    "        peso_medio=(\"IR_29301_PESO\", \"mean\"),\n",
    "        estancia_media=(\"ESTANCIA\", \"mean\"),\n",
    "    )\n",
    "    .sort_values([\"ANIO_EGRESO\", \"n_egresos\"], ascending=False)\n",
    ")"
   ]
  },
  {
   "cell_type": "code",
   "execution_count": 6,
   "metadata": {},
   "outputs": [],
   "source": [
    "metricas.to_excel(\"output/resumen_traqueostomia_hist.xlsx\")"
   ]
  },
  {
   "attachments": {},
   "cell_type": "markdown",
   "metadata": {},
   "source": [
    "# Analisis de Prestaciones por Diagnostico"
   ]
  },
  {
   "attachments": {},
   "cell_type": "markdown",
   "metadata": {},
   "source": [
    "- En este apartado se quiere ver la cantidad de prestaciones que se realizan por cada diagnostico\n",
    "principal.\n",
    "\n",
    "- El resultado que se quiere obtener es parecido al siguiente:\n",
    "\n",
    "|Año|Diagnostico|Resumen Procedimientos|\n",
    "|---|-----------|----------------------|\n",
    "|2019|\"I25.1\"|{\"45.23\": 20, \"73.59\": 10}|\n",
    "|2020|\"I25.1\"|{\"45.23\": 7, \"73.59\": 3}|"
   ]
  },
  {
   "attachments": {},
   "cell_type": "markdown",
   "metadata": {},
   "source": [
    "## Analisis Exploratorio"
   ]
  },
  {
   "attachments": {},
   "cell_type": "markdown",
   "metadata": {},
   "source": [
    "### Obtener conteo de diagnosticos en el Torax"
   ]
  },
  {
   "cell_type": "code",
   "execution_count": 7,
   "metadata": {},
   "outputs": [
    {
     "data": {
      "text/html": [
       "<div><style>\n",
       ".dataframe > thead > tr > th,\n",
       ".dataframe > tbody > tr > td {\n",
       "  text-align: right;\n",
       "}\n",
       "</style>\n",
       "<small>shape: (563, 2)</small><table border=\"1\" class=\"dataframe\"><thead><tr><th>DIAGNOSTICO1</th><th>count</th></tr><tr><td>str</td><td>u32</td></tr></thead><tbody><tr><td>&quot;I25.1&quot;</td><td>852</td></tr><tr><td>&quot;Z51.1&quot;</td><td>811</td></tr><tr><td>&quot;U07.1&quot;</td><td>706</td></tr><tr><td>&quot;Z51.4&quot;</td><td>594</td></tr><tr><td>&quot;Z29.1&quot;</td><td>394</td></tr><tr><td>&quot;C34.1&quot;</td><td>367</td></tr><tr><td>&quot;I35.0&quot;</td><td>353</td></tr><tr><td>&quot;Z45.0&quot;</td><td>305</td></tr><tr><td>&quot;J84.1&quot;</td><td>244</td></tr><tr><td>&quot;C34.3&quot;</td><td>221</td></tr><tr><td>&quot;I49.5&quot;</td><td>174</td></tr><tr><td>&quot;D38.1&quot;</td><td>158</td></tr><tr><td>&hellip;</td><td>&hellip;</td></tr><tr><td>&quot;Q27.9&quot;</td><td>1</td></tr><tr><td>&quot;M94.09&quot;</td><td>1</td></tr><tr><td>&quot;I87.8&quot;</td><td>1</td></tr><tr><td>&quot;N40&quot;</td><td>1</td></tr><tr><td>&quot;D50.9&quot;</td><td>1</td></tr><tr><td>&quot;C65&quot;</td><td>1</td></tr><tr><td>&quot;J32.4&quot;</td><td>1</td></tr><tr><td>&quot;Z13.9&quot;</td><td>1</td></tr><tr><td>&quot;E04.8&quot;</td><td>1</td></tr><tr><td>&quot;J15.6&quot;</td><td>1</td></tr><tr><td>&quot;L50.9&quot;</td><td>1</td></tr><tr><td>&quot;L89.2&quot;</td><td>1</td></tr></tbody></table></div>"
      ],
      "text/plain": [
       "shape: (563, 2)\n",
       "┌──────────────┬───────┐\n",
       "│ DIAGNOSTICO1 ┆ count │\n",
       "│ ---          ┆ ---   │\n",
       "│ str          ┆ u32   │\n",
       "╞══════════════╪═══════╡\n",
       "│ I25.1        ┆ 852   │\n",
       "│ Z51.1        ┆ 811   │\n",
       "│ U07.1        ┆ 706   │\n",
       "│ Z51.4        ┆ 594   │\n",
       "│ …            ┆ …     │\n",
       "│ E04.8        ┆ 1     │\n",
       "│ J15.6        ┆ 1     │\n",
       "│ L50.9        ┆ 1     │\n",
       "│ L89.2        ┆ 1     │\n",
       "└──────────────┴───────┘"
      ]
     },
     "execution_count": 7,
     "metadata": {},
     "output_type": "execute_result"
    }
   ],
   "source": [
    "torax = dfp.filter(\n",
    "    (pl.col(\"COD_HOSPITAL\") == 112103) & (pl.col(\"TIPO_ACTIVIDAD\") != \"HOSPITALIZACIÓN DIURNA\")\n",
    ")\n",
    "torax.groupby([\"DIAGNOSTICO1\"]).agg(pl.count()).sort(by=\"count\", descending=True)\n"
   ]
  },
  {
   "attachments": {},
   "cell_type": "markdown",
   "metadata": {},
   "source": [
    "- De estos resultados, se puede ver que el diagnostico I25.1 es el diagnostico mas frecuente\n",
    "entre 2019 y 2021. Tuvo 852 egresos.\n",
    "\n",
    "- A modo de ejemplo, se quiere ver el dataframe completo del diagnostico Z51.4, y analizar\n",
    "los procedimientos que tiene incluidos."
   ]
  },
  {
   "attachments": {},
   "cell_type": "markdown",
   "metadata": {},
   "source": [
    "### Analisis de conteo de procedimientos"
   ]
  },
  {
   "attachments": {},
   "cell_type": "markdown",
   "metadata": {},
   "source": [
    "### Forma 1"
   ]
  },
  {
   "cell_type": "code",
   "execution_count": 8,
   "metadata": {},
   "outputs": [],
   "source": [
    "from functools import reduce\n",
    "\n",
    "i251 = torax.filter(pl.col(\"DIAGNOSTICO1\") == \"I25.1\").to_pandas()\n",
    "listas_procedimientos = (\n",
    "    i251.loc[:, \"PROCEDIMIENTO1\":\"PROCEDIMIENTO30\"].fillna(\"\").agg(\"-\".join, axis=1).str.split(\"-\")\n",
    ")\n",
    "\n",
    "\n",
    "sumado = reduce(lambda x, y: x + y, listas_procedimientos.values)"
   ]
  },
  {
   "attachments": {},
   "cell_type": "markdown",
   "metadata": {},
   "source": [
    "### Forma 2"
   ]
  },
  {
   "cell_type": "code",
   "execution_count": 9,
   "metadata": {},
   "outputs": [
    {
     "data": {
      "text/plain": [
       "99.29    687\n",
       "99.19    627\n",
       "89.54    551\n",
       "90.59    483\n",
       "93.96    449\n",
       "        ... \n",
       "90.93      1\n",
       "78.61      1\n",
       "39.98      1\n",
       "99.10      1\n",
       "37.87      1\n",
       "Name: value, Length: 256, dtype: int64"
      ]
     },
     "execution_count": 9,
     "metadata": {},
     "output_type": "execute_result"
    }
   ],
   "source": [
    "cambiada = pd.melt(\n",
    "    i251, id_vars=\"DIAGNOSTICO1\", value_vars=[f\"PROCEDIMIENTO{i}\" for i in range(1, 31)]\n",
    ")\n",
    "cambiada[\"value\"].value_counts()\n"
   ]
  },
  {
   "attachments": {},
   "cell_type": "markdown",
   "metadata": {},
   "source": [
    "## Analisis Completo\n",
    "\n",
    "- Se quiere ver la cantida dde procedimientos hechos por posicion de procedimiento. O sea,\n",
    "en el \"PROCEDIMIENTO1\" que procedimientos se ingresaron, y cuales son sus frecuencias ordenadas\n",
    "de mayor a menor?\n",
    "\n",
    "- Tambien se quiere ver la frecuencia global. O sea, para el diagnostico X, cuales son los\n",
    "procedimientos que mas se le realizan, independiente de la posicion del procedimiento."
   ]
  },
  {
   "attachments": {},
   "cell_type": "markdown",
   "metadata": {},
   "source": [
    "#### Cambio de nombre de columnas PROCEDIMIENTO\n",
    "\n",
    "- Esto se realiza, ya que permite ordenar estas columnas al utilizar .value_counts() en la\n",
    "proxima celda."
   ]
  },
  {
   "cell_type": "code",
   "execution_count": 10,
   "metadata": {},
   "outputs": [],
   "source": [
    "import string\n",
    "\n",
    "procedimientos = [f\"PROCEDIMIENTO{i}\" for i in range(1, 31)]\n",
    "letras = list(string.ascii_uppercase) + [\"a\", \"b\", \"c\", \"d\"]\n",
    "codificacion = dict(zip(procedimientos, letras))\n",
    "codificacion_reversa = dict(zip(letras, procedimientos))\n",
    "\n",
    "torax_pandas = torax.to_pandas()\n",
    "long_prestaciones = pd.melt(\n",
    "    torax_pandas,\n",
    "    id_vars=[\"ANIO_EGRESO\", \"DIAGNOSTICO1\"],\n",
    "    value_vars=procedimientos,\n",
    ")\n",
    "\n",
    "long_prestaciones[\"variable\"] = long_prestaciones[\"variable\"].replace(codificacion)"
   ]
  },
  {
   "cell_type": "code",
   "execution_count": 11,
   "metadata": {},
   "outputs": [],
   "source": [
    "por_procedimiento = (\n",
    "    long_prestaciones.groupby([\"ANIO_EGRESO\", \"DIAGNOSTICO1\", \"variable\"])[\"value\"]\n",
    "    .value_counts()\n",
    "    .reset_index(name=\"n_procedimientos\")\n",
    ")\n",
    "\n",
    "por_procedimiento[\"variable\"] = por_procedimiento[\"variable\"].replace(codificacion_reversa)\n",
    "por_procedimiento = por_procedimiento.rename({\"value\": \"codigo_procedimiento\"}, axis=1)\n"
   ]
  },
  {
   "cell_type": "code",
   "execution_count": 36,
   "metadata": {},
   "outputs": [],
   "source": [
    "resumen_metricas = torax_pandas.groupby([\"ANIO_EGRESO\", \"DIAGNOSTICO1\"]).agg(\n",
    "    n_egresos=(\"DIAGNOSTICO1\", \"count\"),\n",
    "    dias_estada_totales=(\"ESTANCIA\", \"sum\"),\n",
    ").reset_index()\n"
   ]
  },
  {
   "attachments": {},
   "cell_type": "markdown",
   "metadata": {},
   "source": [
    "### Obtener diccionarios CIE"
   ]
  },
  {
   "cell_type": "code",
   "execution_count": 12,
   "metadata": {},
   "outputs": [],
   "source": [
    "cie_9 = pd.read_excel(\"input/CIE-9.xlsx\", dtype={\"Código\": str})\n",
    "\n",
    "cie_10 = pd.read_excel(\"input/CIE-10.xlsx\")\n"
   ]
  },
  {
   "cell_type": "code",
   "execution_count": 13,
   "metadata": {},
   "outputs": [],
   "source": [
    "unido_proc = por_procedimiento.merge(\n",
    "    cie_9,\n",
    "    how=\"inner\",\n",
    "    left_on=\"codigo_procedimiento\",\n",
    "    right_on=\"Código\",\n",
    "    suffixes=(\"\", \"procedimientos\"),\n",
    ")\n",
    "\n",
    "unido_diag = unido_proc.merge(\n",
    "    cie_10, how=\"left\", left_on=\"DIAGNOSTICO1\", right_on=\"Código\", suffixes=(\"\", \"_diags\")\n",
    ")\n"
   ]
  },
  {
   "cell_type": "code",
   "execution_count": 14,
   "metadata": {},
   "outputs": [],
   "source": [
    "unido_diag.to_csv(\n",
    "    \"output/prestaciones_por_procedimiento.csv\", sep=\";\", encoding=\"latin-1\", index=False\n",
    ")\n",
    "\n",
    "resumen_metricas.to_csv(\n",
    "   \"output/resumen_metricas_por_diagnostico.csv\", sep=\";\", encoding=\"latin-1\", index=False\n",
    ")\n"
   ]
  },
  {
   "attachments": {},
   "cell_type": "markdown",
   "metadata": {},
   "source": [
    "## Obtencion de Procedimentos para diagnosticos relevantes, complejos y area de influencia"
   ]
  },
  {
   "attachments": {},
   "cell_type": "markdown",
   "metadata": {},
   "source": [
    "### Mas relevantes productivamente (Mayor cantidad de egresos, Ranking 1 Nacional y > 0 intervenciones quirurgicas)"
   ]
  },
  {
   "cell_type": "code",
   "execution_count": 15,
   "metadata": {},
   "outputs": [],
   "source": [
    "DIAGS_MAS_RELEVANTES = [\n",
    "    \"C33\",\n",
    "    \"C34.0\",\n",
    "    \"C34.1\",\n",
    "    \"C34.2\",\n",
    "    \"C34.3\",\n",
    "    \"C38.1\",\n",
    "    \"C38.4\",\n",
    "    \"C45.0\",\n",
    "    \"C78.0\",\n",
    "    \"C78.2\",\n",
    "    \"D14.3\",\n",
    "    \"D38.1\",\n",
    "    \"E84.8\",\n",
    "    \"I05.1\",\n",
    "    \"I08.0\",\n",
    "    \"I08.1\",\n",
    "    \"I34.0\",\n",
    "    \"I35.0\",\n",
    "    \"I35.1\",\n",
    "    \"I35.2\",\n",
    "    \"I42.0\",\n",
    "    \"I45.6\",\n",
    "    \"I47.2\",\n",
    "    \"I49.5\",\n",
    "    \"I71.0\",\n",
    "    \"I71.2\",\n",
    "    \"J39.8\",\n",
    "    \"J43.9\",\n",
    "    \"J47\",\n",
    "    \"J67.9\",\n",
    "    \"J84.1\",\n",
    "    \"J84.8\",\n",
    "    \"J84.9\",\n",
    "    \"J86.0\",\n",
    "    \"J86.9\",\n",
    "    \"J90\",\n",
    "    \"J91\",\n",
    "    \"J93.1\",\n",
    "    \"J95.5\",\n",
    "    \"J98.0\",\n",
    "    \"M34.8\",\n",
    "    \"Q21.1\",\n",
    "    \"Q23.1\",\n",
    "    \"Q67.6\",\n",
    "    \"T82.0\",\n",
    "    \"Z45.0\",\n",
    "]\n"
   ]
  },
  {
   "cell_type": "code",
   "execution_count": 16,
   "metadata": {},
   "outputs": [],
   "source": [
    "proc_mas_relevantes = unido_diag[unido_diag[\"Código_diags\"].isin(DIAGS_MAS_RELEVANTES)]\n",
    "proc_mas_relevantes.to_excel(\"output/proc_mas_relevantes.xlsx\", index=False)"
   ]
  },
  {
   "attachments": {},
   "cell_type": "markdown",
   "metadata": {},
   "source": [
    "### Procedimientos Mas Complejos (GRD > 4.000)"
   ]
  },
  {
   "cell_type": "code",
   "execution_count": 17,
   "metadata": {},
   "outputs": [],
   "source": [
    "DIAGS_MAS_COMPLEJOS = [\n",
    "    \"B20.6\",\n",
    "    \"B33.4\",\n",
    "    \"B37.1\",\n",
    "    \"C15.1\",\n",
    "    \"C64\",\n",
    "    \"I05.2\",\n",
    "    \"I07.1\",\n",
    "    \"I08.1\",\n",
    "    \"I08.3\",\n",
    "    \"I23.2\",\n",
    "    \"I25.5\",\n",
    "    \"I30.9\",\n",
    "    \"I33.0\",\n",
    "    \"I34.0\",\n",
    "    \"I35.0\",\n",
    "    \"I35.2\",\n",
    "    \"I35.8\",\n",
    "    \"I36.1\",\n",
    "    \"I42.0\",\n",
    "    \"I42.8\",\n",
    "    \"I42.9\",\n",
    "    \"I45.1\",\n",
    "    \"I49.0\",\n",
    "    \"I49.8\",\n",
    "    \"I50.9\",\n",
    "    \"I65.2\",\n",
    "    \"I71.1\",\n",
    "    \"J12.0\",\n",
    "    \"J12.3\",\n",
    "    \"J14\",\n",
    "    \"J80\",\n",
    "    \"J85.0\",\n",
    "    \"J96.01\",\n",
    "    \"Q23.1\",\n",
    "    \"Q23.3\",\n",
    "    \"T81.1\",\n",
    "    \"T81.2\",\n",
    "    \"T82.6\",\n",
    "    \"T82.8\",\n",
    "]"
   ]
  },
  {
   "cell_type": "code",
   "execution_count": 18,
   "metadata": {},
   "outputs": [],
   "source": [
    "proc_mas_complejos = unido_diag[unido_diag[\"Código_diags\"].isin(DIAGS_MAS_COMPLEJOS)]\n",
    "proc_mas_complejos.to_excel(\"output/proc_mas_complejos.xlsx\", index=False)"
   ]
  },
  {
   "attachments": {},
   "cell_type": "markdown",
   "metadata": {},
   "source": [
    "### Procedimientos de area de influencia"
   ]
  },
  {
   "cell_type": "code",
   "execution_count": 19,
   "metadata": {},
   "outputs": [],
   "source": [
    "DIAGS_AREA_INFLUENCIA = [\n",
    "    \"G47.3\",\n",
    "    \"I27.0\",\n",
    "    \"I27.2\",\n",
    "    \"J45.0\",\n",
    "    \"J45.9\",\n",
    "    \"J48.1\",\n",
    "    \"Q67.7\",\n",
    "    \"Q87.4\",\n",
    "    \"Z94.1\",\n",
    "    \"Z94.2\",\n",
    "]"
   ]
  },
  {
   "cell_type": "code",
   "execution_count": 20,
   "metadata": {},
   "outputs": [],
   "source": [
    "proc_area_influencia = unido_diag[unido_diag[\"Código_diags\"].isin(DIAGS_AREA_INFLUENCIA)]\n",
    "proc_area_influencia.to_excel(\"output/proc_area_influencia.xlsx\", index=False)"
   ]
  },
  {
   "attachments": {},
   "cell_type": "markdown",
   "metadata": {},
   "source": [
    "# Analisis de Ranking por Costo"
   ]
  },
  {
   "cell_type": "code",
   "execution_count": 21,
   "metadata": {},
   "outputs": [],
   "source": [
    "analisis_costo = torax.groupby([\"ANIO_EGRESO\", \"MES_EGRESO\", \"FECHA\", \"DIAGNOSTICO1\"]).agg(\n",
    "    pl.col(\"IR_29301_PESO\").mean().alias(\"promedio_peso_grd\"),\n",
    "    pl.col(\"DIAGNOSTICO1\").count().alias(\"n_egresos\"),\n",
    ").with_columns(\n",
    "    (pl.col(\"promedio_peso_grd\") * pl.col(\"n_egresos\")).alias(\"factor_costo\"),\n",
    ").sort(\n",
    "    [\"ANIO_EGRESO\", \"MES_EGRESO\", \"factor_costo\"], descending=True\n",
    ").write_csv(\"output/costos/resultado_costos.csv\", separator=\";\", )\n"
   ]
  },
  {
   "cell_type": "code",
   "execution_count": 22,
   "metadata": {},
   "outputs": [],
   "source": [
    "analisis_costo"
   ]
  },
  {
   "cell_type": "code",
   "execution_count": null,
   "metadata": {},
   "outputs": [],
   "source": []
  }
 ],
 "metadata": {
  "kernelspec": {
   "display_name": "Python 3",
   "language": "python",
   "name": "python3"
  },
  "language_info": {
   "codemirror_mode": {
    "name": "ipython",
    "version": 3
   },
   "file_extension": ".py",
   "mimetype": "text/x-python",
   "name": "python",
   "nbconvert_exporter": "python",
   "pygments_lexer": "ipython3",
   "version": "3.10.9"
  },
  "orig_nbformat": 4
 },
 "nbformat": 4,
 "nbformat_minor": 2
}
