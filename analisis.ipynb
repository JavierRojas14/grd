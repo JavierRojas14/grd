{
 "cells": [
  {
   "cell_type": "code",
   "execution_count": 1,
   "metadata": {},
   "outputs": [],
   "source": [
    "import pandas as pd\n",
    "import polars as pl\n",
    "\n",
    "import numpy as np\n",
    "\n",
    "import lectura_archivos as fr"
   ]
  },
  {
   "attachments": {},
   "cell_type": "markdown",
   "metadata": {},
   "source": [
    "# Analisis de Cantidad de Traqueostomias por Servicio de Salud\n",
    "\n",
    "- En este apartado se quiere ver la cantidad de traqueostomias que se hicieron por Servicio de Salud.\n",
    "Este analisis se realiza por anio."
   ]
  },
  {
   "attachments": {},
   "cell_type": "markdown",
   "metadata": {},
   "source": [
    "## Carga de Archivos de GRD"
   ]
  },
  {
   "cell_type": "code",
   "execution_count": 6,
   "metadata": {},
   "outputs": [],
   "source": [
    "dfp = fr.leer_grd()\n"
   ]
  },
  {
   "cell_type": "code",
   "execution_count": 7,
   "metadata": {},
   "outputs": [],
   "source": [
    "df = dfp.to_pandas()\n"
   ]
  },
  {
   "attachments": {},
   "cell_type": "markdown",
   "metadata": {},
   "source": [
    "## Analisis de Traqueostomia"
   ]
  },
  {
   "cell_type": "code",
   "execution_count": 5,
   "metadata": {},
   "outputs": [],
   "source": [
    "procedimientos = df.loc[:, \"PROCEDIMIENTO1\":\"PROCEDIMIENTO30\"]\n",
    "contiene_nuestros_proc = procedimientos.isin([\"31.1\", \"31.29\"]).sum(axis=1).astype(bool)\n",
    "proc_nacionales = df[contiene_nuestros_proc]\n"
   ]
  },
  {
   "cell_type": "code",
   "execution_count": 6,
   "metadata": {},
   "outputs": [],
   "source": [
    "metricas = (\n",
    "    proc_nacionales.groupby([\"ANIO_EGRESO\", \"SERVICIO_SALUD\"])\n",
    "    .agg(\n",
    "        n_egresos=(\"COD_HOSPITAL\", \"count\"),\n",
    "        peso_medio=(\"IR_29301_PESO\", \"mean\"),\n",
    "        estancia_media=(\"ESTANCIA\", \"mean\"),\n",
    "    )\n",
    "    .sort_values([\"ANIO_EGRESO\", \"n_egresos\"], ascending=False)\n",
    ")"
   ]
  },
  {
   "cell_type": "code",
   "execution_count": 7,
   "metadata": {},
   "outputs": [],
   "source": [
    "metricas.to_excel(\"output/resumen_traqueostomia_hist.xlsx\")"
   ]
  },
  {
   "attachments": {},
   "cell_type": "markdown",
   "metadata": {},
   "source": [
    "# Analisis de Prestaciones por Diagnostico"
   ]
  },
  {
   "attachments": {},
   "cell_type": "markdown",
   "metadata": {},
   "source": [
    "- En este apartado se quiere ver la cantidad de prestaciones que se realizan por cada diagnostico\n",
    "principal.\n",
    "\n",
    "- El resultado que se quiere obtener es parecido al siguiente:\n",
    "\n",
    "|Año|Diagnostico|Resumen Procedimientos|\n",
    "|---|-----------|----------------------|\n",
    "|2019|\"I25.1\"|{\"45.23\": 20, \"73.59\": 10}|\n",
    "|2020|\"I25.1\"|{\"45.23\": 7, \"73.59\": 3}|"
   ]
  },
  {
   "attachments": {},
   "cell_type": "markdown",
   "metadata": {},
   "source": [
    "## Analisis Exploratorio"
   ]
  },
  {
   "attachments": {},
   "cell_type": "markdown",
   "metadata": {},
   "source": [
    "### Obtener conteo de diagnosticos en el Torax"
   ]
  },
  {
   "cell_type": "code",
   "execution_count": 8,
   "metadata": {},
   "outputs": [
    {
     "data": {
      "text/html": [
       "<div><style>\n",
       ".dataframe > thead > tr > th,\n",
       ".dataframe > tbody > tr > td {\n",
       "  text-align: right;\n",
       "}\n",
       "</style>\n",
       "<small>shape: (568, 2)</small><table border=\"1\" class=\"dataframe\"><thead><tr><th>DIAGNOSTICO1</th><th>count</th></tr><tr><td>str</td><td>u32</td></tr></thead><tbody><tr><td>&quot;I25.1&quot;</td><td>1366</td></tr><tr><td>&quot;Z51.1&quot;</td><td>811</td></tr><tr><td>&quot;U07.1&quot;</td><td>706</td></tr><tr><td>&quot;Z51.4&quot;</td><td>595</td></tr><tr><td>&quot;Z13.6&quot;</td><td>489</td></tr><tr><td>&quot;Z29.1&quot;</td><td>394</td></tr><tr><td>&quot;C34.1&quot;</td><td>367</td></tr><tr><td>&quot;I35.0&quot;</td><td>365</td></tr><tr><td>&quot;Z45.0&quot;</td><td>322</td></tr><tr><td>&quot;I21.4&quot;</td><td>264</td></tr><tr><td>&quot;J84.1&quot;</td><td>247</td></tr><tr><td>&quot;I21.0&quot;</td><td>234</td></tr><tr><td>&hellip;</td><td>&hellip;</td></tr><tr><td>&quot;T79.3&quot;</td><td>1</td></tr><tr><td>&quot;A16.1&quot;</td><td>1</td></tr><tr><td>&quot;D75.1&quot;</td><td>1</td></tr><tr><td>&quot;J38.3&quot;</td><td>1</td></tr><tr><td>&quot;J96.01&quot;</td><td>1</td></tr><tr><td>&quot;J91&quot;</td><td>1</td></tr><tr><td>&quot;I42.7&quot;</td><td>1</td></tr><tr><td>&quot;I77.2&quot;</td><td>1</td></tr><tr><td>&quot;C39.8&quot;</td><td>1</td></tr><tr><td>&quot;J43.8&quot;</td><td>1</td></tr><tr><td>&quot;B59&quot;</td><td>1</td></tr><tr><td>&quot;M79.60&quot;</td><td>1</td></tr></tbody></table></div>"
      ],
      "text/plain": [
       "shape: (568, 2)\n",
       "┌──────────────┬───────┐\n",
       "│ DIAGNOSTICO1 ┆ count │\n",
       "│ ---          ┆ ---   │\n",
       "│ str          ┆ u32   │\n",
       "╞══════════════╪═══════╡\n",
       "│ I25.1        ┆ 1366  │\n",
       "│ Z51.1        ┆ 811   │\n",
       "│ U07.1        ┆ 706   │\n",
       "│ Z51.4        ┆ 595   │\n",
       "│ …            ┆ …     │\n",
       "│ C39.8        ┆ 1     │\n",
       "│ J43.8        ┆ 1     │\n",
       "│ B59          ┆ 1     │\n",
       "│ M79.60       ┆ 1     │\n",
       "└──────────────┴───────┘"
      ]
     },
     "execution_count": 8,
     "metadata": {},
     "output_type": "execute_result"
    }
   ],
   "source": [
    "torax = dfp.filter(pl.col(\"COD_HOSPITAL\") == 112103)\n",
    "torax.groupby([\"DIAGNOSTICO1\"]).agg(pl.count()).sort(by=\"count\", descending=True)\n"
   ]
  },
  {
   "attachments": {},
   "cell_type": "markdown",
   "metadata": {},
   "source": [
    "- De estos resultados, se puede ver que el diagnostico Z51.4 es el diagnostico mas frecuente\n",
    "entre 2019 y 2021. Tuvo 1366 egresos.\n",
    "\n",
    "- A modo de ejemplo, se quiere ver el dataframe completo del diagnostico Z51.4, y analizar\n",
    "los procedimientos que tiene incluidos."
   ]
  },
  {
   "attachments": {},
   "cell_type": "markdown",
   "metadata": {},
   "source": [
    "### Analisis de conteo de procedimientos"
   ]
  },
  {
   "attachments": {},
   "cell_type": "markdown",
   "metadata": {},
   "source": [
    "### Forma 1"
   ]
  },
  {
   "cell_type": "code",
   "execution_count": 9,
   "metadata": {},
   "outputs": [],
   "source": [
    "from functools import reduce\n",
    "\n",
    "i251 = torax.filter(pl.col(\"DIAGNOSTICO1\") == \"I25.1\").to_pandas()\n",
    "listas_procedimientos = (\n",
    "    i251.loc[:, \"PROCEDIMIENTO1\":\"PROCEDIMIENTO30\"].fillna(\"\").agg(\"-\".join, axis=1).str.split(\"-\")\n",
    ")\n",
    "\n",
    "\n",
    "sumado = reduce(lambda x, y: x + y, listas_procedimientos.values)"
   ]
  },
  {
   "attachments": {},
   "cell_type": "markdown",
   "metadata": {},
   "source": [
    "### Forma 2"
   ]
  },
  {
   "cell_type": "code",
   "execution_count": 10,
   "metadata": {},
   "outputs": [
    {
     "data": {
      "text/plain": [
       "99.29    1196\n",
       "99.19    1125\n",
       "89.54    1035\n",
       "93.96     930\n",
       "37.22     806\n",
       "         ... \n",
       "78.61       1\n",
       "39.98       1\n",
       "99.10       1\n",
       "37.99       1\n",
       "37.87       1\n",
       "Name: value, Length: 257, dtype: int64"
      ]
     },
     "execution_count": 10,
     "metadata": {},
     "output_type": "execute_result"
    }
   ],
   "source": [
    "cambiada = pd.melt(\n",
    "    i251, id_vars=\"DIAGNOSTICO1\", value_vars=[f\"PROCEDIMIENTO{i}\" for i in range(1, 31)]\n",
    ")\n",
    "cambiada[\"value\"].value_counts()\n"
   ]
  },
  {
   "attachments": {},
   "cell_type": "markdown",
   "metadata": {},
   "source": [
    "## Analisis Completo\n",
    "\n",
    "- Se quiere ver la cantida dde procedimientos hechos por posicion de procedimiento. O sea,\n",
    "en el \"PROCEDIMIENTO1\" que procedimientos se ingresaron, y cuales son sus frecuencias ordenadas\n",
    "de mayor a menor?\n",
    "\n",
    "- Tambien se quiere ver la frecuencia global. O sea, para el diagnostico X, cuales son los\n",
    "procedimientos que mas se le realizan, independiente de la posicion del procedimiento."
   ]
  },
  {
   "attachments": {},
   "cell_type": "markdown",
   "metadata": {},
   "source": [
    "#### Cambio de nombre de columnas PROCEDIMIENTO\n",
    "\n",
    "- Esto se realiza, ya que permite ordenar estas columnas al utilizar .value_counts() en la\n",
    "proxima celda."
   ]
  },
  {
   "cell_type": "code",
   "execution_count": 13,
   "metadata": {},
   "outputs": [],
   "source": [
    "import string\n",
    "\n",
    "procedimientos = [f\"PROCEDIMIENTO{i}\" for i in range(1, 31)]\n",
    "letras = list(string.ascii_uppercase) + [\"a\", \"b\", \"c\", \"d\"]\n",
    "codificacion = dict(zip(procedimientos, letras))\n",
    "codificacion_reversa = dict(zip(letras, procedimientos))\n",
    "\n",
    "torax_pandas = torax.to_pandas()\n",
    "long_prestaciones = pd.melt(\n",
    "    torax_pandas,\n",
    "    id_vars=[\"ANIO_EGRESO\", \"DIAGNOSTICO1\"],\n",
    "    value_vars=procedimientos,\n",
    ")\n",
    "\n",
    "long_prestaciones[\"variable\"] = long_prestaciones[\"variable\"].replace(codificacion)"
   ]
  },
  {
   "cell_type": "code",
   "execution_count": 55,
   "metadata": {},
   "outputs": [],
   "source": [
    "por_procedimiento = (\n",
    "    long_prestaciones.groupby([\"ANIO_EGRESO\", \"DIAGNOSTICO1\", \"variable\"])[\"value\"]\n",
    "    .value_counts()\n",
    "    .reset_index(name=\"n_procedimientos\")\n",
    ")\n",
    "\n",
    "por_procedimiento[\"variable\"] = por_procedimiento[\"variable\"].replace(codificacion_reversa)\n",
    "por_procedimiento = por_procedimiento.rename({\"value\": \"codigo_procedimiento\"}, axis=1)\n"
   ]
  },
  {
   "attachments": {},
   "cell_type": "markdown",
   "metadata": {},
   "source": [
    "### Obtener diccionarios CIE"
   ]
  },
  {
   "cell_type": "code",
   "execution_count": 66,
   "metadata": {},
   "outputs": [],
   "source": [
    "cie_9 = pd.read_excel('input/CIE-9.xlsx', dtype={'Código': str})\n",
    "\n",
    "cie_10 = pd.read_excel('input/CIE-10.xlsx')"
   ]
  },
  {
   "cell_type": "code",
   "execution_count": 67,
   "metadata": {},
   "outputs": [],
   "source": [
    "unido_proc = por_procedimiento.merge(cie_9, how='left', left_on='codigo_procedimiento',\n",
    "                                            right_on='Código', suffixes=('', 'procedimientos'))\n",
    "\n",
    "unido_diag = unido_proc.merge(cie_10, how='inner')"
   ]
  },
  {
   "cell_type": "code",
   "execution_count": 71,
   "metadata": {},
   "outputs": [
    {
     "data": {
      "text/html": [
       "<div>\n",
       "<style scoped>\n",
       "    .dataframe tbody tr th:only-of-type {\n",
       "        vertical-align: middle;\n",
       "    }\n",
       "\n",
       "    .dataframe tbody tr th {\n",
       "        vertical-align: top;\n",
       "    }\n",
       "\n",
       "    .dataframe thead th {\n",
       "        text-align: right;\n",
       "    }\n",
       "</style>\n",
       "<table border=\"1\" class=\"dataframe\">\n",
       "  <thead>\n",
       "    <tr style=\"text-align: right;\">\n",
       "      <th></th>\n",
       "      <th>ANIO_EGRESO</th>\n",
       "      <th>DIAGNOSTICO1</th>\n",
       "      <th>variable</th>\n",
       "      <th>codigo_procedimiento</th>\n",
       "      <th>n_procedimientos</th>\n",
       "      <th>Código</th>\n",
       "      <th>Descripción</th>\n",
       "      <th>Categoría</th>\n",
       "      <th>Sección</th>\n",
       "      <th>Capítulo</th>\n",
       "    </tr>\n",
       "  </thead>\n",
       "  <tbody>\n",
       "    <tr>\n",
       "      <th>0</th>\n",
       "      <td>2019</td>\n",
       "      <td>A08.4</td>\n",
       "      <td>PROCEDIMIENTO1</td>\n",
       "      <td>89.54</td>\n",
       "      <td>1</td>\n",
       "      <td>89.54</td>\n",
       "      <td>MONITORIZACION ELECTROCARDIOGRAFICA</td>\n",
       "      <td>89 ENTREVISTA, EVALUACION CONSULTA Y EXAMEN</td>\n",
       "      <td>16. (87 99) PROCEDIMIENTOS DIAGNOSTICOS Y TERA...</td>\n",
       "      <td>16. (87 99) PROCEDIMIENTOS DIAGNOSTICOS Y TERA...</td>\n",
       "    </tr>\n",
       "    <tr>\n",
       "      <th>1</th>\n",
       "      <td>2019</td>\n",
       "      <td>A08.4</td>\n",
       "      <td>PROCEDIMIENTO2</td>\n",
       "      <td>38.91</td>\n",
       "      <td>1</td>\n",
       "      <td>38.91</td>\n",
       "      <td>CATETERISMO ARTERIA</td>\n",
       "      <td>38 INCISION, EXCISION Y OCLUSION DE VASOS</td>\n",
       "      <td>07. (35 39) OPERACIONES SOBRE EL APARATO CARDI...</td>\n",
       "      <td>07. (35 39) OPERACIONES SOBRE EL APARATO CARDI...</td>\n",
       "    </tr>\n",
       "    <tr>\n",
       "      <th>2</th>\n",
       "      <td>2019</td>\n",
       "      <td>A08.4</td>\n",
       "      <td>PROCEDIMIENTO3</td>\n",
       "      <td>99.26</td>\n",
       "      <td>1</td>\n",
       "      <td>99.26</td>\n",
       "      <td>INYECCION TRANQUILIZANTE</td>\n",
       "      <td>99 OTROS PROCEDIMIENTOS NO QUIRURGICOS</td>\n",
       "      <td>16. (87 99) PROCEDIMIENTOS DIAGNOSTICOS Y TERA...</td>\n",
       "      <td>16. (87 99) PROCEDIMIENTOS DIAGNOSTICOS Y TERA...</td>\n",
       "    </tr>\n",
       "    <tr>\n",
       "      <th>3</th>\n",
       "      <td>2019</td>\n",
       "      <td>A08.4</td>\n",
       "      <td>PROCEDIMIENTO4</td>\n",
       "      <td>99.29</td>\n",
       "      <td>1</td>\n",
       "      <td>99.29</td>\n",
       "      <td>INYECCION SUSTANCIA TERAPEUTICA O PROFILACTICA...</td>\n",
       "      <td>99 OTROS PROCEDIMIENTOS NO QUIRURGICOS</td>\n",
       "      <td>16. (87 99) PROCEDIMIENTOS DIAGNOSTICOS Y TERA...</td>\n",
       "      <td>16. (87 99) PROCEDIMIENTOS DIAGNOSTICOS Y TERA...</td>\n",
       "    </tr>\n",
       "    <tr>\n",
       "      <th>4</th>\n",
       "      <td>2019</td>\n",
       "      <td>A08.4</td>\n",
       "      <td>PROCEDIMIENTO5</td>\n",
       "      <td>99.18</td>\n",
       "      <td>1</td>\n",
       "      <td>99.18</td>\n",
       "      <td>INYECCION ELECTROLITO</td>\n",
       "      <td>99 OTROS PROCEDIMIENTOS NO QUIRURGICOS</td>\n",
       "      <td>16. (87 99) PROCEDIMIENTOS DIAGNOSTICOS Y TERA...</td>\n",
       "      <td>16. (87 99) PROCEDIMIENTOS DIAGNOSTICOS Y TERA...</td>\n",
       "    </tr>\n",
       "    <tr>\n",
       "      <th>...</th>\n",
       "      <td>...</td>\n",
       "      <td>...</td>\n",
       "      <td>...</td>\n",
       "      <td>...</td>\n",
       "      <td>...</td>\n",
       "      <td>...</td>\n",
       "      <td>...</td>\n",
       "      <td>...</td>\n",
       "      <td>...</td>\n",
       "      <td>...</td>\n",
       "    </tr>\n",
       "    <tr>\n",
       "      <th>78011</th>\n",
       "      <td>2021</td>\n",
       "      <td>Z54.0</td>\n",
       "      <td>PROCEDIMIENTO3</td>\n",
       "      <td>93.96</td>\n",
       "      <td>1</td>\n",
       "      <td>93.96</td>\n",
       "      <td>ENRIQUECIMIENTO OXIGENO OTRO</td>\n",
       "      <td>93 FISIOTERAPIA, TERAPIA RESPIRATORIA,REHABILI...</td>\n",
       "      <td>16. (87 99) PROCEDIMIENTOS DIAGNOSTICOS Y TERA...</td>\n",
       "      <td>16. (87 99) PROCEDIMIENTOS DIAGNOSTICOS Y TERA...</td>\n",
       "    </tr>\n",
       "    <tr>\n",
       "      <th>78012</th>\n",
       "      <td>2021</td>\n",
       "      <td>Z54.0</td>\n",
       "      <td>PROCEDIMIENTO4</td>\n",
       "      <td>90.59</td>\n",
       "      <td>1</td>\n",
       "      <td>90.59</td>\n",
       "      <td>EXAMEN MICROSCOPICO SANGRE.OTRO</td>\n",
       "      <td>90 EXAMEN MICROSCOPICO I</td>\n",
       "      <td>16. (87 99) PROCEDIMIENTOS DIAGNOSTICOS Y TERA...</td>\n",
       "      <td>16. (87 99) PROCEDIMIENTOS DIAGNOSTICOS Y TERA...</td>\n",
       "    </tr>\n",
       "    <tr>\n",
       "      <th>78013</th>\n",
       "      <td>2021</td>\n",
       "      <td>Z54.0</td>\n",
       "      <td>PROCEDIMIENTO5</td>\n",
       "      <td>89.65</td>\n",
       "      <td>1</td>\n",
       "      <td>89.65</td>\n",
       "      <td>GASOMETRIA ARTERIA</td>\n",
       "      <td>89 ENTREVISTA, EVALUACION CONSULTA Y EXAMEN</td>\n",
       "      <td>16. (87 99) PROCEDIMIENTOS DIAGNOSTICOS Y TERA...</td>\n",
       "      <td>16. (87 99) PROCEDIMIENTOS DIAGNOSTICOS Y TERA...</td>\n",
       "    </tr>\n",
       "    <tr>\n",
       "      <th>78014</th>\n",
       "      <td>2021</td>\n",
       "      <td>Z54.0</td>\n",
       "      <td>PROCEDIMIENTO6</td>\n",
       "      <td>93.99</td>\n",
       "      <td>1</td>\n",
       "      <td>93.99</td>\n",
       "      <td>TERAPIA RESPIRATORIA.OTRA</td>\n",
       "      <td>93 FISIOTERAPIA, TERAPIA RESPIRATORIA,REHABILI...</td>\n",
       "      <td>16. (87 99) PROCEDIMIENTOS DIAGNOSTICOS Y TERA...</td>\n",
       "      <td>16. (87 99) PROCEDIMIENTOS DIAGNOSTICOS Y TERA...</td>\n",
       "    </tr>\n",
       "    <tr>\n",
       "      <th>78015</th>\n",
       "      <td>2021</td>\n",
       "      <td>Z54.0</td>\n",
       "      <td>PROCEDIMIENTO7</td>\n",
       "      <td>89.54</td>\n",
       "      <td>1</td>\n",
       "      <td>89.54</td>\n",
       "      <td>MONITORIZACION ELECTROCARDIOGRAFICA</td>\n",
       "      <td>89 ENTREVISTA, EVALUACION CONSULTA Y EXAMEN</td>\n",
       "      <td>16. (87 99) PROCEDIMIENTOS DIAGNOSTICOS Y TERA...</td>\n",
       "      <td>16. (87 99) PROCEDIMIENTOS DIAGNOSTICOS Y TERA...</td>\n",
       "    </tr>\n",
       "  </tbody>\n",
       "</table>\n",
       "<p>78016 rows × 10 columns</p>\n",
       "</div>"
      ],
      "text/plain": [
       "       ANIO_EGRESO DIAGNOSTICO1        variable codigo_procedimiento  \\\n",
       "0             2019        A08.4  PROCEDIMIENTO1                89.54   \n",
       "1             2019        A08.4  PROCEDIMIENTO2                38.91   \n",
       "2             2019        A08.4  PROCEDIMIENTO3                99.26   \n",
       "3             2019        A08.4  PROCEDIMIENTO4                99.29   \n",
       "4             2019        A08.4  PROCEDIMIENTO5                99.18   \n",
       "...            ...          ...             ...                  ...   \n",
       "78011         2021        Z54.0  PROCEDIMIENTO3                93.96   \n",
       "78012         2021        Z54.0  PROCEDIMIENTO4                90.59   \n",
       "78013         2021        Z54.0  PROCEDIMIENTO5                89.65   \n",
       "78014         2021        Z54.0  PROCEDIMIENTO6                93.99   \n",
       "78015         2021        Z54.0  PROCEDIMIENTO7                89.54   \n",
       "\n",
       "       n_procedimientos Código  \\\n",
       "0                     1  89.54   \n",
       "1                     1  38.91   \n",
       "2                     1  99.26   \n",
       "3                     1  99.29   \n",
       "4                     1  99.18   \n",
       "...                 ...    ...   \n",
       "78011                 1  93.96   \n",
       "78012                 1  90.59   \n",
       "78013                 1  89.65   \n",
       "78014                 1  93.99   \n",
       "78015                 1  89.54   \n",
       "\n",
       "                                             Descripción  \\\n",
       "0                    MONITORIZACION ELECTROCARDIOGRAFICA   \n",
       "1                                    CATETERISMO ARTERIA   \n",
       "2                               INYECCION TRANQUILIZANTE   \n",
       "3      INYECCION SUSTANCIA TERAPEUTICA O PROFILACTICA...   \n",
       "4                                  INYECCION ELECTROLITO   \n",
       "...                                                  ...   \n",
       "78011                       ENRIQUECIMIENTO OXIGENO OTRO   \n",
       "78012                    EXAMEN MICROSCOPICO SANGRE.OTRO   \n",
       "78013                                 GASOMETRIA ARTERIA   \n",
       "78014                          TERAPIA RESPIRATORIA.OTRA   \n",
       "78015                MONITORIZACION ELECTROCARDIOGRAFICA   \n",
       "\n",
       "                                               Categoría  \\\n",
       "0            89 ENTREVISTA, EVALUACION CONSULTA Y EXAMEN   \n",
       "1              38 INCISION, EXCISION Y OCLUSION DE VASOS   \n",
       "2                 99 OTROS PROCEDIMIENTOS NO QUIRURGICOS   \n",
       "3                 99 OTROS PROCEDIMIENTOS NO QUIRURGICOS   \n",
       "4                 99 OTROS PROCEDIMIENTOS NO QUIRURGICOS   \n",
       "...                                                  ...   \n",
       "78011  93 FISIOTERAPIA, TERAPIA RESPIRATORIA,REHABILI...   \n",
       "78012                           90 EXAMEN MICROSCOPICO I   \n",
       "78013        89 ENTREVISTA, EVALUACION CONSULTA Y EXAMEN   \n",
       "78014  93 FISIOTERAPIA, TERAPIA RESPIRATORIA,REHABILI...   \n",
       "78015        89 ENTREVISTA, EVALUACION CONSULTA Y EXAMEN   \n",
       "\n",
       "                                                 Sección  \\\n",
       "0      16. (87 99) PROCEDIMIENTOS DIAGNOSTICOS Y TERA...   \n",
       "1      07. (35 39) OPERACIONES SOBRE EL APARATO CARDI...   \n",
       "2      16. (87 99) PROCEDIMIENTOS DIAGNOSTICOS Y TERA...   \n",
       "3      16. (87 99) PROCEDIMIENTOS DIAGNOSTICOS Y TERA...   \n",
       "4      16. (87 99) PROCEDIMIENTOS DIAGNOSTICOS Y TERA...   \n",
       "...                                                  ...   \n",
       "78011  16. (87 99) PROCEDIMIENTOS DIAGNOSTICOS Y TERA...   \n",
       "78012  16. (87 99) PROCEDIMIENTOS DIAGNOSTICOS Y TERA...   \n",
       "78013  16. (87 99) PROCEDIMIENTOS DIAGNOSTICOS Y TERA...   \n",
       "78014  16. (87 99) PROCEDIMIENTOS DIAGNOSTICOS Y TERA...   \n",
       "78015  16. (87 99) PROCEDIMIENTOS DIAGNOSTICOS Y TERA...   \n",
       "\n",
       "                                                Capítulo  \n",
       "0      16. (87 99) PROCEDIMIENTOS DIAGNOSTICOS Y TERA...  \n",
       "1      07. (35 39) OPERACIONES SOBRE EL APARATO CARDI...  \n",
       "2      16. (87 99) PROCEDIMIENTOS DIAGNOSTICOS Y TERA...  \n",
       "3      16. (87 99) PROCEDIMIENTOS DIAGNOSTICOS Y TERA...  \n",
       "4      16. (87 99) PROCEDIMIENTOS DIAGNOSTICOS Y TERA...  \n",
       "...                                                  ...  \n",
       "78011  16. (87 99) PROCEDIMIENTOS DIAGNOSTICOS Y TERA...  \n",
       "78012  16. (87 99) PROCEDIMIENTOS DIAGNOSTICOS Y TERA...  \n",
       "78013  16. (87 99) PROCEDIMIENTOS DIAGNOSTICOS Y TERA...  \n",
       "78014  16. (87 99) PROCEDIMIENTOS DIAGNOSTICOS Y TERA...  \n",
       "78015  16. (87 99) PROCEDIMIENTOS DIAGNOSTICOS Y TERA...  \n",
       "\n",
       "[78016 rows x 10 columns]"
      ]
     },
     "execution_count": 71,
     "metadata": {},
     "output_type": "execute_result"
    }
   ],
   "source": [
    "unido_proc"
   ]
  },
  {
   "cell_type": "code",
   "execution_count": 29,
   "metadata": {},
   "outputs": [],
   "source": [
    "por_procedimiento.to_excel(\"output/prestaciones_por_procedimiento.xlsx\")"
   ]
  }
 ],
 "metadata": {
  "kernelspec": {
   "display_name": "Python 3",
   "language": "python",
   "name": "python3"
  },
  "language_info": {
   "codemirror_mode": {
    "name": "ipython",
    "version": 3
   },
   "file_extension": ".py",
   "mimetype": "text/x-python",
   "name": "python",
   "nbconvert_exporter": "python",
   "pygments_lexer": "ipython3",
   "version": "3.10.9"
  },
  "orig_nbformat": 4
 },
 "nbformat": 4,
 "nbformat_minor": 2
}
