{
 "cells": [
  {
   "cell_type": "code",
   "execution_count": 2,
   "metadata": {},
   "outputs": [],
   "source": [
    "import pandas as pd\n",
    "import polars as pl\n",
    "\n",
    "import numpy as np\n"
   ]
  },
  {
   "attachments": {},
   "cell_type": "markdown",
   "metadata": {},
   "source": [
    "# Analisis de Cantidad de Traqueostomias por Servicio de Salud\n",
    "\n",
    "- En este apartado se quiere ver la cantidad de traqueostomias que se hicieron por Servicio de Salud.\n",
    "Este analisis se realiza por anio."
   ]
  },
  {
   "attachments": {},
   "cell_type": "markdown",
   "metadata": {},
   "source": [
    "## Carga de Archivos de GRD"
   ]
  },
  {
   "cell_type": "code",
   "execution_count": 3,
   "metadata": {},
   "outputs": [],
   "source": [
    "COLUMNAS_POLARS = {\n",
    "    \"COD_HOSPITAL\": pl.Int32,\n",
    "    \"CIP_ENCRIPTADO\": pl.Int32,\n",
    "    \"SEXO\": pl.Categorical,\n",
    "    \"FECHA_NACIMIENTO\": pl.Date,\n",
    "    \"ETNIA\": pl.Categorical,\n",
    "    \"PROVINCIA\": pl.Categorical,\n",
    "    \"COMUNA\": pl.Categorical,\n",
    "    \"NACIONALIDAD\": pl.Categorical,\n",
    "    \"PREVISION\": pl.Categorical,\n",
    "    \"SERVICIO_SALUD\": pl.Categorical,\n",
    "    \"TIPO_PROCEDENCIA\": pl.Categorical,\n",
    "    \"TIPO_INGRESO\": pl.Categorical,\n",
    "    \"ESPECIALIDAD_MEDICA\": pl.Categorical,\n",
    "    \"TIPO_ACTIVIDAD\": pl.Categorical,\n",
    "    \"FECHA_INGRESO\": pl.Date,\n",
    "    \"SERVICIOINGRESO\": pl.Categorical,\n",
    "    \"FECHATRASLADO1\": pl.Date,\n",
    "    \"SERVICIOTRASLADO1\": pl.Categorical,\n",
    "    \"FECHATRASLADO2\": pl.Date,\n",
    "    \"SERVICIOTRASLADO2\": pl.Categorical,\n",
    "    \"FECHATRASLADO3\": pl.Date,\n",
    "    \"SERVICIOTRASLADO3\": pl.Categorical,\n",
    "    \"FECHATRASLADO4\": pl.Date,\n",
    "    \"SERVICIOTRASLADO4\": pl.Categorical,\n",
    "    \"FECHATRASLADO5\": pl.Date,\n",
    "    \"SERVICIOTRASLADO5\": pl.Categorical,\n",
    "    \"FECHATRASLADO6\": pl.Date,\n",
    "    \"SERVICIOTRASLADO6\": pl.Categorical,\n",
    "    \"FECHATRASLADO7\": pl.Date,\n",
    "    \"SERVICIOTRASLADO7\": pl.Categorical,\n",
    "    \"FECHATRASLADO8\": pl.Date,\n",
    "    \"SERVICIOTRASLADO8\": pl.Categorical,\n",
    "    \"FECHATRASLADO9\": pl.Date,\n",
    "    \"SERVICIOTRASLADO9\": pl.Categorical,\n",
    "    \"FECHAALTA\": pl.Date,\n",
    "    \"SERVICIOALTA\": pl.Categorical,\n",
    "    \"TIPOALTA\": pl.Categorical,\n",
    "    \"CONDICIONDEALTANEONATO1\": pl.Categorical,\n",
    "    \"PESORN1\": pl.Int16,\n",
    "    \"SEXORN1\": pl.Categorical,\n",
    "    \"RN1ESTADO\": pl.Int8,\n",
    "    \"CONDICIONDEALTANEONATO2\": pl.Categorical,\n",
    "    \"PESORN2\": pl.Int16,\n",
    "    \"SEXORN2\": pl.Categorical,\n",
    "    \"RN2ESTADO\": pl.Int8,\n",
    "    \"CONDICIONDEALTANEONATO3\": pl.Categorical,\n",
    "    \"PESORN3\": pl.Int16,\n",
    "    \"SEXORN3\": pl.Categorical,\n",
    "    \"RN3ESTADO\": pl.Int8,\n",
    "    \"CONDICIONDEALTANEONATO4\": pl.Categorical,\n",
    "    \"PESORN4\": pl.Int16,\n",
    "    \"SEXORN4\": pl.Categorical,\n",
    "    \"RN4ESTADO\": pl.Int8,\n",
    "    \"DIAGNOSTICO1\": str,\n",
    "    \"DIAGNOSTICO2\": str,\n",
    "    \"DIAGNOSTICO3\": str,\n",
    "    \"DIAGNOSTICO4\": str,\n",
    "    \"DIAGNOSTICO5\": str,\n",
    "    \"DIAGNOSTICO6\": str,\n",
    "    \"DIAGNOSTICO7\": str,\n",
    "    \"DIAGNOSTICO8\": str,\n",
    "    \"DIAGNOSTICO9\": str,\n",
    "    \"DIAGNOSTICO10\": str,\n",
    "    \"DIAGNOSTICO11\": str,\n",
    "    \"DIAGNOSTICO12\": str,\n",
    "    \"DIAGNOSTICO13\": str,\n",
    "    \"DIAGNOSTICO14\": str,\n",
    "    \"DIAGNOSTICO15\": str,\n",
    "    \"DIAGNOSTICO16\": str,\n",
    "    \"DIAGNOSTICO17\": str,\n",
    "    \"DIAGNOSTICO18\": str,\n",
    "    \"DIAGNOSTICO19\": str,\n",
    "    \"DIAGNOSTICO20\": str,\n",
    "    \"DIAGNOSTICO21\": str,\n",
    "    \"DIAGNOSTICO22\": str,\n",
    "    \"DIAGNOSTICO23\": str,\n",
    "    \"DIAGNOSTICO24\": str,\n",
    "    \"DIAGNOSTICO25\": str,\n",
    "    \"DIAGNOSTICO26\": str,\n",
    "    \"DIAGNOSTICO27\": str,\n",
    "    \"DIAGNOSTICO28\": str,\n",
    "    \"DIAGNOSTICO29\": str,\n",
    "    \"DIAGNOSTICO30\": str,\n",
    "    \"DIAGNOSTICO31\": str,\n",
    "    \"DIAGNOSTICO32\": str,\n",
    "    \"DIAGNOSTICO33\": str,\n",
    "    \"DIAGNOSTICO34\": str,\n",
    "    \"DIAGNOSTICO35\": str,\n",
    "    \"PROCEDIMIENTO1\": str,\n",
    "    \"PROCEDIMIENTO2\": str,\n",
    "    \"PROCEDIMIENTO3\": str,\n",
    "    \"PROCEDIMIENTO4\": str,\n",
    "    \"PROCEDIMIENTO5\": str,\n",
    "    \"PROCEDIMIENTO6\": str,\n",
    "    \"PROCEDIMIENTO7\": str,\n",
    "    \"PROCEDIMIENTO8\": str,\n",
    "    \"PROCEDIMIENTO9\": str,\n",
    "    \"PROCEDIMIENTO10\": str,\n",
    "    \"PROCEDIMIENTO11\": str,\n",
    "    \"PROCEDIMIENTO12\": str,\n",
    "    \"PROCEDIMIENTO13\": str,\n",
    "    \"PROCEDIMIENTO14\": str,\n",
    "    \"PROCEDIMIENTO15\": str,\n",
    "    \"PROCEDIMIENTO16\": str,\n",
    "    \"PROCEDIMIENTO17\": str,\n",
    "    \"PROCEDIMIENTO18\": str,\n",
    "    \"PROCEDIMIENTO19\": str,\n",
    "    \"PROCEDIMIENTO20\": str,\n",
    "    \"PROCEDIMIENTO21\": str,\n",
    "    \"PROCEDIMIENTO22\": str,\n",
    "    \"PROCEDIMIENTO23\": str,\n",
    "    \"PROCEDIMIENTO24\": str,\n",
    "    \"PROCEDIMIENTO25\": str,\n",
    "    \"PROCEDIMIENTO26\": str,\n",
    "    \"PROCEDIMIENTO27\": str,\n",
    "    \"PROCEDIMIENTO28\": str,\n",
    "    \"PROCEDIMIENTO29\": str,\n",
    "    \"PROCEDIMIENTO30\": str,\n",
    "    \"MEDICOINTERV1_ENCRIPTADO\": pl.Int32,\n",
    "    \"FECHAPROCEDIMIENTO1\": pl.Date,\n",
    "    \"FECHAINTERV1\": pl.Date,\n",
    "    \"ESPECIALIDADINTERVENCION\": pl.Categorical,\n",
    "    \"MEDICOALTA_ENCRIPTADO\": pl.Int32,\n",
    "    \"USOSPABELLON\": str,\n",
    "    \"IR_29301_COD_GRD\": pl.Int32,\n",
    "    \"IR_29301_PESO\": str,\n",
    "    \"IR_29301_SEVERIDAD\": pl.Int8,\n",
    "    \"IR_29301_MORTALIDAD\": pl.Int8,\n",
    "    \"HOSPPROCEDENCIA\": str,\n",
    "}\n",
    "\n",
    "VALORES_NULOS_COLUMNAS = {\n",
    "    \"CIP_ENCRIPTADO\": \"SIN INFORMACIÓN\",\n",
    "    \"PROCEDIMIENTO1\": \"DESCONOCIDO\",\n",
    "    \"PROCEDIMIENTO2\": \"DESCONOCIDO\",\n",
    "    \"PROCEDIMIENTO3\": \"DESCONOCIDO\",\n",
    "    \"PROCEDIMIENTO5\": \"DESCONOCIDO\",\n",
    "    \"IR_29301_COD_GRD\": \"DESCONOCIDO\",\n",
    "    \"IR_29301_PESO\": \"DESCONOCIDO\",\n",
    "    \"IR_29301_SEVERIDAD\": \"DESCONOCIDO\",\n",
    "    \"IR_29301_MORTALIDAD\": \"DESCONOCIDO\",\n",
    "}"
   ]
  },
  {
   "cell_type": "code",
   "execution_count": 4,
   "metadata": {},
   "outputs": [],
   "source": [
    "with pl.StringCache():\n",
    "    dfp = pl.scan_csv(\n",
    "        \"input/*.txt\",\n",
    "        separator=\"|\",\n",
    "        dtypes=COLUMNAS_POLARS,\n",
    "        null_values=VALORES_NULOS_COLUMNAS,\n",
    "    )\n",
    "\n",
    "    peso_en_float = pl.col(\"IR_29301_PESO\").str.replace(\",\", \".\").cast(pl.Float32, strict=True)\n",
    "    estancia = pl.col(\"FECHAALTA\") - pl.col(\"FECHA_INGRESO\")\n",
    "    anio = pl.col(\"FECHAALTA\").dt.year()\n",
    "\n",
    "    dfp = dfp.with_columns(\n",
    "        [\n",
    "            peso_en_float.alias(\"IR_29301_PESO\"),\n",
    "            estancia.alias(\"ESTANCIA\"),\n",
    "            anio.alias(\"ANIO_EGRESO\"),\n",
    "        ]\n",
    "    )\n",
    "    dfp = dfp.collect()\n"
   ]
  },
  {
   "cell_type": "code",
   "execution_count": 5,
   "metadata": {},
   "outputs": [],
   "source": [
    "df = dfp.to_pandas()"
   ]
  },
  {
   "attachments": {},
   "cell_type": "markdown",
   "metadata": {},
   "source": [
    "## Analisis de Traqueostomia"
   ]
  },
  {
   "cell_type": "code",
   "execution_count": 6,
   "metadata": {},
   "outputs": [],
   "source": [
    "procedimientos = df.loc[:, \"PROCEDIMIENTO1\":\"PROCEDIMIENTO30\"]\n",
    "contiene_nuestros_proc = procedimientos.isin([\"31.1\", \"31.29\"]).sum(axis=1).astype(bool)\n",
    "proc_nacionales = df[contiene_nuestros_proc]\n"
   ]
  },
  {
   "cell_type": "code",
   "execution_count": 7,
   "metadata": {},
   "outputs": [],
   "source": [
    "metricas = (\n",
    "    proc_nacionales.groupby([\"ANIO_EGRESO\", \"SERVICIO_SALUD\"])\n",
    "    .agg(\n",
    "        n_egresos=(\"COD_HOSPITAL\", \"count\"),\n",
    "        peso_medio=(\"IR_29301_PESO\", \"mean\"),\n",
    "        estancia_media=(\"ESTANCIA\", \"mean\"),\n",
    "    )\n",
    "    .sort_values([\"ANIO_EGRESO\", \"n_egresos\"], ascending=False)\n",
    ")"
   ]
  },
  {
   "cell_type": "code",
   "execution_count": 8,
   "metadata": {},
   "outputs": [],
   "source": [
    "metricas.to_excel(\"resumen_traqueostomia_hist.xlsx\")"
   ]
  },
  {
   "attachments": {},
   "cell_type": "markdown",
   "metadata": {},
   "source": [
    "# Analisis de Prestaciones por Diagnostico"
   ]
  },
  {
   "attachments": {},
   "cell_type": "markdown",
   "metadata": {},
   "source": [
    "- En este apartado se quiere ver la cantidad de prestaciones que se realizan por cada diagnostico\n",
    "principal.\n",
    "\n",
    "- El resultado que se quiere obtener es parecido al siguiente:\n",
    "\n",
    "|Año|Diagnostico|Resumen Procedimientos|\n",
    "|---|-----------|----------------------|\n",
    "|2019|\"I25.1\"|{\"45.23\": 20, \"73.59\": 10}|\n",
    "|2020|\"I25.1\"|{\"45.23\": 7, \"73.59\": 3}|"
   ]
  },
  {
   "attachments": {},
   "cell_type": "markdown",
   "metadata": {},
   "source": [
    "## Analisis Exploratorio"
   ]
  },
  {
   "attachments": {},
   "cell_type": "markdown",
   "metadata": {},
   "source": [
    "### Obtener conteo de diagnosticos en el Torax"
   ]
  },
  {
   "cell_type": "code",
   "execution_count": 38,
   "metadata": {},
   "outputs": [
    {
     "data": {
      "text/html": [
       "<div><style>\n",
       ".dataframe > thead > tr > th,\n",
       ".dataframe > tbody > tr > td {\n",
       "  text-align: right;\n",
       "}\n",
       "</style>\n",
       "<small>shape: (568, 2)</small><table border=\"1\" class=\"dataframe\"><thead><tr><th>DIAGNOSTICO1</th><th>count</th></tr><tr><td>str</td><td>u32</td></tr></thead><tbody><tr><td>&quot;I25.1&quot;</td><td>1366</td></tr><tr><td>&quot;Z51.1&quot;</td><td>811</td></tr><tr><td>&quot;U07.1&quot;</td><td>706</td></tr><tr><td>&quot;Z51.4&quot;</td><td>595</td></tr><tr><td>&quot;Z13.6&quot;</td><td>489</td></tr><tr><td>&quot;Z29.1&quot;</td><td>394</td></tr><tr><td>&quot;C34.1&quot;</td><td>367</td></tr><tr><td>&quot;I35.0&quot;</td><td>365</td></tr><tr><td>&quot;Z45.0&quot;</td><td>322</td></tr><tr><td>&quot;I21.4&quot;</td><td>264</td></tr><tr><td>&quot;J84.1&quot;</td><td>247</td></tr><tr><td>&quot;I21.0&quot;</td><td>234</td></tr><tr><td>&hellip;</td><td>&hellip;</td></tr><tr><td>&quot;M34.9&quot;</td><td>1</td></tr><tr><td>&quot;T86.0&quot;</td><td>1</td></tr><tr><td>&quot;T85.9&quot;</td><td>1</td></tr><tr><td>&quot;I15.1&quot;</td><td>1</td></tr><tr><td>&quot;C38.8&quot;</td><td>1</td></tr><tr><td>&quot;J38.3&quot;</td><td>1</td></tr><tr><td>&quot;J12.0&quot;</td><td>1</td></tr><tr><td>&quot;I20.1&quot;</td><td>1</td></tr><tr><td>&quot;C79.7&quot;</td><td>1</td></tr><tr><td>&quot;M79.60&quot;</td><td>1</td></tr><tr><td>&quot;N18.5&quot;</td><td>1</td></tr><tr><td>&quot;R61.0&quot;</td><td>1</td></tr></tbody></table></div>"
      ],
      "text/plain": [
       "shape: (568, 2)\n",
       "┌──────────────┬───────┐\n",
       "│ DIAGNOSTICO1 ┆ count │\n",
       "│ ---          ┆ ---   │\n",
       "│ str          ┆ u32   │\n",
       "╞══════════════╪═══════╡\n",
       "│ I25.1        ┆ 1366  │\n",
       "│ Z51.1        ┆ 811   │\n",
       "│ U07.1        ┆ 706   │\n",
       "│ Z51.4        ┆ 595   │\n",
       "│ …            ┆ …     │\n",
       "│ C79.7        ┆ 1     │\n",
       "│ M79.60       ┆ 1     │\n",
       "│ N18.5        ┆ 1     │\n",
       "│ R61.0        ┆ 1     │\n",
       "└──────────────┴───────┘"
      ]
     },
     "execution_count": 38,
     "metadata": {},
     "output_type": "execute_result"
    }
   ],
   "source": [
    "torax = dfp.filter(pl.col('COD_HOSPITAL') == 112103)\n",
    "torax.groupby(['DIAGNOSTICO1']).agg(pl.count()).sort(by='count', descending=True)"
   ]
  },
  {
   "attachments": {},
   "cell_type": "markdown",
   "metadata": {},
   "source": [
    "- De estos resultados, se puede ver que el diagnostico Z51.4 es el diagnostico mas frecuente\n",
    "entre 2019 y 2021.\n",
    "\n",
    "- A modo de ejemplo, se quiere ver el dataframe completo del diagnostico Z51.4, y analizar\n",
    "los procedimientos que tiene incluidos."
   ]
  },
  {
   "attachments": {},
   "cell_type": "markdown",
   "metadata": {},
   "source": [
    "### Analisis de conteo de procedimientos"
   ]
  },
  {
   "cell_type": "code",
   "execution_count": 31,
   "metadata": {},
   "outputs": [],
   "source": [
    "i251 = torax.filter(\n",
    "    pl.col('DIAGNOSTICO1') == \"I25.1\"\n",
    ")"
   ]
  },
  {
   "cell_type": "code",
   "execution_count": 32,
   "metadata": {},
   "outputs": [
    {
     "data": {
      "text/html": [
       "<div><style>\n",
       ".dataframe > thead > tr > th,\n",
       ".dataframe > tbody > tr > td {\n",
       "  text-align: right;\n",
       "}\n",
       "</style>\n",
       "<small>shape: (1_366, 131)</small><table border=\"1\" class=\"dataframe\"><thead><tr><th>COD_HOSPITAL</th><th>CIP_ENCRIPTADO</th><th>SEXO</th><th>FECHA_NACIMIENTO</th><th>ETNIA</th><th>PROVINCIA</th><th>COMUNA</th><th>NACIONALIDAD</th><th>PREVISION</th><th>SERVICIO_SALUD</th><th>TIPO_PROCEDENCIA</th><th>TIPO_INGRESO</th><th>ESPECIALIDAD_MEDICA</th><th>TIPO_ACTIVIDAD</th><th>FECHA_INGRESO</th><th>SERVICIOINGRESO</th><th>FECHATRASLADO1</th><th>SERVICIOTRASLADO1</th><th>FECHATRASLADO2</th><th>SERVICIOTRASLADO2</th><th>FECHATRASLADO3</th><th>SERVICIOTRASLADO3</th><th>FECHATRASLADO4</th><th>SERVICIOTRASLADO4</th><th>FECHATRASLADO5</th><th>SERVICIOTRASLADO5</th><th>FECHATRASLADO6</th><th>SERVICIOTRASLADO6</th><th>FECHATRASLADO7</th><th>SERVICIOTRASLADO7</th><th>FECHATRASLADO8</th><th>SERVICIOTRASLADO8</th><th>FECHATRASLADO9</th><th>SERVICIOTRASLADO9</th><th>FECHAALTA</th><th>SERVICIOALTA</th><th>TIPOALTA</th><th>&hellip;</th><th>PROCEDIMIENTO7</th><th>PROCEDIMIENTO8</th><th>PROCEDIMIENTO9</th><th>PROCEDIMIENTO10</th><th>PROCEDIMIENTO11</th><th>PROCEDIMIENTO12</th><th>PROCEDIMIENTO13</th><th>PROCEDIMIENTO14</th><th>PROCEDIMIENTO15</th><th>PROCEDIMIENTO16</th><th>PROCEDIMIENTO17</th><th>PROCEDIMIENTO18</th><th>PROCEDIMIENTO19</th><th>PROCEDIMIENTO20</th><th>PROCEDIMIENTO21</th><th>PROCEDIMIENTO22</th><th>PROCEDIMIENTO23</th><th>PROCEDIMIENTO24</th><th>PROCEDIMIENTO25</th><th>PROCEDIMIENTO26</th><th>PROCEDIMIENTO27</th><th>PROCEDIMIENTO28</th><th>PROCEDIMIENTO29</th><th>PROCEDIMIENTO30</th><th>MEDICOINTERV1_ENCRIPTADO</th><th>FECHAPROCEDIMIENTO1</th><th>FECHAINTERV1</th><th>ESPECIALIDADINTERVENCION</th><th>MEDICOALTA_ENCRIPTADO</th><th>USOSPABELLON</th><th>IR_29301_COD_GRD</th><th>IR_29301_PESO</th><th>IR_29301_SEVERIDAD</th><th>IR_29301_MORTALIDAD</th><th>HOSPPROCEDENCIA</th><th>ESTANCIA</th><th>ANIO_EGRESO</th></tr><tr><td>i32</td><td>i32</td><td>cat</td><td>date</td><td>cat</td><td>cat</td><td>cat</td><td>cat</td><td>cat</td><td>cat</td><td>cat</td><td>cat</td><td>cat</td><td>cat</td><td>date</td><td>cat</td><td>date</td><td>cat</td><td>date</td><td>cat</td><td>date</td><td>cat</td><td>date</td><td>cat</td><td>date</td><td>cat</td><td>date</td><td>cat</td><td>date</td><td>cat</td><td>date</td><td>cat</td><td>date</td><td>cat</td><td>date</td><td>cat</td><td>cat</td><td>&hellip;</td><td>str</td><td>str</td><td>str</td><td>str</td><td>str</td><td>str</td><td>str</td><td>str</td><td>str</td><td>str</td><td>str</td><td>str</td><td>str</td><td>str</td><td>str</td><td>str</td><td>str</td><td>str</td><td>str</td><td>str</td><td>str</td><td>str</td><td>str</td><td>str</td><td>i32</td><td>date</td><td>date</td><td>cat</td><td>i32</td><td>str</td><td>i32</td><td>f32</td><td>i8</td><td>i8</td><td>str</td><td>duration[ms]</td><td>i32</td></tr></thead><tbody><tr><td>112103</td><td>1137216</td><td>&quot;MUJER&quot;</td><td>1955-10-15</td><td>&quot;NINGUNO&quot;</td><td>&quot;SANTIAGO&quot;</td><td>&quot;PEÑALOLÉN&quot;</td><td>&quot;CHILE&quot;</td><td>&quot;FONASA INSTITU…</td><td>&quot;METROPOLITANO …</td><td>&quot;CENTRO ESPECIA…</td><td>&quot;PROGRAMADA&quot;</td><td>&quot;CARDIOLOGÍA&quot;</td><td>&quot;HOSPITALIZACIÓ…</td><td>2019-01-14</td><td>&quot;CIRUGÍA CARDIO…</td><td>null</td><td>null</td><td>null</td><td>null</td><td>null</td><td>null</td><td>null</td><td>null</td><td>null</td><td>null</td><td>null</td><td>null</td><td>null</td><td>null</td><td>null</td><td>null</td><td>null</td><td>null</td><td>2019-01-17</td><td>&quot;CIRUGÍA CARDIO…</td><td>&quot;DOMICILIO&quot;</td><td>&hellip;</td><td>&quot;99.19&quot;</td><td>&quot;99.29&quot;</td><td>&quot;89.54&quot;</td><td>&quot;93.96&quot;</td><td>null</td><td>null</td><td>null</td><td>null</td><td>null</td><td>null</td><td>null</td><td>null</td><td>null</td><td>null</td><td>null</td><td>null</td><td>null</td><td>null</td><td>null</td><td>null</td><td>null</td><td>null</td><td>null</td><td>null</td><td>null</td><td>null</td><td>null</td><td>null</td><td>5185</td><td>&quot;2&quot;</td><td>51151</td><td>0.8838</td><td>1</td><td>1</td><td>null</td><td>3d</td><td>2019</td></tr><tr><td>112103</td><td>848224</td><td>&quot;HOMBRE&quot;</td><td>1959-11-11</td><td>&quot;NINGUNO&quot;</td><td>&quot;SANTIAGO&quot;</td><td>&quot;EL BOSQUE&quot;</td><td>&quot;CHILE&quot;</td><td>&quot;FONASA INSTITU…</td><td>&quot;METROPOLITANO …</td><td>&quot;OTROS HOSPITAL…</td><td>&quot;URGENCIA&quot;</td><td>&quot;CIRUGÍA CARDIO…</td><td>&quot;HOSPITALIZACIÓ…</td><td>2019-01-21</td><td>&quot;UNIDAD DE TRAT…</td><td>2019-01-23</td><td>&quot;CIRUGÍA CARDIO…</td><td>2019-01-27</td><td>&quot;UNIDAD DE CUID…</td><td>2019-01-29</td><td>&quot;UNIDAD DE TRAT…</td><td>2019-01-31</td><td>&quot;CIRUGÍA CARDIO…</td><td>null</td><td>null</td><td>null</td><td>null</td><td>null</td><td>null</td><td>null</td><td>null</td><td>null</td><td>null</td><td>2019-02-01</td><td>&quot;CIRUGÍA CARDIO…</td><td>&quot;DOMICILIO&quot;</td><td>&hellip;</td><td>&quot;38.91&quot;</td><td>&quot;88.72&quot;</td><td>&quot;42.23&quot;</td><td>&quot;89.61&quot;</td><td>&quot;89.62&quot;</td><td>&quot;89.65&quot;</td><td>&quot;57.94&quot;</td><td>&quot;99.21&quot;</td><td>&quot;99.23&quot;</td><td>&quot;99.18&quot;</td><td>&quot;99.26&quot;</td><td>&quot;99.19&quot;</td><td>&quot;99.29&quot;</td><td>&quot;99.08&quot;</td><td>&quot;89.52&quot;</td><td>&quot;89.54&quot;</td><td>&quot;87.44&quot;</td><td>&quot;93.96&quot;</td><td>&quot;93.99&quot;</td><td>&quot;93.17&quot;</td><td>&quot;90.59&quot;</td><td>&quot;90.92&quot;</td><td>&quot;91.39&quot;</td><td>null</td><td>9716</td><td>null</td><td>2019-01-27</td><td>&quot;CIRUGÍA CARDIO…</td><td>14683</td><td>&quot;1&quot;</td><td>51071</td><td>2.5592</td><td>1</td><td>2</td><td>&quot;HOSPITAL BARRO…</td><td>11d</td><td>2019</td></tr><tr><td>112103</td><td>1137216</td><td>&quot;MUJER&quot;</td><td>1955-10-15</td><td>&quot;NINGUNO&quot;</td><td>&quot;SANTIAGO&quot;</td><td>&quot;PEÑALOLÉN&quot;</td><td>&quot;CHILE&quot;</td><td>&quot;FONASA INSTITU…</td><td>&quot;METROPOLITANO …</td><td>&quot;CENTRO ESPECIA…</td><td>&quot;PROGRAMADA&quot;</td><td>&quot;CARDIOLOGÍA&quot;</td><td>&quot;HOSPITALIZACIÓ…</td><td>2019-02-04</td><td>&quot;CIRUGÍA CARDIO…</td><td>null</td><td>null</td><td>null</td><td>null</td><td>null</td><td>null</td><td>null</td><td>null</td><td>null</td><td>null</td><td>null</td><td>null</td><td>null</td><td>null</td><td>null</td><td>null</td><td>null</td><td>null</td><td>2019-02-05</td><td>&quot;CIRUGÍA CARDIO…</td><td>&quot;DOMICILIO&quot;</td><td>&hellip;</td><td>&quot;99.19&quot;</td><td>&quot;99.29&quot;</td><td>&quot;89.54&quot;</td><td>&quot;93.96&quot;</td><td>null</td><td>null</td><td>null</td><td>null</td><td>null</td><td>null</td><td>null</td><td>null</td><td>null</td><td>null</td><td>null</td><td>null</td><td>null</td><td>null</td><td>null</td><td>null</td><td>null</td><td>null</td><td>null</td><td>null</td><td>null</td><td>null</td><td>null</td><td>null</td><td>11991</td><td>&quot;2&quot;</td><td>51401</td><td>1.7184</td><td>1</td><td>1</td><td>null</td><td>1d</td><td>2019</td></tr><tr><td>112103</td><td>665546</td><td>&quot;HOMBRE&quot;</td><td>1949-08-23</td><td>&quot;NINGUNO&quot;</td><td>&quot;ELQUI&quot;</td><td>&quot;COQUIMBO&quot;</td><td>&quot;CHILE&quot;</td><td>&quot;FONASA INSTITU…</td><td>&quot;COQUIMBO&quot;</td><td>&quot;CENTRO ESPECIA…</td><td>&quot;PROGRAMADA&quot;</td><td>&quot;CARDIOLOGÍA&quot;</td><td>&quot;HOSPITALIZACIÓ…</td><td>2019-02-05</td><td>&quot;UNIDAD DE TRAT…</td><td>null</td><td>null</td><td>null</td><td>null</td><td>null</td><td>null</td><td>null</td><td>null</td><td>null</td><td>null</td><td>null</td><td>null</td><td>null</td><td>null</td><td>null</td><td>null</td><td>null</td><td>null</td><td>2019-02-06</td><td>&quot;UNIDAD DE TRAT…</td><td>&quot;DOMICILIO&quot;</td><td>&hellip;</td><td>&quot;88.53&quot;</td><td>&quot;99.19&quot;</td><td>&quot;99.29&quot;</td><td>&quot;89.54&quot;</td><td>&quot;93.96&quot;</td><td>&quot;90.59&quot;</td><td>null</td><td>null</td><td>null</td><td>null</td><td>null</td><td>null</td><td>null</td><td>null</td><td>null</td><td>null</td><td>null</td><td>null</td><td>null</td><td>null</td><td>null</td><td>null</td><td>null</td><td>null</td><td>null</td><td>null</td><td>null</td><td>null</td><td>11991</td><td>&quot;2&quot;</td><td>51401</td><td>1.7184</td><td>1</td><td>2</td><td>null</td><td>1d</td><td>2019</td></tr><tr><td>112103</td><td>900579</td><td>&quot;MUJER&quot;</td><td>1946-07-13</td><td>&quot;NINGUNO&quot;</td><td>&quot;ELQUI&quot;</td><td>&quot;COQUIMBO&quot;</td><td>&quot;CHILE&quot;</td><td>&quot;FONASA INSTITU…</td><td>&quot;COQUIMBO&quot;</td><td>&quot;CENTRO ESPECIA…</td><td>&quot;PROGRAMADA&quot;</td><td>&quot;CARDIOLOGÍA&quot;</td><td>&quot;HOSPITALIZACIÓ…</td><td>2019-03-27</td><td>&quot;CIRUGÍA CARDIO…</td><td>null</td><td>null</td><td>null</td><td>null</td><td>null</td><td>null</td><td>null</td><td>null</td><td>null</td><td>null</td><td>null</td><td>null</td><td>null</td><td>null</td><td>null</td><td>null</td><td>null</td><td>null</td><td>2019-03-28</td><td>&quot;CIRUGÍA CARDIO…</td><td>&quot;DOMICILIO&quot;</td><td>&hellip;</td><td>&quot;99.19&quot;</td><td>&quot;99.29&quot;</td><td>&quot;89.54&quot;</td><td>&quot;93.96&quot;</td><td>null</td><td>null</td><td>null</td><td>null</td><td>null</td><td>null</td><td>null</td><td>null</td><td>null</td><td>null</td><td>null</td><td>null</td><td>null</td><td>null</td><td>null</td><td>null</td><td>null</td><td>null</td><td>null</td><td>null</td><td>null</td><td>null</td><td>null</td><td>null</td><td>11991</td><td>&quot;2&quot;</td><td>51402</td><td>1.8183</td><td>2</td><td>3</td><td>null</td><td>1d</td><td>2019</td></tr><tr><td>112103</td><td>1135811</td><td>&quot;HOMBRE&quot;</td><td>1962-07-10</td><td>&quot;NINGUNO&quot;</td><td>&quot;SANTIAGO&quot;</td><td>&quot;QUINTA NORMAL&quot;</td><td>&quot;CHILE&quot;</td><td>&quot;FONASA INSTITU…</td><td>&quot;METROPOLITANO …</td><td>&quot;CENTRO ESPECIA…</td><td>&quot;PROGRAMADA&quot;</td><td>&quot;CARDIOLOGÍA&quot;</td><td>&quot;HOSPITALIZACIÓ…</td><td>2019-03-26</td><td>&quot;AREA MÉDICA&quot;</td><td>null</td><td>null</td><td>null</td><td>null</td><td>null</td><td>null</td><td>null</td><td>null</td><td>null</td><td>null</td><td>null</td><td>null</td><td>null</td><td>null</td><td>null</td><td>null</td><td>null</td><td>null</td><td>2019-03-29</td><td>&quot;AREA MÉDICA&quot;</td><td>&quot;DOMICILIO&quot;</td><td>&hellip;</td><td>&quot;37.22&quot;</td><td>&quot;93.96&quot;</td><td>&quot;89.54&quot;</td><td>&quot;99.19&quot;</td><td>&quot;99.26&quot;</td><td>&quot;99.29&quot;</td><td>&quot;90.59&quot;</td><td>null</td><td>null</td><td>null</td><td>null</td><td>null</td><td>null</td><td>null</td><td>null</td><td>null</td><td>null</td><td>null</td><td>null</td><td>null</td><td>null</td><td>null</td><td>null</td><td>null</td><td>null</td><td>null</td><td>null</td><td>null</td><td>2767</td><td>&quot;2&quot;</td><td>51401</td><td>1.7184</td><td>1</td><td>1</td><td>null</td><td>3d</td><td>2019</td></tr><tr><td>112103</td><td>911109</td><td>&quot;HOMBRE&quot;</td><td>1957-07-06</td><td>&quot;NINGUNO&quot;</td><td>&quot;ARICA&quot;</td><td>&quot;ARICA&quot;</td><td>&quot;CHILE&quot;</td><td>&quot;FONASA INSTITU…</td><td>&quot;ARICA&quot;</td><td>&quot;OTROS HOSPITAL…</td><td>&quot;URGENCIA&quot;</td><td>&quot;CARDIOLOGÍA&quot;</td><td>&quot;HOSPITALIZACIÓ…</td><td>2019-03-28</td><td>&quot;AREA MÉDICA&quot;</td><td>null</td><td>null</td><td>null</td><td>null</td><td>null</td><td>null</td><td>null</td><td>null</td><td>null</td><td>null</td><td>null</td><td>null</td><td>null</td><td>null</td><td>null</td><td>null</td><td>null</td><td>null</td><td>2019-03-30</td><td>&quot;AREA MÉDICA&quot;</td><td>&quot;DOMICILIO&quot;</td><td>&hellip;</td><td>&quot;93.96&quot;</td><td>&quot;89.52&quot;</td><td>&quot;89.54&quot;</td><td>&quot;99.19&quot;</td><td>&quot;99.29&quot;</td><td>&quot;90.59&quot;</td><td>&quot;90.92&quot;</td><td>null</td><td>null</td><td>null</td><td>null</td><td>null</td><td>null</td><td>null</td><td>null</td><td>null</td><td>null</td><td>null</td><td>null</td><td>null</td><td>null</td><td>null</td><td>null</td><td>null</td><td>null</td><td>null</td><td>null</td><td>null</td><td>17797</td><td>&quot;2&quot;</td><td>51402</td><td>1.8183</td><td>2</td><td>2</td><td>&quot;HOSPITAL DR. J…</td><td>2d</td><td>2019</td></tr><tr><td>112103</td><td>1445980</td><td>&quot;MUJER&quot;</td><td>1955-07-14</td><td>&quot;NINGUNO&quot;</td><td>&quot;SANTIAGO&quot;</td><td>&quot;SAN RAMÓN&quot;</td><td>&quot;CHILE&quot;</td><td>&quot;FONASA INSTITU…</td><td>&quot;METROPOLITANO …</td><td>&quot;APS CONSULTORI…</td><td>&quot;PROGRAMADA&quot;</td><td>&quot;CARDIOLOGÍA&quot;</td><td>&quot;HOSPITALIZACIÓ…</td><td>2019-03-01</td><td>&quot;UNIDAD DE RECU…</td><td>null</td><td>null</td><td>null</td><td>null</td><td>null</td><td>null</td><td>null</td><td>null</td><td>null</td><td>null</td><td>null</td><td>null</td><td>null</td><td>null</td><td>null</td><td>null</td><td>null</td><td>null</td><td>2019-03-01</td><td>&quot;UNIDAD DE RECU…</td><td>&quot;DOMICILIO&quot;</td><td>&hellip;</td><td>&quot;37.22&quot;</td><td>&quot;93.96&quot;</td><td>&quot;99.19&quot;</td><td>&quot;99.29&quot;</td><td>&quot;89.54&quot;</td><td>null</td><td>null</td><td>null</td><td>null</td><td>null</td><td>null</td><td>null</td><td>null</td><td>null</td><td>null</td><td>null</td><td>null</td><td>null</td><td>null</td><td>null</td><td>null</td><td>null</td><td>null</td><td>null</td><td>null</td><td>null</td><td>null</td><td>null</td><td>11991</td><td>&quot;2&quot;</td><td>52420</td><td>1.7114</td><td>0</td><td>0</td><td>null</td><td>0ms</td><td>2019</td></tr><tr><td>112103</td><td>371404</td><td>&quot;HOMBRE&quot;</td><td>1939-09-08</td><td>&quot;NINGUNO&quot;</td><td>&quot;IQUIQUE&quot;</td><td>&quot;IQUIQUE&quot;</td><td>&quot;CHILE&quot;</td><td>&quot;FONASA INSTITU…</td><td>&quot;IQUIQUE&quot;</td><td>&quot;OTROS HOSPITAL…</td><td>&quot;PROGRAMADA&quot;</td><td>&quot;CIRUGÍA CARDIO…</td><td>&quot;HOSPITALIZACIÓ…</td><td>2019-07-30</td><td>&quot;CIRUGÍA CARDIO…</td><td>null</td><td>null</td><td>null</td><td>null</td><td>null</td><td>null</td><td>null</td><td>null</td><td>null</td><td>null</td><td>null</td><td>null</td><td>null</td><td>null</td><td>null</td><td>null</td><td>null</td><td>null</td><td>2019-07-31</td><td>&quot;CIRUGÍA CARDIO…</td><td>&quot;DOMICILIO&quot;</td><td>&hellip;</td><td>null</td><td>null</td><td>null</td><td>null</td><td>null</td><td>null</td><td>null</td><td>null</td><td>null</td><td>null</td><td>null</td><td>null</td><td>null</td><td>null</td><td>null</td><td>null</td><td>null</td><td>null</td><td>null</td><td>null</td><td>null</td><td>null</td><td>null</td><td>null</td><td>null</td><td>null</td><td>null</td><td>null</td><td>15078</td><td>null</td><td>54162</td><td>0.5192</td><td>2</td><td>2</td><td>&quot;HOSPITAL DR. E…</td><td>1d</td><td>2019</td></tr><tr><td>112103</td><td>145703</td><td>&quot;HOMBRE&quot;</td><td>1938-12-05</td><td>&quot;NINGUNO&quot;</td><td>&quot;ELQUI&quot;</td><td>&quot;COQUIMBO&quot;</td><td>&quot;CHILE&quot;</td><td>&quot;FONASA INSTITU…</td><td>&quot;COQUIMBO&quot;</td><td>&quot;OTROS HOSPITAL…</td><td>&quot;PROGRAMADA&quot;</td><td>&quot;CARDIOLOGÍA&quot;</td><td>&quot;HOSPITALIZACIÓ…</td><td>2019-01-21</td><td>&quot;CIRUGÍA CARDIO…</td><td>null</td><td>null</td><td>null</td><td>null</td><td>null</td><td>null</td><td>null</td><td>null</td><td>null</td><td>null</td><td>null</td><td>null</td><td>null</td><td>null</td><td>null</td><td>null</td><td>null</td><td>null</td><td>2019-01-23</td><td>&quot;CIRUGÍA CARDIO…</td><td>&quot;DOMICILIO&quot;</td><td>&hellip;</td><td>&quot;88.42&quot;</td><td>&quot;37.22&quot;</td><td>&quot;93.96&quot;</td><td>&quot;99.19&quot;</td><td>&quot;99.29&quot;</td><td>&quot;89.54&quot;</td><td>null</td><td>null</td><td>null</td><td>null</td><td>null</td><td>null</td><td>null</td><td>null</td><td>null</td><td>null</td><td>null</td><td>null</td><td>null</td><td>null</td><td>null</td><td>null</td><td>null</td><td>null</td><td>null</td><td>null</td><td>null</td><td>null</td><td>11991</td><td>&quot;2&quot;</td><td>51402</td><td>1.8183</td><td>2</td><td>2</td><td>&quot;HOSPITAL SAN P…</td><td>2d</td><td>2019</td></tr><tr><td>112103</td><td>609443</td><td>&quot;HOMBRE&quot;</td><td>1953-12-11</td><td>&quot;NINGUNO&quot;</td><td>&quot;SANTIAGO&quot;</td><td>&quot;LAS CONDES&quot;</td><td>&quot;CHILE&quot;</td><td>&quot;FONASA INSTITU…</td><td>&quot;METROPOLITANO …</td><td>&quot;CENTRO ESPECIA…</td><td>&quot;PROGRAMADA&quot;</td><td>&quot;CARDIOLOGÍA&quot;</td><td>&quot;HOSPITALIZACIÓ…</td><td>2019-01-22</td><td>&quot;UNIDAD DE TRAT…</td><td>null</td><td>null</td><td>null</td><td>null</td><td>null</td><td>null</td><td>null</td><td>null</td><td>null</td><td>null</td><td>null</td><td>null</td><td>null</td><td>null</td><td>null</td><td>null</td><td>null</td><td>null</td><td>2019-01-24</td><td>&quot;UNIDAD DE TRAT…</td><td>&quot;DOMICILIO&quot;</td><td>&hellip;</td><td>&quot;36.09&quot;</td><td>&quot;99.19&quot;</td><td>&quot;99.26&quot;</td><td>&quot;99.29&quot;</td><td>&quot;89.54&quot;</td><td>&quot;93.96&quot;</td><td>null</td><td>null</td><td>null</td><td>null</td><td>null</td><td>null</td><td>null</td><td>null</td><td>null</td><td>null</td><td>null</td><td>null</td><td>null</td><td>null</td><td>null</td><td>null</td><td>null</td><td>null</td><td>null</td><td>null</td><td>null</td><td>null</td><td>4037</td><td>&quot;2&quot;</td><td>51402</td><td>1.8183</td><td>2</td><td>2</td><td>null</td><td>2d</td><td>2019</td></tr><tr><td>112103</td><td>370373</td><td>&quot;HOMBRE&quot;</td><td>1969-03-02</td><td>&quot;NINGUNO&quot;</td><td>&quot;COIHAIQUE&quot;</td><td>&quot;COIHAIQUE&quot;</td><td>&quot;CHILE&quot;</td><td>&quot;FONASA INSTITU…</td><td>&quot;AYSEN&quot;</td><td>&quot;OTROS HOSPITAL…</td><td>&quot;PROGRAMADA&quot;</td><td>&quot;CARDIOLOGÍA&quot;</td><td>&quot;HOSPITALIZACIÓ…</td><td>2019-03-16</td><td>&quot;AREA MÉDICA&quot;</td><td>null</td><td>null</td><td>null</td><td>null</td><td>null</td><td>null</td><td>null</td><td>null</td><td>null</td><td>null</td><td>null</td><td>null</td><td>null</td><td>null</td><td>null</td><td>null</td><td>null</td><td>null</td><td>2019-03-16</td><td>&quot;AREA MÉDICA&quot;</td><td>&quot;DOMICILIO&quot;</td><td>&hellip;</td><td>&quot;37.22&quot;</td><td>&quot;93.96&quot;</td><td>&quot;99.19&quot;</td><td>&quot;99.29&quot;</td><td>&quot;89.52&quot;</td><td>&quot;89.54&quot;</td><td>null</td><td>null</td><td>null</td><td>null</td><td>null</td><td>null</td><td>null</td><td>null</td><td>null</td><td>null</td><td>null</td><td>null</td><td>null</td><td>null</td><td>null</td><td>null</td><td>null</td><td>null</td><td>null</td><td>null</td><td>null</td><td>null</td><td>972</td><td>&quot;2&quot;</td><td>51401</td><td>1.7184</td><td>1</td><td>2</td><td>&quot;HOSPITAL REGIO…</td><td>0ms</td><td>2019</td></tr><tr><td>&hellip;</td><td>&hellip;</td><td>&hellip;</td><td>&hellip;</td><td>&hellip;</td><td>&hellip;</td><td>&hellip;</td><td>&hellip;</td><td>&hellip;</td><td>&hellip;</td><td>&hellip;</td><td>&hellip;</td><td>&hellip;</td><td>&hellip;</td><td>&hellip;</td><td>&hellip;</td><td>&hellip;</td><td>&hellip;</td><td>&hellip;</td><td>&hellip;</td><td>&hellip;</td><td>&hellip;</td><td>&hellip;</td><td>&hellip;</td><td>&hellip;</td><td>&hellip;</td><td>&hellip;</td><td>&hellip;</td><td>&hellip;</td><td>&hellip;</td><td>&hellip;</td><td>&hellip;</td><td>&hellip;</td><td>&hellip;</td><td>&hellip;</td><td>&hellip;</td><td>&hellip;</td><td>&hellip;</td><td>&hellip;</td><td>&hellip;</td><td>&hellip;</td><td>&hellip;</td><td>&hellip;</td><td>&hellip;</td><td>&hellip;</td><td>&hellip;</td><td>&hellip;</td><td>&hellip;</td><td>&hellip;</td><td>&hellip;</td><td>&hellip;</td><td>&hellip;</td><td>&hellip;</td><td>&hellip;</td><td>&hellip;</td><td>&hellip;</td><td>&hellip;</td><td>&hellip;</td><td>&hellip;</td><td>&hellip;</td><td>&hellip;</td><td>&hellip;</td><td>&hellip;</td><td>&hellip;</td><td>&hellip;</td><td>&hellip;</td><td>&hellip;</td><td>&hellip;</td><td>&hellip;</td><td>&hellip;</td><td>&hellip;</td><td>&hellip;</td><td>&hellip;</td><td>&hellip;</td><td>&hellip;</td></tr><tr><td>112103</td><td>68898991</td><td>&quot;HOMBRE&quot;</td><td>1961-02-04</td><td>&quot;NINGUNO&quot;</td><td>&quot;SANTIAGO&quot;</td><td>&quot;LO ESPEJO&quot;</td><td>&quot;CHILE&quot;</td><td>&quot;FONASA INSTITU…</td><td>&quot;METROPOLITANO …</td><td>&quot;CENTRO ESPECIA…</td><td>&quot;PROGRAMADA&quot;</td><td>&quot;CIRUGÍA CARDIO…</td><td>&quot;HOSPITALIZACIÓ…</td><td>2021-12-21</td><td>&quot;AREA MEDICA AD…</td><td>2021-12-22</td><td>&quot;UNIDAD DE CUID…</td><td>2021-12-24</td><td>&quot;UNIDAD DE TRAT…</td><td>null</td><td>null</td><td>null</td><td>null</td><td>null</td><td>null</td><td>null</td><td>null</td><td>null</td><td>null</td><td>null</td><td>null</td><td>null</td><td>null</td><td>2021-12-30</td><td>&quot;UNIDAD DE TRAT…</td><td>&quot;DOMICILIO&quot;</td><td>&hellip;</td><td>&quot;96.71&quot;</td><td>&quot;96.04&quot;</td><td>&quot;38.93&quot;</td><td>&quot;38.91&quot;</td><td>&quot;57.94&quot;</td><td>&quot;89.54&quot;</td><td>&quot;89.61&quot;</td><td>&quot;89.62&quot;</td><td>&quot;88.72&quot;</td><td>&quot;42.23&quot;</td><td>&quot;99.21&quot;</td><td>&quot;99.19&quot;</td><td>&quot;99.29&quot;</td><td>&quot;87.41&quot;</td><td>&quot;87.44&quot;</td><td>&quot;93.99&quot;</td><td>&quot;93.17&quot;</td><td>&quot;90.59&quot;</td><td>null</td><td>null</td><td>null</td><td>null</td><td>null</td><td>null</td><td>87519465</td><td>null</td><td>2021-12-22</td><td>&quot;CIRUGÍA CARDIO…</td><td>87519465</td><td>&quot;1&quot;</td><td>51072</td><td>2.8145</td><td>2</td><td>2</td><td>null</td><td>9d</td><td>2021</td></tr><tr><td>112103</td><td>98217744</td><td>&quot;HOMBRE&quot;</td><td>1981-09-04</td><td>&quot;NINGUNO&quot;</td><td>&quot;SANTIAGO&quot;</td><td>&quot;SANTIAGO&quot;</td><td>&quot;VENEZUELA (REP…</td><td>&quot;FONASA INSTITU…</td><td>&quot;METROPOLITANO …</td><td>&quot;OTROS HOSPITAL…</td><td>&quot;URGENCIA&quot;</td><td>&quot;CIRUGÍA DE TÓR…</td><td>&quot;HOSPITALIZACIÓ…</td><td>2021-11-15</td><td>&quot;UNIDAD DE CUID…</td><td>2021-11-21</td><td>&quot;UNIDAD DE TRAT…</td><td>2021-12-15</td><td>&quot;UNIDAD DE CUID…</td><td>2021-12-17</td><td>&quot;UNIDAD DE CUID…</td><td>null</td><td>null</td><td>null</td><td>null</td><td>null</td><td>null</td><td>null</td><td>null</td><td>null</td><td>null</td><td>null</td><td>null</td><td>2021-12-20</td><td>&quot;UNIDAD DE CUID…</td><td>&quot;DOMICILIO&quot;</td><td>&hellip;</td><td>&quot;96.71&quot;</td><td>&quot;93.90&quot;</td><td>&quot;89.54&quot;</td><td>&quot;88.72&quot;</td><td>&quot;42.23&quot;</td><td>&quot;89.52&quot;</td><td>&quot;00.17&quot;</td><td>&quot;99.21&quot;</td><td>&quot;99.17&quot;</td><td>&quot;99.26&quot;</td><td>&quot;99.29&quot;</td><td>&quot;87.41&quot;</td><td>&quot;88.43&quot;</td><td>&quot;87.44&quot;</td><td>&quot;93.99&quot;</td><td>&quot;93.17&quot;</td><td>&quot;89.65&quot;</td><td>&quot;91.39&quot;</td><td>&quot;91.32&quot;</td><td>&quot;90.59&quot;</td><td>null</td><td>null</td><td>null</td><td>null</td><td>79254065</td><td>null</td><td>2021-12-15</td><td>&quot;CIRUGÍA CARDIO…</td><td>75560503</td><td>&quot;1&quot;</td><td>51073</td><td>3.9336</td><td>3</td><td>3</td><td>&quot;HOSPITAL DE UR…</td><td>35d</td><td>2021</td></tr><tr><td>112103</td><td>74127935</td><td>&quot;HOMBRE&quot;</td><td>1952-11-22</td><td>&quot;NINGUNO&quot;</td><td>&quot;SANTIAGO&quot;</td><td>&quot;PEÑALOLÉN&quot;</td><td>&quot;CHILE&quot;</td><td>&quot;FONASA INSTITU…</td><td>&quot;METROPOLITANO …</td><td>&quot;CENTRO ESPECIA…</td><td>&quot;PROGRAMADA&quot;</td><td>&quot;CIRUGÍA CARDIO…</td><td>&quot;HOSPITALIZACIÓ…</td><td>2021-02-03</td><td>&quot;AREA MEDICA AD…</td><td>2021-02-04</td><td>&quot;AREA MEDICO-QU…</td><td>2021-02-08</td><td>&quot;UNIDAD DE CUID…</td><td>2021-02-10</td><td>&quot;UNIDAD DE TRAT…</td><td>2021-02-11</td><td>&quot;AREA MEDICO-QU…</td><td>null</td><td>null</td><td>null</td><td>null</td><td>null</td><td>null</td><td>null</td><td>null</td><td>null</td><td>null</td><td>2021-02-18</td><td>&quot;AREA MEDICO-QU…</td><td>&quot;DOMICILIO&quot;</td><td>&hellip;</td><td>&quot;88.72&quot;</td><td>&quot;42.23&quot;</td><td>&quot;34.04&quot;</td><td>&quot;88.56&quot;</td><td>&quot;88.53&quot;</td><td>&quot;37.22&quot;</td><td>&quot;38.91&quot;</td><td>&quot;38.93&quot;</td><td>&quot;57.94&quot;</td><td>&quot;87.44&quot;</td><td>&quot;00.17&quot;</td><td>&quot;99.19&quot;</td><td>&quot;99.29&quot;</td><td>&quot;90.59&quot;</td><td>&quot;89.65&quot;</td><td>&quot;89.52&quot;</td><td>&quot;91.39&quot;</td><td>&quot;93.17&quot;</td><td>&quot;93.99&quot;</td><td>&quot;97.41&quot;</td><td>&quot;97.42&quot;</td><td>null</td><td>null</td><td>null</td><td>80105488</td><td>null</td><td>2021-02-08</td><td>&quot;CIRUGÍA CARDIO…</td><td>80105488</td><td>&quot;1&quot;</td><td>51053</td><td>5.3531</td><td>3</td><td>2</td><td>null</td><td>15d</td><td>2021</td></tr><tr><td>112103</td><td>85871062</td><td>&quot;HOMBRE&quot;</td><td>1971-01-02</td><td>&quot;NINGUNO&quot;</td><td>&quot;SANTIAGO&quot;</td><td>&quot;CERRO NAVIA&quot;</td><td>&quot;CHILE&quot;</td><td>&quot;FONASA INSTITU…</td><td>&quot;METROPOLITANO …</td><td>&quot;OTROS HOSPITAL…</td><td>&quot;PROGRAMADA&quot;</td><td>&quot;CARDIOLOGÍA&quot;</td><td>&quot;HOSPITALIZACIÓ…</td><td>2021-11-10</td><td>&quot;AREA MEDICA AD…</td><td>null</td><td>null</td><td>null</td><td>null</td><td>null</td><td>null</td><td>null</td><td>null</td><td>null</td><td>null</td><td>null</td><td>null</td><td>null</td><td>null</td><td>null</td><td>null</td><td>null</td><td>null</td><td>2021-11-11</td><td>&quot;AREA MEDICA AD…</td><td>&quot;DOMICILIO&quot;</td><td>&hellip;</td><td>&quot;89.54&quot;</td><td>null</td><td>null</td><td>null</td><td>null</td><td>null</td><td>null</td><td>null</td><td>null</td><td>null</td><td>null</td><td>null</td><td>null</td><td>null</td><td>null</td><td>null</td><td>null</td><td>null</td><td>null</td><td>null</td><td>null</td><td>null</td><td>null</td><td>null</td><td>null</td><td>null</td><td>null</td><td>null</td><td>74769100</td><td>&quot;2&quot;</td><td>51402</td><td>1.8183</td><td>2</td><td>1</td><td>&quot;HOSPITAL CLAUD…</td><td>1d</td><td>2021</td></tr><tr><td>112103</td><td>73694283</td><td>&quot;HOMBRE&quot;</td><td>1961-09-02</td><td>&quot;NINGUNO&quot;</td><td>&quot;MAGALLANES&quot;</td><td>&quot;PUNTA ARENAS&quot;</td><td>&quot;CHILE&quot;</td><td>&quot;FONASA INSTITU…</td><td>&quot;MAGALLANES&quot;</td><td>&quot;OTROS HOSPITAL…</td><td>&quot;PROGRAMADA&quot;</td><td>&quot;CIRUGÍA CARDIO…</td><td>&quot;HOSPITALIZACIÓ…</td><td>2021-09-30</td><td>&quot;AREA MEDICO-QU…</td><td>2021-10-06</td><td>&quot;UNIDAD DE CUID…</td><td>2021-10-08</td><td>&quot;UNIDAD DE TRAT…</td><td>2021-10-13</td><td>&quot;AREA MEDICA AD…</td><td>null</td><td>null</td><td>null</td><td>null</td><td>null</td><td>null</td><td>null</td><td>null</td><td>null</td><td>null</td><td>null</td><td>null</td><td>2021-10-21</td><td>&quot;AREA MEDICA AD…</td><td>&quot;DOMICILIO&quot;</td><td>&hellip;</td><td>&quot;38.93&quot;</td><td>&quot;38.91&quot;</td><td>&quot;57.94&quot;</td><td>&quot;89.54&quot;</td><td>&quot;89.62&quot;</td><td>&quot;88.72&quot;</td><td>&quot;42.23&quot;</td><td>&quot;99.17&quot;</td><td>&quot;99.21&quot;</td><td>&quot;99.19&quot;</td><td>&quot;99.18&quot;</td><td>&quot;99.29&quot;</td><td>&quot;87.44&quot;</td><td>&quot;93.99&quot;</td><td>&quot;93.17&quot;</td><td>&quot;90.59&quot;</td><td>null</td><td>null</td><td>null</td><td>null</td><td>null</td><td>null</td><td>null</td><td>null</td><td>79254065</td><td>null</td><td>2021-10-06</td><td>&quot;CIRUGÍA CARDIO…</td><td>79766206</td><td>&quot;1&quot;</td><td>51071</td><td>2.5592</td><td>1</td><td>1</td><td>&quot;HOSPITAL CLÍNI…</td><td>21d</td><td>2021</td></tr><tr><td>112103</td><td>81569896</td><td>&quot;HOMBRE&quot;</td><td>1962-01-01</td><td>&quot;NINGUNO&quot;</td><td>&quot;MAIPO&quot;</td><td>&quot;SAN BERNARDO&quot;</td><td>&quot;CHILE&quot;</td><td>&quot;FONASA INSTITU…</td><td>&quot;METROPOLITANO …</td><td>&quot;CENTRO ESPECIA…</td><td>&quot;PROGRAMADA&quot;</td><td>&quot;CIRUGÍA CARDIO…</td><td>&quot;HOSPITALIZACIÓ…</td><td>2021-06-17</td><td>&quot;AREA MEDICO-QU…</td><td>2021-06-18</td><td>&quot;UNIDAD DE CUID…</td><td>null</td><td>null</td><td>null</td><td>null</td><td>null</td><td>null</td><td>null</td><td>null</td><td>null</td><td>null</td><td>null</td><td>null</td><td>null</td><td>null</td><td>null</td><td>null</td><td>2021-06-22</td><td>&quot;UNIDAD DE CUID…</td><td>&quot;DOMICILIO&quot;</td><td>&hellip;</td><td>&quot;88.72&quot;</td><td>&quot;87.41&quot;</td><td>&quot;87.44&quot;</td><td>&quot;38.91&quot;</td><td>&quot;38.93&quot;</td><td>&quot;38.91&quot;</td><td>&quot;38.93&quot;</td><td>&quot;57.94&quot;</td><td>&quot;00.17&quot;</td><td>&quot;99.21&quot;</td><td>&quot;99.19&quot;</td><td>&quot;99.29&quot;</td><td>&quot;99.07&quot;</td><td>&quot;93.17&quot;</td><td>&quot;93.99&quot;</td><td>&quot;97.41&quot;</td><td>&quot;89.65&quot;</td><td>&quot;90.59&quot;</td><td>&quot;89.54&quot;</td><td>null</td><td>null</td><td>null</td><td>null</td><td>null</td><td>87519465</td><td>null</td><td>2021-06-18</td><td>&quot;CIRUGÍA CARDIO…</td><td>87519465</td><td>&quot;1&quot;</td><td>51073</td><td>3.9336</td><td>3</td><td>3</td><td>null</td><td>5d</td><td>2021</td></tr><tr><td>112103</td><td>68467033</td><td>&quot;HOMBRE&quot;</td><td>1959-07-07</td><td>&quot;NINGUNO&quot;</td><td>&quot;SANTIAGO&quot;</td><td>&quot;PROVIDENCIA&quot;</td><td>&quot;CHILE&quot;</td><td>&quot;FONASA INSTITU…</td><td>&quot;METROPOLITANO …</td><td>&quot;OTROS HOSPITAL…</td><td>&quot;PROGRAMADA&quot;</td><td>&quot;CIRUGÍA CARDIO…</td><td>&quot;HOSPITALIZACIÓ…</td><td>2021-02-24</td><td>&quot;AREA MEDICO-QU…</td><td>2021-03-02</td><td>&quot;UNIDAD DE CUID…</td><td>2021-03-05</td><td>&quot;AREA MEDICO-QU…</td><td>null</td><td>null</td><td>null</td><td>null</td><td>null</td><td>null</td><td>null</td><td>null</td><td>null</td><td>null</td><td>null</td><td>null</td><td>null</td><td>null</td><td>2021-03-07</td><td>&quot;AREA MEDICO-QU…</td><td>&quot;DOMICILIO&quot;</td><td>&hellip;</td><td>&quot;88.72&quot;</td><td>&quot;87.44&quot;</td><td>&quot;38.91&quot;</td><td>&quot;38.93&quot;</td><td>&quot;57.94&quot;</td><td>&quot;99.17&quot;</td><td>&quot;00.17&quot;</td><td>&quot;99.21&quot;</td><td>&quot;93.96&quot;</td><td>&quot;99.29&quot;</td><td>&quot;93.17&quot;</td><td>&quot;93.99&quot;</td><td>&quot;90.59&quot;</td><td>&quot;91.39&quot;</td><td>&quot;89.52&quot;</td><td>&quot;89.54&quot;</td><td>&quot;89.65&quot;</td><td>&quot;97.41&quot;</td><td>&quot;97.42&quot;</td><td>null</td><td>null</td><td>null</td><td>null</td><td>null</td><td>76708282</td><td>null</td><td>2021-03-02</td><td>&quot;CIRUGÍA CARDIO…</td><td>76708282</td><td>&quot;1&quot;</td><td>51073</td><td>3.9336</td><td>3</td><td>3</td><td>&quot;HOSPITAL DEL S…</td><td>11d</td><td>2021</td></tr><tr><td>112103</td><td>87695925</td><td>&quot;HOMBRE&quot;</td><td>1965-09-23</td><td>&quot;NINGUNO&quot;</td><td>&quot;SANTIAGO&quot;</td><td>&quot;PEÑALOLÉN&quot;</td><td>&quot;CHILE&quot;</td><td>&quot;FONASA INSTITU…</td><td>&quot;METROPOLITANO …</td><td>&quot;APS URGENCIA (…</td><td>&quot;URGENCIA&quot;</td><td>&quot;CARDIOLOGÍA&quot;</td><td>&quot;HOSPITALIZACIÓ…</td><td>2021-09-16</td><td>&quot;UNIDAD DE CUID…</td><td>2021-09-21</td><td>&quot;UNIDAD DE TRAT…</td><td>null</td><td>null</td><td>null</td><td>null</td><td>null</td><td>null</td><td>null</td><td>null</td><td>null</td><td>null</td><td>null</td><td>null</td><td>null</td><td>null</td><td>null</td><td>null</td><td>2021-09-27</td><td>&quot;UNIDAD DE TRAT…</td><td>&quot;DOMICILIO&quot;</td><td>&hellip;</td><td>&quot;00.17&quot;</td><td>&quot;99.21&quot;</td><td>&quot;99.19&quot;</td><td>&quot;99.29&quot;</td><td>&quot;89.08&quot;</td><td>&quot;90.59&quot;</td><td>&quot;89.65&quot;</td><td>&quot;89.52&quot;</td><td>&quot;89.54&quot;</td><td>&quot;93.17&quot;</td><td>&quot;93.99&quot;</td><td>null</td><td>null</td><td>null</td><td>null</td><td>null</td><td>null</td><td>null</td><td>null</td><td>null</td><td>null</td><td>null</td><td>null</td><td>null</td><td>null</td><td>null</td><td>null</td><td>null</td><td>69049898</td><td>&quot;2&quot;</td><td>51403</td><td>2.484</td><td>3</td><td>3</td><td>null</td><td>11d</td><td>2021</td></tr><tr><td>112103</td><td>87447003</td><td>&quot;HOMBRE&quot;</td><td>1956-01-27</td><td>&quot;NINGUNO&quot;</td><td>&quot;SANTIAGO&quot;</td><td>&quot;SAN JOAQUÍN&quot;</td><td>&quot;CHILE&quot;</td><td>&quot;FONASA INSTITU…</td><td>&quot;METROPOLITANO …</td><td>&quot;CENTRO ESPECIA…</td><td>&quot;PROGRAMADA&quot;</td><td>&quot;CIRUGÍA CARDIO…</td><td>&quot;HOSPITALIZACIÓ…</td><td>2021-08-28</td><td>&quot;AREA MEDICA AD…</td><td>2021-08-30</td><td>&quot;UNIDAD DE CUID…</td><td>2021-09-01</td><td>&quot;UNIDAD DE TRAT…</td><td>null</td><td>null</td><td>null</td><td>null</td><td>null</td><td>null</td><td>null</td><td>null</td><td>null</td><td>null</td><td>null</td><td>null</td><td>null</td><td>null</td><td>2021-09-03</td><td>&quot;UNIDAD DE TRAT…</td><td>&quot;DOMICILIO&quot;</td><td>&hellip;</td><td>&quot;38.93&quot;</td><td>&quot;38.91&quot;</td><td>&quot;57.94&quot;</td><td>&quot;89.52&quot;</td><td>&quot;89.54&quot;</td><td>&quot;88.72&quot;</td><td>&quot;42.23&quot;</td><td>&quot;99.19&quot;</td><td>&quot;99.29&quot;</td><td>&quot;87.44&quot;</td><td>&quot;93.96&quot;</td><td>&quot;93.99&quot;</td><td>&quot;93.17&quot;</td><td>null</td><td>null</td><td>null</td><td>null</td><td>null</td><td>null</td><td>null</td><td>null</td><td>null</td><td>null</td><td>null</td><td>80105488</td><td>null</td><td>2021-08-30</td><td>&quot;CIRUGÍA CARDIO…</td><td>80105488</td><td>&quot;1&quot;</td><td>51071</td><td>2.5592</td><td>1</td><td>1</td><td>null</td><td>6d</td><td>2021</td></tr><tr><td>112103</td><td>80181731</td><td>&quot;HOMBRE&quot;</td><td>1948-05-17</td><td>&quot;NINGUNO&quot;</td><td>&quot;MAIPO&quot;</td><td>&quot;BUIN&quot;</td><td>&quot;CHILE&quot;</td><td>&quot;FONASA INSTITU…</td><td>&quot;METROPOLITANO …</td><td>&quot;OTROS HOSPITAL…</td><td>&quot;PROGRAMADA&quot;</td><td>&quot;CIRUGÍA CARDIO…</td><td>&quot;HOSPITALIZACIÓ…</td><td>2021-02-10</td><td>&quot;AREA MEDICO-QU…</td><td>2021-02-12</td><td>&quot;UNIDAD DE CUID…</td><td>2021-02-14</td><td>&quot;UNIDAD DE TRAT…</td><td>2021-02-15</td><td>&quot;AREA MEDICO-QU…</td><td>null</td><td>null</td><td>null</td><td>null</td><td>null</td><td>null</td><td>null</td><td>null</td><td>null</td><td>null</td><td>null</td><td>null</td><td>2021-02-17</td><td>&quot;AREA MEDICO-QU…</td><td>&quot;DOMICILIO&quot;</td><td>&hellip;</td><td>&quot;88.72&quot;</td><td>&quot;38.91&quot;</td><td>&quot;38.93&quot;</td><td>&quot;57.94&quot;</td><td>&quot;87.03&quot;</td><td>&quot;87.44&quot;</td><td>&quot;99.04&quot;</td><td>&quot;99.21&quot;</td><td>&quot;99.19&quot;</td><td>&quot;99.29&quot;</td><td>&quot;89.13&quot;</td><td>&quot;89.65&quot;</td><td>&quot;90.59&quot;</td><td>&quot;89.52&quot;</td><td>&quot;93.17&quot;</td><td>&quot;93.99&quot;</td><td>null</td><td>null</td><td>null</td><td>null</td><td>null</td><td>null</td><td>null</td><td>null</td><td>88081876</td><td>null</td><td>2021-02-12</td><td>&quot;CIRUGÍA CARDIO…</td><td>88081876</td><td>&quot;1&quot;</td><td>51071</td><td>2.5592</td><td>1</td><td>1</td><td>&quot;HOSPITAL BARRO…</td><td>7d</td><td>2021</td></tr><tr><td>112103</td><td>79135284</td><td>&quot;MUJER&quot;</td><td>1973-05-24</td><td>&quot;NINGUNO&quot;</td><td>&quot;SANTIAGO&quot;</td><td>&quot;SANTIAGO&quot;</td><td>&quot;CHILE&quot;</td><td>&quot;FONASA INSTITU…</td><td>&quot;METROPOLITANO …</td><td>&quot;CENTRO ESPECIA…</td><td>&quot;PROGRAMADA&quot;</td><td>&quot;CARDIOLOGÍA&quot;</td><td>&quot;HOSPITALIZACIÓ…</td><td>2021-11-19</td><td>&quot;AREA QUIRÚRGIC…</td><td>null</td><td>null</td><td>null</td><td>null</td><td>null</td><td>null</td><td>null</td><td>null</td><td>null</td><td>null</td><td>null</td><td>null</td><td>null</td><td>null</td><td>null</td><td>null</td><td>null</td><td>null</td><td>2021-11-20</td><td>&quot;AREA QUIRÚRGIC…</td><td>&quot;DOMICILIO&quot;</td><td>&hellip;</td><td>null</td><td>null</td><td>null</td><td>null</td><td>null</td><td>null</td><td>null</td><td>null</td><td>null</td><td>null</td><td>null</td><td>null</td><td>null</td><td>null</td><td>null</td><td>null</td><td>null</td><td>null</td><td>null</td><td>null</td><td>null</td><td>null</td><td>null</td><td>null</td><td>null</td><td>null</td><td>null</td><td>null</td><td>69049898</td><td>&quot;2&quot;</td><td>51153</td><td>1.7182</td><td>3</td><td>1</td><td>null</td><td>1d</td><td>2021</td></tr><tr><td>112103</td><td>73993832</td><td>&quot;HOMBRE&quot;</td><td>1978-06-17</td><td>&quot;NINGUNO&quot;</td><td>&quot;CACHAPOAL&quot;</td><td>&quot;RENGO&quot;</td><td>&quot;CHILE&quot;</td><td>&quot;FONASA INSTITU…</td><td>&quot;LIBERTADOR B. …</td><td>&quot;CENTRO ESPECIA…</td><td>&quot;PROGRAMADA&quot;</td><td>&quot;CIRUGÍA CARDIO…</td><td>&quot;HOSPITALIZACIÓ…</td><td>2021-10-26</td><td>&quot;UNIDAD DE TRAT…</td><td>2021-10-27</td><td>&quot;AREA MEDICA AD…</td><td>2021-10-29</td><td>&quot;UNIDAD DE CUID…</td><td>2021-11-09</td><td>&quot;AREA QUIRÚRGIC…</td><td>2021-11-10</td><td>&quot;UNIDAD DE CUID…</td><td>2021-11-12</td><td>&quot;UNIDAD DE TRAT…</td><td>null</td><td>null</td><td>null</td><td>null</td><td>null</td><td>null</td><td>null</td><td>null</td><td>2021-11-16</td><td>&quot;UNIDAD DE TRAT…</td><td>&quot;DOMICILIO&quot;</td><td>&hellip;</td><td>&quot;96.71&quot;</td><td>&quot;96.04&quot;</td><td>&quot;88.72&quot;</td><td>&quot;87.41&quot;</td><td>&quot;87.44&quot;</td><td>&quot;93.96&quot;</td><td>&quot;38.91&quot;</td><td>&quot;38.93&quot;</td><td>&quot;57.94&quot;</td><td>&quot;99.26&quot;</td><td>&quot;99.19&quot;</td><td>&quot;99.29&quot;</td><td>&quot;93.17&quot;</td><td>&quot;93.99&quot;</td><td>&quot;89.54&quot;</td><td>&quot;89.65&quot;</td><td>&quot;90.59&quot;</td><td>null</td><td>null</td><td>null</td><td>null</td><td>null</td><td>null</td><td>null</td><td>76708282</td><td>null</td><td>2021-11-10</td><td>&quot;CIRUGÍA CARDIO…</td><td>76708282</td><td>&quot;1&quot;</td><td>51073</td><td>3.9336</td><td>3</td><td>2</td><td>null</td><td>21d</td><td>2021</td></tr></tbody></table></div>"
      ],
      "text/plain": [
       "shape: (1_366, 131)\n",
       "┌────────────┬────────────┬────────┬────────────┬───┬────────────┬────────────┬────────┬───────────┐\n",
       "│ COD_HOSPIT ┆ CIP_ENCRIP ┆ SEXO   ┆ FECHA_NACI ┆ … ┆ IR_29301_M ┆ HOSPPROCED ┆ ESTANC ┆ ANIO_EGRE │\n",
       "│ AL         ┆ TADO       ┆ ---    ┆ MIENTO     ┆   ┆ ORTALIDAD  ┆ ENCIA      ┆ IA     ┆ SO        │\n",
       "│ ---        ┆ ---        ┆ cat    ┆ ---        ┆   ┆ ---        ┆ ---        ┆ ---    ┆ ---       │\n",
       "│ i32        ┆ i32        ┆        ┆ date       ┆   ┆ i8         ┆ str        ┆ durati ┆ i32       │\n",
       "│            ┆            ┆        ┆            ┆   ┆            ┆            ┆ on[ms] ┆           │\n",
       "╞════════════╪════════════╪════════╪════════════╪═══╪════════════╪════════════╪════════╪═══════════╡\n",
       "│ 112103     ┆ 1137216    ┆ MUJER  ┆ 1955-10-15 ┆ … ┆ 1          ┆ null       ┆ 3d     ┆ 2019      │\n",
       "│ 112103     ┆ 848224     ┆ HOMBRE ┆ 1959-11-11 ┆ … ┆ 2          ┆ HOSPITAL   ┆ 11d    ┆ 2019      │\n",
       "│            ┆            ┆        ┆            ┆   ┆            ┆ BARROS     ┆        ┆           │\n",
       "│            ┆            ┆        ┆            ┆   ┆            ┆ LUCO       ┆        ┆           │\n",
       "│            ┆            ┆        ┆            ┆   ┆            ┆ TRUDEAU    ┆        ┆           │\n",
       "│            ┆            ┆        ┆            ┆   ┆            ┆ (SA…       ┆        ┆           │\n",
       "│ 112103     ┆ 1137216    ┆ MUJER  ┆ 1955-10-15 ┆ … ┆ 1          ┆ null       ┆ 1d     ┆ 2019      │\n",
       "│ 112103     ┆ 665546     ┆ HOMBRE ┆ 1949-08-23 ┆ … ┆ 2          ┆ null       ┆ 1d     ┆ 2019      │\n",
       "│ …          ┆ …          ┆ …      ┆ …          ┆ … ┆ …          ┆ …          ┆ …      ┆ …         │\n",
       "│ 112103     ┆ 87447003   ┆ HOMBRE ┆ 1956-01-27 ┆ … ┆ 1          ┆ null       ┆ 6d     ┆ 2021      │\n",
       "│ 112103     ┆ 80181731   ┆ HOMBRE ┆ 1948-05-17 ┆ … ┆ 1          ┆ HOSPITAL   ┆ 7d     ┆ 2021      │\n",
       "│            ┆            ┆        ┆            ┆   ┆            ┆ BARROS     ┆        ┆           │\n",
       "│            ┆            ┆        ┆            ┆   ┆            ┆ LUCO       ┆        ┆           │\n",
       "│            ┆            ┆        ┆            ┆   ┆            ┆ TRUDEAU    ┆        ┆           │\n",
       "│            ┆            ┆        ┆            ┆   ┆            ┆ (SA…       ┆        ┆           │\n",
       "│ 112103     ┆ 79135284   ┆ MUJER  ┆ 1973-05-24 ┆ … ┆ 1          ┆ null       ┆ 1d     ┆ 2021      │\n",
       "│ 112103     ┆ 73993832   ┆ HOMBRE ┆ 1978-06-17 ┆ … ┆ 2          ┆ null       ┆ 21d    ┆ 2021      │\n",
       "└────────────┴────────────┴────────┴────────────┴───┴────────────┴────────────┴────────┴───────────┘"
      ]
     },
     "execution_count": 32,
     "metadata": {},
     "output_type": "execute_result"
    }
   ],
   "source": [
    "i251"
   ]
  },
  {
   "cell_type": "code",
   "execution_count": null,
   "metadata": {},
   "outputs": [],
   "source": []
  }
 ],
 "metadata": {
  "kernelspec": {
   "display_name": "Python 3",
   "language": "python",
   "name": "python3"
  },
  "language_info": {
   "codemirror_mode": {
    "name": "ipython",
    "version": 3
   },
   "file_extension": ".py",
   "mimetype": "text/x-python",
   "name": "python",
   "nbconvert_exporter": "python",
   "pygments_lexer": "ipython3",
   "version": "3.10.9"
  },
  "orig_nbformat": 4
 },
 "nbformat": 4,
 "nbformat_minor": 2
}
