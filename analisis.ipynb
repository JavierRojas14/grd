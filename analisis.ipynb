{
 "cells": [
  {
   "cell_type": "code",
   "execution_count": 1,
   "metadata": {},
   "outputs": [],
   "source": [
    "import pandas as pd\n",
    "import polars as pl\n",
    "\n",
    "import numpy as np\n"
   ]
  },
  {
   "attachments": {},
   "cell_type": "markdown",
   "metadata": {},
   "source": [
    "# Analisis de Cantidad de Traqueostomias por Servicio de Salud\n",
    "\n",
    "- En este apartado se quiere ver la cantidad de traqueostomias que se hicieron por Servicio de Salud.\n",
    "Este analisis se realiza por anio."
   ]
  },
  {
   "attachments": {},
   "cell_type": "markdown",
   "metadata": {},
   "source": [
    "## Carga de Archivos de GRD"
   ]
  },
  {
   "cell_type": "code",
   "execution_count": 2,
   "metadata": {},
   "outputs": [],
   "source": [
    "COLUMNAS_POLARS = {\n",
    "    \"COD_HOSPITAL\": pl.Int32,\n",
    "    \"CIP_ENCRIPTADO\": pl.Int32,\n",
    "    \"SEXO\": pl.Categorical,\n",
    "    \"FECHA_NACIMIENTO\": pl.Date,\n",
    "    \"ETNIA\": pl.Categorical,\n",
    "    \"PROVINCIA\": pl.Categorical,\n",
    "    \"COMUNA\": pl.Categorical,\n",
    "    \"NACIONALIDAD\": pl.Categorical,\n",
    "    \"PREVISION\": pl.Categorical,\n",
    "    \"SERVICIO_SALUD\": pl.Categorical,\n",
    "    \"TIPO_PROCEDENCIA\": pl.Categorical,\n",
    "    \"TIPO_INGRESO\": pl.Categorical,\n",
    "    \"ESPECIALIDAD_MEDICA\": pl.Categorical,\n",
    "    \"TIPO_ACTIVIDAD\": pl.Categorical,\n",
    "    \"FECHA_INGRESO\": pl.Date,\n",
    "    \"SERVICIOINGRESO\": pl.Categorical,\n",
    "    \"FECHATRASLADO1\": pl.Date,\n",
    "    \"SERVICIOTRASLADO1\": pl.Categorical,\n",
    "    \"FECHATRASLADO2\": pl.Date,\n",
    "    \"SERVICIOTRASLADO2\": pl.Categorical,\n",
    "    \"FECHATRASLADO3\": pl.Date,\n",
    "    \"SERVICIOTRASLADO3\": pl.Categorical,\n",
    "    \"FECHATRASLADO4\": pl.Date,\n",
    "    \"SERVICIOTRASLADO4\": pl.Categorical,\n",
    "    \"FECHATRASLADO5\": pl.Date,\n",
    "    \"SERVICIOTRASLADO5\": pl.Categorical,\n",
    "    \"FECHATRASLADO6\": pl.Date,\n",
    "    \"SERVICIOTRASLADO6\": pl.Categorical,\n",
    "    \"FECHATRASLADO7\": pl.Date,\n",
    "    \"SERVICIOTRASLADO7\": pl.Categorical,\n",
    "    \"FECHATRASLADO8\": pl.Date,\n",
    "    \"SERVICIOTRASLADO8\": pl.Categorical,\n",
    "    \"FECHATRASLADO9\": pl.Date,\n",
    "    \"SERVICIOTRASLADO9\": pl.Categorical,\n",
    "    \"FECHAALTA\": pl.Date,\n",
    "    \"SERVICIOALTA\": pl.Categorical,\n",
    "    \"TIPOALTA\": pl.Categorical,\n",
    "    \"CONDICIONDEALTANEONATO1\": pl.Categorical,\n",
    "    \"PESORN1\": pl.Int16,\n",
    "    \"SEXORN1\": pl.Categorical,\n",
    "    \"RN1ESTADO\": pl.Int8,\n",
    "    \"CONDICIONDEALTANEONATO2\": pl.Categorical,\n",
    "    \"PESORN2\": pl.Int16,\n",
    "    \"SEXORN2\": pl.Categorical,\n",
    "    \"RN2ESTADO\": pl.Int8,\n",
    "    \"CONDICIONDEALTANEONATO3\": pl.Categorical,\n",
    "    \"PESORN3\": pl.Int16,\n",
    "    \"SEXORN3\": pl.Categorical,\n",
    "    \"RN3ESTADO\": pl.Int8,\n",
    "    \"CONDICIONDEALTANEONATO4\": pl.Categorical,\n",
    "    \"PESORN4\": pl.Int16,\n",
    "    \"SEXORN4\": pl.Categorical,\n",
    "    \"RN4ESTADO\": pl.Int8,\n",
    "    \"DIAGNOSTICO1\": str,\n",
    "    \"DIAGNOSTICO2\": str,\n",
    "    \"DIAGNOSTICO3\": str,\n",
    "    \"DIAGNOSTICO4\": str,\n",
    "    \"DIAGNOSTICO5\": str,\n",
    "    \"DIAGNOSTICO6\": str,\n",
    "    \"DIAGNOSTICO7\": str,\n",
    "    \"DIAGNOSTICO8\": str,\n",
    "    \"DIAGNOSTICO9\": str,\n",
    "    \"DIAGNOSTICO10\": str,\n",
    "    \"DIAGNOSTICO11\": str,\n",
    "    \"DIAGNOSTICO12\": str,\n",
    "    \"DIAGNOSTICO13\": str,\n",
    "    \"DIAGNOSTICO14\": str,\n",
    "    \"DIAGNOSTICO15\": str,\n",
    "    \"DIAGNOSTICO16\": str,\n",
    "    \"DIAGNOSTICO17\": str,\n",
    "    \"DIAGNOSTICO18\": str,\n",
    "    \"DIAGNOSTICO19\": str,\n",
    "    \"DIAGNOSTICO20\": str,\n",
    "    \"DIAGNOSTICO21\": str,\n",
    "    \"DIAGNOSTICO22\": str,\n",
    "    \"DIAGNOSTICO23\": str,\n",
    "    \"DIAGNOSTICO24\": str,\n",
    "    \"DIAGNOSTICO25\": str,\n",
    "    \"DIAGNOSTICO26\": str,\n",
    "    \"DIAGNOSTICO27\": str,\n",
    "    \"DIAGNOSTICO28\": str,\n",
    "    \"DIAGNOSTICO29\": str,\n",
    "    \"DIAGNOSTICO30\": str,\n",
    "    \"DIAGNOSTICO31\": str,\n",
    "    \"DIAGNOSTICO32\": str,\n",
    "    \"DIAGNOSTICO33\": str,\n",
    "    \"DIAGNOSTICO34\": str,\n",
    "    \"DIAGNOSTICO35\": str,\n",
    "    \"PROCEDIMIENTO1\": str,\n",
    "    \"PROCEDIMIENTO2\": str,\n",
    "    \"PROCEDIMIENTO3\": str,\n",
    "    \"PROCEDIMIENTO4\": str,\n",
    "    \"PROCEDIMIENTO5\": str,\n",
    "    \"PROCEDIMIENTO6\": str,\n",
    "    \"PROCEDIMIENTO7\": str,\n",
    "    \"PROCEDIMIENTO8\": str,\n",
    "    \"PROCEDIMIENTO9\": str,\n",
    "    \"PROCEDIMIENTO10\": str,\n",
    "    \"PROCEDIMIENTO11\": str,\n",
    "    \"PROCEDIMIENTO12\": str,\n",
    "    \"PROCEDIMIENTO13\": str,\n",
    "    \"PROCEDIMIENTO14\": str,\n",
    "    \"PROCEDIMIENTO15\": str,\n",
    "    \"PROCEDIMIENTO16\": str,\n",
    "    \"PROCEDIMIENTO17\": str,\n",
    "    \"PROCEDIMIENTO18\": str,\n",
    "    \"PROCEDIMIENTO19\": str,\n",
    "    \"PROCEDIMIENTO20\": str,\n",
    "    \"PROCEDIMIENTO21\": str,\n",
    "    \"PROCEDIMIENTO22\": str,\n",
    "    \"PROCEDIMIENTO23\": str,\n",
    "    \"PROCEDIMIENTO24\": str,\n",
    "    \"PROCEDIMIENTO25\": str,\n",
    "    \"PROCEDIMIENTO26\": str,\n",
    "    \"PROCEDIMIENTO27\": str,\n",
    "    \"PROCEDIMIENTO28\": str,\n",
    "    \"PROCEDIMIENTO29\": str,\n",
    "    \"PROCEDIMIENTO30\": str,\n",
    "    \"MEDICOINTERV1_ENCRIPTADO\": pl.Int32,\n",
    "    \"FECHAPROCEDIMIENTO1\": pl.Date,\n",
    "    \"FECHAINTERV1\": pl.Date,\n",
    "    \"ESPECIALIDADINTERVENCION\": pl.Categorical,\n",
    "    \"MEDICOALTA_ENCRIPTADO\": pl.Int32,\n",
    "    \"USOSPABELLON\": str,\n",
    "    \"IR_29301_COD_GRD\": pl.Int32,\n",
    "    \"IR_29301_PESO\": str,\n",
    "    \"IR_29301_SEVERIDAD\": pl.Int8,\n",
    "    \"IR_29301_MORTALIDAD\": pl.Int8,\n",
    "    \"HOSPPROCEDENCIA\": str,\n",
    "}\n",
    "\n",
    "VALORES_NULOS_COLUMNAS = {\n",
    "    \"CIP_ENCRIPTADO\": \"SIN INFORMACIÓN\",\n",
    "    \"PROCEDIMIENTO1\": \"DESCONOCIDO\",\n",
    "    \"PROCEDIMIENTO2\": \"DESCONOCIDO\",\n",
    "    \"PROCEDIMIENTO3\": \"DESCONOCIDO\",\n",
    "    \"PROCEDIMIENTO5\": \"DESCONOCIDO\",\n",
    "    \"IR_29301_COD_GRD\": \"DESCONOCIDO\",\n",
    "    \"IR_29301_PESO\": \"DESCONOCIDO\",\n",
    "    \"IR_29301_SEVERIDAD\": \"DESCONOCIDO\",\n",
    "    \"IR_29301_MORTALIDAD\": \"DESCONOCIDO\",\n",
    "}"
   ]
  },
  {
   "cell_type": "code",
   "execution_count": 3,
   "metadata": {},
   "outputs": [],
   "source": [
    "with pl.StringCache():\n",
    "    dfp = pl.scan_csv(\n",
    "        \"input/*.txt\",\n",
    "        separator=\"|\",\n",
    "        dtypes=COLUMNAS_POLARS,\n",
    "        null_values=VALORES_NULOS_COLUMNAS,\n",
    "    )\n",
    "\n",
    "    peso_en_float = pl.col(\"IR_29301_PESO\").str.replace(\",\", \".\").cast(pl.Float32, strict=True)\n",
    "    estancia = pl.col(\"FECHAALTA\") - pl.col(\"FECHA_INGRESO\")\n",
    "    anio = pl.col(\"FECHAALTA\").dt.year()\n",
    "\n",
    "    dfp = dfp.with_columns(\n",
    "        [\n",
    "            peso_en_float.alias(\"IR_29301_PESO\"),\n",
    "            estancia.alias(\"ESTANCIA\"),\n",
    "            anio.alias(\"ANIO_EGRESO\"),\n",
    "        ]\n",
    "    )\n",
    "    dfp = dfp.collect()\n"
   ]
  },
  {
   "cell_type": "code",
   "execution_count": 4,
   "metadata": {},
   "outputs": [],
   "source": [
    "df = dfp.to_pandas()"
   ]
  },
  {
   "attachments": {},
   "cell_type": "markdown",
   "metadata": {},
   "source": [
    "## Analisis de Traqueostomia"
   ]
  },
  {
   "cell_type": "code",
   "execution_count": 5,
   "metadata": {},
   "outputs": [],
   "source": [
    "procedimientos = df.loc[:, \"PROCEDIMIENTO1\":\"PROCEDIMIENTO30\"]\n",
    "contiene_nuestros_proc = procedimientos.isin([\"31.1\", \"31.29\"]).sum(axis=1).astype(bool)\n",
    "proc_nacionales = df[contiene_nuestros_proc]\n"
   ]
  },
  {
   "cell_type": "code",
   "execution_count": 6,
   "metadata": {},
   "outputs": [],
   "source": [
    "metricas = (\n",
    "    proc_nacionales.groupby([\"ANIO_EGRESO\", \"SERVICIO_SALUD\"])\n",
    "    .agg(\n",
    "        n_egresos=(\"COD_HOSPITAL\", \"count\"),\n",
    "        peso_medio=(\"IR_29301_PESO\", \"mean\"),\n",
    "        estancia_media=(\"ESTANCIA\", \"mean\"),\n",
    "    )\n",
    "    .sort_values([\"ANIO_EGRESO\", \"n_egresos\"], ascending=False)\n",
    ")"
   ]
  },
  {
   "cell_type": "code",
   "execution_count": 7,
   "metadata": {},
   "outputs": [],
   "source": [
    "metricas.to_excel(\"resumen_traqueostomia_hist.xlsx\")"
   ]
  },
  {
   "attachments": {},
   "cell_type": "markdown",
   "metadata": {},
   "source": [
    "# Analisis de Prestaciones por Diagnostico"
   ]
  },
  {
   "attachments": {},
   "cell_type": "markdown",
   "metadata": {},
   "source": [
    "- En este apartado se quiere ver la cantidad de prestaciones que se realizan por cada diagnostico\n",
    "principal.\n",
    "\n",
    "- El resultado que se quiere obtener es parecido al siguiente:\n",
    "\n",
    "|Año|Diagnostico|Resumen Procedimientos|\n",
    "|---|-----------|----------------------|\n",
    "|2019|\"I25.1\"|{\"45.23\": 20, \"73.59\": 10}|\n",
    "|2020|\"I25.1\"|{\"45.23\": 7, \"73.59\": 3}|"
   ]
  },
  {
   "attachments": {},
   "cell_type": "markdown",
   "metadata": {},
   "source": [
    "## Analisis Exploratorio"
   ]
  },
  {
   "attachments": {},
   "cell_type": "markdown",
   "metadata": {},
   "source": [
    "### Obtener conteo de diagnosticos en el Torax"
   ]
  },
  {
   "cell_type": "code",
   "execution_count": 8,
   "metadata": {},
   "outputs": [
    {
     "data": {
      "text/html": [
       "<div><style>\n",
       ".dataframe > thead > tr > th,\n",
       ".dataframe > tbody > tr > td {\n",
       "  text-align: right;\n",
       "}\n",
       "</style>\n",
       "<small>shape: (568, 2)</small><table border=\"1\" class=\"dataframe\"><thead><tr><th>DIAGNOSTICO1</th><th>count</th></tr><tr><td>str</td><td>u32</td></tr></thead><tbody><tr><td>&quot;I25.1&quot;</td><td>1366</td></tr><tr><td>&quot;Z51.1&quot;</td><td>811</td></tr><tr><td>&quot;U07.1&quot;</td><td>706</td></tr><tr><td>&quot;Z51.4&quot;</td><td>595</td></tr><tr><td>&quot;Z13.6&quot;</td><td>489</td></tr><tr><td>&quot;Z29.1&quot;</td><td>394</td></tr><tr><td>&quot;C34.1&quot;</td><td>367</td></tr><tr><td>&quot;I35.0&quot;</td><td>365</td></tr><tr><td>&quot;Z45.0&quot;</td><td>322</td></tr><tr><td>&quot;I21.4&quot;</td><td>264</td></tr><tr><td>&quot;J84.1&quot;</td><td>247</td></tr><tr><td>&quot;I21.0&quot;</td><td>234</td></tr><tr><td>&hellip;</td><td>&hellip;</td></tr><tr><td>&quot;A18.1&quot;</td><td>1</td></tr><tr><td>&quot;L92.8&quot;</td><td>1</td></tr><tr><td>&quot;E05.1&quot;</td><td>1</td></tr><tr><td>&quot;K65.0&quot;</td><td>1</td></tr><tr><td>&quot;D18.1&quot;</td><td>1</td></tr><tr><td>&quot;E04.8&quot;</td><td>1</td></tr><tr><td>&quot;E04.9&quot;</td><td>1</td></tr><tr><td>&quot;J32.4&quot;</td><td>1</td></tr><tr><td>&quot;J01.8&quot;</td><td>1</td></tr><tr><td>&quot;Z13.9&quot;</td><td>1</td></tr><tr><td>&quot;B24&quot;</td><td>1</td></tr><tr><td>&quot;Q34.1&quot;</td><td>1</td></tr></tbody></table></div>"
      ],
      "text/plain": [
       "shape: (568, 2)\n",
       "┌──────────────┬───────┐\n",
       "│ DIAGNOSTICO1 ┆ count │\n",
       "│ ---          ┆ ---   │\n",
       "│ str          ┆ u32   │\n",
       "╞══════════════╪═══════╡\n",
       "│ I25.1        ┆ 1366  │\n",
       "│ Z51.1        ┆ 811   │\n",
       "│ U07.1        ┆ 706   │\n",
       "│ Z51.4        ┆ 595   │\n",
       "│ …            ┆ …     │\n",
       "│ J01.8        ┆ 1     │\n",
       "│ Z13.9        ┆ 1     │\n",
       "│ B24          ┆ 1     │\n",
       "│ Q34.1        ┆ 1     │\n",
       "└──────────────┴───────┘"
      ]
     },
     "execution_count": 8,
     "metadata": {},
     "output_type": "execute_result"
    }
   ],
   "source": [
    "torax = dfp.filter(pl.col(\"COD_HOSPITAL\") == 112103)\n",
    "torax.groupby([\"DIAGNOSTICO1\"]).agg(pl.count()).sort(by=\"count\", descending=True)\n"
   ]
  },
  {
   "attachments": {},
   "cell_type": "markdown",
   "metadata": {},
   "source": [
    "- De estos resultados, se puede ver que el diagnostico Z51.4 es el diagnostico mas frecuente\n",
    "entre 2019 y 2021. Tuvo 1366 egresos.\n",
    "\n",
    "- A modo de ejemplo, se quiere ver el dataframe completo del diagnostico Z51.4, y analizar\n",
    "los procedimientos que tiene incluidos."
   ]
  },
  {
   "attachments": {},
   "cell_type": "markdown",
   "metadata": {},
   "source": [
    "### Analisis de conteo de procedimientos"
   ]
  },
  {
   "attachments": {},
   "cell_type": "markdown",
   "metadata": {},
   "source": [
    "### Forma 1"
   ]
  },
  {
   "cell_type": "code",
   "execution_count": 9,
   "metadata": {},
   "outputs": [],
   "source": [
    "from functools import reduce\n",
    "\n",
    "i251 = torax.filter(pl.col(\"DIAGNOSTICO1\") == \"I25.1\").to_pandas()\n",
    "listas_procedimientos = (\n",
    "    i251.loc[:, \"PROCEDIMIENTO1\":\"PROCEDIMIENTO30\"].fillna(\"\").agg(\"-\".join, axis=1).str.split(\"-\")\n",
    ")\n",
    "\n",
    "\n",
    "sumado = reduce(lambda x, y: x + y, listas_procedimientos.values)"
   ]
  },
  {
   "attachments": {},
   "cell_type": "markdown",
   "metadata": {},
   "source": [
    "### Forma 2"
   ]
  },
  {
   "cell_type": "code",
   "execution_count": 10,
   "metadata": {},
   "outputs": [
    {
     "data": {
      "text/plain": [
       "99.29    1196\n",
       "99.19    1125\n",
       "89.54    1035\n",
       "93.96     930\n",
       "37.22     806\n",
       "         ... \n",
       "78.61       1\n",
       "39.98       1\n",
       "99.10       1\n",
       "37.99       1\n",
       "37.87       1\n",
       "Name: value, Length: 257, dtype: int64"
      ]
     },
     "execution_count": 10,
     "metadata": {},
     "output_type": "execute_result"
    }
   ],
   "source": [
    "cambiada = pd.melt(\n",
    "    i251, id_vars=\"DIAGNOSTICO1\", value_vars=[f\"PROCEDIMIENTO{i}\" for i in range(1, 31)]\n",
    ")\n",
    "cambiada[\"value\"].value_counts()\n"
   ]
  },
  {
   "attachments": {},
   "cell_type": "markdown",
   "metadata": {},
   "source": [
    "### Analisis Completo\n",
    "\n",
    "- Se quiere ver la cantida dde procedimientos hechos por posicion de procedimiento. O sea,\n",
    "en el \"PROCEDIMIENTO1\" que procedimientos se ingresaron, y cuales son sus frecuencias ordenadas\n",
    "de mayor a menor?\n",
    "\n",
    "- Tambien se quiere ver la frecuencia global. O sea, para el diagnostico X, cuales son los\n",
    "procedimientos que mas se le realizan, independiente de la posicion del procedimiento."
   ]
  },
  {
   "cell_type": "code",
   "execution_count": 58,
   "metadata": {},
   "outputs": [],
   "source": [
    "import string\n",
    "\n",
    "procedimientos = [f\"PROCEDIMIENTO{i}\" for i in range(1, 31)]\n",
    "letras = list(string.ascii_uppercase) + [\"a\", \"b\", \"c\", \"d\"]\n",
    "codificacion = dict(zip(procedimientos, letras))\n",
    "codificacion_reversa = dict(zip(letras, procedimientos))\n",
    "\n",
    "torax_pandas = torax.to_pandas()\n",
    "long_prestaciones = pd.melt(\n",
    "    torax_pandas,\n",
    "    id_vars=[\"ANIO_EGRESO\", \"DIAGNOSTICO1\"],\n",
    "    value_vars=procedimientos,\n",
    ")\n",
    "\n",
    "long_prestaciones[\"variable\"] = long_prestaciones[\"variable\"].replace(codificacion)"
   ]
  },
  {
   "cell_type": "code",
   "execution_count": 64,
   "metadata": {},
   "outputs": [],
   "source": [
    "resumen_prestaciones_global = (\n",
    "    long_prestaciones.groupby([\"ANIO_EGRESO\", \"DIAGNOSTICO1\"])[\"value\"].value_counts()\n",
    "    # .reset_index(name=\"count\")\n",
    ")\n",
    "\n",
    "resumen_prestaciones_por_procedimiento = (\n",
    "    long_prestaciones.groupby([\"ANIO_EGRESO\", \"DIAGNOSTICO1\", \"variable\"])[\"value\"]\n",
    "    .value_counts()\n",
    "    .reset_index(name=\"count\")\n",
    ")\n",
    "\n",
    "resumen_prestaciones_por_procedimiento[\"variable\"] = resumen_prestaciones_por_procedimiento[\n",
    "    \"variable\"\n",
    "].replace(codificacion_reversa)\n",
    "resumen_prestaciones_por_procedimiento = resumen_prestaciones_por_procedimiento.set_index(\n",
    "    [\"ANIO_EGRESO\", \"DIAGNOSTICO1\", \"variable\", \"value\"]\n",
    ")"
   ]
  },
  {
   "cell_type": "code",
   "execution_count": 65,
   "metadata": {},
   "outputs": [],
   "source": [
    "resumen_prestaciones_global.to_excel(\"prestaciones_globales.xlsx\")\n",
    "resumen_prestaciones_por_procedimiento.to_excel(\"prestaciones_por_procedimiento.xlsx\")"
   ]
  },
  {
   "cell_type": "code",
   "execution_count": null,
   "metadata": {},
   "outputs": [],
   "source": []
  }
 ],
 "metadata": {
  "kernelspec": {
   "display_name": "Python 3",
   "language": "python",
   "name": "python3"
  },
  "language_info": {
   "codemirror_mode": {
    "name": "ipython",
    "version": 3
   },
   "file_extension": ".py",
   "mimetype": "text/x-python",
   "name": "python",
   "nbconvert_exporter": "python",
   "pygments_lexer": "ipython3",
   "version": "3.10.9"
  },
  "orig_nbformat": 4
 },
 "nbformat": 4,
 "nbformat_minor": 2
}
