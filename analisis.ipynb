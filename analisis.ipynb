{
 "cells": [
  {
   "cell_type": "code",
   "execution_count": 1,
   "metadata": {},
   "outputs": [],
   "source": [
    "import pandas as pd\n",
    "import polars as pl\n",
    "\n",
    "import numpy as np\n",
    "\n",
    "import lectura_archivos as fr"
   ]
  },
  {
   "attachments": {},
   "cell_type": "markdown",
   "metadata": {},
   "source": [
    "# Analisis de Cantidad de Traqueostomias por Servicio de Salud\n",
    "\n",
    "- En este apartado se quiere ver la cantidad de traqueostomias que se hicieron por Servicio de Salud.\n",
    "Este analisis se realiza por anio."
   ]
  },
  {
   "attachments": {},
   "cell_type": "markdown",
   "metadata": {},
   "source": [
    "## Carga de Archivos de GRD"
   ]
  },
  {
   "cell_type": "code",
   "execution_count": 2,
   "metadata": {},
   "outputs": [],
   "source": [
    "dfp = fr.leer_grd()"
   ]
  },
  {
   "cell_type": "code",
   "execution_count": 4,
   "metadata": {},
   "outputs": [],
   "source": [
    "df = dfp.to_pandas()\n"
   ]
  },
  {
   "attachments": {},
   "cell_type": "markdown",
   "metadata": {},
   "source": [
    "## Analisis de Traqueostomia"
   ]
  },
  {
   "cell_type": "code",
   "execution_count": 5,
   "metadata": {},
   "outputs": [],
   "source": [
    "procedimientos = df.loc[:, \"PROCEDIMIENTO1\":\"PROCEDIMIENTO30\"]\n",
    "contiene_nuestros_proc = procedimientos.isin([\"31.1\", \"31.29\"]).sum(axis=1).astype(bool)\n",
    "proc_nacionales = df[contiene_nuestros_proc]"
   ]
  },
  {
   "cell_type": "code",
   "execution_count": 6,
   "metadata": {},
   "outputs": [],
   "source": [
    "metricas = (\n",
    "    proc_nacionales.groupby([\"ANIO_EGRESO\", \"SERVICIO_SALUD\"])\n",
    "    .agg(\n",
    "        n_egresos=(\"COD_HOSPITAL\", \"count\"),\n",
    "        peso_medio=(\"IR_29301_PESO\", \"mean\"),\n",
    "        estancia_media=(\"ESTANCIA\", \"mean\"),\n",
    "    )\n",
    "    .sort_values([\"ANIO_EGRESO\", \"n_egresos\"], ascending=False)\n",
    ")\n"
   ]
  },
  {
   "cell_type": "code",
   "execution_count": 7,
   "metadata": {},
   "outputs": [],
   "source": [
    "metricas.to_excel(\"output/resumen_traqueostomia_hist.xlsx\")\n"
   ]
  },
  {
   "attachments": {},
   "cell_type": "markdown",
   "metadata": {},
   "source": [
    "# Analisis de Prestaciones por Diagnostico"
   ]
  },
  {
   "attachments": {},
   "cell_type": "markdown",
   "metadata": {},
   "source": [
    "- En este apartado se quiere ver la cantidad de prestaciones que se realizan por cada diagnostico\n",
    "principal.\n",
    "\n",
    "- El resultado que se quiere obtener es parecido al siguiente:\n",
    "\n",
    "|Año|Diagnostico|Resumen Procedimientos|\n",
    "|---|-----------|----------------------|\n",
    "|2019|\"I25.1\"|{\"45.23\": 20, \"73.59\": 10}|\n",
    "|2020|\"I25.1\"|{\"45.23\": 7, \"73.59\": 3}|"
   ]
  },
  {
   "attachments": {},
   "cell_type": "markdown",
   "metadata": {},
   "source": [
    "## Analisis Exploratorio"
   ]
  },
  {
   "attachments": {},
   "cell_type": "markdown",
   "metadata": {},
   "source": [
    "### Obtener conteo de diagnosticos en el Torax"
   ]
  },
  {
   "cell_type": "code",
   "execution_count": 8,
   "metadata": {},
   "outputs": [
    {
     "data": {
      "text/html": [
       "<div><style>\n",
       ".dataframe > thead > tr > th,\n",
       ".dataframe > tbody > tr > td {\n",
       "  text-align: right;\n",
       "}\n",
       "</style>\n",
       "<small>shape: (568, 2)</small><table border=\"1\" class=\"dataframe\"><thead><tr><th>DIAGNOSTICO1</th><th>count</th></tr><tr><td>str</td><td>u32</td></tr></thead><tbody><tr><td>&quot;I25.1&quot;</td><td>1366</td></tr><tr><td>&quot;Z51.1&quot;</td><td>811</td></tr><tr><td>&quot;U07.1&quot;</td><td>706</td></tr><tr><td>&quot;Z51.4&quot;</td><td>595</td></tr><tr><td>&quot;Z13.6&quot;</td><td>489</td></tr><tr><td>&quot;Z29.1&quot;</td><td>394</td></tr><tr><td>&quot;C34.1&quot;</td><td>367</td></tr><tr><td>&quot;I35.0&quot;</td><td>365</td></tr><tr><td>&quot;Z45.0&quot;</td><td>322</td></tr><tr><td>&quot;I21.4&quot;</td><td>264</td></tr><tr><td>&quot;J84.1&quot;</td><td>247</td></tr><tr><td>&quot;I21.0&quot;</td><td>234</td></tr><tr><td>&hellip;</td><td>&hellip;</td></tr><tr><td>&quot;K85.8&quot;</td><td>1</td></tr><tr><td>&quot;M72.89&quot;</td><td>1</td></tr><tr><td>&quot;A41.9&quot;</td><td>1</td></tr><tr><td>&quot;I24.0&quot;</td><td>1</td></tr><tr><td>&quot;K57.9&quot;</td><td>1</td></tr><tr><td>&quot;Q20.8&quot;</td><td>1</td></tr><tr><td>&quot;Z43.0&quot;</td><td>1</td></tr><tr><td>&quot;J20.1&quot;</td><td>1</td></tr><tr><td>&quot;C49.8&quot;</td><td>1</td></tr><tr><td>&quot;B67.3&quot;</td><td>1</td></tr><tr><td>&quot;Q67.8&quot;</td><td>1</td></tr><tr><td>&quot;L89.2&quot;</td><td>1</td></tr></tbody></table></div>"
      ],
      "text/plain": [
       "shape: (568, 2)\n",
       "┌──────────────┬───────┐\n",
       "│ DIAGNOSTICO1 ┆ count │\n",
       "│ ---          ┆ ---   │\n",
       "│ str          ┆ u32   │\n",
       "╞══════════════╪═══════╡\n",
       "│ I25.1        ┆ 1366  │\n",
       "│ Z51.1        ┆ 811   │\n",
       "│ U07.1        ┆ 706   │\n",
       "│ Z51.4        ┆ 595   │\n",
       "│ …            ┆ …     │\n",
       "│ C49.8        ┆ 1     │\n",
       "│ B67.3        ┆ 1     │\n",
       "│ Q67.8        ┆ 1     │\n",
       "│ L89.2        ┆ 1     │\n",
       "└──────────────┴───────┘"
      ]
     },
     "execution_count": 8,
     "metadata": {},
     "output_type": "execute_result"
    }
   ],
   "source": [
    "torax = dfp.filter(pl.col(\"COD_HOSPITAL\") == 112103)\n",
    "torax.groupby([\"DIAGNOSTICO1\"]).agg(pl.count()).sort(by=\"count\", descending=True)"
   ]
  },
  {
   "attachments": {},
   "cell_type": "markdown",
   "metadata": {},
   "source": [
    "- De estos resultados, se puede ver que el diagnostico Z51.4 es el diagnostico mas frecuente\n",
    "entre 2019 y 2021. Tuvo 1366 egresos.\n",
    "\n",
    "- A modo de ejemplo, se quiere ver el dataframe completo del diagnostico Z51.4, y analizar\n",
    "los procedimientos que tiene incluidos."
   ]
  },
  {
   "attachments": {},
   "cell_type": "markdown",
   "metadata": {},
   "source": [
    "### Analisis de conteo de procedimientos"
   ]
  },
  {
   "attachments": {},
   "cell_type": "markdown",
   "metadata": {},
   "source": [
    "### Forma 1"
   ]
  },
  {
   "cell_type": "code",
   "execution_count": 9,
   "metadata": {},
   "outputs": [],
   "source": [
    "from functools import reduce\n",
    "\n",
    "i251 = torax.filter(pl.col(\"DIAGNOSTICO1\") == \"I25.1\").to_pandas()\n",
    "listas_procedimientos = (\n",
    "    i251.loc[:, \"PROCEDIMIENTO1\":\"PROCEDIMIENTO30\"].fillna(\"\").agg(\"-\".join, axis=1).str.split(\"-\")\n",
    ")\n",
    "\n",
    "\n",
    "sumado = reduce(lambda x, y: x + y, listas_procedimientos.values)\n"
   ]
  },
  {
   "attachments": {},
   "cell_type": "markdown",
   "metadata": {},
   "source": [
    "### Forma 2"
   ]
  },
  {
   "cell_type": "code",
   "execution_count": 10,
   "metadata": {},
   "outputs": [
    {
     "data": {
      "text/plain": [
       "99.29    1196\n",
       "99.19    1125\n",
       "89.54    1035\n",
       "93.96     930\n",
       "37.22     806\n",
       "         ... \n",
       "78.61       1\n",
       "39.98       1\n",
       "99.10       1\n",
       "37.99       1\n",
       "37.87       1\n",
       "Name: value, Length: 257, dtype: int64"
      ]
     },
     "execution_count": 10,
     "metadata": {},
     "output_type": "execute_result"
    }
   ],
   "source": [
    "cambiada = pd.melt(\n",
    "    i251, id_vars=\"DIAGNOSTICO1\", value_vars=[f\"PROCEDIMIENTO{i}\" for i in range(1, 31)]\n",
    ")\n",
    "cambiada[\"value\"].value_counts()"
   ]
  },
  {
   "attachments": {},
   "cell_type": "markdown",
   "metadata": {},
   "source": [
    "### Analisis Completo\n",
    "\n",
    "- Se quiere ver la cantida dde procedimientos hechos por posicion de procedimiento. O sea,\n",
    "en el \"PROCEDIMIENTO1\" que procedimientos se ingresaron, y cuales son sus frecuencias ordenadas\n",
    "de mayor a menor?\n",
    "\n",
    "- Tambien se quiere ver la frecuencia global. O sea, para el diagnostico X, cuales son los\n",
    "procedimientos que mas se le realizan, independiente de la posicion del procedimiento."
   ]
  },
  {
   "attachments": {},
   "cell_type": "markdown",
   "metadata": {},
   "source": [
    "#### Cambio de nombre de columnas PROCEDIMIENTO\n",
    "\n",
    "- Esto se realiza, ya que permite ordenar estas columnas al utilizar .value_counts() en la\n",
    "proxima celda."
   ]
  },
  {
   "cell_type": "code",
   "execution_count": 11,
   "metadata": {},
   "outputs": [],
   "source": [
    "import string\n",
    "\n",
    "procedimientos = [f\"PROCEDIMIENTO{i}\" for i in range(1, 31)]\n",
    "letras = list(string.ascii_uppercase) + [\"a\", \"b\", \"c\", \"d\"]\n",
    "codificacion = dict(zip(procedimientos, letras))\n",
    "codificacion_reversa = dict(zip(letras, procedimientos))\n",
    "\n",
    "torax_pandas = torax.to_pandas()\n",
    "long_prestaciones = pd.melt(\n",
    "    torax_pandas,\n",
    "    id_vars=[\"ANIO_EGRESO\", \"DIAGNOSTICO1\"],\n",
    "    value_vars=procedimientos,\n",
    ")\n",
    "\n",
    "long_prestaciones[\"variable\"] = long_prestaciones[\"variable\"].replace(codificacion)\n"
   ]
  },
  {
   "cell_type": "code",
   "execution_count": 12,
   "metadata": {},
   "outputs": [],
   "source": [
    "resumen_prestaciones_global = (\n",
    "    long_prestaciones.groupby([\"ANIO_EGRESO\", \"DIAGNOSTICO1\"])[\"value\"]\n",
    "    .value_counts()\n",
    "    .reset_index(name=\"count\")\n",
    ")\n",
    "\n",
    "por_procedimiento = (\n",
    "    long_prestaciones.groupby([\"ANIO_EGRESO\", \"DIAGNOSTICO1\", \"variable\"])[\"value\"]\n",
    "    .value_counts()\n",
    "    .reset_index(name=\"count\")\n",
    ")\n",
    "\n",
    "por_procedimiento[\"variable\"] = por_procedimiento[\"variable\"].replace(codificacion_reversa)\n",
    "por_procedimiento = por_procedimiento.rename({\"value\": \"codigo_procedimiento\"}, axis=1)"
   ]
  },
  {
   "cell_type": "code",
   "execution_count": 13,
   "metadata": {},
   "outputs": [],
   "source": [
    "resumen_prestaciones_global.to_excel(\"output/prestaciones_globales.xlsx\")\n",
    "por_procedimiento.to_excel(\"output/prestaciones_por_procedimiento.xlsx\")\n"
   ]
  },
  {
   "cell_type": "code",
   "execution_count": 23,
   "metadata": {},
   "outputs": [
    {
     "data": {
      "text/html": [
       "<div><style>\n",
       ".dataframe > thead > tr > th,\n",
       ".dataframe > tbody > tr > td {\n",
       "  text-align: right;\n",
       "}\n",
       "</style>\n",
       "<small>shape: (1, 1)</small><table border=\"1\" class=\"dataframe\"><thead><tr><th>PROCEDIMIENTO1</th></tr><tr><td>u32</td></tr></thead><tbody><tr><td>0</td></tr></tbody></table></div>"
      ],
      "text/plain": [
       "shape: (1, 1)\n",
       "┌────────────────┐\n",
       "│ PROCEDIMIENTO1 │\n",
       "│ ---            │\n",
       "│ u32            │\n",
       "╞════════════════╡\n",
       "│ 0              │\n",
       "└────────────────┘"
      ]
     },
     "execution_count": 23,
     "metadata": {},
     "output_type": "execute_result"
    }
   ],
   "source": [
    "torax.select(\n",
    "    pl.col('PROCEDIMIENTO1').null_count()\n",
    ")"
   ]
  },
  {
   "cell_type": "code",
   "execution_count": 24,
   "metadata": {},
   "outputs": [
    {
     "data": {
      "text/html": [
       "<div><style>\n",
       ".dataframe > thead > tr > th,\n",
       ".dataframe > tbody > tr > td {\n",
       "  text-align: right;\n",
       "}\n",
       "</style>\n",
       "<small>shape: (13_468, 131)</small><table border=\"1\" class=\"dataframe\"><thead><tr><th>COD_HOSPITAL</th><th>CIP_ENCRIPTADO</th><th>SEXO</th><th>FECHA_NACIMIENTO</th><th>ETNIA</th><th>PROVINCIA</th><th>COMUNA</th><th>NACIONALIDAD</th><th>PREVISION</th><th>SERVICIO_SALUD</th><th>TIPO_PROCEDENCIA</th><th>TIPO_INGRESO</th><th>ESPECIALIDAD_MEDICA</th><th>TIPO_ACTIVIDAD</th><th>FECHA_INGRESO</th><th>SERVICIOINGRESO</th><th>FECHATRASLADO1</th><th>SERVICIOTRASLADO1</th><th>FECHATRASLADO2</th><th>SERVICIOTRASLADO2</th><th>FECHATRASLADO3</th><th>SERVICIOTRASLADO3</th><th>FECHATRASLADO4</th><th>SERVICIOTRASLADO4</th><th>FECHATRASLADO5</th><th>SERVICIOTRASLADO5</th><th>FECHATRASLADO6</th><th>SERVICIOTRASLADO6</th><th>FECHATRASLADO7</th><th>SERVICIOTRASLADO7</th><th>FECHATRASLADO8</th><th>SERVICIOTRASLADO8</th><th>FECHATRASLADO9</th><th>SERVICIOTRASLADO9</th><th>FECHAALTA</th><th>SERVICIOALTA</th><th>TIPOALTA</th><th>&hellip;</th><th>PROCEDIMIENTO7</th><th>PROCEDIMIENTO8</th><th>PROCEDIMIENTO9</th><th>PROCEDIMIENTO10</th><th>PROCEDIMIENTO11</th><th>PROCEDIMIENTO12</th><th>PROCEDIMIENTO13</th><th>PROCEDIMIENTO14</th><th>PROCEDIMIENTO15</th><th>PROCEDIMIENTO16</th><th>PROCEDIMIENTO17</th><th>PROCEDIMIENTO18</th><th>PROCEDIMIENTO19</th><th>PROCEDIMIENTO20</th><th>PROCEDIMIENTO21</th><th>PROCEDIMIENTO22</th><th>PROCEDIMIENTO23</th><th>PROCEDIMIENTO24</th><th>PROCEDIMIENTO25</th><th>PROCEDIMIENTO26</th><th>PROCEDIMIENTO27</th><th>PROCEDIMIENTO28</th><th>PROCEDIMIENTO29</th><th>PROCEDIMIENTO30</th><th>MEDICOINTERV1_ENCRIPTADO</th><th>FECHAPROCEDIMIENTO1</th><th>FECHAINTERV1</th><th>ESPECIALIDADINTERVENCION</th><th>MEDICOALTA_ENCRIPTADO</th><th>USOSPABELLON</th><th>IR_29301_COD_GRD</th><th>IR_29301_PESO</th><th>IR_29301_SEVERIDAD</th><th>IR_29301_MORTALIDAD</th><th>HOSPPROCEDENCIA</th><th>ESTANCIA</th><th>ANIO_EGRESO</th></tr><tr><td>i32</td><td>i32</td><td>cat</td><td>date</td><td>cat</td><td>cat</td><td>cat</td><td>cat</td><td>cat</td><td>cat</td><td>cat</td><td>cat</td><td>cat</td><td>cat</td><td>date</td><td>cat</td><td>date</td><td>cat</td><td>date</td><td>cat</td><td>date</td><td>cat</td><td>date</td><td>cat</td><td>date</td><td>cat</td><td>date</td><td>cat</td><td>date</td><td>cat</td><td>date</td><td>cat</td><td>date</td><td>cat</td><td>date</td><td>cat</td><td>cat</td><td>&hellip;</td><td>str</td><td>str</td><td>str</td><td>str</td><td>str</td><td>str</td><td>str</td><td>str</td><td>str</td><td>str</td><td>str</td><td>str</td><td>str</td><td>str</td><td>str</td><td>str</td><td>str</td><td>str</td><td>str</td><td>str</td><td>str</td><td>str</td><td>str</td><td>str</td><td>i32</td><td>date</td><td>date</td><td>cat</td><td>i32</td><td>str</td><td>i32</td><td>f32</td><td>i8</td><td>i8</td><td>str</td><td>duration[ms]</td><td>i32</td></tr></thead><tbody><tr><td>112103</td><td>1137216</td><td>&quot;MUJER&quot;</td><td>1955-10-15</td><td>&quot;NINGUNO&quot;</td><td>&quot;SANTIAGO&quot;</td><td>&quot;PEÑALOLÉN&quot;</td><td>&quot;CHILE&quot;</td><td>&quot;FONASA INSTITU…</td><td>&quot;METROPOLITANO …</td><td>&quot;CENTRO ESPECIA…</td><td>&quot;PROGRAMADA&quot;</td><td>&quot;CARDIOLOGÍA&quot;</td><td>&quot;HOSPITALIZACIÓ…</td><td>2019-01-14</td><td>&quot;CIRUGÍA CARDIO…</td><td>null</td><td>null</td><td>null</td><td>null</td><td>null</td><td>null</td><td>null</td><td>null</td><td>null</td><td>null</td><td>null</td><td>null</td><td>null</td><td>null</td><td>null</td><td>null</td><td>null</td><td>null</td><td>2019-01-17</td><td>&quot;CIRUGÍA CARDIO…</td><td>&quot;DOMICILIO&quot;</td><td>&hellip;</td><td>&quot;99.19&quot;</td><td>&quot;99.29&quot;</td><td>&quot;89.54&quot;</td><td>&quot;93.96&quot;</td><td>null</td><td>null</td><td>null</td><td>null</td><td>null</td><td>null</td><td>null</td><td>null</td><td>null</td><td>null</td><td>null</td><td>null</td><td>null</td><td>null</td><td>null</td><td>null</td><td>null</td><td>null</td><td>null</td><td>null</td><td>null</td><td>null</td><td>null</td><td>null</td><td>5185</td><td>&quot;2&quot;</td><td>51151</td><td>0.8838</td><td>1</td><td>1</td><td>null</td><td>3d</td><td>2019</td></tr><tr><td>112103</td><td>1084360</td><td>&quot;HOMBRE&quot;</td><td>1959-04-03</td><td>&quot;NINGUNO&quot;</td><td>&quot;PETORCA&quot;</td><td>&quot;LA LIGUA&quot;</td><td>&quot;CHILE&quot;</td><td>&quot;FONASA INSTITU…</td><td>&quot;VIÑA DEL MAR Q…</td><td>&quot;CENTRO ESPECIA…</td><td>&quot;PROGRAMADA&quot;</td><td>&quot;ONCOLOGÍA MÉDI…</td><td>&quot;HOSPITALIZACIÓ…</td><td>2019-08-26</td><td>&quot;AREA MÉDICA&quot;</td><td>null</td><td>null</td><td>null</td><td>null</td><td>null</td><td>null</td><td>null</td><td>null</td><td>null</td><td>null</td><td>null</td><td>null</td><td>null</td><td>null</td><td>null</td><td>null</td><td>null</td><td>null</td><td>2019-08-26</td><td>&quot;AREA MÉDICA&quot;</td><td>&quot;DOMICILIO&quot;</td><td>&hellip;</td><td>null</td><td>null</td><td>null</td><td>null</td><td>null</td><td>null</td><td>null</td><td>null</td><td>null</td><td>null</td><td>null</td><td>null</td><td>null</td><td>null</td><td>null</td><td>null</td><td>null</td><td>null</td><td>null</td><td>null</td><td>null</td><td>null</td><td>null</td><td>null</td><td>null</td><td>null</td><td>null</td><td>null</td><td>9037</td><td>null</td><td>174133</td><td>1.997</td><td>3</td><td>3</td><td>null</td><td>0ms</td><td>2019</td></tr><tr><td>112103</td><td>822388</td><td>&quot;MUJER&quot;</td><td>1941-07-20</td><td>&quot;NINGUNO&quot;</td><td>&quot;CORDILLERA&quot;</td><td>&quot;PUENTE ALTO&quot;</td><td>&quot;CHILE&quot;</td><td>&quot;FONASA INSTITU…</td><td>&quot;METROPOLITANO …</td><td>&quot;CENTRO ESPECIA…</td><td>&quot;PROGRAMADA&quot;</td><td>&quot;ONCOLOGÍA MÉDI…</td><td>&quot;HOSPITALIZACIÓ…</td><td>2019-01-09</td><td>&quot;AREA MÉDICA&quot;</td><td>null</td><td>null</td><td>null</td><td>null</td><td>null</td><td>null</td><td>null</td><td>null</td><td>null</td><td>null</td><td>null</td><td>null</td><td>null</td><td>null</td><td>null</td><td>null</td><td>null</td><td>null</td><td>2019-01-09</td><td>&quot;AREA MÉDICA&quot;</td><td>&quot;DOMICILIO&quot;</td><td>&hellip;</td><td>null</td><td>null</td><td>null</td><td>null</td><td>null</td><td>null</td><td>null</td><td>null</td><td>null</td><td>null</td><td>null</td><td>null</td><td>null</td><td>null</td><td>null</td><td>null</td><td>null</td><td>null</td><td>null</td><td>null</td><td>null</td><td>null</td><td>null</td><td>null</td><td>null</td><td>null</td><td>null</td><td>null</td><td>7313</td><td>null</td><td>174132</td><td>0.9168</td><td>2</td><td>3</td><td>null</td><td>0ms</td><td>2019</td></tr><tr><td>112103</td><td>317615</td><td>&quot;HOMBRE&quot;</td><td>1949-05-28</td><td>&quot;NINGUNO&quot;</td><td>&quot;SANTIAGO&quot;</td><td>&quot;ÑUÑOA&quot;</td><td>&quot;CHILE&quot;</td><td>&quot;FONASA INSTITU…</td><td>&quot;METROPOLITANO …</td><td>&quot;APS URGENCIA (…</td><td>&quot;URGENCIA&quot;</td><td>&quot;CARDIOLOGÍA&quot;</td><td>&quot;HOSPITALIZACIÓ…</td><td>2019-02-18</td><td>&quot;UNIDAD DE RECU…</td><td>null</td><td>null</td><td>null</td><td>null</td><td>null</td><td>null</td><td>null</td><td>null</td><td>null</td><td>null</td><td>null</td><td>null</td><td>null</td><td>null</td><td>null</td><td>null</td><td>null</td><td>null</td><td>2019-02-18</td><td>&quot;UNIDAD DE RECU…</td><td>&quot;DERIVACIÓN OTR…</td><td>&hellip;</td><td>&quot;93.96&quot;</td><td>&quot;99.19&quot;</td><td>&quot;99.26&quot;</td><td>&quot;99.29&quot;</td><td>&quot;89.54&quot;</td><td>null</td><td>null</td><td>null</td><td>null</td><td>null</td><td>null</td><td>null</td><td>null</td><td>null</td><td>null</td><td>null</td><td>null</td><td>null</td><td>null</td><td>null</td><td>null</td><td>null</td><td>null</td><td>null</td><td>null</td><td>null</td><td>null</td><td>null</td><td>11991</td><td>&quot;2&quot;</td><td>52420</td><td>1.7114</td><td>0</td><td>0</td><td>null</td><td>0ms</td><td>2019</td></tr><tr><td>112103</td><td>1397457</td><td>&quot;MUJER&quot;</td><td>1951-06-19</td><td>&quot;NINGUNO&quot;</td><td>&quot;SANTIAGO&quot;</td><td>&quot;SAN JOAQUÍN&quot;</td><td>&quot;CHILE&quot;</td><td>&quot;FONASA INSTITU…</td><td>&quot;METROPOLITANO …</td><td>&quot;OTRAS INSTITUC…</td><td>&quot;URGENCIA&quot;</td><td>&quot;CIRUGÍA CARDIO…</td><td>&quot;HOSPITALIZACIÓ…</td><td>2019-06-18</td><td>&quot;UNIDAD DE TRAT…</td><td>2019-06-29</td><td>&quot;UNIDAD DE CUID…</td><td>2019-06-30</td><td>&quot;UNIDAD DE TRAT…</td><td>2019-07-02</td><td>&quot;CIRUGÍA CARDIO…</td><td>null</td><td>null</td><td>null</td><td>null</td><td>null</td><td>null</td><td>null</td><td>null</td><td>null</td><td>null</td><td>null</td><td>null</td><td>2019-07-05</td><td>&quot;CIRUGÍA CARDIO…</td><td>&quot;DOMICILIO&quot;</td><td>&hellip;</td><td>&quot;42.23&quot;</td><td>&quot;89.61&quot;</td><td>&quot;89.62&quot;</td><td>&quot;57.94&quot;</td><td>&quot;99.21&quot;</td><td>&quot;99.23&quot;</td><td>&quot;99.18&quot;</td><td>&quot;99.26&quot;</td><td>&quot;99.19&quot;</td><td>&quot;99.08&quot;</td><td>&quot;99.04&quot;</td><td>&quot;99.29&quot;</td><td>&quot;93.99&quot;</td><td>&quot;93.17&quot;</td><td>&quot;90.59&quot;</td><td>&quot;90.92&quot;</td><td>null</td><td>null</td><td>null</td><td>null</td><td>null</td><td>null</td><td>null</td><td>null</td><td>9108</td><td>null</td><td>2019-06-28</td><td>&quot;CIRUGÍA CARDIO…</td><td>884</td><td>&quot;1&quot;</td><td>51041</td><td>3.234</td><td>1</td><td>1</td><td>null</td><td>17d</td><td>2019</td></tr><tr><td>112103</td><td>1216893</td><td>&quot;HOMBRE&quot;</td><td>1948-12-10</td><td>&quot;NINGUNO&quot;</td><td>&quot;SANTIAGO&quot;</td><td>&quot;PEÑALOLÉN&quot;</td><td>&quot;CHILE&quot;</td><td>&quot;FONASA INSTITU…</td><td>&quot;METROPOLITANO …</td><td>&quot;CENTRO ESPECIA…</td><td>&quot;PROGRAMADA&quot;</td><td>&quot;CARDIOLOGÍA&quot;</td><td>&quot;HOSPITALIZACIÓ…</td><td>2019-09-25</td><td>&quot;UNIDAD DE RECU…</td><td>null</td><td>null</td><td>null</td><td>null</td><td>null</td><td>null</td><td>null</td><td>null</td><td>null</td><td>null</td><td>null</td><td>null</td><td>null</td><td>null</td><td>null</td><td>null</td><td>null</td><td>null</td><td>2019-09-25</td><td>&quot;UNIDAD DE RECU…</td><td>&quot;DOMICILIO&quot;</td><td>&hellip;</td><td>&quot;93.96&quot;</td><td>null</td><td>null</td><td>null</td><td>null</td><td>null</td><td>null</td><td>null</td><td>null</td><td>null</td><td>null</td><td>null</td><td>null</td><td>null</td><td>null</td><td>null</td><td>null</td><td>null</td><td>null</td><td>null</td><td>null</td><td>null</td><td>null</td><td>null</td><td>null</td><td>null</td><td>null</td><td>null</td><td>2767</td><td>&quot;2&quot;</td><td>52150</td><td>0.4102</td><td>0</td><td>0</td><td>null</td><td>0ms</td><td>2019</td></tr><tr><td>112103</td><td>856090</td><td>&quot;HOMBRE&quot;</td><td>1938-04-12</td><td>&quot;NINGUNO&quot;</td><td>&quot;SANTIAGO&quot;</td><td>&quot;ÑUÑOA&quot;</td><td>&quot;CHILE&quot;</td><td>&quot;FONASA INSTITU…</td><td>&quot;METROPOLITANO …</td><td>&quot;OTROS HOSPITAL…</td><td>&quot;URGENCIA&quot;</td><td>&quot;ENFERMEDADES R…</td><td>&quot;HOSPITALIZACIÓ…</td><td>2019-01-17</td><td>&quot;AREA MÉDICA&quot;</td><td>null</td><td>null</td><td>null</td><td>null</td><td>null</td><td>null</td><td>null</td><td>null</td><td>null</td><td>null</td><td>null</td><td>null</td><td>null</td><td>null</td><td>null</td><td>null</td><td>null</td><td>null</td><td>2019-01-25</td><td>&quot;AREA MÉDICA&quot;</td><td>&quot;DOMICILIO&quot;</td><td>&hellip;</td><td>&quot;90.42&quot;</td><td>&quot;90.49&quot;</td><td>&quot;91.32&quot;</td><td>&quot;91.39&quot;</td><td>&quot;90.59&quot;</td><td>&quot;93.17&quot;</td><td>&quot;93.99&quot;</td><td>&quot;89.08&quot;</td><td>null</td><td>null</td><td>null</td><td>null</td><td>null</td><td>null</td><td>null</td><td>null</td><td>null</td><td>null</td><td>null</td><td>null</td><td>null</td><td>null</td><td>null</td><td>null</td><td>null</td><td>null</td><td>null</td><td>null</td><td>4881</td><td>null</td><td>44152</td><td>0.9561</td><td>2</td><td>2</td><td>&quot;HOSPITAL DEL S…</td><td>8d</td><td>2019</td></tr><tr><td>112103</td><td>185393</td><td>&quot;HOMBRE&quot;</td><td>1995-03-26</td><td>&quot;NINGUNO&quot;</td><td>&quot;SANTIAGO&quot;</td><td>&quot;ESTACIÓN CENTR…</td><td>&quot;CHILE&quot;</td><td>&quot;FONASA INSTITU…</td><td>&quot;METROPOLITANO …</td><td>&quot;OTROS HOSPITAL…</td><td>&quot;URGENCIA&quot;</td><td>&quot;CIRUGÍA TÓRAX&quot;</td><td>&quot;HOSPITALIZACIÓ…</td><td>2019-01-24</td><td>&quot;AREA QUIRÚRGIC…</td><td>2019-01-29</td><td>&quot;UNIDAD DE TRAT…</td><td>2019-01-30</td><td>&quot;AREA QUIRÚRGIC…</td><td>null</td><td>null</td><td>null</td><td>null</td><td>null</td><td>null</td><td>null</td><td>null</td><td>null</td><td>null</td><td>null</td><td>null</td><td>null</td><td>null</td><td>2019-02-01</td><td>&quot;AREA QUIRÚRGIC…</td><td>&quot;DOMICILIO&quot;</td><td>&hellip;</td><td>&quot;88.02&quot;</td><td>&quot;88.47&quot;</td><td>&quot;87.44&quot;</td><td>&quot;89.54&quot;</td><td>&quot;99.21&quot;</td><td>&quot;99.08&quot;</td><td>&quot;99.26&quot;</td><td>&quot;99.19&quot;</td><td>&quot;99.29&quot;</td><td>&quot;93.96&quot;</td><td>&quot;93.99&quot;</td><td>&quot;93.18&quot;</td><td>&quot;90.59&quot;</td><td>&quot;90.92&quot;</td><td>&quot;90.99&quot;</td><td>&quot;89.08&quot;</td><td>null</td><td>null</td><td>null</td><td>null</td><td>null</td><td>null</td><td>null</td><td>null</td><td>11290</td><td>null</td><td>2019-01-29</td><td>&quot;CIRUGÍA TÓRAX&quot;</td><td>8252</td><td>&quot;1&quot;</td><td>41302</td><td>1.4807</td><td>2</td><td>2</td><td>&quot;HOSPITAL DE UR…</td><td>8d</td><td>2019</td></tr><tr><td>112103</td><td>1228478</td><td>&quot;MUJER&quot;</td><td>1944-09-06</td><td>&quot;NINGUNO&quot;</td><td>&quot;LINARES&quot;</td><td>&quot;PARRAL&quot;</td><td>&quot;CHILE&quot;</td><td>&quot;FONASA INSTITU…</td><td>&quot;DEL MAULE&quot;</td><td>&quot;CENTRO ESPECIA…</td><td>&quot;PROGRAMADA&quot;</td><td>&quot;CIRUGÍA TÓRAX&quot;</td><td>&quot;HOSPITALIZACIÓ…</td><td>2019-01-28</td><td>&quot;AREA QUIRÚRGIC…</td><td>null</td><td>null</td><td>null</td><td>null</td><td>null</td><td>null</td><td>null</td><td>null</td><td>null</td><td>null</td><td>null</td><td>null</td><td>null</td><td>null</td><td>null</td><td>null</td><td>null</td><td>null</td><td>2019-02-01</td><td>&quot;AREA QUIRÚRGIC…</td><td>&quot;DOMICILIO&quot;</td><td>&hellip;</td><td>null</td><td>null</td><td>null</td><td>null</td><td>null</td><td>null</td><td>null</td><td>null</td><td>null</td><td>null</td><td>null</td><td>null</td><td>null</td><td>null</td><td>null</td><td>null</td><td>null</td><td>null</td><td>null</td><td>null</td><td>null</td><td>null</td><td>null</td><td>null</td><td>null</td><td>null</td><td>null</td><td>null</td><td>8252</td><td>null</td><td>44141</td><td>0.6661</td><td>1</td><td>1</td><td>null</td><td>4d</td><td>2019</td></tr><tr><td>112103</td><td>1441678</td><td>&quot;HOMBRE&quot;</td><td>1949-11-21</td><td>&quot;NINGUNO&quot;</td><td>&quot;OSORNO&quot;</td><td>&quot;OSORNO&quot;</td><td>&quot;CHILE&quot;</td><td>&quot;FONASA INSTITU…</td><td>&quot;OSORNO&quot;</td><td>&quot;OTROS HOSPITAL…</td><td>&quot;URGENCIA&quot;</td><td>&quot;CIRUGÍA TÓRAX&quot;</td><td>&quot;HOSPITALIZACIÓ…</td><td>2019-01-09</td><td>&quot;AREA QUIRÚRGIC…</td><td>null</td><td>null</td><td>null</td><td>null</td><td>null</td><td>null</td><td>null</td><td>null</td><td>null</td><td>null</td><td>null</td><td>null</td><td>null</td><td>null</td><td>null</td><td>null</td><td>null</td><td>null</td><td>2019-02-01</td><td>&quot;AREA QUIRÚRGIC…</td><td>&quot;DOMICILIO&quot;</td><td>&hellip;</td><td>&quot;88.72&quot;</td><td>&quot;89.52&quot;</td><td>&quot;89.54&quot;</td><td>&quot;99.19&quot;</td><td>&quot;96.59&quot;</td><td>&quot;90.59&quot;</td><td>null</td><td>null</td><td>null</td><td>null</td><td>null</td><td>null</td><td>null</td><td>null</td><td>null</td><td>null</td><td>null</td><td>null</td><td>null</td><td>null</td><td>null</td><td>null</td><td>null</td><td>null</td><td>12907</td><td>null</td><td>2019-01-28</td><td>&quot;CIRUGÍA TÓRAX&quot;</td><td>6837</td><td>&quot;1&quot;</td><td>41103</td><td>3.5129</td><td>3</td><td>1</td><td>&quot;HOSPITAL BASE …</td><td>23d</td><td>2019</td></tr><tr><td>112103</td><td>1129042</td><td>&quot;HOMBRE&quot;</td><td>1943-10-27</td><td>&quot;NINGUNO&quot;</td><td>&quot;SANTIAGO&quot;</td><td>&quot;ÑUÑOA&quot;</td><td>&quot;CHILE&quot;</td><td>&quot;FONASA INSTITU…</td><td>&quot;METROPOLITANO …</td><td>&quot;CENTRO ESPECIA…</td><td>&quot;PROGRAMADA&quot;</td><td>&quot;ONCOLOGÍA MÉDI…</td><td>&quot;HOSPITALIZACIÓ…</td><td>2019-02-01</td><td>&quot;AREA MÉDICA&quot;</td><td>null</td><td>null</td><td>null</td><td>null</td><td>null</td><td>null</td><td>null</td><td>null</td><td>null</td><td>null</td><td>null</td><td>null</td><td>null</td><td>null</td><td>null</td><td>null</td><td>null</td><td>null</td><td>2019-02-01</td><td>&quot;AREA MÉDICA&quot;</td><td>&quot;DOMICILIO&quot;</td><td>&hellip;</td><td>null</td><td>null</td><td>null</td><td>null</td><td>null</td><td>null</td><td>null</td><td>null</td><td>null</td><td>null</td><td>null</td><td>null</td><td>null</td><td>null</td><td>null</td><td>null</td><td>null</td><td>null</td><td>null</td><td>null</td><td>null</td><td>null</td><td>null</td><td>null</td><td>null</td><td>null</td><td>null</td><td>null</td><td>13699</td><td>null</td><td>44141</td><td>0.6661</td><td>1</td><td>1</td><td>null</td><td>0ms</td><td>2019</td></tr><tr><td>112103</td><td>848224</td><td>&quot;HOMBRE&quot;</td><td>1959-11-11</td><td>&quot;NINGUNO&quot;</td><td>&quot;SANTIAGO&quot;</td><td>&quot;EL BOSQUE&quot;</td><td>&quot;CHILE&quot;</td><td>&quot;FONASA INSTITU…</td><td>&quot;METROPOLITANO …</td><td>&quot;OTROS HOSPITAL…</td><td>&quot;URGENCIA&quot;</td><td>&quot;CIRUGÍA CARDIO…</td><td>&quot;HOSPITALIZACIÓ…</td><td>2019-01-21</td><td>&quot;UNIDAD DE TRAT…</td><td>2019-01-23</td><td>&quot;CIRUGÍA CARDIO…</td><td>2019-01-27</td><td>&quot;UNIDAD DE CUID…</td><td>2019-01-29</td><td>&quot;UNIDAD DE TRAT…</td><td>2019-01-31</td><td>&quot;CIRUGÍA CARDIO…</td><td>null</td><td>null</td><td>null</td><td>null</td><td>null</td><td>null</td><td>null</td><td>null</td><td>null</td><td>null</td><td>2019-02-01</td><td>&quot;CIRUGÍA CARDIO…</td><td>&quot;DOMICILIO&quot;</td><td>&hellip;</td><td>&quot;38.91&quot;</td><td>&quot;88.72&quot;</td><td>&quot;42.23&quot;</td><td>&quot;89.61&quot;</td><td>&quot;89.62&quot;</td><td>&quot;89.65&quot;</td><td>&quot;57.94&quot;</td><td>&quot;99.21&quot;</td><td>&quot;99.23&quot;</td><td>&quot;99.18&quot;</td><td>&quot;99.26&quot;</td><td>&quot;99.19&quot;</td><td>&quot;99.29&quot;</td><td>&quot;99.08&quot;</td><td>&quot;89.52&quot;</td><td>&quot;89.54&quot;</td><td>&quot;87.44&quot;</td><td>&quot;93.96&quot;</td><td>&quot;93.99&quot;</td><td>&quot;93.17&quot;</td><td>&quot;90.59&quot;</td><td>&quot;90.92&quot;</td><td>&quot;91.39&quot;</td><td>null</td><td>9716</td><td>null</td><td>2019-01-27</td><td>&quot;CIRUGÍA CARDIO…</td><td>14683</td><td>&quot;1&quot;</td><td>51071</td><td>2.5592</td><td>1</td><td>2</td><td>&quot;HOSPITAL BARRO…</td><td>11d</td><td>2019</td></tr><tr><td>&hellip;</td><td>&hellip;</td><td>&hellip;</td><td>&hellip;</td><td>&hellip;</td><td>&hellip;</td><td>&hellip;</td><td>&hellip;</td><td>&hellip;</td><td>&hellip;</td><td>&hellip;</td><td>&hellip;</td><td>&hellip;</td><td>&hellip;</td><td>&hellip;</td><td>&hellip;</td><td>&hellip;</td><td>&hellip;</td><td>&hellip;</td><td>&hellip;</td><td>&hellip;</td><td>&hellip;</td><td>&hellip;</td><td>&hellip;</td><td>&hellip;</td><td>&hellip;</td><td>&hellip;</td><td>&hellip;</td><td>&hellip;</td><td>&hellip;</td><td>&hellip;</td><td>&hellip;</td><td>&hellip;</td><td>&hellip;</td><td>&hellip;</td><td>&hellip;</td><td>&hellip;</td><td>&hellip;</td><td>&hellip;</td><td>&hellip;</td><td>&hellip;</td><td>&hellip;</td><td>&hellip;</td><td>&hellip;</td><td>&hellip;</td><td>&hellip;</td><td>&hellip;</td><td>&hellip;</td><td>&hellip;</td><td>&hellip;</td><td>&hellip;</td><td>&hellip;</td><td>&hellip;</td><td>&hellip;</td><td>&hellip;</td><td>&hellip;</td><td>&hellip;</td><td>&hellip;</td><td>&hellip;</td><td>&hellip;</td><td>&hellip;</td><td>&hellip;</td><td>&hellip;</td><td>&hellip;</td><td>&hellip;</td><td>&hellip;</td><td>&hellip;</td><td>&hellip;</td><td>&hellip;</td><td>&hellip;</td><td>&hellip;</td><td>&hellip;</td><td>&hellip;</td><td>&hellip;</td><td>&hellip;</td></tr><tr><td>112103</td><td>78182938</td><td>&quot;HOMBRE&quot;</td><td>1945-04-01</td><td>&quot;NINGUNO&quot;</td><td>&quot;LOS ANDES&quot;</td><td>&quot;LOS ANDES&quot;</td><td>&quot;CHILE&quot;</td><td>&quot;FONASA INSTITU…</td><td>&quot;ACONCAGUA&quot;</td><td>&quot;CENTRO ESPECIA…</td><td>&quot;PROGRAMADA&quot;</td><td>&quot;CARDIOLOGÍA&quot;</td><td>&quot;HOSPITALIZACIÓ…</td><td>2021-08-06</td><td>&quot;AREA QUIRÚRGIC…</td><td>null</td><td>null</td><td>null</td><td>null</td><td>null</td><td>null</td><td>null</td><td>null</td><td>null</td><td>null</td><td>null</td><td>null</td><td>null</td><td>null</td><td>null</td><td>null</td><td>null</td><td>null</td><td>2021-08-07</td><td>&quot;AREA QUIRÚRGIC…</td><td>&quot;DOMICILIO&quot;</td><td>&hellip;</td><td>null</td><td>null</td><td>null</td><td>null</td><td>null</td><td>null</td><td>null</td><td>null</td><td>null</td><td>null</td><td>null</td><td>null</td><td>null</td><td>null</td><td>null</td><td>null</td><td>null</td><td>null</td><td>null</td><td>null</td><td>null</td><td>null</td><td>null</td><td>null</td><td>null</td><td>null</td><td>null</td><td>null</td><td>75652812</td><td>&quot;2&quot;</td><td>51143</td><td>2.5671</td><td>3</td><td>2</td><td>null</td><td>1d</td><td>2021</td></tr><tr><td>112103</td><td>79251397</td><td>&quot;HOMBRE&quot;</td><td>1945-08-12</td><td>&quot;NINGUNO&quot;</td><td>&quot;CORDILLERA&quot;</td><td>&quot;PUENTE ALTO&quot;</td><td>&quot;CHILE&quot;</td><td>&quot;FONASA INSTITU…</td><td>&quot;METROPOLITANO …</td><td>&quot;CENTRO ESPECIA…</td><td>&quot;PROGRAMADA&quot;</td><td>&quot;CIRUGÍA CARDIO…</td><td>&quot;HOSPITALIZACIÓ…</td><td>2021-09-28</td><td>&quot;AREA QUIRÚRGIC…</td><td>2021-09-29</td><td>&quot;UNIDAD DE CUID…</td><td>2021-10-01</td><td>&quot;UNIDAD DE TRAT…</td><td>2021-10-04</td><td>&quot;AREA QUIRÚRGIC…</td><td>null</td><td>null</td><td>null</td><td>null</td><td>null</td><td>null</td><td>null</td><td>null</td><td>null</td><td>null</td><td>null</td><td>null</td><td>2021-10-04</td><td>&quot;AREA QUIRÚRGIC…</td><td>&quot;DOMICILIO&quot;</td><td>&hellip;</td><td>&quot;93.96&quot;</td><td>&quot;99.21&quot;</td><td>&quot;99.26&quot;</td><td>&quot;87.44&quot;</td><td>&quot;93.99&quot;</td><td>&quot;93.17&quot;</td><td>&quot;90.59&quot;</td><td>null</td><td>null</td><td>null</td><td>null</td><td>null</td><td>null</td><td>null</td><td>null</td><td>null</td><td>null</td><td>null</td><td>null</td><td>null</td><td>null</td><td>null</td><td>null</td><td>null</td><td>83972509</td><td>null</td><td>2021-09-29</td><td>&quot;CIRUGÍA DE TÓR…</td><td>83972509</td><td>&quot;1&quot;</td><td>41103</td><td>3.5129</td><td>3</td><td>3</td><td>null</td><td>6d</td><td>2021</td></tr><tr><td>112103</td><td>81380742</td><td>&quot;HOMBRE&quot;</td><td>1973-05-31</td><td>&quot;NINGUNO&quot;</td><td>&quot;COPIAPO&quot;</td><td>&quot;COPIAPO&quot;</td><td>&quot;CHILE&quot;</td><td>&quot;FONASA INSTITU…</td><td>&quot;ATACAMA&quot;</td><td>&quot;OTROS HOSPITAL…</td><td>&quot;PROGRAMADA&quot;</td><td>&quot;CIRUGÍA CARDIO…</td><td>&quot;HOSPITALIZACIÓ…</td><td>2021-01-05</td><td>&quot;AREA QUIRÚRGIC…</td><td>2021-01-08</td><td>&quot;AREA MEDICO-QU…</td><td>2021-01-27</td><td>&quot;UNIDAD DE CUID…</td><td>2021-01-30</td><td>&quot;UNIDAD DE TRAT…</td><td>null</td><td>null</td><td>null</td><td>null</td><td>null</td><td>null</td><td>null</td><td>null</td><td>null</td><td>null</td><td>null</td><td>null</td><td>2021-02-05</td><td>&quot;UNIDAD DE TRAT…</td><td>&quot;DOMICILIO&quot;</td><td>&hellip;</td><td>&quot;38.91&quot;</td><td>&quot;57.94&quot;</td><td>&quot;38.93&quot;</td><td>&quot;88.72&quot;</td><td>&quot;42.23&quot;</td><td>&quot;87.41&quot;</td><td>&quot;00.17&quot;</td><td>&quot;87.44&quot;</td><td>&quot;93.96&quot;</td><td>&quot;99.21&quot;</td><td>&quot;99.19&quot;</td><td>&quot;99.29&quot;</td><td>&quot;90.59&quot;</td><td>&quot;91.39&quot;</td><td>&quot;89.52&quot;</td><td>&quot;89.54&quot;</td><td>&quot;93.17&quot;</td><td>&quot;93.99&quot;</td><td>&quot;97.41&quot;</td><td>null</td><td>null</td><td>null</td><td>null</td><td>null</td><td>88081876</td><td>null</td><td>2021-02-07</td><td>&quot;CIRUGÍA CARDIO…</td><td>88081876</td><td>&quot;1&quot;</td><td>51042</td><td>3.7833</td><td>2</td><td>2</td><td>&quot;HOSPITAL SAN J…</td><td>31d</td><td>2021</td></tr><tr><td>112103</td><td>79917874</td><td>&quot;HOMBRE&quot;</td><td>1953-09-28</td><td>&quot;NINGUNO&quot;</td><td>&quot;SANTIAGO&quot;</td><td>&quot;MACUL&quot;</td><td>&quot;CHILE&quot;</td><td>&quot;FONASA INSTITU…</td><td>&quot;METROPOLITANO …</td><td>&quot;CENTRO ESPECIA…</td><td>&quot;PROGRAMADA&quot;</td><td>&quot;ENFERMEDADES R…</td><td>&quot;HOSPITALIZACIÓ…</td><td>2021-03-30</td><td>&quot;AREA MEDICA AD…</td><td>2021-04-01</td><td>&quot;AREA QUIRÚRGIC…</td><td>null</td><td>null</td><td>null</td><td>null</td><td>null</td><td>null</td><td>null</td><td>null</td><td>null</td><td>null</td><td>null</td><td>null</td><td>null</td><td>null</td><td>null</td><td>null</td><td>2021-04-22</td><td>&quot;AREA QUIRÚRGIC…</td><td>&quot;DOMICILIO&quot;</td><td>&hellip;</td><td>&quot;89.52&quot;</td><td>&quot;90.42&quot;</td><td>&quot;90.49&quot;</td><td>&quot;94.11&quot;</td><td>null</td><td>null</td><td>null</td><td>null</td><td>null</td><td>null</td><td>null</td><td>null</td><td>null</td><td>null</td><td>null</td><td>null</td><td>null</td><td>null</td><td>null</td><td>null</td><td>null</td><td>null</td><td>null</td><td>null</td><td>null</td><td>null</td><td>null</td><td>null</td><td>79973891</td><td>null</td><td>44193</td><td>1.199</td><td>3</td><td>3</td><td>null</td><td>23d</td><td>2021</td></tr><tr><td>112103</td><td>75126981</td><td>&quot;MUJER&quot;</td><td>1973-08-07</td><td>&quot;NINGUNO&quot;</td><td>&quot;MELIPILLA&quot;</td><td>&quot;MELIPILLA&quot;</td><td>&quot;CHILE&quot;</td><td>&quot;FONASA INSTITU…</td><td>&quot;METROPOLITANO …</td><td>&quot;CENTRO ESPECIA…</td><td>&quot;PROGRAMADA&quot;</td><td>&quot;ENFERMEDADES R…</td><td>&quot;HOSPITALIZACIÓ…</td><td>2021-05-13</td><td>&quot;AREA QUIRÚRGIC…</td><td>null</td><td>null</td><td>null</td><td>null</td><td>null</td><td>null</td><td>null</td><td>null</td><td>null</td><td>null</td><td>null</td><td>null</td><td>null</td><td>null</td><td>null</td><td>null</td><td>null</td><td>null</td><td>2021-05-27</td><td>&quot;AREA QUIRÚRGIC…</td><td>&quot;DOMICILIO&quot;</td><td>&hellip;</td><td>&quot;90.43&quot;</td><td>&quot;90.59&quot;</td><td>&quot;89.08&quot;</td><td>null</td><td>null</td><td>null</td><td>null</td><td>null</td><td>null</td><td>null</td><td>null</td><td>null</td><td>null</td><td>null</td><td>null</td><td>null</td><td>null</td><td>null</td><td>null</td><td>null</td><td>null</td><td>null</td><td>null</td><td>null</td><td>null</td><td>null</td><td>null</td><td>null</td><td>80854988</td><td>null</td><td>44211</td><td>0.4203</td><td>1</td><td>1</td><td>null</td><td>14d</td><td>2021</td></tr><tr><td>112103</td><td>85733546</td><td>&quot;HOMBRE&quot;</td><td>1977-05-16</td><td>&quot;NINGUNO&quot;</td><td>&quot;SANTIAGO&quot;</td><td>&quot;PEÑALOLÉN&quot;</td><td>&quot;CHILE&quot;</td><td>&quot;FONASA INSTITU…</td><td>&quot;METROPOLITANO …</td><td>&quot;CENTRO ESPECIA…</td><td>&quot;PROGRAMADA&quot;</td><td>&quot;MEDICINA INTEN…</td><td>&quot;HOSPITALIZACIÓ…</td><td>2021-02-02</td><td>&quot;UNIDAD DE TRAT…</td><td>null</td><td>null</td><td>null</td><td>null</td><td>null</td><td>null</td><td>null</td><td>null</td><td>null</td><td>null</td><td>null</td><td>null</td><td>null</td><td>null</td><td>null</td><td>null</td><td>null</td><td>null</td><td>2021-02-03</td><td>&quot;UNIDAD DE TRAT…</td><td>&quot;DOMICILIO&quot;</td><td>&hellip;</td><td>null</td><td>null</td><td>null</td><td>null</td><td>null</td><td>null</td><td>null</td><td>null</td><td>null</td><td>null</td><td>null</td><td>null</td><td>null</td><td>null</td><td>null</td><td>null</td><td>null</td><td>null</td><td>null</td><td>null</td><td>null</td><td>null</td><td>null</td><td>null</td><td>null</td><td>null</td><td>null</td><td>null</td><td>87519465</td><td>&quot;2&quot;</td><td>54232</td><td>0.8048</td><td>2</td><td>1</td><td>null</td><td>1d</td><td>2021</td></tr><tr><td>112103</td><td>79135284</td><td>&quot;MUJER&quot;</td><td>1973-05-24</td><td>&quot;NINGUNO&quot;</td><td>&quot;SANTIAGO&quot;</td><td>&quot;SANTIAGO&quot;</td><td>&quot;CHILE&quot;</td><td>&quot;FONASA INSTITU…</td><td>&quot;METROPOLITANO …</td><td>&quot;CENTRO ESPECIA…</td><td>&quot;PROGRAMADA&quot;</td><td>&quot;CARDIOLOGÍA&quot;</td><td>&quot;HOSPITALIZACIÓ…</td><td>2021-11-19</td><td>&quot;AREA QUIRÚRGIC…</td><td>null</td><td>null</td><td>null</td><td>null</td><td>null</td><td>null</td><td>null</td><td>null</td><td>null</td><td>null</td><td>null</td><td>null</td><td>null</td><td>null</td><td>null</td><td>null</td><td>null</td><td>null</td><td>2021-11-20</td><td>&quot;AREA QUIRÚRGIC…</td><td>&quot;DOMICILIO&quot;</td><td>&hellip;</td><td>null</td><td>null</td><td>null</td><td>null</td><td>null</td><td>null</td><td>null</td><td>null</td><td>null</td><td>null</td><td>null</td><td>null</td><td>null</td><td>null</td><td>null</td><td>null</td><td>null</td><td>null</td><td>null</td><td>null</td><td>null</td><td>null</td><td>null</td><td>null</td><td>null</td><td>null</td><td>null</td><td>null</td><td>69049898</td><td>&quot;2&quot;</td><td>51153</td><td>1.7182</td><td>3</td><td>1</td><td>null</td><td>1d</td><td>2021</td></tr><tr><td>112103</td><td>75968176</td><td>&quot;MUJER&quot;</td><td>1995-08-12</td><td>&quot;NINGUNO&quot;</td><td>&quot;SANTIAGO&quot;</td><td>&quot;LA PINTANA&quot;</td><td>&quot;CHILE&quot;</td><td>&quot;FONASA INSTITU…</td><td>&quot;METROPOLITANO …</td><td>&quot;OTROS HOSPITAL…</td><td>&quot;URGENCIA&quot;</td><td>&quot;ENFERMEDADES R…</td><td>&quot;HOSPITALIZACIÓ…</td><td>2021-07-15</td><td>&quot;UNIDAD DE TRAT…</td><td>2021-07-24</td><td>&quot;AREA MEDICA AD…</td><td>null</td><td>null</td><td>null</td><td>null</td><td>null</td><td>null</td><td>null</td><td>null</td><td>null</td><td>null</td><td>null</td><td>null</td><td>null</td><td>null</td><td>null</td><td>null</td><td>2021-07-26</td><td>&quot;AREA MEDICA AD…</td><td>&quot;DOMICILIO&quot;</td><td>&hellip;</td><td>&quot;87.44&quot;</td><td>&quot;93.99&quot;</td><td>&quot;93.17&quot;</td><td>&quot;89.65&quot;</td><td>&quot;90.92&quot;</td><td>&quot;90.59&quot;</td><td>null</td><td>null</td><td>null</td><td>null</td><td>null</td><td>null</td><td>null</td><td>null</td><td>null</td><td>null</td><td>null</td><td>null</td><td>null</td><td>null</td><td>null</td><td>null</td><td>null</td><td>null</td><td>null</td><td>null</td><td>null</td><td>null</td><td>73184025</td><td>null</td><td>44153</td><td>1.5219</td><td>3</td><td>3</td><td>&quot;HOSPITAL PADRE…</td><td>11d</td><td>2021</td></tr><tr><td>112103</td><td>81034371</td><td>&quot;HOMBRE&quot;</td><td>1962-01-12</td><td>&quot;NINGUNO&quot;</td><td>&quot;SANTIAGO&quot;</td><td>&quot;PEÑALOLÉN&quot;</td><td>&quot;CHILE&quot;</td><td>&quot;FONASA INSTITU…</td><td>&quot;METROPOLITANO …</td><td>&quot;OTRAS INSTITUC…</td><td>&quot;URGENCIA&quot;</td><td>&quot;CIRUGÍA CARDIO…</td><td>&quot;HOSPITALIZACIÓ…</td><td>2021-07-03</td><td>&quot;UNIDAD DE TRAT…</td><td>2021-07-08</td><td>&quot;AREA MEDICO-QU…</td><td>2021-07-18</td><td>&quot;UNIDAD DE CUID…</td><td>2021-07-20</td><td>&quot;UNIDAD DE TRAT…</td><td>2021-07-30</td><td>&quot;AREA QUIRÚRGIC…</td><td>null</td><td>null</td><td>null</td><td>null</td><td>null</td><td>null</td><td>null</td><td>null</td><td>null</td><td>null</td><td>2021-07-30</td><td>&quot;AREA QUIRÚRGIC…</td><td>&quot;DOMICILIO&quot;</td><td>&hellip;</td><td>&quot;87.41&quot;</td><td>&quot;87.44&quot;</td><td>&quot;38.91&quot;</td><td>&quot;38.93&quot;</td><td>&quot;57.94&quot;</td><td>&quot;88.56&quot;</td><td>&quot;88.53&quot;</td><td>&quot;37.22&quot;</td><td>&quot;99.21&quot;</td><td>&quot;99.19&quot;</td><td>&quot;99.28&quot;</td><td>&quot;99.26&quot;</td><td>&quot;99.29&quot;</td><td>&quot;90.59&quot;</td><td>&quot;90.92&quot;</td><td>&quot;89.65&quot;</td><td>&quot;91.39&quot;</td><td>&quot;89.54&quot;</td><td>&quot;93.17&quot;</td><td>&quot;93.99&quot;</td><td>null</td><td>null</td><td>null</td><td>null</td><td>79254065</td><td>null</td><td>2021-07-18</td><td>&quot;CIRUGÍA CARDIO…</td><td>79254065</td><td>&quot;1&quot;</td><td>51023</td><td>7.7014</td><td>3</td><td>3</td><td>&quot;HOSPITAL CLÍNI…</td><td>27d</td><td>2021</td></tr><tr><td>112103</td><td>67821076</td><td>&quot;HOMBRE&quot;</td><td>1962-05-03</td><td>&quot;NINGUNO&quot;</td><td>&quot;IQUIQUE&quot;</td><td>&quot;IQUIQUE&quot;</td><td>&quot;CHILE&quot;</td><td>&quot;FONASA INSTITU…</td><td>&quot;IQUIQUE&quot;</td><td>&quot;OTROS HOSPITAL…</td><td>&quot;PROGRAMADA&quot;</td><td>&quot;CIRUGÍA CARDIO…</td><td>&quot;HOSPITALIZACIÓ…</td><td>2021-07-26</td><td>&quot;AREA QUIRÚRGIC…</td><td>2021-07-30</td><td>&quot;UNIDAD DE TRAT…</td><td>2021-08-05</td><td>&quot;UNIDAD DE TRAT…</td><td>2021-08-23</td><td>&quot;UNIDAD DE TRAT…</td><td>null</td><td>null</td><td>null</td><td>null</td><td>null</td><td>null</td><td>null</td><td>null</td><td>null</td><td>null</td><td>null</td><td>null</td><td>2021-09-05</td><td>&quot;UNIDAD DE TRAT…</td><td>&quot;DERIVACIÓN OTR…</td><td>&hellip;</td><td>&quot;88.53&quot;</td><td>&quot;38.95&quot;</td><td>&quot;00.39&quot;</td><td>&quot;39.95&quot;</td><td>&quot;88.72&quot;</td><td>&quot;89.54&quot;</td><td>&quot;99.21&quot;</td><td>&quot;99.19&quot;</td><td>&quot;99.17&quot;</td><td>&quot;99.29&quot;</td><td>&quot;87.41&quot;</td><td>&quot;87.44&quot;</td><td>&quot;93.99&quot;</td><td>&quot;93.17&quot;</td><td>&quot;90.52&quot;</td><td>&quot;89.65&quot;</td><td>&quot;89.66&quot;</td><td>&quot;90.59&quot;</td><td>&quot;96.59&quot;</td><td>&quot;94.11&quot;</td><td>null</td><td>null</td><td>null</td><td>null</td><td>76708282</td><td>null</td><td>2021-07-29</td><td>&quot;CIRUGÍA CARDIO…</td><td>69049898</td><td>&quot;1&quot;</td><td>51403</td><td>2.484</td><td>3</td><td>3</td><td>&quot;HOSPITAL DR. E…</td><td>41d</td><td>2021</td></tr><tr><td>112103</td><td>76198942</td><td>&quot;HOMBRE&quot;</td><td>1959-10-14</td><td>&quot;NINGUNO&quot;</td><td>&quot;ELQUI&quot;</td><td>&quot;LA SERENA&quot;</td><td>&quot;CHILE&quot;</td><td>&quot;FONASA INSTITU…</td><td>&quot;COQUIMBO&quot;</td><td>&quot;CENTRO ESPECIA…</td><td>&quot;PROGRAMADA&quot;</td><td>&quot;CARDIOLOGÍA&quot;</td><td>&quot;HOSPITALIZACIÓ…</td><td>2021-10-31</td><td>&quot;UNIDAD DE TRAT…</td><td>null</td><td>null</td><td>null</td><td>null</td><td>null</td><td>null</td><td>null</td><td>null</td><td>null</td><td>null</td><td>null</td><td>null</td><td>null</td><td>null</td><td>null</td><td>null</td><td>null</td><td>null</td><td>2021-11-04</td><td>&quot;UNIDAD DE TRAT…</td><td>&quot;DOMICILIO&quot;</td><td>&hellip;</td><td>&quot;96.59&quot;</td><td>&quot;93.17&quot;</td><td>&quot;93.99&quot;</td><td>&quot;89.52&quot;</td><td>&quot;89.54&quot;</td><td>&quot;90.59&quot;</td><td>&quot;89.59&quot;</td><td>null</td><td>null</td><td>null</td><td>null</td><td>null</td><td>null</td><td>null</td><td>null</td><td>null</td><td>null</td><td>null</td><td>null</td><td>null</td><td>null</td><td>null</td><td>null</td><td>null</td><td>null</td><td>null</td><td>null</td><td>null</td><td>69049898</td><td>&quot;2&quot;</td><td>51401</td><td>1.7184</td><td>1</td><td>1</td><td>null</td><td>4d</td><td>2021</td></tr><tr><td>112103</td><td>73993832</td><td>&quot;HOMBRE&quot;</td><td>1978-06-17</td><td>&quot;NINGUNO&quot;</td><td>&quot;CACHAPOAL&quot;</td><td>&quot;RENGO&quot;</td><td>&quot;CHILE&quot;</td><td>&quot;FONASA INSTITU…</td><td>&quot;LIBERTADOR B. …</td><td>&quot;CENTRO ESPECIA…</td><td>&quot;PROGRAMADA&quot;</td><td>&quot;CIRUGÍA CARDIO…</td><td>&quot;HOSPITALIZACIÓ…</td><td>2021-10-26</td><td>&quot;UNIDAD DE TRAT…</td><td>2021-10-27</td><td>&quot;AREA MEDICA AD…</td><td>2021-10-29</td><td>&quot;UNIDAD DE CUID…</td><td>2021-11-09</td><td>&quot;AREA QUIRÚRGIC…</td><td>2021-11-10</td><td>&quot;UNIDAD DE CUID…</td><td>2021-11-12</td><td>&quot;UNIDAD DE TRAT…</td><td>null</td><td>null</td><td>null</td><td>null</td><td>null</td><td>null</td><td>null</td><td>null</td><td>2021-11-16</td><td>&quot;UNIDAD DE TRAT…</td><td>&quot;DOMICILIO&quot;</td><td>&hellip;</td><td>&quot;96.71&quot;</td><td>&quot;96.04&quot;</td><td>&quot;88.72&quot;</td><td>&quot;87.41&quot;</td><td>&quot;87.44&quot;</td><td>&quot;93.96&quot;</td><td>&quot;38.91&quot;</td><td>&quot;38.93&quot;</td><td>&quot;57.94&quot;</td><td>&quot;99.26&quot;</td><td>&quot;99.19&quot;</td><td>&quot;99.29&quot;</td><td>&quot;93.17&quot;</td><td>&quot;93.99&quot;</td><td>&quot;89.54&quot;</td><td>&quot;89.65&quot;</td><td>&quot;90.59&quot;</td><td>null</td><td>null</td><td>null</td><td>null</td><td>null</td><td>null</td><td>null</td><td>76708282</td><td>null</td><td>2021-11-10</td><td>&quot;CIRUGÍA CARDIO…</td><td>76708282</td><td>&quot;1&quot;</td><td>51073</td><td>3.9336</td><td>3</td><td>2</td><td>null</td><td>21d</td><td>2021</td></tr></tbody></table></div>"
      ],
      "text/plain": [
       "shape: (13_468, 131)\n",
       "┌────────────┬────────────┬────────┬────────────┬───┬────────────┬────────────┬────────┬───────────┐\n",
       "│ COD_HOSPIT ┆ CIP_ENCRIP ┆ SEXO   ┆ FECHA_NACI ┆ … ┆ IR_29301_M ┆ HOSPPROCED ┆ ESTANC ┆ ANIO_EGRE │\n",
       "│ AL         ┆ TADO       ┆ ---    ┆ MIENTO     ┆   ┆ ORTALIDAD  ┆ ENCIA      ┆ IA     ┆ SO        │\n",
       "│ ---        ┆ ---        ┆ cat    ┆ ---        ┆   ┆ ---        ┆ ---        ┆ ---    ┆ ---       │\n",
       "│ i32        ┆ i32        ┆        ┆ date       ┆   ┆ i8         ┆ str        ┆ durati ┆ i32       │\n",
       "│            ┆            ┆        ┆            ┆   ┆            ┆            ┆ on[ms] ┆           │\n",
       "╞════════════╪════════════╪════════╪════════════╪═══╪════════════╪════════════╪════════╪═══════════╡\n",
       "│ 112103     ┆ 1137216    ┆ MUJER  ┆ 1955-10-15 ┆ … ┆ 1          ┆ null       ┆ 3d     ┆ 2019      │\n",
       "│ 112103     ┆ 1084360    ┆ HOMBRE ┆ 1959-04-03 ┆ … ┆ 3          ┆ null       ┆ 0ms    ┆ 2019      │\n",
       "│ 112103     ┆ 822388     ┆ MUJER  ┆ 1941-07-20 ┆ … ┆ 3          ┆ null       ┆ 0ms    ┆ 2019      │\n",
       "│ 112103     ┆ 317615     ┆ HOMBRE ┆ 1949-05-28 ┆ … ┆ 0          ┆ null       ┆ 0ms    ┆ 2019      │\n",
       "│ …          ┆ …          ┆ …      ┆ …          ┆ … ┆ …          ┆ …          ┆ …      ┆ …         │\n",
       "│ 112103     ┆ 81034371   ┆ HOMBRE ┆ 1962-01-12 ┆ … ┆ 3          ┆ HOSPITAL   ┆ 27d    ┆ 2021      │\n",
       "│            ┆            ┆        ┆            ┆   ┆            ┆ CLÍNICO    ┆        ┆           │\n",
       "│            ┆            ┆        ┆            ┆   ┆            ┆ UNIVERSIDA ┆        ┆           │\n",
       "│            ┆            ┆        ┆            ┆   ┆            ┆ D DE …     ┆        ┆           │\n",
       "│ 112103     ┆ 67821076   ┆ HOMBRE ┆ 1962-05-03 ┆ … ┆ 3          ┆ HOSPITAL   ┆ 41d    ┆ 2021      │\n",
       "│            ┆            ┆        ┆            ┆   ┆            ┆ DR.        ┆        ┆           │\n",
       "│            ┆            ┆        ┆            ┆   ┆            ┆ ERNESTO    ┆        ┆           │\n",
       "│            ┆            ┆        ┆            ┆   ┆            ┆ TORRES     ┆        ┆           │\n",
       "│            ┆            ┆        ┆            ┆   ┆            ┆ GALD…      ┆        ┆           │\n",
       "│ 112103     ┆ 76198942   ┆ HOMBRE ┆ 1959-10-14 ┆ … ┆ 1          ┆ null       ┆ 4d     ┆ 2021      │\n",
       "│ 112103     ┆ 73993832   ┆ HOMBRE ┆ 1978-06-17 ┆ … ┆ 2          ┆ null       ┆ 21d    ┆ 2021      │\n",
       "└────────────┴────────────┴────────┴────────────┴───┴────────────┴────────────┴────────┴───────────┘"
      ]
     },
     "execution_count": 24,
     "metadata": {},
     "output_type": "execute_result"
    }
   ],
   "source": [
    "torax"
   ]
  },
  {
   "cell_type": "code",
   "execution_count": null,
   "metadata": {},
   "outputs": [],
   "source": []
  }
 ],
 "metadata": {
  "kernelspec": {
   "display_name": "Python 3",
   "language": "python",
   "name": "python3"
  },
  "language_info": {
   "codemirror_mode": {
    "name": "ipython",
    "version": 3
   },
   "file_extension": ".py",
   "mimetype": "text/x-python",
   "name": "python",
   "nbconvert_exporter": "python",
   "pygments_lexer": "ipython3",
   "version": "3.10.9"
  },
  "orig_nbformat": 4
 },
 "nbformat": 4,
 "nbformat_minor": 2
}
