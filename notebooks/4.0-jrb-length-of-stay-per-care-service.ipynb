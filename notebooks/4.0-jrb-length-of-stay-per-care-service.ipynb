{
 "cells": [
  {
   "cell_type": "code",
   "execution_count": 1,
   "metadata": {},
   "outputs": [],
   "source": [
    "import pandas as pd\n",
    "import numpy as np\n",
    "\n",
    "import matplotlib.pyplot as plt\n",
    "import seaborn as sns\n",
    "\n",
    "sns.set_style()\n",
    "plt.rcParams['figure.figsize'] = (12, 6)"
   ]
  },
  {
   "cell_type": "code",
   "execution_count": 2,
   "metadata": {},
   "outputs": [],
   "source": [
    "vars_procedimientos = {f\"PROCEDIMIENTO{i}\": str for i in range(1, 31)}"
   ]
  },
  {
   "cell_type": "code",
   "execution_count": 3,
   "metadata": {},
   "outputs": [
    {
     "name": "stderr",
     "output_type": "stream",
     "text": [
      "C:\\Users\\ppizarro\\AppData\\Local\\Temp\\ipykernel_12920\\2020992259.py:1: DtypeWarning: Columns (24,25,26,27,28,29,30,31,32,33,37,41,43,47,51,75,76,77,78,79,80,81,82,83,84,85,86,87,123) have mixed types. Specify dtype option on import or set low_memory=False.\n",
      "  df_procesada = pd.read_csv(\"../data/processed/df_procesada.csv\", sep=\";\", dtype=vars_procedimientos)\n"
     ]
    }
   ],
   "source": [
    "df_procesada = pd.read_csv(\"../data/processed/df_procesada.csv\", sep=\";\", dtype=vars_procedimientos)"
   ]
  },
  {
   "cell_type": "code",
   "execution_count": 16,
   "metadata": {},
   "outputs": [],
   "source": [
    "COLUMNAS_SERVICIO_TRASLADO = [\n",
    "    \"SERVICIOINGRESO\",\n",
    "    \"SERVICIOTRASLADO1\",\n",
    "    \"SERVICIOTRASLADO2\",\n",
    "    \"SERVICIOTRASLADO3\",\n",
    "    \"SERVICIOTRASLADO4\",\n",
    "    \"SERVICIOTRASLADO5\",\n",
    "    \"SERVICIOTRASLADO6\",\n",
    "    \"SERVICIOTRASLADO7\",\n",
    "    \"SERVICIOTRASLADO8\",\n",
    "    \"SERVICIOTRASLADO9\",\n",
    "    \"SERVICIOALTA\",\n",
    "]\n",
    "\n",
    "COLUMNAS_FECHA_TRASLADO = [\n",
    "    \"FECHA_INGRESO\",\n",
    "    \"FECHATRASLADO1\",\n",
    "    \"FECHATRASLADO2\",\n",
    "    \"FECHATRASLADO3\",\n",
    "    \"FECHATRASLADO4\",\n",
    "    \"FECHATRASLADO5\",\n",
    "    \"FECHATRASLADO6\",\n",
    "    \"FECHATRASLADO7\",\n",
    "    \"FECHATRASLADO8\",\n",
    "    \"FECHATRASLADO9\",\n",
    "    \"FECHAALTA\",\n",
    "]\n",
    "\n",
    "\n",
    "# Filtra la base nacional para dejar el Torax\n",
    "df_torax = df_procesada.query(\"COD_HOSPITAL == 112103\")\n",
    "# Permite identificar cada egreso\n",
    "df_torax = df_torax.reset_index().reset_index(names=\"id_egreso\")"
   ]
  }
 ],
 "metadata": {
  "kernelspec": {
   "display_name": "grd-fonasa",
   "language": "python",
   "name": "python3"
  },
  "language_info": {
   "codemirror_mode": {
    "name": "ipython",
    "version": 3
   },
   "file_extension": ".py",
   "mimetype": "text/x-python",
   "name": "python",
   "nbconvert_exporter": "python",
   "pygments_lexer": "ipython3",
   "version": "3.11.5"
  }
 },
 "nbformat": 4,
 "nbformat_minor": 2
}
