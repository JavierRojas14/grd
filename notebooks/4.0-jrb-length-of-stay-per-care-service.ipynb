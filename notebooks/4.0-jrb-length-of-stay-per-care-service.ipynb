{
 "cells": [
  {
   "cell_type": "code",
   "execution_count": 2,
   "metadata": {},
   "outputs": [],
   "source": [
    "import pandas as pd\n",
    "import numpy as np\n",
    "\n",
    "import matplotlib.pyplot as plt\n",
    "import seaborn as sns\n",
    "\n",
    "sns.set_style()\n",
    "plt.rcParams['figure.figsize'] = (12, 6)"
   ]
  },
  {
   "cell_type": "code",
   "execution_count": 3,
   "metadata": {},
   "outputs": [],
   "source": [
    "vars_procedimientos = {f\"PROCEDIMIENTO{i}\": str for i in range(1, 31)}"
   ]
  },
  {
   "cell_type": "code",
   "execution_count": 4,
   "metadata": {},
   "outputs": [
    {
     "name": "stderr",
     "output_type": "stream",
     "text": [
      "C:\\Users\\ppizarro\\AppData\\Local\\Temp\\ipykernel_7140\\2020992259.py:1: DtypeWarning: Columns (24,25,26,27,28,29,30,31,32,33,37,41,43,47,51,75,76,77,78,79,80,81,82,83,84,85,86,87,123) have mixed types. Specify dtype option on import or set low_memory=False.\n",
      "  df_procesada = pd.read_csv(\"../data/processed/df_procesada.csv\", sep=\";\", dtype=vars_procedimientos)\n"
     ]
    }
   ],
   "source": [
    "df_procesada = pd.read_csv(\"../data/processed/df_procesada.csv\", sep=\";\", dtype=vars_procedimientos)"
   ]
  },
  {
   "cell_type": "code",
   "execution_count": 272,
   "metadata": {},
   "outputs": [],
   "source": [
    "COLUMNAS_SERVICIO_TRASLADO = {\n",
    "    \"SERVICIOINGRESO\": 0,\n",
    "    \"SERVICIOTRASLADO1\": 1,\n",
    "    \"SERVICIOTRASLADO2\": 2,\n",
    "    \"SERVICIOTRASLADO3\": 3,\n",
    "    \"SERVICIOTRASLADO4\": 4,\n",
    "    \"SERVICIOTRASLADO5\": 5,\n",
    "    \"SERVICIOTRASLADO6\": 6,\n",
    "    \"SERVICIOTRASLADO7\": 7,\n",
    "    \"SERVICIOTRASLADO8\": 8,\n",
    "    \"SERVICIOTRASLADO9\": 9,\n",
    "    \"SERVICIOALTA\": 10,\n",
    "}\n",
    "\n",
    "COLUMNAS_FECHA_TRASLADO = {\n",
    "    \"FECHA_INGRESO\": 0,\n",
    "    \"FECHATRASLADO1\": 1,\n",
    "    \"FECHATRASLADO2\": 2,\n",
    "    \"FECHATRASLADO3\": 3,\n",
    "    \"FECHATRASLADO4\": 4,\n",
    "    \"FECHATRASLADO5\": 5,\n",
    "    \"FECHATRASLADO6\": 6,\n",
    "    \"FECHATRASLADO7\": 7,\n",
    "    \"FECHATRASLADO8\": 8,\n",
    "    \"FECHATRASLADO9\": 9,\n",
    "    \"FECHAALTA\": 10,\n",
    "}\n",
    "\n",
    "TIPOS_DE_CAMAS = {\n",
    "    \"AREA MEDICA ADULTO CUIDADOS BASICOS\": \"Basicos\",\n",
    "    \"AREA MEDICA ADULTO CUIDADOS MEDIOS\": \"Medias\",\n",
    "    \"AREA MEDICO-QUIRURGICO CUIDADOS MEDIOS\": \"Medias\",\n",
    "    \"AREA MÉDICA\": \"Medias\",\n",
    "    \"AREA QUIRÚRGICA\": \"Medias\",\n",
    "    \"CIRUGÍA CARDIOVASCULAR\": \"Medias\",\n",
    "    \"UNIDAD DE CUIDADOS INTENSIVOS (UCI) (INDIFERENCIADO)\": \"UCI\",\n",
    "    \"UNIDAD DE CUIDADOS INTENSIVOS ADULTO\": \"UCI\",\n",
    "    \"UNIDAD DE CUIDADOS INTENSIVOS CARDIOLOGÍA\": \"UCI\",\n",
    "    \"UNIDAD DE RECUPERACIÓN DE PABELLONES (CENTRAL Y CMA)\": \"AMBULATORIO\",\n",
    "    \"UNIDAD DE TRATAMIENTO INTERMEDIO (UTI) (INDIFERENCIADO) ADULTO\": \"UTI\",\n",
    "    \"UNIDAD DE TRATAMIENTO INTERMEDIO CARDIOVASCULAR\": \"UTI\",\n",
    "    \"UNIDAD DE TRATAMIENTO INTERMEDIO CIRUGÍA ADULTO\": \"UTI\",\n",
    "    \"UNIDAD DE TRATAMIENTO INTERMEDIO MEDICINA ADULTO\": \"UTI\",\n",
    "    \"UNIDAD DE TRATAMIENTOS INTERMEDIOS MEDICINA\": \"UTI\",\n",
    "}\n",
    "\n",
    "\n",
    "# Filtra la base nacional para dejar el Torax\n",
    "df_torax = df_procesada.query(\"COD_HOSPITAL == 112103\")\n",
    "# Permite identificar cada egreso\n",
    "df_torax = df_torax.reset_index().reset_index(names=\"id_egreso\")"
   ]
  },
  {
   "cell_type": "code",
   "execution_count": 273,
   "metadata": {},
   "outputs": [],
   "source": [
    "# Convierte los servicios y las fechas en formato largo\n",
    "servicios_egreso_long = df_torax.melt(\n",
    "    id_vars=\"id_egreso\",\n",
    "    value_vars=COLUMNAS_SERVICIO_TRASLADO,\n",
    "    var_name=\"tipo_servicio\",\n",
    "    value_name=\"servicio\",\n",
    ")\n",
    "\n",
    "fechas_egreso_long = df_torax.melt(\n",
    "    id_vars=\"id_egreso\",\n",
    "    value_vars=COLUMNAS_FECHA_TRASLADO,\n",
    "    var_name=\"tipo_fecha\",\n",
    "    value_name=\"fecha\",\n",
    ")"
   ]
  },
  {
   "cell_type": "code",
   "execution_count": 274,
   "metadata": {},
   "outputs": [],
   "source": [
    "# Une los servicios y fechas respectivas para que esten en formato contiguo\n",
    "recorrido_egreso = pd.merge(\n",
    "    left=fechas_egreso_long,\n",
    "    right=servicios_egreso_long,\n",
    "    how=\"inner\",\n",
    "    left_index=True,\n",
    "    right_index=True,\n",
    ")\n",
    "\n",
    "# Indica el tipo de ordenamiento del tipo de servicio (\"SERVICIONGR\", \"SERVICIO1\", \"SERVICIOALTA\")\n",
    "recorrido_egreso[\"tipo_servicio\"] = pd.Categorical(\n",
    "    recorrido_egreso[\"tipo_servicio\"],\n",
    "    categories=COLUMNAS_SERVICIO_TRASLADO.keys(),\n",
    "    ordered=True,\n",
    ")\n",
    "\n",
    "# Ordena cada egreso segun su tipo de servicio (\"SERVICIONGR\", \"SERVICIO1\", \"SERVICIOALTA\")\n",
    "recorrido_egreso = recorrido_egreso.sort_values([\"id_egreso_x\", \"tipo_servicio\"])\n",
    "\n",
    "# Elimina filas sin ninguna fecha ingresada\n",
    "recorrido_egreso = recorrido_egreso.dropna()\n",
    "\n",
    "# Resetea los indices para que sean contiguos\n",
    "recorrido_egreso = recorrido_egreso.reset_index(drop=True)\n",
    "\n",
    "# Imputa fechas con formato de fechas\n",
    "recorrido_egreso[\"fecha\"] = pd.to_datetime(recorrido_egreso[\"fecha\"])"
   ]
  },
  {
   "cell_type": "code",
   "execution_count": 276,
   "metadata": {},
   "outputs": [],
   "source": [
    "# Calcula el tiempo de estancia por servicio\n",
    "recorrido_egreso[\"tiempo_de_estancia\"] = (\n",
    "    recorrido_egreso.groupby(\"id_egreso_x\")[\"fecha\"].diff().shift(-1)\n",
    ")\n",
    "\n",
    "# Identifica las fechas mal imputadas, donde el tiempo de estancia es negativo\n",
    "indices_egresos_con_tiempos_negativos = (\n",
    "    recorrido_egreso[recorrido_egreso[\"tiempo_de_estancia\"] < np.timedelta64(0)].index + 1\n",
    ")\n",
    "\n",
    "# Modifica las fechas erroneas, agregando 1 anio a la fecha\n",
    "recorrido_egreso.loc[indices_egresos_con_tiempos_negativos, \"fecha\"] = recorrido_egreso.loc[\n",
    "    indices_egresos_con_tiempos_negativos, \"fecha\"\n",
    "] + pd.offsets.DateOffset(years=1)\n",
    "\n",
    "# Recalcula el tiempo de estancia por servicio\n",
    "recorrido_egreso[\"tiempo_de_estancia\"] = (\n",
    "    recorrido_egreso.groupby(\"id_egreso_x\")[\"fecha\"].diff().shift(-1)\n",
    ")\n",
    "\n",
    "# Identifica las fechas mal imputadas, donde el tiempo de estancia es negativo\n",
    "indices_egresos_con_tiempos_0 = (\n",
    "    recorrido_egreso[recorrido_egreso[\"tiempo_de_estancia\"] == np.timedelta64(0)].index\n",
    ")\n",
    "\n",
    "# Modifica las fechas donde el tiempo es 0, imputandolos como 1 dia\n",
    "recorrido_egreso.loc[indices_egresos_con_tiempos_0, \"tiempo_de_estancia\"] = recorrido_egreso.loc[\n",
    "    indices_egresos_con_tiempos_0, \"tiempo_de_estancia\"\n",
    "] + pd.Timedelta(days=1)\n",
    "\n",
    "# Modifica el nombre del tipo de camas\n",
    "recorrido_egreso[\"servicio\"] = recorrido_egreso[\"servicio\"].replace(TIPOS_DE_CAMAS)"
   ]
  },
  {
   "cell_type": "code",
   "execution_count": 277,
   "metadata": {},
   "outputs": [
    {
     "data": {
      "text/plain": [
       "<Axes: ylabel='servicio'>"
      ]
     },
     "execution_count": 277,
     "metadata": {},
     "output_type": "execute_result"
    },
    {
     "data": {
      "image/png": "[encoded data removed]",
      "text/plain": [
       "<Figure size 1200x600 with 1 Axes>"
      ]
     },
     "metadata": {},
     "output_type": "display_data"
    }
   ],
   "source": [
    "recorrido_egreso.groupby(\"servicio\")[\"tiempo_de_estancia\"].sum().sort_values().plot(kind=\"barh\")"
   ]
  }
 ],
 "metadata": {
  "kernelspec": {
   "display_name": "grd-fonasa",
   "language": "python",
   "name": "python3"
  },
  "language_info": {
   "codemirror_mode": {
    "name": "ipython",
    "version": 3
   },
   "file_extension": ".py",
   "mimetype": "text/x-python",
   "name": "python",
   "nbconvert_exporter": "python",
   "pygments_lexer": "ipython3",
   "version": "3.11.5"
  }
 },
 "nbformat": 4,
 "nbformat_minor": 2
}
