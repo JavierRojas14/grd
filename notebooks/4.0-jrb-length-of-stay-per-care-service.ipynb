{
 "cells": [
  {
   "cell_type": "code",
   "execution_count": 2,
   "metadata": {},
   "outputs": [],
   "source": [
    "import pandas as pd\n",
    "import numpy as np\n",
    "\n",
    "import matplotlib.pyplot as plt\n",
    "import seaborn as sns\n",
    "\n",
    "sns.set_style()\n",
    "plt.rcParams['figure.figsize'] = (12, 6)"
   ]
  },
  {
   "cell_type": "code",
   "execution_count": 3,
   "metadata": {},
   "outputs": [],
   "source": [
    "vars_procedimientos = {f\"PROCEDIMIENTO{i}\": str for i in range(1, 31)}"
   ]
  },
  {
   "cell_type": "code",
   "execution_count": 4,
   "metadata": {},
   "outputs": [
    {
     "name": "stderr",
     "output_type": "stream",
     "text": [
      "C:\\Users\\ppizarro\\AppData\\Local\\Temp\\ipykernel_7140\\2020992259.py:1: DtypeWarning: Columns (24,25,26,27,28,29,30,31,32,33,37,41,43,47,51,75,76,77,78,79,80,81,82,83,84,85,86,87,123) have mixed types. Specify dtype option on import or set low_memory=False.\n",
      "  df_procesada = pd.read_csv(\"../data/processed/df_procesada.csv\", sep=\";\", dtype=vars_procedimientos)\n"
     ]
    }
   ],
   "source": [
    "df_procesada = pd.read_csv(\"../data/processed/df_procesada.csv\", sep=\";\", dtype=vars_procedimientos)"
   ]
  },
  {
   "cell_type": "code",
   "execution_count": 41,
   "metadata": {},
   "outputs": [],
   "source": [
    "COLUMNAS_SERVICIO_TRASLADO = {\n",
    "    \"SERVICIOINGRESO\": 0,\n",
    "    \"SERVICIOTRASLADO1\": 1,\n",
    "    \"SERVICIOTRASLADO2\": 2,\n",
    "    \"SERVICIOTRASLADO3\": 3,\n",
    "    \"SERVICIOTRASLADO4\": 4,\n",
    "    \"SERVICIOTRASLADO5\": 5,\n",
    "    \"SERVICIOTRASLADO6\": 6,\n",
    "    \"SERVICIOTRASLADO7\": 7,\n",
    "    \"SERVICIOTRASLADO8\": 8,\n",
    "    \"SERVICIOTRASLADO9\": 9,\n",
    "    \"SERVICIOALTA\": 10,\n",
    "}\n",
    "\n",
    "COLUMNAS_FECHA_TRASLADO = {\n",
    "    \"FECHA_INGRESO\": 0,\n",
    "    \"FECHATRASLADO1\": 1,\n",
    "    \"FECHATRASLADO2\": 2,\n",
    "    \"FECHATRASLADO3\": 3,\n",
    "    \"FECHATRASLADO4\": 4,\n",
    "    \"FECHATRASLADO5\": 5,\n",
    "    \"FECHATRASLADO6\": 6,\n",
    "    \"FECHATRASLADO7\": 7,\n",
    "    \"FECHATRASLADO8\": 8,\n",
    "    \"FECHATRASLADO9\": 9,\n",
    "    \"FECHAALTA\": 10,\n",
    "}\n",
    "\n",
    "\n",
    "# Filtra la base nacional para dejar el Torax\n",
    "df_torax = df_procesada.query(\"COD_HOSPITAL == 112103\")\n",
    "# Permite identificar cada egreso\n",
    "df_torax = df_torax.reset_index().reset_index(names=\"id_egreso\")"
   ]
  },
  {
   "cell_type": "code",
   "execution_count": 48,
   "metadata": {},
   "outputs": [],
   "source": [
    "servicios_egreso_long = df_torax.melt(\n",
    "    id_vars=\"id_egreso\",\n",
    "    value_vars=COLUMNAS_SERVICIO_TRASLADO,\n",
    "    var_name=\"tipo_servicio\",\n",
    "    value_name=\"servicio\",\n",
    ")\n",
    "\n",
    "fechas_egreso_long = df_torax.melt(\n",
    "    id_vars=\"id_egreso\",\n",
    "    value_vars=COLUMNAS_FECHA_TRASLADO,\n",
    "    var_name=\"tipo_fecha\",\n",
    "    value_name=\"fecha\",\n",
    ")"
   ]
  },
  {
   "cell_type": "code",
   "execution_count": 51,
   "metadata": {},
   "outputs": [],
   "source": [
    "servicio_y_fechas_egreso_contiguas = pd.merge(\n",
    "    left=fechas_egreso_long,\n",
    "    right=servicios_egreso_long,\n",
    "    how=\"inner\",\n",
    "    left_index=True,\n",
    "    right_index=True,\n",
    ")"
   ]
  }
 ],
 "metadata": {
  "kernelspec": {
   "display_name": "grd-fonasa",
   "language": "python",
   "name": "python3"
  },
  "language_info": {
   "codemirror_mode": {
    "name": "ipython",
    "version": 3
   },
   "file_extension": ".py",
   "mimetype": "text/x-python",
   "name": "python",
   "nbconvert_exporter": "python",
   "pygments_lexer": "ipython3",
   "version": "3.11.5"
  }
 },
 "nbformat": 4,
 "nbformat_minor": 2
}
