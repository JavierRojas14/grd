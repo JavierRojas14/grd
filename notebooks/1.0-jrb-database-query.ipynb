{
 "cells": [
  {
   "cell_type": "code",
   "execution_count": 1,
   "metadata": {},
   "outputs": [],
   "source": [
    "import pandas as pd\n",
    "import numpy as np\n",
    "\n",
    "import matplotlib.pyplot as plt\n",
    "import seaborn as sns\n",
    "\n",
    "sns.set_theme(palette='pastel')\n",
    "plt.rcParams['figure.figsize'] = (12, 6)\n",
    "pd.set_option('display.max_columns', None)"
   ]
  },
  {
   "cell_type": "code",
   "execution_count": 2,
   "metadata": {},
   "outputs": [
    {
     "name": "stderr",
     "output_type": "stream",
     "text": [
      "/var/folders/wy/2slj_t7s2vz19v2h2926qb340000gn/T/ipykernel_86051/977106801.py:1: DtypeWarning: Columns (85,86,88,90,129) have mixed types. Specify dtype option on import or set low_memory=False.\n",
      "  df_torax = pd.read_csv(\"../data/processed/df_procesada_112103.csv\", sep=\";\")\n"
     ]
    }
   ],
   "source": [
    "df_torax = pd.read_csv(\"../data/processed/df_procesada_112103.csv\", sep=\";\")\n",
    "df_torax[\"DIAGNOSTICO1\"] = df_torax[\"DIAGNOSTICO1\"].str.replace(\".\", \"\", regex=False)"
   ]
  },
  {
   "cell_type": "code",
   "execution_count": 3,
   "metadata": {},
   "outputs": [
    {
     "name": "stderr",
     "output_type": "stream",
     "text": [
      "/var/folders/wy/2slj_t7s2vz19v2h2926qb340000gn/T/ipykernel_86051/241678524.py:1: DtypeWarning: Columns (1,14,24,25,26,27,28,29,30,31,32,33,37,41,43,47,51,59,60,61,62,63,64,65,66,67,68,69,70,71,72,73,74,75,76,77,78,79,80,81,82,83,84,85,86,87,88,89,90,91,92,93,94,95,96,97,98,101,105,113,123,124,126,127,128,129) have mixed types. Specify dtype option on import or set low_memory=False.\n",
      "  df_pais = pd.read_csv(\"../data/processed/df_procesada.csv\", sep=\";\")\n"
     ]
    }
   ],
   "source": [
    "df_pais = pd.read_csv(\"../data/processed/df_procesada.csv\", sep=\";\")\n",
    "df_pais[\"DIAGNOSTICO1\"] = df_pais[\"DIAGNOSTICO1\"].str.replace(\".\", \"\", regex=False)"
   ]
  },
  {
   "cell_type": "code",
   "execution_count": 4,
   "metadata": {},
   "outputs": [],
   "source": [
    "comparacion_pesos = pd.concat([df_pais.groupby(\"ANIO_EGRESO\")[\"IR_29301_PESO\"].mean(), df_torax.groupby(\"ANIO_EGRESO\")[\"IR_29301_PESO\"].mean()], axis=1)"
   ]
  },
  {
   "cell_type": "code",
   "execution_count": 5,
   "metadata": {},
   "outputs": [
    {
     "data": {
      "text/html": [
       "<div>\n",
       "<style scoped>\n",
       "    .dataframe tbody tr th:only-of-type {\n",
       "        vertical-align: middle;\n",
       "    }\n",
       "\n",
       "    .dataframe tbody tr th {\n",
       "        vertical-align: top;\n",
       "    }\n",
       "\n",
       "    .dataframe thead th {\n",
       "        text-align: right;\n",
       "    }\n",
       "</style>\n",
       "<table border=\"1\" class=\"dataframe\">\n",
       "  <thead>\n",
       "    <tr style=\"text-align: right;\">\n",
       "      <th></th>\n",
       "      <th>IR_29301_PESO</th>\n",
       "      <th>IR_29301_PESO</th>\n",
       "    </tr>\n",
       "    <tr>\n",
       "      <th>ANIO_EGRESO</th>\n",
       "      <th></th>\n",
       "      <th></th>\n",
       "    </tr>\n",
       "  </thead>\n",
       "  <tbody>\n",
       "    <tr>\n",
       "      <th>2019.0</th>\n",
       "      <td>0.844829</td>\n",
       "      <td>1.568369</td>\n",
       "    </tr>\n",
       "    <tr>\n",
       "      <th>2020.0</th>\n",
       "      <td>1.006421</td>\n",
       "      <td>2.304669</td>\n",
       "    </tr>\n",
       "    <tr>\n",
       "      <th>2021.0</th>\n",
       "      <td>1.105357</td>\n",
       "      <td>2.666833</td>\n",
       "    </tr>\n",
       "    <tr>\n",
       "      <th>2022.0</th>\n",
       "      <td>0.973859</td>\n",
       "      <td>2.373713</td>\n",
       "    </tr>\n",
       "    <tr>\n",
       "      <th>2023.0</th>\n",
       "      <td>0.960288</td>\n",
       "      <td>2.374888</td>\n",
       "    </tr>\n",
       "  </tbody>\n",
       "</table>\n",
       "</div>"
      ],
      "text/plain": [
       "             IR_29301_PESO  IR_29301_PESO\n",
       "ANIO_EGRESO                              \n",
       "2019.0            0.844829       1.568369\n",
       "2020.0            1.006421       2.304669\n",
       "2021.0            1.105357       2.666833\n",
       "2022.0            0.973859       2.373713\n",
       "2023.0            0.960288       2.374888"
      ]
     },
     "execution_count": 5,
     "metadata": {},
     "output_type": "execute_result"
    }
   ],
   "source": [
    "comparacion_pesos"
   ]
  },
  {
   "cell_type": "code",
   "execution_count": 6,
   "metadata": {},
   "outputs": [
    {
     "data": {
      "text/plain": [
       "<Axes: xlabel='ANIO_EGRESO'>"
      ]
     },
     "execution_count": 6,
     "metadata": {},
     "output_type": "execute_result"
    },
    {
     "data": {
      "image/png": "[encoded data removed]",
      "text/plain": [
       "<Figure size 1200x600 with 1 Axes>"
      ]
     },
     "metadata": {},
     "output_type": "display_data"
    }
   ],
   "source": [
    "comparacion_pesos.plot(kind=\"bar\")"
   ]
  },
  {
   "cell_type": "code",
   "execution_count": 7,
   "metadata": {},
   "outputs": [],
   "source": [
    "DIAGS_CONGENITAS = [\n",
    "    \"Q201\",\n",
    "    \"Q202\",\n",
    "    \"Q203\",\n",
    "    \"Q204\",\n",
    "    \"Q205\",\n",
    "    \"Q206\",\n",
    "    \"Q208\",\n",
    "    \"Q209\",\n",
    "    \"Q210\",\n",
    "    \"Q211\",\n",
    "    \"Q212\",\n",
    "    \"Q213\",\n",
    "    \"Q214\",\n",
    "    \"Q218\",\n",
    "    \"Q220\",\n",
    "    \"Q221\",\n",
    "    \"Q222\",\n",
    "    \"Q223\",\n",
    "    \"Q224\",\n",
    "    \"Q225\",\n",
    "    \"Q228\",\n",
    "    \"Q230\",\n",
    "    \"Q231\",\n",
    "    \"Q233\",\n",
    "    \"Q240\",\n",
    "    \"Q241\",\n",
    "    \"Q244\",\n",
    "    \"Q245\",\n",
    "    \"Q246\",\n",
    "    \"Q248\",\n",
    "    \"Q249\",\n",
    "    \"Q250\",\n",
    "    \"Q251\",\n",
    "    \"Q253\",\n",
    "    \"Q254\",\n",
    "    \"Q255\",\n",
    "    \"Q256\",\n",
    "    \"Q257\",\n",
    "    \"Q258\",\n",
    "    \"Q259\",\n",
    "    \"Q264\",\n",
    "    \"Q268\",\n",
    "    \"Q272\",\n",
    "    \"Q273\",\n",
    "    \"Q288\",\n",
    "    \"Q289\",\n",
    "    \"Q311\",\n",
    "    \"Q320\",\n",
    "    \"Q321\",\n",
    "    \"Q330\",\n",
    "    \"Q331\",\n",
    "    \"Q332\",\n",
    "    \"Q334\",\n",
    "    \"Q338\",\n",
    "    \"Q341\",\n",
    "    \"Q348\",\n",
    "    \"Q678\",\n",
    "    \"Q765\",\n",
    "    \"Q766\",\n",
    "    \"Q767\",\n",
    "    \"Q768\",\n",
    "    \"Q769\",\n",
    "    \"Q780\",\n",
    "    \"Q790\",\n",
    "    \"Q798\",\n",
    "    \"Q839\",\n",
    "    \"Q850\",\n",
    "    \"Q858\",\n",
    "    \"Q859\",\n",
    "    \"Q874\",\n",
    "    \"Q893\",\n",
    "]\n",
    "\n",
    "# Reemplaza diagnosticos de congenitas\n",
    "df_torax[\"DIAGNOSTICO1\"] = df_torax[\"DIAGNOSTICO1\"].replace(DIAGS_CONGENITAS, \"QXXX\")"
   ]
  },
  {
   "cell_type": "code",
   "execution_count": 56,
   "metadata": {},
   "outputs": [],
   "source": [
    "df_congenita = df_torax.query(\"DIAGNOSTICO1 == 'QXXX'\")"
   ]
  },
  {
   "cell_type": "code",
   "execution_count": 57,
   "metadata": {},
   "outputs": [],
   "source": [
    "SERVICIOS_GES_CONGENITAS = [\n",
    "    \"ARICA\",\n",
    "    \"DEL RELONCAVÍ\",\n",
    "    \"IQUIQUE\",\n",
    "    \"ATACAMA\",\n",
    "    \"METROPOLITANO ORIENTE\",\n",
    "    \"METROPOLITANO SUR\",\n",
    "    \"CHILOÉ\",\n",
    "    \"DEL RELONCAVÍ\",\n",
    "    \"OSORNO\",\n",
    "    \"AYSEN\",\n",
    "    \"MAGALLANES\",\n",
    "]"
   ]
  },
  {
   "cell_type": "code",
   "execution_count": 58,
   "metadata": {},
   "outputs": [
    {
     "name": "stderr",
     "output_type": "stream",
     "text": [
      "/var/folders/wy/2slj_t7s2vz19v2h2926qb340000gn/T/ipykernel_86051/1073623221.py:1: SettingWithCopyWarning: \n",
      "A value is trying to be set on a copy of a slice from a DataFrame.\n",
      "Try using .loc[row_indexer,col_indexer] = value instead\n",
      "\n",
      "See the caveats in the documentation: https://pandas.pydata.org/pandas-docs/stable/user_guide/indexing.html#returning-a-view-versus-a-copy\n",
      "  df_congenita[\"PERTENECE_A_RED_GES\"] = np.where(\n"
     ]
    }
   ],
   "source": [
    "df_congenita[\"PERTENECE_A_RED_GES\"] = np.where(\n",
    "    df_congenita[\"SERVICIO_SALUD\"].isin(SERVICIOS_GES_CONGENITAS), \"Si\", \"No\"\n",
    ")"
   ]
  },
  {
   "cell_type": "code",
   "execution_count": 59,
   "metadata": {},
   "outputs": [],
   "source": [
    "resumen_congenitas = df_congenita.groupby([\"ANIO_EGRESO\", \"PERTENECE_A_RED_GES\"]).size().unstack()\n",
    "resumen_congenitas.loc[\"Total\"] = resumen_congenitas.sum()\n",
    "resumen_congenitas[\"%\"] = round((\n",
    "    resumen_congenitas[\"No\"] / (resumen_congenitas[\"No\"] + resumen_congenitas[\"Si\"])\n",
    ") * 100, 1)"
   ]
  },
  {
   "cell_type": "code",
   "execution_count": 60,
   "metadata": {},
   "outputs": [
    {
     "data": {
      "text/html": [
       "<div>\n",
       "<style scoped>\n",
       "    .dataframe tbody tr th:only-of-type {\n",
       "        vertical-align: middle;\n",
       "    }\n",
       "\n",
       "    .dataframe tbody tr th {\n",
       "        vertical-align: top;\n",
       "    }\n",
       "\n",
       "    .dataframe thead th {\n",
       "        text-align: right;\n",
       "    }\n",
       "</style>\n",
       "<table border=\"1\" class=\"dataframe\">\n",
       "  <thead>\n",
       "    <tr style=\"text-align: right;\">\n",
       "      <th>PERTENECE_A_RED_GES</th>\n",
       "      <th>No</th>\n",
       "      <th>Si</th>\n",
       "      <th>%</th>\n",
       "    </tr>\n",
       "    <tr>\n",
       "      <th>ANIO_EGRESO</th>\n",
       "      <th></th>\n",
       "      <th></th>\n",
       "      <th></th>\n",
       "    </tr>\n",
       "  </thead>\n",
       "  <tbody>\n",
       "    <tr>\n",
       "      <th>2019</th>\n",
       "      <td>80</td>\n",
       "      <td>52</td>\n",
       "      <td>60.6</td>\n",
       "    </tr>\n",
       "    <tr>\n",
       "      <th>2020</th>\n",
       "      <td>29</td>\n",
       "      <td>36</td>\n",
       "      <td>44.6</td>\n",
       "    </tr>\n",
       "    <tr>\n",
       "      <th>2021</th>\n",
       "      <td>69</td>\n",
       "      <td>66</td>\n",
       "      <td>51.1</td>\n",
       "    </tr>\n",
       "    <tr>\n",
       "      <th>2022</th>\n",
       "      <td>78</td>\n",
       "      <td>47</td>\n",
       "      <td>62.4</td>\n",
       "    </tr>\n",
       "    <tr>\n",
       "      <th>2023</th>\n",
       "      <td>74</td>\n",
       "      <td>57</td>\n",
       "      <td>56.5</td>\n",
       "    </tr>\n",
       "    <tr>\n",
       "      <th>Total</th>\n",
       "      <td>330</td>\n",
       "      <td>258</td>\n",
       "      <td>56.1</td>\n",
       "    </tr>\n",
       "  </tbody>\n",
       "</table>\n",
       "</div>"
      ],
      "text/plain": [
       "PERTENECE_A_RED_GES   No   Si     %\n",
       "ANIO_EGRESO                        \n",
       "2019                  80   52  60.6\n",
       "2020                  29   36  44.6\n",
       "2021                  69   66  51.1\n",
       "2022                  78   47  62.4\n",
       "2023                  74   57  56.5\n",
       "Total                330  258  56.1"
      ]
     },
     "execution_count": 60,
     "metadata": {},
     "output_type": "execute_result"
    }
   ],
   "source": [
    "resumen_congenitas"
   ]
  },
  {
   "cell_type": "code",
   "execution_count": 63,
   "metadata": {},
   "outputs": [],
   "source": [
    "resumen_congenitas_extenso = (\n",
    "    df_congenita.groupby([\"ANIO_EGRESO\", \"PERTENECE_A_RED_GES\", \"Nombre Región\", \"SERVICIO_SALUD\"])\n",
    "    .size()\n",
    "    .to_frame(name=\"n_egresos\")\n",
    ")"
   ]
  },
  {
   "cell_type": "code",
   "execution_count": 64,
   "metadata": {},
   "outputs": [],
   "source": [
    "with pd.ExcelWriter(\"../data/interim/resumen_congenitas.xlsx\") as file:\n",
    "    resumen_congenitas.to_excel(file, sheet_name=\"resumido\")\n",
    "    resumen_congenitas_extenso.to_excel(file, sheet_name=\"extenso\")"
   ]
  }
 ],
 "metadata": {
  "kernelspec": {
   "display_name": "grd-fonasa",
   "language": "python",
   "name": "python3"
  },
  "language_info": {
   "codemirror_mode": {
    "name": "ipython",
    "version": 3
   },
   "file_extension": ".py",
   "mimetype": "text/x-python",
   "name": "python",
   "nbconvert_exporter": "python",
   "pygments_lexer": "ipython3",
   "version": "3.11.5"
  }
 },
 "nbformat": 4,
 "nbformat_minor": 2
}
