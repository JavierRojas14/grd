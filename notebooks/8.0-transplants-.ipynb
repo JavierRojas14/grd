{
 "cells": [
  {
   "cell_type": "code",
   "execution_count": 1,
   "metadata": {},
   "outputs": [],
   "source": [
    "import sys\n",
    "import os\n",
    "\n",
    "project_root = os.path.abspath('..')\n",
    "if project_root not in sys.path:\n",
    "    sys.path.append(project_root)\n",
    " \n",
    "%load_ext autoreload\n",
    "%autoreload 2"
   ]
  },
  {
   "cell_type": "code",
   "execution_count": 3,
   "metadata": {},
   "outputs": [],
   "source": [
    "import pandas as pd\n",
    "import numpy as np\n",
    "\n",
    "import polars as pl\n",
    "import matplotlib.pyplot as plt\n",
    "import seaborn as sns\n",
    "\n",
    "sns.set_theme(palette='pastel')\n",
    "plt.rcParams['figure.figsize'] = (12, 6)\n",
    "pd.set_option('display.max_columns', None)"
   ]
  },
  {
   "cell_type": "code",
   "execution_count": 8,
   "metadata": {},
   "outputs": [],
   "source": [
    "# Lee la base de GRD del Torax\n",
    "df = (\n",
    "    pl.scan_csv(\"../data/processed/df_procesada.csv\", separator=\";\", infer_schema_length=0)\n",
    "    .filter((pl.col(\"COD_HOSPITAL\") == \"112103\") & (pl.col(\"TIPO_ACTIVIDAD\") == \"HOSPITALIZACIÓN\"))\n",
    "    .collect()\n",
    ")"
   ]
  },
  {
   "cell_type": "code",
   "execution_count": 9,
   "metadata": {},
   "outputs": [
    {
     "data": {
      "text/html": [
       "<div><style>\n",
       ".dataframe > thead > tr,\n",
       ".dataframe > tbody > tr {\n",
       "  text-align: right;\n",
       "  white-space: pre-wrap;\n",
       "}\n",
       "</style>\n",
       "<small>shape: (14_587, 137)</small><table border=\"1\" class=\"dataframe\"><thead><tr><th>COD_HOSPITAL</th><th>CIP_ENCRIPTADO</th><th>SEXO</th><th>FECHA_NACIMIENTO</th><th>ETNIA</th><th>PROVINCIA</th><th>COMUNA</th><th>NACIONALIDAD</th><th>PREVISION</th><th>SERVICIO_SALUD</th><th>TIPO_PROCEDENCIA</th><th>TIPO_INGRESO</th><th>ESPECIALIDAD_MEDICA</th><th>TIPO_ACTIVIDAD</th><th>FECHA_INGRESO</th><th>SERVICIOINGRESO</th><th>FECHATRASLADO1</th><th>SERVICIOTRASLADO1</th><th>FECHATRASLADO2</th><th>SERVICIOTRASLADO2</th><th>FECHATRASLADO3</th><th>SERVICIOTRASLADO3</th><th>FECHATRASLADO4</th><th>SERVICIOTRASLADO4</th><th>FECHATRASLADO5</th><th>SERVICIOTRASLADO5</th><th>FECHATRASLADO6</th><th>SERVICIOTRASLADO6</th><th>FECHATRASLADO7</th><th>SERVICIOTRASLADO7</th><th>FECHATRASLADO8</th><th>SERVICIOTRASLADO8</th><th>FECHATRASLADO9</th><th>SERVICIOTRASLADO9</th><th>FECHAALTA</th><th>SERVICIOALTA</th><th>TIPOALTA</th><th>&hellip;</th><th>PROCEDIMIENTO13</th><th>PROCEDIMIENTO14</th><th>PROCEDIMIENTO15</th><th>PROCEDIMIENTO16</th><th>PROCEDIMIENTO17</th><th>PROCEDIMIENTO18</th><th>PROCEDIMIENTO19</th><th>PROCEDIMIENTO20</th><th>PROCEDIMIENTO21</th><th>PROCEDIMIENTO22</th><th>PROCEDIMIENTO23</th><th>PROCEDIMIENTO24</th><th>PROCEDIMIENTO25</th><th>PROCEDIMIENTO26</th><th>PROCEDIMIENTO27</th><th>PROCEDIMIENTO28</th><th>PROCEDIMIENTO29</th><th>PROCEDIMIENTO30</th><th>MEDICOINTERV1_ENCRIPTADO</th><th>FECHAPROCEDIMIENTO1</th><th>FECHAINTERV1</th><th>ESPECIALIDADINTERVENCION</th><th>MEDICOALTA_ENCRIPTADO</th><th>USOSPABELLON</th><th>IR_29301_COD_GRD</th><th>IR_29301_PESO</th><th>IR_29301_SEVERIDAD</th><th>IR_29301_MORTALIDAD</th><th>HOSPPROCEDENCIA</th><th>ESTANCIA</th><th>ANIO_EGRESO</th><th>MES_EGRESO</th><th>FECHA</th><th>RANGO_ETARIO</th><th>cod_comuna</th><th>codregion</th><th>Nombre Región</th></tr><tr><td>str</td><td>str</td><td>str</td><td>str</td><td>str</td><td>str</td><td>str</td><td>str</td><td>str</td><td>str</td><td>str</td><td>str</td><td>str</td><td>str</td><td>str</td><td>str</td><td>str</td><td>str</td><td>str</td><td>str</td><td>str</td><td>str</td><td>str</td><td>str</td><td>str</td><td>str</td><td>str</td><td>str</td><td>str</td><td>str</td><td>str</td><td>str</td><td>str</td><td>str</td><td>str</td><td>str</td><td>str</td><td>&hellip;</td><td>str</td><td>str</td><td>str</td><td>str</td><td>str</td><td>str</td><td>str</td><td>str</td><td>str</td><td>str</td><td>str</td><td>str</td><td>str</td><td>str</td><td>str</td><td>str</td><td>str</td><td>str</td><td>str</td><td>str</td><td>str</td><td>str</td><td>str</td><td>str</td><td>str</td><td>str</td><td>str</td><td>str</td><td>str</td><td>str</td><td>str</td><td>str</td><td>str</td><td>str</td><td>str</td><td>str</td><td>str</td></tr></thead><tbody><tr><td>&quot;112103&quot;</td><td>&quot;1137216&quot;</td><td>&quot;MUJER&quot;</td><td>&quot;1955-10-15&quot;</td><td>&quot;NINGUNO&quot;</td><td>&quot;SANTIAGO&quot;</td><td>&quot;PEÑALOLÉN&quot;</td><td>&quot;CHILE&quot;</td><td>&quot;FONASA B&quot;</td><td>&quot;METROPOLITANO ORIENTE&quot;</td><td>&quot;CENTRO ESPECIALIDADES (CDT, CR…</td><td>&quot;PROGRAMADA&quot;</td><td>&quot;CARDIOLOGÍA&quot;</td><td>&quot;HOSPITALIZACIÓN&quot;</td><td>&quot;2019-01-14&quot;</td><td>&quot;CIRUGÍA CARDIOVASCULAR&quot;</td><td>null</td><td>null</td><td>null</td><td>null</td><td>null</td><td>null</td><td>null</td><td>null</td><td>null</td><td>null</td><td>null</td><td>null</td><td>null</td><td>null</td><td>null</td><td>null</td><td>null</td><td>null</td><td>&quot;2019-01-17&quot;</td><td>&quot;CIRUGÍA CARDIOVASCULAR&quot;</td><td>&quot;DOMICILIO&quot;</td><td>&hellip;</td><td>null</td><td>null</td><td>null</td><td>null</td><td>null</td><td>null</td><td>null</td><td>null</td><td>null</td><td>null</td><td>null</td><td>null</td><td>null</td><td>null</td><td>null</td><td>null</td><td>null</td><td>null</td><td>null</td><td>null</td><td>null</td><td>null</td><td>&quot;5185&quot;</td><td>&quot;2&quot;</td><td>&quot;051151&quot;</td><td>&quot;0.8838&quot;</td><td>&quot;1&quot;</td><td>&quot;1&quot;</td><td>null</td><td>&quot;3&quot;</td><td>&quot;2019&quot;</td><td>&quot;1&quot;</td><td>&quot;2019-1&quot;</td><td>&quot;(60, 70]&quot;</td><td>&quot;13122&quot;</td><td>&quot;13&quot;</td><td>&quot;Metropolitana de Santiago&quot;</td></tr><tr><td>&quot;112103&quot;</td><td>&quot;1084360&quot;</td><td>&quot;HOMBRE&quot;</td><td>&quot;1959-04-03&quot;</td><td>&quot;NINGUNO&quot;</td><td>&quot;PETORCA&quot;</td><td>&quot;LA LIGUA&quot;</td><td>&quot;CHILE&quot;</td><td>&quot;FONASA B&quot;</td><td>&quot;VIÑA DEL MAR QUILLOTA&quot;</td><td>&quot;CENTRO ESPECIALIDADES (CDT, CR…</td><td>&quot;PROGRAMADA&quot;</td><td>&quot;ONCOLOGÍA MÉDICA&quot;</td><td>&quot;HOSPITALIZACIÓN&quot;</td><td>&quot;2019-08-26&quot;</td><td>&quot;AREA MÉDICA&quot;</td><td>null</td><td>null</td><td>null</td><td>null</td><td>null</td><td>null</td><td>null</td><td>null</td><td>null</td><td>null</td><td>null</td><td>null</td><td>null</td><td>null</td><td>null</td><td>null</td><td>null</td><td>null</td><td>&quot;2019-08-26&quot;</td><td>&quot;AREA MÉDICA&quot;</td><td>&quot;DOMICILIO&quot;</td><td>&hellip;</td><td>null</td><td>null</td><td>null</td><td>null</td><td>null</td><td>null</td><td>null</td><td>null</td><td>null</td><td>null</td><td>null</td><td>null</td><td>null</td><td>null</td><td>null</td><td>null</td><td>null</td><td>null</td><td>null</td><td>null</td><td>null</td><td>null</td><td>&quot;9037&quot;</td><td>null</td><td>&quot;174133&quot;</td><td>&quot;1.997&quot;</td><td>&quot;3&quot;</td><td>&quot;3&quot;</td><td>null</td><td>&quot;0&quot;</td><td>&quot;2019&quot;</td><td>&quot;8&quot;</td><td>&quot;2019-8&quot;</td><td>&quot;(50, 60]&quot;</td><td>&quot;5401&quot;</td><td>&quot;5&quot;</td><td>&quot;de Valparaíso&quot;</td></tr><tr><td>&quot;112103&quot;</td><td>&quot;822388&quot;</td><td>&quot;MUJER&quot;</td><td>&quot;1941-07-20&quot;</td><td>&quot;NINGUNO&quot;</td><td>&quot;CORDILLERA&quot;</td><td>&quot;PUENTE ALTO&quot;</td><td>&quot;CHILE&quot;</td><td>&quot;FONASA B&quot;</td><td>&quot;METROPOLITANO SURORIENTE&quot;</td><td>&quot;CENTRO ESPECIALIDADES (CDT, CR…</td><td>&quot;PROGRAMADA&quot;</td><td>&quot;ONCOLOGÍA MÉDICA&quot;</td><td>&quot;HOSPITALIZACIÓN&quot;</td><td>&quot;2019-01-09&quot;</td><td>&quot;AREA MÉDICA&quot;</td><td>null</td><td>null</td><td>null</td><td>null</td><td>null</td><td>null</td><td>null</td><td>null</td><td>null</td><td>null</td><td>null</td><td>null</td><td>null</td><td>null</td><td>null</td><td>null</td><td>null</td><td>null</td><td>&quot;2019-01-09&quot;</td><td>&quot;AREA MÉDICA&quot;</td><td>&quot;DOMICILIO&quot;</td><td>&hellip;</td><td>null</td><td>null</td><td>null</td><td>null</td><td>null</td><td>null</td><td>null</td><td>null</td><td>null</td><td>null</td><td>null</td><td>null</td><td>null</td><td>null</td><td>null</td><td>null</td><td>null</td><td>null</td><td>null</td><td>null</td><td>null</td><td>null</td><td>&quot;7313&quot;</td><td>null</td><td>&quot;174132&quot;</td><td>&quot;0.9168&quot;</td><td>&quot;2&quot;</td><td>&quot;3&quot;</td><td>null</td><td>&quot;0&quot;</td><td>&quot;2019&quot;</td><td>&quot;1&quot;</td><td>&quot;2019-1&quot;</td><td>&quot;(70, 80]&quot;</td><td>&quot;13201&quot;</td><td>&quot;13&quot;</td><td>&quot;Metropolitana de Santiago&quot;</td></tr><tr><td>&quot;112103&quot;</td><td>&quot;1397457&quot;</td><td>&quot;MUJER&quot;</td><td>&quot;1951-06-19&quot;</td><td>&quot;NINGUNO&quot;</td><td>&quot;SANTIAGO&quot;</td><td>&quot;SAN JOAQUÍN&quot;</td><td>&quot;CHILE&quot;</td><td>&quot;FONASA D&quot;</td><td>&quot;METROPOLITANO SUR&quot;</td><td>&quot;OTRAS INSTITUCIONES SALUD (CLÍ…</td><td>&quot;URGENCIA&quot;</td><td>&quot;CIRUGÍA CARDIOVASCULAR&quot;</td><td>&quot;HOSPITALIZACIÓN&quot;</td><td>&quot;2019-06-18&quot;</td><td>&quot;UNIDAD DE TRATAMIENTO INTERMED…</td><td>&quot;2019-06-29&quot;</td><td>&quot;UNIDAD DE CUIDADOS INTENSIVOS …</td><td>&quot;2019-06-30&quot;</td><td>&quot;UNIDAD DE TRATAMIENTO INTERMED…</td><td>&quot;2019-07-02&quot;</td><td>&quot;CIRUGÍA CARDIOVASCULAR&quot;</td><td>null</td><td>null</td><td>null</td><td>null</td><td>null</td><td>null</td><td>null</td><td>null</td><td>null</td><td>null</td><td>null</td><td>null</td><td>&quot;2019-07-05&quot;</td><td>&quot;CIRUGÍA CARDIOVASCULAR&quot;</td><td>&quot;DOMICILIO&quot;</td><td>&hellip;</td><td>&quot;99.18&quot;</td><td>&quot;99.26&quot;</td><td>&quot;99.19&quot;</td><td>&quot;99.08&quot;</td><td>&quot;99.04&quot;</td><td>&quot;99.29&quot;</td><td>&quot;93.99&quot;</td><td>&quot;93.17&quot;</td><td>&quot;90.59&quot;</td><td>&quot;90.92&quot;</td><td>null</td><td>null</td><td>null</td><td>null</td><td>null</td><td>null</td><td>null</td><td>null</td><td>&quot;9108&quot;</td><td>null</td><td>&quot;2019-06-28&quot;</td><td>&quot;CIRUGÍA CARDIOVASCULAR&quot;</td><td>&quot;884&quot;</td><td>&quot;1&quot;</td><td>&quot;051041&quot;</td><td>&quot;3.234&quot;</td><td>&quot;1&quot;</td><td>&quot;1&quot;</td><td>null</td><td>&quot;17&quot;</td><td>&quot;2019&quot;</td><td>&quot;7&quot;</td><td>&quot;2019-7&quot;</td><td>&quot;(60, 70]&quot;</td><td>&quot;13129&quot;</td><td>&quot;13&quot;</td><td>&quot;Metropolitana de Santiago&quot;</td></tr><tr><td>&quot;112103&quot;</td><td>&quot;856090&quot;</td><td>&quot;HOMBRE&quot;</td><td>&quot;1938-04-12&quot;</td><td>&quot;NINGUNO&quot;</td><td>&quot;SANTIAGO&quot;</td><td>&quot;ÑUÑOA&quot;</td><td>&quot;CHILE&quot;</td><td>&quot;FONASA B&quot;</td><td>&quot;METROPOLITANO ORIENTE&quot;</td><td>&quot;OTROS HOSPITALES DE LA RED&quot;</td><td>&quot;URGENCIA&quot;</td><td>&quot;ENFERMEDADES RESPIRATORIAS&quot;</td><td>&quot;HOSPITALIZACIÓN&quot;</td><td>&quot;2019-01-17&quot;</td><td>&quot;AREA MÉDICA&quot;</td><td>null</td><td>null</td><td>null</td><td>null</td><td>null</td><td>null</td><td>null</td><td>null</td><td>null</td><td>null</td><td>null</td><td>null</td><td>null</td><td>null</td><td>null</td><td>null</td><td>null</td><td>null</td><td>&quot;2019-01-25&quot;</td><td>&quot;AREA MÉDICA&quot;</td><td>&quot;DOMICILIO&quot;</td><td>&hellip;</td><td>&quot;93.99&quot;</td><td>&quot;89.08&quot;</td><td>null</td><td>null</td><td>null</td><td>null</td><td>null</td><td>null</td><td>null</td><td>null</td><td>null</td><td>null</td><td>null</td><td>null</td><td>null</td><td>null</td><td>null</td><td>null</td><td>null</td><td>null</td><td>null</td><td>null</td><td>&quot;4881&quot;</td><td>null</td><td>&quot;044152&quot;</td><td>&quot;0.9561&quot;</td><td>&quot;2&quot;</td><td>&quot;2&quot;</td><td>&quot;HOSPITAL DEL SALVADOR (SANTIAG…</td><td>&quot;8&quot;</td><td>&quot;2019&quot;</td><td>&quot;1&quot;</td><td>&quot;2019-1&quot;</td><td>&quot;(80, 90]&quot;</td><td>&quot;13120&quot;</td><td>&quot;13&quot;</td><td>&quot;Metropolitana de Santiago&quot;</td></tr><tr><td>&hellip;</td><td>&hellip;</td><td>&hellip;</td><td>&hellip;</td><td>&hellip;</td><td>&hellip;</td><td>&hellip;</td><td>&hellip;</td><td>&hellip;</td><td>&hellip;</td><td>&hellip;</td><td>&hellip;</td><td>&hellip;</td><td>&hellip;</td><td>&hellip;</td><td>&hellip;</td><td>&hellip;</td><td>&hellip;</td><td>&hellip;</td><td>&hellip;</td><td>&hellip;</td><td>&hellip;</td><td>&hellip;</td><td>&hellip;</td><td>&hellip;</td><td>&hellip;</td><td>&hellip;</td><td>&hellip;</td><td>&hellip;</td><td>&hellip;</td><td>&hellip;</td><td>&hellip;</td><td>&hellip;</td><td>&hellip;</td><td>&hellip;</td><td>&hellip;</td><td>&hellip;</td><td>&hellip;</td><td>&hellip;</td><td>&hellip;</td><td>&hellip;</td><td>&hellip;</td><td>&hellip;</td><td>&hellip;</td><td>&hellip;</td><td>&hellip;</td><td>&hellip;</td><td>&hellip;</td><td>&hellip;</td><td>&hellip;</td><td>&hellip;</td><td>&hellip;</td><td>&hellip;</td><td>&hellip;</td><td>&hellip;</td><td>&hellip;</td><td>&hellip;</td><td>&hellip;</td><td>&hellip;</td><td>&hellip;</td><td>&hellip;</td><td>&hellip;</td><td>&hellip;</td><td>&hellip;</td><td>&hellip;</td><td>&hellip;</td><td>&hellip;</td><td>&hellip;</td><td>&hellip;</td><td>&hellip;</td><td>&hellip;</td><td>&hellip;</td><td>&hellip;</td><td>&hellip;</td><td>&hellip;</td></tr><tr><td>&quot;112103&quot;</td><td>&quot;67223571&quot;</td><td>&quot;HOMBRE&quot;</td><td>&quot;1986-10-07&quot;</td><td>&quot;OTRO&quot;</td><td>&quot;PETORCA&quot;</td><td>&quot;CABILDO&quot;</td><td>&quot;CHILE&quot;</td><td>&quot;FONASA B&quot;</td><td>&quot;VIÑA DEL MAR QUILLOTA&quot;</td><td>&quot;CENTRO ESPECIALIDADES (CDT, CR…</td><td>&quot;PROGRAMADA&quot;</td><td>&quot;CIRUGÍA DE TÓRAX&quot;</td><td>&quot;HOSPITALIZACIÓN&quot;</td><td>&quot;2022-10-18&quot;</td><td>&quot;AREA QUIRÚRGICA&quot;</td><td>&quot;2022-10-26&quot;</td><td>&quot;UNIDAD DE TRATAMIENTO INTERMED…</td><td>&quot;2022-10-27&quot;</td><td>&quot;AREA QUIRÚRGICA&quot;</td><td>null</td><td>null</td><td>null</td><td>null</td><td>null</td><td>null</td><td>null</td><td>null</td><td>null</td><td>null</td><td>null</td><td>null</td><td>null</td><td>null</td><td>&quot;2022-10-31&quot;</td><td>&quot;AREA QUIRÚRGICA&quot;</td><td>&quot;DOMICILIO&quot;</td><td>&hellip;</td><td>&quot;93.17&quot;</td><td>&quot;93.99&quot;</td><td>null</td><td>null</td><td>null</td><td>null</td><td>null</td><td>null</td><td>null</td><td>null</td><td>null</td><td>null</td><td>null</td><td>null</td><td>null</td><td>null</td><td>null</td><td>null</td><td>&quot;83972509.0&quot;</td><td>null</td><td>&quot;2022-10-24&quot;</td><td>&quot;CIRUGÍA DE TÓRAX&quot;</td><td>&quot;83972509&quot;</td><td>&quot;1.0&quot;</td><td>&quot;44151&quot;</td><td>&quot;0.7309&quot;</td><td>&quot;1&quot;</td><td>&quot;1&quot;</td><td>null</td><td>&quot;13&quot;</td><td>&quot;2022&quot;</td><td>&quot;10&quot;</td><td>&quot;2022-10&quot;</td><td>&quot;(30, 40]&quot;</td><td>&quot;5402&quot;</td><td>&quot;5&quot;</td><td>&quot;de Valparaíso&quot;</td></tr><tr><td>&quot;112103&quot;</td><td>&quot;76649691&quot;</td><td>&quot;HOMBRE&quot;</td><td>&quot;1999-11-05&quot;</td><td>&quot;OTRO&quot;</td><td>&quot;SANTIAGO&quot;</td><td>&quot;MAIPU&quot;</td><td>&quot;CHILE&quot;</td><td>&quot;FONASA B&quot;</td><td>&quot;METROPOLITANO CENTRAL&quot;</td><td>&quot;OTROS HOSPITALES RED NACIONAL&quot;</td><td>&quot;PROGRAMADA&quot;</td><td>&quot;CIRUGÍA DE TÓRAX&quot;</td><td>&quot;HOSPITALIZACIÓN&quot;</td><td>&quot;2022-03-16&quot;</td><td>&quot;AREA QUIRÚRGICA&quot;</td><td>null</td><td>null</td><td>null</td><td>null</td><td>null</td><td>null</td><td>null</td><td>null</td><td>null</td><td>null</td><td>null</td><td>null</td><td>null</td><td>null</td><td>null</td><td>null</td><td>null</td><td>null</td><td>&quot;2022-03-18&quot;</td><td>&quot;AREA QUIRÚRGICA&quot;</td><td>&quot;DOMICILIO&quot;</td><td>&hellip;</td><td>null</td><td>null</td><td>null</td><td>null</td><td>null</td><td>null</td><td>null</td><td>null</td><td>null</td><td>null</td><td>null</td><td>null</td><td>null</td><td>null</td><td>null</td><td>null</td><td>null</td><td>null</td><td>&quot;83972509.0&quot;</td><td>null</td><td>&quot;2022-03-17&quot;</td><td>&quot;CIRUGÍA DE TÓRAX&quot;</td><td>&quot;83972509&quot;</td><td>&quot;1.0&quot;</td><td>&quot;44201&quot;</td><td>&quot;0.5306&quot;</td><td>&quot;1&quot;</td><td>&quot;1&quot;</td><td>&quot;HOSPITAL CLÍNICO METROPOLITANO…</td><td>&quot;2&quot;</td><td>&quot;2022&quot;</td><td>&quot;3&quot;</td><td>&quot;2022-3&quot;</td><td>&quot;(20, 30]&quot;</td><td>&quot;13119&quot;</td><td>&quot;13&quot;</td><td>&quot;Metropolitana de Santiago&quot;</td></tr><tr><td>&quot;112103&quot;</td><td>&quot;79392150&quot;</td><td>&quot;MUJER&quot;</td><td>&quot;1935-10-15&quot;</td><td>&quot;OTRO&quot;</td><td>&quot;SANTIAGO&quot;</td><td>&quot;ÑUÑOA&quot;</td><td>&quot;CHILE&quot;</td><td>&quot;FONASA B&quot;</td><td>&quot;METROPOLITANO ORIENTE&quot;</td><td>&quot;OTROS HOSPITALES DE LA RED&quot;</td><td>&quot;PROGRAMADA&quot;</td><td>&quot;ENFERMEDADES RESPIRATORIAS DEL…</td><td>&quot;HOSPITALIZACIÓN&quot;</td><td>&quot;2022-02-24&quot;</td><td>&quot;AREA MEDICA ADULTO CUIDADOS ME…</td><td>null</td><td>null</td><td>null</td><td>null</td><td>null</td><td>null</td><td>null</td><td>null</td><td>null</td><td>null</td><td>null</td><td>null</td><td>null</td><td>null</td><td>null</td><td>null</td><td>null</td><td>null</td><td>&quot;2022-03-09&quot;</td><td>&quot;AREA MEDICA ADULTO CUIDADOS ME…</td><td>&quot;DOMICILIO&quot;</td><td>&hellip;</td><td>null</td><td>null</td><td>null</td><td>null</td><td>null</td><td>null</td><td>null</td><td>null</td><td>null</td><td>null</td><td>null</td><td>null</td><td>null</td><td>null</td><td>null</td><td>null</td><td>null</td><td>null</td><td>null</td><td>null</td><td>null</td><td>null</td><td>&quot;79973891&quot;</td><td>null</td><td>&quot;44153&quot;</td><td>&quot;1.5219&quot;</td><td>&quot;3&quot;</td><td>&quot;3&quot;</td><td>&quot;HOSPITAL DEL SALVADOR (SANTIAG…</td><td>&quot;13&quot;</td><td>&quot;2022&quot;</td><td>&quot;3&quot;</td><td>&quot;2022-3&quot;</td><td>&quot;(80, 90]&quot;</td><td>&quot;13120&quot;</td><td>&quot;13&quot;</td><td>&quot;Metropolitana de Santiago&quot;</td></tr><tr><td>&quot;112103&quot;</td><td>&quot;68456487&quot;</td><td>&quot;MUJER&quot;</td><td>&quot;1974-01-06&quot;</td><td>&quot;OTRO&quot;</td><td>&quot;SANTIAGO&quot;</td><td>&quot;SAN JOAQUÍN&quot;</td><td>&quot;CHILE&quot;</td><td>&quot;FONASA A&quot;</td><td>&quot;METROPOLITANO SUR&quot;</td><td>&quot;OTROS HOSPITALES RED NACIONAL&quot;</td><td>&quot;PROGRAMADA&quot;</td><td>&quot;CARDIOLOGÍA&quot;</td><td>&quot;HOSPITALIZACIÓN&quot;</td><td>&quot;2022-12-02&quot;</td><td>&quot;AREA QUIRÚRGICA&quot;</td><td>null</td><td>null</td><td>null</td><td>null</td><td>null</td><td>null</td><td>null</td><td>null</td><td>null</td><td>null</td><td>null</td><td>null</td><td>null</td><td>null</td><td>null</td><td>null</td><td>null</td><td>null</td><td>&quot;2022-12-02&quot;</td><td>&quot;AREA QUIRÚRGICA&quot;</td><td>&quot;DOMICILIO&quot;</td><td>&hellip;</td><td>null</td><td>null</td><td>null</td><td>null</td><td>null</td><td>null</td><td>null</td><td>null</td><td>null</td><td>null</td><td>null</td><td>null</td><td>null</td><td>null</td><td>null</td><td>null</td><td>null</td><td>null</td><td>null</td><td>null</td><td>null</td><td>null</td><td>&quot;72329289&quot;</td><td>&quot;2.0&quot;</td><td>&quot;51402&quot;</td><td>&quot;1.8183&quot;</td><td>&quot;2&quot;</td><td>&quot;3&quot;</td><td>&quot;HOSPITAL BARROS LUCO TRUDEAU (…</td><td>&quot;0&quot;</td><td>&quot;2022&quot;</td><td>&quot;12&quot;</td><td>&quot;2022-12&quot;</td><td>&quot;(40, 50]&quot;</td><td>&quot;13129&quot;</td><td>&quot;13&quot;</td><td>&quot;Metropolitana de Santiago&quot;</td></tr><tr><td>&quot;112103&quot;</td><td>&quot;69772493&quot;</td><td>&quot;HOMBRE&quot;</td><td>&quot;1963-11-12&quot;</td><td>&quot;OTRO&quot;</td><td>&quot;COIHAIQUE&quot;</td><td>&quot;COIHAIQUE&quot;</td><td>&quot;CHILE&quot;</td><td>&quot;FONASA A&quot;</td><td>&quot;AYSEN&quot;</td><td>&quot;OTROS HOSPITALES DE LA RED&quot;</td><td>&quot;URGENCIA&quot;</td><td>&quot;CARDIOLOGÍA&quot;</td><td>&quot;HOSPITALIZACIÓN&quot;</td><td>&quot;2022-07-23&quot;</td><td>&quot;UNIDAD DE TRATAMIENTO INTERMED…</td><td>&quot;2022-07-23&quot;</td><td>&quot;UNIDAD DE CUIDADOS INTENSIVOS …</td><td>&quot;2022-07-24&quot;</td><td>&quot;UNIDAD DE TRATAMIENTO INTERMED…</td><td>&quot;2022-08-04&quot;</td><td>&quot;AREA MEDICO-QUIRURGICO CUIDADO…</td><td>null</td><td>null</td><td>null</td><td>null</td><td>null</td><td>null</td><td>null</td><td>null</td><td>null</td><td>null</td><td>null</td><td>null</td><td>&quot;2022-08-05&quot;</td><td>&quot;AREA MEDICO-QUIRURGICO CUIDADO…</td><td>&quot;DOMICILIO&quot;</td><td>&hellip;</td><td>&quot;93.96&quot;</td><td>&quot;99.29&quot;</td><td>&quot;99.17&quot;</td><td>&quot;39.95&quot;</td><td>&quot;88.38&quot;</td><td>&quot;88.49&quot;</td><td>&quot;87.44&quot;</td><td>&quot;89.65&quot;</td><td>&quot;91.32&quot;</td><td>&quot;91.39&quot;</td><td>&quot;91.82&quot;</td><td>&quot;90.59&quot;</td><td>&quot;96.59&quot;</td><td>&quot;89.08&quot;</td><td>null</td><td>null</td><td>null</td><td>null</td><td>null</td><td>null</td><td>null</td><td>null</td><td>&quot;69049898&quot;</td><td>&quot;2.0&quot;</td><td>&quot;51402&quot;</td><td>&quot;1.8183&quot;</td><td>&quot;2&quot;</td><td>&quot;3&quot;</td><td>&quot;HOSPITAL DEL SALVADOR (SANTIAG…</td><td>&quot;13&quot;</td><td>&quot;2022&quot;</td><td>&quot;8&quot;</td><td>&quot;2022-8&quot;</td><td>&quot;(50, 60]&quot;</td><td>&quot;11101&quot;</td><td>&quot;11&quot;</td><td>&quot;de Aisén del Gral. C. Ibáñez d…</td></tr></tbody></table></div>"
      ],
      "text/plain": [
       "shape: (14_587, 137)\n",
       "┌────────────┬────────────┬────────┬───────────┬───┬───────────┬───────────┬───────────┬───────────┐\n",
       "│ COD_HOSPIT ┆ CIP_ENCRIP ┆ SEXO   ┆ FECHA_NAC ┆ … ┆ RANGO_ETA ┆ cod_comun ┆ codregion ┆ Nombre    │\n",
       "│ AL         ┆ TADO       ┆ ---    ┆ IMIENTO   ┆   ┆ RIO       ┆ a         ┆ ---       ┆ Región    │\n",
       "│ ---        ┆ ---        ┆ str    ┆ ---       ┆   ┆ ---       ┆ ---       ┆ str       ┆ ---       │\n",
       "│ str        ┆ str        ┆        ┆ str       ┆   ┆ str       ┆ str       ┆           ┆ str       │\n",
       "╞════════════╪════════════╪════════╪═══════════╪═══╪═══════════╪═══════════╪═══════════╪═══════════╡\n",
       "│ 112103     ┆ 1137216    ┆ MUJER  ┆ 1955-10-1 ┆ … ┆ (60, 70]  ┆ 13122     ┆ 13        ┆ Metropoli │\n",
       "│            ┆            ┆        ┆ 5         ┆   ┆           ┆           ┆           ┆ tana de   │\n",
       "│            ┆            ┆        ┆           ┆   ┆           ┆           ┆           ┆ Santiago  │\n",
       "│ 112103     ┆ 1084360    ┆ HOMBRE ┆ 1959-04-0 ┆ … ┆ (50, 60]  ┆ 5401      ┆ 5         ┆ de Valpar │\n",
       "│            ┆            ┆        ┆ 3         ┆   ┆           ┆           ┆           ┆ aíso      │\n",
       "│ 112103     ┆ 822388     ┆ MUJER  ┆ 1941-07-2 ┆ … ┆ (70, 80]  ┆ 13201     ┆ 13        ┆ Metropoli │\n",
       "│            ┆            ┆        ┆ 0         ┆   ┆           ┆           ┆           ┆ tana de   │\n",
       "│            ┆            ┆        ┆           ┆   ┆           ┆           ┆           ┆ Santiago  │\n",
       "│ 112103     ┆ 1397457    ┆ MUJER  ┆ 1951-06-1 ┆ … ┆ (60, 70]  ┆ 13129     ┆ 13        ┆ Metropoli │\n",
       "│            ┆            ┆        ┆ 9         ┆   ┆           ┆           ┆           ┆ tana de   │\n",
       "│            ┆            ┆        ┆           ┆   ┆           ┆           ┆           ┆ Santiago  │\n",
       "│ 112103     ┆ 856090     ┆ HOMBRE ┆ 1938-04-1 ┆ … ┆ (80, 90]  ┆ 13120     ┆ 13        ┆ Metropoli │\n",
       "│            ┆            ┆        ┆ 2         ┆   ┆           ┆           ┆           ┆ tana de   │\n",
       "│            ┆            ┆        ┆           ┆   ┆           ┆           ┆           ┆ Santiago  │\n",
       "│ …          ┆ …          ┆ …      ┆ …         ┆ … ┆ …         ┆ …         ┆ …         ┆ …         │\n",
       "│ 112103     ┆ 67223571   ┆ HOMBRE ┆ 1986-10-0 ┆ … ┆ (30, 40]  ┆ 5402      ┆ 5         ┆ de Valpar │\n",
       "│            ┆            ┆        ┆ 7         ┆   ┆           ┆           ┆           ┆ aíso      │\n",
       "│ 112103     ┆ 76649691   ┆ HOMBRE ┆ 1999-11-0 ┆ … ┆ (20, 30]  ┆ 13119     ┆ 13        ┆ Metropoli │\n",
       "│            ┆            ┆        ┆ 5         ┆   ┆           ┆           ┆           ┆ tana de   │\n",
       "│            ┆            ┆        ┆           ┆   ┆           ┆           ┆           ┆ Santiago  │\n",
       "│ 112103     ┆ 79392150   ┆ MUJER  ┆ 1935-10-1 ┆ … ┆ (80, 90]  ┆ 13120     ┆ 13        ┆ Metropoli │\n",
       "│            ┆            ┆        ┆ 5         ┆   ┆           ┆           ┆           ┆ tana de   │\n",
       "│            ┆            ┆        ┆           ┆   ┆           ┆           ┆           ┆ Santiago  │\n",
       "│ 112103     ┆ 68456487   ┆ MUJER  ┆ 1974-01-0 ┆ … ┆ (40, 50]  ┆ 13129     ┆ 13        ┆ Metropoli │\n",
       "│            ┆            ┆        ┆ 6         ┆   ┆           ┆           ┆           ┆ tana de   │\n",
       "│            ┆            ┆        ┆           ┆   ┆           ┆           ┆           ┆ Santiago  │\n",
       "│ 112103     ┆ 69772493   ┆ HOMBRE ┆ 1963-11-1 ┆ … ┆ (50, 60]  ┆ 11101     ┆ 11        ┆ de Aisén  │\n",
       "│            ┆            ┆        ┆ 2         ┆   ┆           ┆           ┆           ┆ del Gral. │\n",
       "│            ┆            ┆        ┆           ┆   ┆           ┆           ┆           ┆ C. Ibáñez │\n",
       "│            ┆            ┆        ┆           ┆   ┆           ┆           ┆           ┆ d…        │\n",
       "└────────────┴────────────┴────────┴───────────┴───┴───────────┴───────────┴───────────┴───────────┘"
      ]
     },
     "execution_count": 9,
     "metadata": {},
     "output_type": "execute_result"
    }
   ],
   "source": [
    "df"
   ]
  },
  {
   "cell_type": "code",
   "execution_count": null,
   "metadata": {},
   "outputs": [],
   "source": []
  }
 ],
 "metadata": {
  "kernelspec": {
   "display_name": "grd-fonasa",
   "language": "python",
   "name": "python3"
  },
  "language_info": {
   "codemirror_mode": {
    "name": "ipython",
    "version": 3
   },
   "file_extension": ".py",
   "mimetype": "text/x-python",
   "name": "python",
   "nbconvert_exporter": "python",
   "pygments_lexer": "ipython3",
   "version": "3.11.5"
  }
 },
 "nbformat": 4,
 "nbformat_minor": 2
}
