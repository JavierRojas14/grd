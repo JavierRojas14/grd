{
 "cells": [
  {
   "cell_type": "code",
   "execution_count": 1,
   "metadata": {},
   "outputs": [],
   "source": [
    "import sys\n",
    "import os\n",
    "\n",
    "project_root = os.path.abspath('..')\n",
    "if project_root not in sys.path:\n",
    "    sys.path.append(project_root)\n",
    " \n",
    "%load_ext autoreload\n",
    "%autoreload 2"
   ]
  },
  {
   "cell_type": "code",
   "execution_count": 16,
   "metadata": {},
   "outputs": [
    {
     "data": {
      "text/plain": [
       "polars.config.Config"
      ]
     },
     "execution_count": 16,
     "metadata": {},
     "output_type": "execute_result"
    }
   ],
   "source": [
    "import pandas as pd\n",
    "import numpy as np\n",
    "\n",
    "import polars as pl\n",
    "import matplotlib.pyplot as plt\n",
    "import seaborn as sns\n",
    "\n",
    "sns.set_theme(palette='pastel')\n",
    "plt.rcParams['figure.figsize'] = (12, 6)\n",
    "pd.set_option('display.max_columns', None)\n",
    "pl.Config.set_tbl_cols(-1)"
   ]
  },
  {
   "cell_type": "code",
   "execution_count": 21,
   "metadata": {},
   "outputs": [],
   "source": [
    "# Lee la base de GRD del Torax\n",
    "df_torax = (\n",
    "    pl.scan_csv(\"../data/processed/df_procesada.csv\", separator=\";\", infer_schema_length=0)\n",
    "    .filter((pl.col(\"COD_HOSPITAL\") == \"112103\") & (pl.col(\"TIPO_ACTIVIDAD\") == \"HOSPITALIZACIÓN\"))\n",
    "    .cast({\"ESTANCIA\": pl.Int32})\n",
    "    .collect()\n",
    ")"
   ]
  },
  {
   "cell_type": "code",
   "execution_count": 22,
   "metadata": {},
   "outputs": [],
   "source": [
    "# Codigos de Trasplante pulmon unilateral, bilateral y cardiaco, respectivamente\n",
    "CODIGOS_TRASPLANTE = [\"33.51\", \"33.52\", \"37.51\"]"
   ]
  },
  {
   "cell_type": "code",
   "execution_count": 23,
   "metadata": {},
   "outputs": [],
   "source": [
    "df_trasplantes = df_torax.filter(pl.col(\"PROCEDIMIENTO1\").is_in(CODIGOS_TRASPLANTE))"
   ]
  },
  {
   "cell_type": "code",
   "execution_count": 34,
   "metadata": {},
   "outputs": [
    {
     "data": {
      "text/html": [
       "<div><style>\n",
       ".dataframe > thead > tr,\n",
       ".dataframe > tbody > tr {\n",
       "  text-align: right;\n",
       "  white-space: pre-wrap;\n",
       "}\n",
       "</style>\n",
       "<small>shape: (9, 5)</small><table border=\"1\" class=\"dataframe\"><thead><tr><th>ANIO_EGRESO</th><th>PROCEDIMIENTO1</th><th>dias_estada_totales</th><th>n_egresos</th><th>dias_estada_promedio</th></tr><tr><td>str</td><td>str</td><td>i32</td><td>u32</td><td>f64</td></tr></thead><tbody><tr><td>&quot;2019&quot;</td><td>&quot;33.52&quot;</td><td>504</td><td>7</td><td>72.0</td></tr><tr><td>&quot;2019&quot;</td><td>&quot;37.51&quot;</td><td>812</td><td>12</td><td>67.666667</td></tr><tr><td>&quot;2020&quot;</td><td>&quot;33.52&quot;</td><td>222</td><td>3</td><td>74.0</td></tr><tr><td>&quot;2020&quot;</td><td>&quot;37.51&quot;</td><td>426</td><td>6</td><td>71.0</td></tr><tr><td>&quot;2021&quot;</td><td>&quot;33.51&quot;</td><td>32</td><td>2</td><td>16.0</td></tr><tr><td>&quot;2021&quot;</td><td>&quot;33.52&quot;</td><td>702</td><td>9</td><td>78.0</td></tr><tr><td>&quot;2021&quot;</td><td>&quot;37.51&quot;</td><td>448</td><td>7</td><td>64.0</td></tr><tr><td>&quot;2022&quot;</td><td>&quot;33.52&quot;</td><td>1102</td><td>8</td><td>137.75</td></tr><tr><td>&quot;2022&quot;</td><td>&quot;37.51&quot;</td><td>354</td><td>6</td><td>59.0</td></tr></tbody></table></div>"
      ],
      "text/plain": [
       "shape: (9, 5)\n",
       "┌─────────────┬────────────────┬─────────────────────┬───────────┬──────────────────────┐\n",
       "│ ANIO_EGRESO ┆ PROCEDIMIENTO1 ┆ dias_estada_totales ┆ n_egresos ┆ dias_estada_promedio │\n",
       "│ ---         ┆ ---            ┆ ---                 ┆ ---       ┆ ---                  │\n",
       "│ str         ┆ str            ┆ i32                 ┆ u32       ┆ f64                  │\n",
       "╞═════════════╪════════════════╪═════════════════════╪═══════════╪══════════════════════╡\n",
       "│ 2019        ┆ 33.52          ┆ 504                 ┆ 7         ┆ 72.0                 │\n",
       "│ 2019        ┆ 37.51          ┆ 812                 ┆ 12        ┆ 67.666667            │\n",
       "│ 2020        ┆ 33.52          ┆ 222                 ┆ 3         ┆ 74.0                 │\n",
       "│ 2020        ┆ 37.51          ┆ 426                 ┆ 6         ┆ 71.0                 │\n",
       "│ 2021        ┆ 33.51          ┆ 32                  ┆ 2         ┆ 16.0                 │\n",
       "│ 2021        ┆ 33.52          ┆ 702                 ┆ 9         ┆ 78.0                 │\n",
       "│ 2021        ┆ 37.51          ┆ 448                 ┆ 7         ┆ 64.0                 │\n",
       "│ 2022        ┆ 33.52          ┆ 1102                ┆ 8         ┆ 137.75               │\n",
       "│ 2022        ┆ 37.51          ┆ 354                 ┆ 6         ┆ 59.0                 │\n",
       "└─────────────┴────────────────┴─────────────────────┴───────────┴──────────────────────┘"
      ]
     },
     "execution_count": 34,
     "metadata": {},
     "output_type": "execute_result"
    }
   ],
   "source": [
    "df_trasplantes.group_by([\"ANIO_EGRESO\", \"PROCEDIMIENTO1\"]).agg(\n",
    "    [\n",
    "        pl.col(\"ESTANCIA\").sum().alias(\"dias_estada_totales\"),\n",
    "        pl.len().alias(\"n_egresos\"),\n",
    "        pl.col(\"ESTANCIA\").mean().alias(\"dias_estada_promedio\"),\n",
    "    ]\n",
    ").sort([\"ANIO_EGRESO\", \"PROCEDIMIENTO1\", \"dias_estada_promedio\"])"
   ]
  },
  {
   "cell_type": "code",
   "execution_count": null,
   "metadata": {},
   "outputs": [],
   "source": []
  }
 ],
 "metadata": {
  "kernelspec": {
   "display_name": "grd-fonasa",
   "language": "python",
   "name": "python3"
  },
  "language_info": {
   "codemirror_mode": {
    "name": "ipython",
    "version": 3
   },
   "file_extension": ".py",
   "mimetype": "text/x-python",
   "name": "python",
   "nbconvert_exporter": "python",
   "pygments_lexer": "ipython3",
   "version": "3.11.5"
  }
 },
 "nbformat": 4,
 "nbformat_minor": 2
}
