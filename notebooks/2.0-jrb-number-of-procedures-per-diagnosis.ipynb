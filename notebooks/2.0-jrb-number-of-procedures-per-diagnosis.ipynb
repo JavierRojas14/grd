{
 "cells": [
  {
   "attachments": {},
   "cell_type": "markdown",
   "metadata": {},
   "source": [
    "# Analisis de prestaciones por diagnostico\n",
    "\n",
    "- En este apartado sequiere ver la cantidad de prestaciones que se realizan por cada diagnostico principal.\n",
    "\n",
    "- El resultado que se quiere obtener es parecido al siguiente:\n",
    "\n",
    "|Año|Diagnostico|Resumen Procedimientos|\n",
    "|---|-----------|----------------------|\n",
    "|2019|\"I25.1\"|{\"45.23\": 20, \"73.59\": 10}|\n",
    "|2020|\"I25.1\"|{\"45.23\": 7, \"73.59\": 3}|"
   ]
  },
  {
   "attachments": {},
   "cell_type": "markdown",
   "metadata": {},
   "source": []
  }
 ],
 "metadata": {
  "language_info": {
   "name": "python"
  },
  "orig_nbformat": 4
 },
 "nbformat": 4,
 "nbformat_minor": 2
}
