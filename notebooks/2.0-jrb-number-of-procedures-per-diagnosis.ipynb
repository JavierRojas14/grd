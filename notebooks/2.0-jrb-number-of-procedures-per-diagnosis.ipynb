{
 "cells": [
  {
   "attachments": {},
   "cell_type": "markdown",
   "metadata": {},
   "source": [
    "# Analisis de prestaciones por diagnostico\n",
    "\n",
    "- En este apartado sequiere ver la cantidad de prestaciones que se realizan por cada diagnostico principal.\n",
    "\n",
    "- El resultado que se quiere obtener es parecido al siguiente:\n",
    "\n",
    "| Año  | Diagnostico | Resumen Procedimientos     |\n",
    "| ---- | ----------- | -------------------------- |\n",
    "| 2019 | \"I25.1\"     | {\"45.23\": 20, \"73.59\": 10} |\n",
    "| 2020 | \"I25.1\"     | {\"45.23\": 7, \"73.59\": 3}   |\n"
   ]
  },
  {
   "cell_type": "code",
   "execution_count": 53,
   "metadata": {},
   "outputs": [
    {
     "name": "stdout",
     "output_type": "stream",
     "text": [
      "The autoreload extension is already loaded. To reload it, use:\n",
      "  %reload_ext autoreload\n"
     ]
    }
   ],
   "source": [
    "import sys\n",
    "import os\n",
    "\n",
    "project_root = os.path.abspath('..')\n",
    "if project_root not in sys.path:\n",
    "    sys.path.append(project_root)\n",
    "\n",
    "%load_ext autoreload\n",
    "%autoreload 2\n"
   ]
  },
  {
   "cell_type": "code",
   "execution_count": 54,
   "metadata": {},
   "outputs": [],
   "source": [
    "import pandas as pd\n",
    "import numpy as np\n",
    "\n",
    "import matplotlib.pyplot as plt\n",
    "import seaborn as sns\n",
    "\n",
    "import warnings\n",
    "\n",
    "from src.features import build_features\n",
    "\n",
    "warnings.filterwarnings(\"ignore\")\n",
    "sns.set_style()\n",
    "plt.rcParams[\"figure.figsize\"] = (12, 6)\n",
    "\n",
    "HOSPITAL_DEL_TORAX = 112103\n"
   ]
  },
  {
   "cell_type": "code",
   "execution_count": 55,
   "metadata": {},
   "outputs": [],
   "source": [
    "df_procesada = pd.read_csv(\"../data/processed/df_procesada.csv\", sep=\";\")"
   ]
  },
  {
   "cell_type": "code",
   "execution_count": 56,
   "metadata": {},
   "outputs": [],
   "source": [
    "procedimientos_long = pd.melt(\n",
    "    df_procesada,\n",
    "    id_vars=[\"COD_HOSPITAL\", \"ANIO_EGRESO\", \"DIAGNOSTICO1\"],\n",
    "    value_vars=[f\"PROCEDIMIENTO{i}\" for i in range(1, 31)],\n",
    ")"
   ]
  },
  {
   "cell_type": "code",
   "execution_count": 57,
   "metadata": {},
   "outputs": [],
   "source": [
    "conteo_procedimientos = procedimientos_long.groupby([\"ANIO_EGRESO\", \"COD_HOSPITAL\"])[\n",
    "    \"value\"\n",
    "].value_counts()"
   ]
  },
  {
   "cell_type": "code",
   "execution_count": 58,
   "metadata": {},
   "outputs": [],
   "source": [
    "conteo_procedimientos = conteo_procedimientos.reset_index(name=\"conteo\")"
   ]
  },
  {
   "cell_type": "code",
   "execution_count": 59,
   "metadata": {},
   "outputs": [],
   "source": [
    "conteo_procedimientos = conteo_procedimientos.sort_values(\n",
    "    [\"ANIO_EGRESO\", \"value\", \"conteo\"], ascending=False\n",
    ")\n"
   ]
  },
  {
   "cell_type": "code",
   "execution_count": 76,
   "metadata": {},
   "outputs": [],
   "source": [
    "conteo_procedimientos[\"ranking\"] = (\n",
    "    conteo_procedimientos.groupby([\"ANIO_EGRESO\", \"value\"]).cumcount() + 1\n",
    ")\n",
    "\n",
    "conteo_procedimientos[\"diferencia_proximo_hospital\"] = conteo_procedimientos[\"conteo\"].diff(\n",
    "    periods=-1\n",
    ")\n",
    "\n",
    "conteo_procedimientos[\"diferencia_proximo_hospital\"] = np.where(\n",
    "    conteo_procedimientos[\"diferencia_proximo_hospital\"] < 0,\n",
    "    -1,\n",
    "    conteo_procedimientos[\"diferencia_proximo_hospital\"],\n",
    ")"
   ]
  },
  {
   "cell_type": "code",
   "execution_count": 77,
   "metadata": {},
   "outputs": [],
   "source": [
    "mejores_procedimientos_torax = conteo_procedimientos.query(\n",
    "    \"COD_HOSPITAL == @HOSPITAL_DEL_TORAX and ranking == 1\"\n",
    ")"
   ]
  },
  {
   "cell_type": "code",
   "execution_count": 79,
   "metadata": {},
   "outputs": [
    {
     "data": {
      "text/html": [
       "<div>\n",
       "<style scoped>\n",
       "    .dataframe tbody tr th:only-of-type {\n",
       "        vertical-align: middle;\n",
       "    }\n",
       "\n",
       "    .dataframe tbody tr th {\n",
       "        vertical-align: top;\n",
       "    }\n",
       "\n",
       "    .dataframe thead th {\n",
       "        text-align: right;\n",
       "    }\n",
       "</style>\n",
       "<table border=\"1\" class=\"dataframe\">\n",
       "  <thead>\n",
       "    <tr style=\"text-align: right;\">\n",
       "      <th></th>\n",
       "      <th>ANIO_EGRESO</th>\n",
       "      <th>COD_HOSPITAL</th>\n",
       "      <th>value</th>\n",
       "      <th>conteo</th>\n",
       "      <th>ranking</th>\n",
       "      <th>diferencia_proximo_hospital</th>\n",
       "    </tr>\n",
       "  </thead>\n",
       "  <tbody>\n",
       "    <tr>\n",
       "      <th>177480</th>\n",
       "      <td>2021.0</td>\n",
       "      <td>112103</td>\n",
       "      <td>87.93</td>\n",
       "      <td>1</td>\n",
       "      <td>1</td>\n",
       "      <td>-1.0</td>\n",
       "    </tr>\n",
       "    <tr>\n",
       "      <th>177425</th>\n",
       "      <td>2021.0</td>\n",
       "      <td>112103</td>\n",
       "      <td>38.22</td>\n",
       "      <td>1</td>\n",
       "      <td>1</td>\n",
       "      <td>-1.0</td>\n",
       "    </tr>\n",
       "    <tr>\n",
       "      <th>177399</th>\n",
       "      <td>2021.0</td>\n",
       "      <td>112103</td>\n",
       "      <td>33.25</td>\n",
       "      <td>1</td>\n",
       "      <td>1</td>\n",
       "      <td>-1.0</td>\n",
       "    </tr>\n",
       "    <tr>\n",
       "      <th>177380</th>\n",
       "      <td>2021.0</td>\n",
       "      <td>112103</td>\n",
       "      <td>5.11</td>\n",
       "      <td>1</td>\n",
       "      <td>1</td>\n",
       "      <td>-1.0</td>\n",
       "    </tr>\n",
       "    <tr>\n",
       "      <th>107904</th>\n",
       "      <td>2020.0</td>\n",
       "      <td>112103</td>\n",
       "      <td>40.69</td>\n",
       "      <td>1</td>\n",
       "      <td>1</td>\n",
       "      <td>-1.0</td>\n",
       "    </tr>\n",
       "    <tr>\n",
       "      <th>107704</th>\n",
       "      <td>2020.0</td>\n",
       "      <td>112103</td>\n",
       "      <td>37.6</td>\n",
       "      <td>5</td>\n",
       "      <td>1</td>\n",
       "      <td>-1.0</td>\n",
       "    </tr>\n",
       "    <tr>\n",
       "      <th>107880</th>\n",
       "      <td>2020.0</td>\n",
       "      <td>112103</td>\n",
       "      <td>37.37</td>\n",
       "      <td>1</td>\n",
       "      <td>1</td>\n",
       "      <td>-1.0</td>\n",
       "    </tr>\n",
       "    <tr>\n",
       "      <th>107775</th>\n",
       "      <td>2020.0</td>\n",
       "      <td>112103</td>\n",
       "      <td>33.48</td>\n",
       "      <td>2</td>\n",
       "      <td>1</td>\n",
       "      <td>-1.0</td>\n",
       "    </tr>\n",
       "  </tbody>\n",
       "</table>\n",
       "</div>"
      ],
      "text/plain": [
       "        ANIO_EGRESO  COD_HOSPITAL  value  conteo  ranking  \\\n",
       "177480       2021.0        112103  87.93       1        1   \n",
       "177425       2021.0        112103  38.22       1        1   \n",
       "177399       2021.0        112103  33.25       1        1   \n",
       "177380       2021.0        112103   5.11       1        1   \n",
       "107904       2020.0        112103  40.69       1        1   \n",
       "107704       2020.0        112103   37.6       5        1   \n",
       "107880       2020.0        112103  37.37       1        1   \n",
       "107775       2020.0        112103  33.48       2        1   \n",
       "\n",
       "        diferencia_proximo_hospital  \n",
       "177480                         -1.0  \n",
       "177425                         -1.0  \n",
       "177399                         -1.0  \n",
       "177380                         -1.0  \n",
       "107904                         -1.0  \n",
       "107704                         -1.0  \n",
       "107880                         -1.0  \n",
       "107775                         -1.0  "
      ]
     },
     "execution_count": 79,
     "metadata": {},
     "output_type": "execute_result"
    }
   ],
   "source": [
    "mejores_procedimientos_torax.query(\"diferencia_proximo_hospital == -1\")"
   ]
  },
  {
   "cell_type": "code",
   "execution_count": null,
   "metadata": {},
   "outputs": [],
   "source": []
  }
 ],
 "metadata": {
  "kernelspec": {
   "display_name": "base",
   "language": "python",
   "name": "python3"
  },
  "language_info": {
   "codemirror_mode": {
    "name": "ipython",
    "version": 3
   },
   "file_extension": ".py",
   "mimetype": "text/x-python",
   "name": "python",
   "nbconvert_exporter": "python",
   "pygments_lexer": "ipython3",
   "version": "3.10.9"
  },
  "orig_nbformat": 4
 },
 "nbformat": 4,
 "nbformat_minor": 2
}
