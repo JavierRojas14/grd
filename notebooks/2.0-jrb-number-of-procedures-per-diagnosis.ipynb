{
 "cells": [
  {
   "attachments": {},
   "cell_type": "markdown",
   "metadata": {},
   "source": [
    "# Analisis de prestaciones por diagnostico\n",
    "\n",
    "- En este apartado sequiere ver la cantidad de prestaciones que se realizan por cada diagnostico principal.\n",
    "\n",
    "- El resultado que se quiere obtener es parecido al siguiente:\n",
    "\n",
    "| Año  | Diagnostico | Resumen Procedimientos     |\n",
    "| ---- | ----------- | -------------------------- |\n",
    "| 2019 | \"I25.1\"     | {\"45.23\": 20, \"73.59\": 10} |\n",
    "| 2020 | \"I25.1\"     | {\"45.23\": 7, \"73.59\": 3}   |\n"
   ]
  },
  {
   "cell_type": "code",
   "execution_count": 53,
   "metadata": {},
   "outputs": [
    {
     "name": "stdout",
     "output_type": "stream",
     "text": [
      "The autoreload extension is already loaded. To reload it, use:\n",
      "  %reload_ext autoreload\n"
     ]
    }
   ],
   "source": [
    "import sys\n",
    "import os\n",
    "\n",
    "project_root = os.path.abspath('..')\n",
    "if project_root not in sys.path:\n",
    "    sys.path.append(project_root)\n",
    "\n",
    "%load_ext autoreload\n",
    "%autoreload 2\n"
   ]
  },
  {
   "cell_type": "code",
   "execution_count": 54,
   "metadata": {},
   "outputs": [],
   "source": [
    "import pandas as pd\n",
    "import numpy as np\n",
    "\n",
    "import matplotlib.pyplot as plt\n",
    "import seaborn as sns\n",
    "\n",
    "import warnings\n",
    "\n",
    "from src.features import build_features\n",
    "\n",
    "warnings.filterwarnings(\"ignore\")\n",
    "sns.set_style()\n",
    "plt.rcParams[\"figure.figsize\"] = (12, 6)\n",
    "\n",
    "HOSPITAL_DEL_TORAX = 112103\n"
   ]
  },
  {
   "cell_type": "code",
   "execution_count": 55,
   "metadata": {},
   "outputs": [],
   "source": [
    "df_procesada = pd.read_csv(\"../data/processed/df_procesada.csv\", sep=\";\")"
   ]
  },
  {
   "cell_type": "code",
   "execution_count": 56,
   "metadata": {},
   "outputs": [],
   "source": [
    "procedimientos_long = pd.melt(\n",
    "    df_procesada,\n",
    "    id_vars=[\"COD_HOSPITAL\", \"ANIO_EGRESO\", \"DIAGNOSTICO1\"],\n",
    "    value_vars=[f\"PROCEDIMIENTO{i}\" for i in range(1, 31)],\n",
    ")"
   ]
  },
  {
   "cell_type": "code",
   "execution_count": 57,
   "metadata": {},
   "outputs": [],
   "source": [
    "conteo_procedimientos = procedimientos_long.groupby([\"ANIO_EGRESO\", \"COD_HOSPITAL\"])[\n",
    "    \"value\"\n",
    "].value_counts()"
   ]
  },
  {
   "cell_type": "code",
   "execution_count": 58,
   "metadata": {},
   "outputs": [],
   "source": [
    "conteo_procedimientos = conteo_procedimientos.reset_index(name=\"conteo\")"
   ]
  },
  {
   "cell_type": "code",
   "execution_count": 59,
   "metadata": {},
   "outputs": [],
   "source": [
    "conteo_procedimientos = conteo_procedimientos.sort_values(\n",
    "    [\"ANIO_EGRESO\", \"value\", \"conteo\"], ascending=False\n",
    ")\n"
   ]
  },
  {
   "cell_type": "code",
   "execution_count": 70,
   "metadata": {},
   "outputs": [],
   "source": [
    "conteo_procedimientos[\"ranking\"] = (\n",
    "    conteo_procedimientos.groupby([\"ANIO_EGRESO\", \"value\"]).cumcount() + 1\n",
    ")\n",
    "\n",
    "conteo_procedimientos[\"diferencia_proximo_hospital\"] = conteo_procedimientos[\"conteo\"].diff(\n",
    "    periods=-1\n",
    ")\n",
    "\n",
    "conteo_procedimientos[\"diferencia_proximo_hospital\"] = np.where(\n",
    "    conteo_procedimientos[\"diferencia_proximo_hospital\"] < 0,\n",
    "    0,\n",
    "    conteo_procedimientos[\"diferencia_proximo_hospital\"],\n",
    ")"
   ]
  },
  {
   "cell_type": "code",
   "execution_count": 71,
   "metadata": {},
   "outputs": [],
   "source": [
    "mejores_procedimientos_torax = conteo_procedimientos.query(\n",
    "    \"COD_HOSPITAL == @HOSPITAL_DEL_TORAX and ranking == 1\"\n",
    ")"
   ]
  },
  {
   "cell_type": "code",
   "execution_count": 74,
   "metadata": {},
   "outputs": [
    {
     "data": {
      "text/html": [
       "<div>\n",
       "<style scoped>\n",
       "    .dataframe tbody tr th:only-of-type {\n",
       "        vertical-align: middle;\n",
       "    }\n",
       "\n",
       "    .dataframe tbody tr th {\n",
       "        vertical-align: top;\n",
       "    }\n",
       "\n",
       "    .dataframe thead th {\n",
       "        text-align: right;\n",
       "    }\n",
       "</style>\n",
       "<table border=\"1\" class=\"dataframe\">\n",
       "  <thead>\n",
       "    <tr style=\"text-align: right;\">\n",
       "      <th></th>\n",
       "      <th>ANIO_EGRESO</th>\n",
       "      <th>COD_HOSPITAL</th>\n",
       "      <th>value</th>\n",
       "      <th>conteo</th>\n",
       "      <th>ranking</th>\n",
       "      <th>diferencia_proximo_hospital</th>\n",
       "    </tr>\n",
       "  </thead>\n",
       "  <tbody>\n",
       "    <tr>\n",
       "      <th>177062</th>\n",
       "      <td>2021.0</td>\n",
       "      <td>112103</td>\n",
       "      <td>93.91</td>\n",
       "      <td>124</td>\n",
       "      <td>1</td>\n",
       "      <td>36.0</td>\n",
       "    </tr>\n",
       "    <tr>\n",
       "      <th>177508</th>\n",
       "      <td>2021.0</td>\n",
       "      <td>112103</td>\n",
       "      <td>93.76</td>\n",
       "      <td>1</td>\n",
       "      <td>1</td>\n",
       "      <td>0.0</td>\n",
       "    </tr>\n",
       "    <tr>\n",
       "      <th>177502</th>\n",
       "      <td>2021.0</td>\n",
       "      <td>112103</td>\n",
       "      <td>91.76</td>\n",
       "      <td>1</td>\n",
       "      <td>1</td>\n",
       "      <td>0.0</td>\n",
       "    </tr>\n",
       "    <tr>\n",
       "      <th>177110</th>\n",
       "      <td>2021.0</td>\n",
       "      <td>112103</td>\n",
       "      <td>89.49</td>\n",
       "      <td>52</td>\n",
       "      <td>1</td>\n",
       "      <td>19.0</td>\n",
       "    </tr>\n",
       "    <tr>\n",
       "      <th>177034</th>\n",
       "      <td>2021.0</td>\n",
       "      <td>112103</td>\n",
       "      <td>89.48</td>\n",
       "      <td>277</td>\n",
       "      <td>1</td>\n",
       "      <td>81.0</td>\n",
       "    </tr>\n",
       "    <tr>\n",
       "      <th>...</th>\n",
       "      <td>...</td>\n",
       "      <td>...</td>\n",
       "      <td>...</td>\n",
       "      <td>...</td>\n",
       "      <td>...</td>\n",
       "      <td>...</td>\n",
       "    </tr>\n",
       "    <tr>\n",
       "      <th>35062</th>\n",
       "      <td>2019.0</td>\n",
       "      <td>112103</td>\n",
       "      <td>7.16</td>\n",
       "      <td>10</td>\n",
       "      <td>1</td>\n",
       "      <td>9.0</td>\n",
       "    </tr>\n",
       "    <tr>\n",
       "      <th>34826</th>\n",
       "      <td>2019.0</td>\n",
       "      <td>112103</td>\n",
       "      <td>0.66</td>\n",
       "      <td>831</td>\n",
       "      <td>1</td>\n",
       "      <td>40.0</td>\n",
       "    </tr>\n",
       "    <tr>\n",
       "      <th>34905</th>\n",
       "      <td>2019.0</td>\n",
       "      <td>112103</td>\n",
       "      <td>0.59</td>\n",
       "      <td>102</td>\n",
       "      <td>1</td>\n",
       "      <td>65.0</td>\n",
       "    </tr>\n",
       "    <tr>\n",
       "      <th>35087</th>\n",
       "      <td>2019.0</td>\n",
       "      <td>112103</td>\n",
       "      <td>0.52</td>\n",
       "      <td>7</td>\n",
       "      <td>1</td>\n",
       "      <td>1.0</td>\n",
       "    </tr>\n",
       "    <tr>\n",
       "      <th>35026</th>\n",
       "      <td>2019.0</td>\n",
       "      <td>112103</td>\n",
       "      <td>0.44</td>\n",
       "      <td>15</td>\n",
       "      <td>1</td>\n",
       "      <td>1.0</td>\n",
       "    </tr>\n",
       "  </tbody>\n",
       "</table>\n",
       "<p>269 rows × 6 columns</p>\n",
       "</div>"
      ],
      "text/plain": [
       "        ANIO_EGRESO  COD_HOSPITAL  value  conteo  ranking  \\\n",
       "177062       2021.0        112103  93.91     124        1   \n",
       "177508       2021.0        112103  93.76       1        1   \n",
       "177502       2021.0        112103  91.76       1        1   \n",
       "177110       2021.0        112103  89.49      52        1   \n",
       "177034       2021.0        112103  89.48     277        1   \n",
       "...             ...           ...    ...     ...      ...   \n",
       "35062        2019.0        112103   7.16      10        1   \n",
       "34826        2019.0        112103   0.66     831        1   \n",
       "34905        2019.0        112103   0.59     102        1   \n",
       "35087        2019.0        112103   0.52       7        1   \n",
       "35026        2019.0        112103   0.44      15        1   \n",
       "\n",
       "        diferencia_proximo_hospital  \n",
       "177062                         36.0  \n",
       "177508                          0.0  \n",
       "177502                          0.0  \n",
       "177110                         19.0  \n",
       "177034                         81.0  \n",
       "...                             ...  \n",
       "35062                           9.0  \n",
       "34826                          40.0  \n",
       "34905                          65.0  \n",
       "35087                           1.0  \n",
       "35026                           1.0  \n",
       "\n",
       "[269 rows x 6 columns]"
      ]
     },
     "execution_count": 74,
     "metadata": {},
     "output_type": "execute_result"
    }
   ],
   "source": [
    "mejores_procedimientos_torax"
   ]
  }
 ],
 "metadata": {
  "kernelspec": {
   "display_name": "base",
   "language": "python",
   "name": "python3"
  },
  "language_info": {
   "codemirror_mode": {
    "name": "ipython",
    "version": 3
   },
   "file_extension": ".py",
   "mimetype": "text/x-python",
   "name": "python",
   "nbconvert_exporter": "python",
   "pygments_lexer": "ipython3",
   "version": "3.10.9"
  },
  "orig_nbformat": 4
 },
 "nbformat": 4,
 "nbformat_minor": 2
}
