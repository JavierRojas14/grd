{
 "cells": [
  {
   "cell_type": "code",
   "execution_count": 1,
   "metadata": {},
   "outputs": [],
   "source": [
    "import pandas as pd\n",
    "import numpy as np\n",
    "import polars as pl\n",
    "\n",
    "import matplotlib.pyplot as plt\n",
    "import seaborn as sns\n",
    "\n",
    "sns.set_style()\n",
    "plt.rcParams['figure.figsize'] = (12, 6)"
   ]
  },
  {
   "cell_type": "code",
   "execution_count": 12,
   "metadata": {},
   "outputs": [],
   "source": [
    "df = pl.read_csv(\n",
    "    \"../data/processed/df_procesada.csv\",\n",
    "    separator=\";\",\n",
    "    columns=[\"ESTANCIA\", \"COD_HOSPITAL\", \"DIAGNOSTICO1\", \"ANIO_EGRESO\"],\n",
    ")"
   ]
  },
  {
   "cell_type": "code",
   "execution_count": 25,
   "metadata": {},
   "outputs": [],
   "source": [
    "resumen_egresos_nacionales = (\n",
    "    df.group_by(pl.col([\"ANIO_EGRESO\", \"COD_HOSPITAL\", \"DIAGNOSTICO1\"]))\n",
    "    .agg([pl.count().alias(\"n_egresos\"), pl.col(\"ESTANCIA\").sum().alias(\"dias_estada_totales\")])\n",
    "    .sort(by=[\"ANIO_EGRESO\", \"DIAGNOSTICO1\", \"n_egresos\"], descending=True)\n",
    "    .with_columns(\n",
    "        pl.col(\"n_egresos\")\n",
    "        .rank(method=\"min\", descending=True)\n",
    "        .over([\"ANIO_EGRESO\", \"DIAGNOSTICO1\"])\n",
    "        .alias(\"ranking_egresos\")\n",
    "    )\n",
    ")"
   ]
  },
  {
   "cell_type": "code",
   "execution_count": 27,
   "metadata": {},
   "outputs": [
    {
     "data": {
      "text/html": [
       "<div><style>\n",
       ".dataframe > thead > tr > th,\n",
       ".dataframe > tbody > tr > td {\n",
       "  text-align: right;\n",
       "  white-space: pre-wrap;\n",
       "}\n",
       "</style>\n",
       "<small>shape: (1_067, 6)</small><table border=\"1\" class=\"dataframe\"><thead><tr><th>ANIO_EGRESO</th><th>COD_HOSPITAL</th><th>DIAGNOSTICO1</th><th>n_egresos</th><th>dias_estada_totales</th><th>ranking_egresos</th></tr><tr><td>i64</td><td>i64</td><td>str</td><td>u32</td><td>i64</td><td>u32</td></tr></thead><tbody><tr><td>2021</td><td>112103</td><td>&quot;Z54.0&quot;</td><td>1</td><td>1</td><td>63</td></tr><tr><td>2021</td><td>112103</td><td>&quot;Z51.2&quot;</td><td>2</td><td>6</td><td>9</td></tr><tr><td>2021</td><td>112103</td><td>&quot;Z51.1&quot;</td><td>3</td><td>11</td><td>27</td></tr><tr><td>2021</td><td>112103</td><td>&quot;Z47.0&quot;</td><td>5</td><td>13</td><td>42</td></tr><tr><td>2021</td><td>112103</td><td>&quot;Z45.0&quot;</td><td>109</td><td>124</td><td>1</td></tr><tr><td>2021</td><td>112103</td><td>&quot;Z29.8&quot;</td><td>4</td><td>11</td><td>7</td></tr><tr><td>2021</td><td>112103</td><td>&quot;Z29.2&quot;</td><td>4</td><td>4</td><td>4</td></tr><tr><td>2021</td><td>112103</td><td>&quot;Z29.1&quot;</td><td>2</td><td>8</td><td>14</td></tr><tr><td>2021</td><td>112103</td><td>&quot;Z13.7&quot;</td><td>1</td><td>2</td><td>4</td></tr><tr><td>2021</td><td>112103</td><td>&quot;Z13.6&quot;</td><td>9</td><td>13</td><td>6</td></tr><tr><td>2021</td><td>112103</td><td>&quot;Z09.0&quot;</td><td>3</td><td>11</td><td>2</td></tr><tr><td>2021</td><td>112103</td><td>&quot;U07.1&quot;</td><td>449</td><td>8768</td><td>45</td></tr><tr><td>&hellip;</td><td>&hellip;</td><td>&hellip;</td><td>&hellip;</td><td>&hellip;</td><td>&hellip;</td></tr><tr><td>2019</td><td>112103</td><td>&quot;A19.0&quot;</td><td>1</td><td>63</td><td>1</td></tr><tr><td>2019</td><td>112103</td><td>&quot;A18.1&quot;</td><td>1</td><td>9</td><td>3</td></tr><tr><td>2019</td><td>112103</td><td>&quot;A16.5&quot;</td><td>1</td><td>1</td><td>12</td></tr><tr><td>2019</td><td>112103</td><td>&quot;A16.2&quot;</td><td>1</td><td>14</td><td>28</td></tr><tr><td>2019</td><td>112103</td><td>&quot;A15.9&quot;</td><td>1</td><td>14</td><td>6</td></tr><tr><td>2019</td><td>112103</td><td>&quot;A15.7&quot;</td><td>1</td><td>17</td><td>12</td></tr><tr><td>2019</td><td>112103</td><td>&quot;A15.6&quot;</td><td>3</td><td>29</td><td>2</td></tr><tr><td>2019</td><td>112103</td><td>&quot;A15.3&quot;</td><td>2</td><td>100</td><td>8</td></tr><tr><td>2019</td><td>112103</td><td>&quot;A15.2&quot;</td><td>12</td><td>112</td><td>1</td></tr><tr><td>2019</td><td>112103</td><td>&quot;A15.0&quot;</td><td>10</td><td>218</td><td>6</td></tr><tr><td>2019</td><td>112103</td><td>&quot;A09.9&quot;</td><td>4</td><td>49</td><td>64</td></tr><tr><td>2019</td><td>112103</td><td>&quot;A08.4&quot;</td><td>1</td><td>5</td><td>37</td></tr></tbody></table></div>"
      ],
      "text/plain": [
       "shape: (1_067, 6)\n",
       "┌─────────────┬──────────────┬──────────────┬───────────┬─────────────────────┬─────────────────┐\n",
       "│ ANIO_EGRESO ┆ COD_HOSPITAL ┆ DIAGNOSTICO1 ┆ n_egresos ┆ dias_estada_totales ┆ ranking_egresos │\n",
       "│ ---         ┆ ---          ┆ ---          ┆ ---       ┆ ---                 ┆ ---             │\n",
       "│ i64         ┆ i64          ┆ str          ┆ u32       ┆ i64                 ┆ u32             │\n",
       "╞═════════════╪══════════════╪══════════════╪═══════════╪═════════════════════╪═════════════════╡\n",
       "│ 2021        ┆ 112103       ┆ Z54.0        ┆ 1         ┆ 1                   ┆ 63              │\n",
       "│ 2021        ┆ 112103       ┆ Z51.2        ┆ 2         ┆ 6                   ┆ 9               │\n",
       "│ 2021        ┆ 112103       ┆ Z51.1        ┆ 3         ┆ 11                  ┆ 27              │\n",
       "│ 2021        ┆ 112103       ┆ Z47.0        ┆ 5         ┆ 13                  ┆ 42              │\n",
       "│ …           ┆ …            ┆ …            ┆ …         ┆ …                   ┆ …               │\n",
       "│ 2019        ┆ 112103       ┆ A15.2        ┆ 12        ┆ 112                 ┆ 1               │\n",
       "│ 2019        ┆ 112103       ┆ A15.0        ┆ 10        ┆ 218                 ┆ 6               │\n",
       "│ 2019        ┆ 112103       ┆ A09.9        ┆ 4         ┆ 49                  ┆ 64              │\n",
       "│ 2019        ┆ 112103       ┆ A08.4        ┆ 1         ┆ 5                   ┆ 37              │\n",
       "└─────────────┴──────────────┴──────────────┴───────────┴─────────────────────┴─────────────────┘"
      ]
     },
     "execution_count": 27,
     "metadata": {},
     "output_type": "execute_result"
    }
   ],
   "source": [
    "resumen_egresos_nacionales.filter(\n",
    "    pl.col(\"COD_HOSPITAL\") == 112103\n",
    ")"
   ]
  },
  {
   "cell_type": "code",
   "execution_count": null,
   "metadata": {},
   "outputs": [],
   "source": []
  }
 ],
 "metadata": {
  "kernelspec": {
   "display_name": "grd-fonasa",
   "language": "python",
   "name": "python3"
  },
  "language_info": {
   "codemirror_mode": {
    "name": "ipython",
    "version": 3
   },
   "file_extension": ".py",
   "mimetype": "text/x-python",
   "name": "python",
   "nbconvert_exporter": "python",
   "pygments_lexer": "ipython3",
   "version": "3.11.5"
  }
 },
 "nbformat": 4,
 "nbformat_minor": 2
}
