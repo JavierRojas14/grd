{
 "cells": [
  {
   "cell_type": "code",
   "execution_count": 3,
   "metadata": {},
   "outputs": [],
   "source": [
    "import pandas as pd\n",
    "import numpy as np\n",
    "import polars as pl\n",
    "\n",
    "import matplotlib.pyplot as plt\n",
    "import seaborn as sns\n",
    "\n",
    "sns.set_style()\n",
    "plt.rcParams[\"figure.figsize\"] = (12, 6)"
   ]
  },
  {
   "cell_type": "code",
   "execution_count": 33,
   "metadata": {},
   "outputs": [],
   "source": [
    "ranking_egresos_nacionales_deis = pl.read_csv(\n",
    "    \"../data/external/ranking_nacional_egresos.csv\", encoding=\"latin-1\", separator=\";\"\n",
    ")"
   ]
  },
  {
   "cell_type": "code",
   "execution_count": 34,
   "metadata": {},
   "outputs": [],
   "source": [
    "df_grd = pl.read_csv(\n",
    "    \"../data/processed/df_procesada.csv\",\n",
    "    separator=\";\",\n",
    "    columns=[\"ESTANCIA\", \"COD_HOSPITAL\", \"DIAGNOSTICO1\", \"ANIO_EGRESO\"],\n",
    ")\n",
    "\n",
    "df_grd = df_grd.with_columns(\n",
    "    pl.col(\"DIAGNOSTICO1\").str.replace(\".\", \"\", literal=True).str.pad_end(4, \"X\")\n",
    ")"
   ]
  },
  {
   "cell_type": "code",
   "execution_count": 35,
   "metadata": {},
   "outputs": [
    {
     "name": "stderr",
     "output_type": "stream",
     "text": [
      "C:\\Users\\ppizarro\\AppData\\Local\\Temp\\ipykernel_18376\\1149079150.py:3: DeprecationWarning: `pl.count()` is deprecated. Please use `pl.len()` instead.\n",
      "  .agg([pl.count().alias(\"n_egresos\"), pl.col(\"ESTANCIA\").sum().alias(\"dias_estada_totales\")])\n"
     ]
    }
   ],
   "source": [
    "ranking_egresos_nacionales_grd = (\n",
    "    df_grd.group_by(pl.col([\"ANIO_EGRESO\", \"COD_HOSPITAL\", \"DIAGNOSTICO1\"]))\n",
    "    .agg([pl.count().alias(\"n_egresos\"), pl.col(\"ESTANCIA\").sum().alias(\"dias_estada_totales\")])\n",
    "    .sort(by=[\"ANIO_EGRESO\", \"DIAGNOSTICO1\", \"n_egresos\"], descending=True)\n",
    "    .with_columns(\n",
    "        pl.col(\"n_egresos\")\n",
    "        .rank(method=\"min\", descending=True)\n",
    "        .over([\"ANIO_EGRESO\", \"DIAGNOSTICO1\"])\n",
    "        .alias(\"ranking_egresos\")\n",
    "    )\n",
    ")"
   ]
  },
  {
   "cell_type": "code",
   "execution_count": 31,
   "metadata": {},
   "outputs": [],
   "source": [
    "comparacion_grd_deis = ranking_egresos_nacionales_grd.join(\n",
    "    ranking_egresos_nacionales_deis,\n",
    "    left_on=[\"ANIO_EGRESO\", \"COD_HOSPITAL\", \"DIAGNOSTICO1\"],\n",
    "    right_on=[\"ANO_EGRESO\", \"ESTABLECIMIENTO_SALUD\", \"DIAG1\"],\n",
    "    how=\"inner\",\n",
    "    suffix=\"_DEIS\"\n",
    ")"
   ]
  },
  {
   "cell_type": "code",
   "execution_count": 32,
   "metadata": {},
   "outputs": [
    {
     "data": {
      "text/html": [
       "<div><style>\n",
       ".dataframe > thead > tr,\n",
       ".dataframe > tbody > tr {\n",
       "  text-align: right;\n",
       "  white-space: pre-wrap;\n",
       "}\n",
       "</style>\n",
       "<small>shape: (122_231, 30)</small><table border=\"1\" class=\"dataframe\"><thead><tr><th>ANIO_EGRESO</th><th>COD_HOSPITAL</th><th>DIAGNOSTICO1</th><th>n_egresos</th><th>dias_estada_totales</th><th>ranking_egresos</th><th>GLOSA_ESTABLECIMIENTO_SALUD</th><th>Capítulo</th><th>Sección</th><th>Categoría</th><th>Descripción</th><th>n_egresos_DEIS</th><th>dias_estada_totales_DEIS</th><th>n_int_q</th><th>n_muertos</th><th>ranking_nacionales_n_egresos</th><th>total_nacionales_n_egresos</th><th>%_nacionales_n_egresos</th><th>ranking_publicos_n_egresos</th><th>total_publicos_n_egresos</th><th>%_publicos_n_egresos</th><th>ranking_privados_n_egresos</th><th>total_privados_n_egresos</th><th>%_privados_n_egresos</th><th>ranking_grd_n_egresos</th><th>total_grd_n_egresos</th><th>%_grd_n_egresos</th><th>ranking_interno_n_egresos</th><th>total_interno_n_egresos</th><th>%_interno_n_egresos</th></tr><tr><td>i64</td><td>i64</td><td>str</td><td>u32</td><td>i64</td><td>u32</td><td>str</td><td>str</td><td>str</td><td>str</td><td>str</td><td>i64</td><td>i64</td><td>i64</td><td>i64</td><td>i64</td><td>i64</td><td>f64</td><td>f64</td><td>f64</td><td>f64</td><td>f64</td><td>f64</td><td>f64</td><td>f64</td><td>f64</td><td>f64</td><td>str</td><td>str</td><td>str</td></tr></thead><tbody><tr><td>2020</td><td>116110</td><td>&quot;Z768&quot;</td><td>5</td><td>4</td><td>4</td><td>&quot;Hospital San José (Parral)&quot;</td><td>&quot;Cap.21  FACTORES QUE INFLUYEN …</td><td>&quot;Z69-Z76  PERSONAS QUE ENTRAN E…</td><td>&quot;Z76 PERSONAS EN CONTACTO CON L…</td><td>&quot;Persona en contacto con los se…</td><td>24</td><td>85</td><td>0</td><td>0</td><td>2</td><td>299</td><td>0.080268</td><td>1.0</td><td>150.0</td><td>0.16</td><td>null</td><td>null</td><td>null</td><td>1.0</td><td>77.0</td><td>0.311688</td><td>null</td><td>null</td><td>null</td></tr><tr><td>2020</td><td>105100</td><td>&quot;Z768&quot;</td><td>1</td><td>1</td><td>8</td><td>&quot;Hospital San Juan de Dios (La …</td><td>&quot;Cap.21  FACTORES QUE INFLUYEN …</td><td>&quot;Z69-Z76  PERSONAS QUE ENTRAN E…</td><td>&quot;Z76 PERSONAS EN CONTACTO CON L…</td><td>&quot;Persona en contacto con los se…</td><td>3</td><td>16</td><td>1</td><td>0</td><td>21</td><td>299</td><td>0.010033</td><td>11.0</td><td>150.0</td><td>0.02</td><td>null</td><td>null</td><td>null</td><td>6.0</td><td>77.0</td><td>0.038961</td><td>null</td><td>null</td><td>null</td></tr><tr><td>2020</td><td>125100</td><td>&quot;Z768&quot;</td><td>1</td><td>3</td><td>8</td><td>&quot;Hospital Regional (Coihaique)&quot;</td><td>&quot;Cap.21  FACTORES QUE INFLUYEN …</td><td>&quot;Z69-Z76  PERSONAS QUE ENTRAN E…</td><td>&quot;Z76 PERSONAS EN CONTACTO CON L…</td><td>&quot;Persona en contacto con los se…</td><td>3</td><td>10</td><td>1</td><td>0</td><td>21</td><td>299</td><td>0.010033</td><td>11.0</td><td>150.0</td><td>0.02</td><td>null</td><td>null</td><td>null</td><td>6.0</td><td>77.0</td><td>0.038961</td><td>null</td><td>null</td><td>null</td></tr><tr><td>2020</td><td>107101</td><td>&quot;Z768&quot;</td><td>1</td><td>2</td><td>8</td><td>&quot;Hospital San Martín (Quillota)&quot;</td><td>&quot;Cap.21  FACTORES QUE INFLUYEN …</td><td>&quot;Z69-Z76  PERSONAS QUE ENTRAN E…</td><td>&quot;Z76 PERSONAS EN CONTACTO CON L…</td><td>&quot;Persona en contacto con los se…</td><td>1</td><td>2</td><td>0</td><td>0</td><td>34</td><td>299</td><td>0.003344</td><td>21.0</td><td>150.0</td><td>0.006667</td><td>null</td><td>null</td><td>null</td><td>10.0</td><td>77.0</td><td>0.012987</td><td>null</td><td>null</td><td>null</td></tr><tr><td>2020</td><td>104100</td><td>&quot;Z768&quot;</td><td>10</td><td>53</td><td>3</td><td>&quot;Hospital San José del Carmen (…</td><td>&quot;Cap.21  FACTORES QUE INFLUYEN …</td><td>&quot;Z69-Z76  PERSONAS QUE ENTRAN E…</td><td>&quot;Z76 PERSONAS EN CONTACTO CON L…</td><td>&quot;Persona en contacto con los se…</td><td>1</td><td>1</td><td>0</td><td>0</td><td>34</td><td>299</td><td>0.003344</td><td>21.0</td><td>150.0</td><td>0.006667</td><td>null</td><td>null</td><td>null</td><td>10.0</td><td>77.0</td><td>0.012987</td><td>null</td><td>null</td><td>null</td></tr><tr><td>&hellip;</td><td>&hellip;</td><td>&hellip;</td><td>&hellip;</td><td>&hellip;</td><td>&hellip;</td><td>&hellip;</td><td>&hellip;</td><td>&hellip;</td><td>&hellip;</td><td>&hellip;</td><td>&hellip;</td><td>&hellip;</td><td>&hellip;</td><td>&hellip;</td><td>&hellip;</td><td>&hellip;</td><td>&hellip;</td><td>&hellip;</td><td>&hellip;</td><td>&hellip;</td><td>&hellip;</td><td>&hellip;</td><td>&hellip;</td><td>&hellip;</td><td>&hellip;</td><td>&hellip;</td><td>&hellip;</td><td>&hellip;</td><td>&hellip;</td></tr><tr><td>2019</td><td>112102</td><td>&quot;A010&quot;</td><td>1</td><td>7</td><td>6</td><td>&quot;Hospital de Niños Dr. Luis Cal…</td><td>&quot;Cap.01  CIERTAS ENFERMEDADES I…</td><td>&quot;A00-A09  ENFERMEDADES INFECCIO…</td><td>&quot;A01 FIEBRES TIFOIDEA Y PARATIF…</td><td>&quot;Fiebre tifoidea&quot;</td><td>1</td><td>7</td><td>0</td><td>0</td><td>13</td><td>85</td><td>0.011765</td><td>9.0</td><td>63.0</td><td>0.015873</td><td>null</td><td>null</td><td>null</td><td>5.0</td><td>48.0</td><td>0.020833</td><td>null</td><td>null</td><td>null</td></tr><tr><td>2019</td><td>116108</td><td>&quot;A010&quot;</td><td>1</td><td>8</td><td>6</td><td>&quot;Hospital Presidente Carlos Ibá…</td><td>&quot;Cap.01  CIERTAS ENFERMEDADES I…</td><td>&quot;A00-A09  ENFERMEDADES INFECCIO…</td><td>&quot;A01 FIEBRES TIFOIDEA Y PARATIF…</td><td>&quot;Fiebre tifoidea&quot;</td><td>1</td><td>8</td><td>0</td><td>0</td><td>13</td><td>85</td><td>0.011765</td><td>9.0</td><td>63.0</td><td>0.015873</td><td>null</td><td>null</td><td>null</td><td>5.0</td><td>48.0</td><td>0.020833</td><td>null</td><td>null</td><td>null</td></tr><tr><td>2019</td><td>120101</td><td>&quot;A010&quot;</td><td>1</td><td>6</td><td>6</td><td>&quot;Complejo Asistencial Dr. Vícto…</td><td>&quot;Cap.01  CIERTAS ENFERMEDADES I…</td><td>&quot;A00-A09  ENFERMEDADES INFECCIO…</td><td>&quot;A01 FIEBRES TIFOIDEA Y PARATIF…</td><td>&quot;Fiebre tifoidea&quot;</td><td>1</td><td>6</td><td>0</td><td>0</td><td>13</td><td>85</td><td>0.011765</td><td>9.0</td><td>63.0</td><td>0.015873</td><td>null</td><td>null</td><td>null</td><td>5.0</td><td>48.0</td><td>0.020833</td><td>null</td><td>null</td><td>null</td></tr><tr><td>2019</td><td>112101</td><td>&quot;A010&quot;</td><td>1</td><td>9</td><td>6</td><td>&quot;Hospital Dr. Luis Tisné B. (Sa…</td><td>&quot;Cap.01  CIERTAS ENFERMEDADES I…</td><td>&quot;A00-A09  ENFERMEDADES INFECCIO…</td><td>&quot;A01 FIEBRES TIFOIDEA Y PARATIF…</td><td>&quot;Fiebre tifoidea&quot;</td><td>1</td><td>9</td><td>0</td><td>0</td><td>13</td><td>85</td><td>0.011765</td><td>9.0</td><td>63.0</td><td>0.015873</td><td>null</td><td>null</td><td>null</td><td>5.0</td><td>48.0</td><td>0.020833</td><td>null</td><td>null</td><td>null</td></tr><tr><td>2019</td><td>113150</td><td>&quot;A010&quot;</td><td>1</td><td>17</td><td>6</td><td>&quot;Hospital San Luis (Buin)&quot;</td><td>&quot;Cap.01  CIERTAS ENFERMEDADES I…</td><td>&quot;A00-A09  ENFERMEDADES INFECCIO…</td><td>&quot;A01 FIEBRES TIFOIDEA Y PARATIF…</td><td>&quot;Fiebre tifoidea&quot;</td><td>1</td><td>17</td><td>0</td><td>0</td><td>13</td><td>85</td><td>0.011765</td><td>9.0</td><td>63.0</td><td>0.015873</td><td>null</td><td>null</td><td>null</td><td>5.0</td><td>48.0</td><td>0.020833</td><td>null</td><td>null</td><td>null</td></tr></tbody></table></div>"
      ],
      "text/plain": [
       "shape: (122_231, 30)\n",
       "┌───────────┬───────────┬───────────┬───────────┬───┬───────────┬───────────┬───────────┬──────────┐\n",
       "│ ANIO_EGRE ┆ COD_HOSPI ┆ DIAGNOSTI ┆ n_egresos ┆ … ┆ %_grd_n_e ┆ ranking_i ┆ total_int ┆ %_intern │\n",
       "│ SO        ┆ TAL       ┆ CO1       ┆ ---       ┆   ┆ gresos    ┆ nterno_n_ ┆ erno_n_eg ┆ o_n_egre │\n",
       "│ ---       ┆ ---       ┆ ---       ┆ u32       ┆   ┆ ---       ┆ egresos   ┆ resos     ┆ sos      │\n",
       "│ i64       ┆ i64       ┆ str       ┆           ┆   ┆ f64       ┆ ---       ┆ ---       ┆ ---      │\n",
       "│           ┆           ┆           ┆           ┆   ┆           ┆ str       ┆ str       ┆ str      │\n",
       "╞═══════════╪═══════════╪═══════════╪═══════════╪═══╪═══════════╪═══════════╪═══════════╪══════════╡\n",
       "│ 2020      ┆ 116110    ┆ Z768      ┆ 5         ┆ … ┆ 0.311688  ┆ null      ┆ null      ┆ null     │\n",
       "│ 2020      ┆ 105100    ┆ Z768      ┆ 1         ┆ … ┆ 0.038961  ┆ null      ┆ null      ┆ null     │\n",
       "│ 2020      ┆ 125100    ┆ Z768      ┆ 1         ┆ … ┆ 0.038961  ┆ null      ┆ null      ┆ null     │\n",
       "│ 2020      ┆ 107101    ┆ Z768      ┆ 1         ┆ … ┆ 0.012987  ┆ null      ┆ null      ┆ null     │\n",
       "│ 2020      ┆ 104100    ┆ Z768      ┆ 10        ┆ … ┆ 0.012987  ┆ null      ┆ null      ┆ null     │\n",
       "│ …         ┆ …         ┆ …         ┆ …         ┆ … ┆ …         ┆ …         ┆ …         ┆ …        │\n",
       "│ 2019      ┆ 112102    ┆ A010      ┆ 1         ┆ … ┆ 0.020833  ┆ null      ┆ null      ┆ null     │\n",
       "│ 2019      ┆ 116108    ┆ A010      ┆ 1         ┆ … ┆ 0.020833  ┆ null      ┆ null      ┆ null     │\n",
       "│ 2019      ┆ 120101    ┆ A010      ┆ 1         ┆ … ┆ 0.020833  ┆ null      ┆ null      ┆ null     │\n",
       "│ 2019      ┆ 112101    ┆ A010      ┆ 1         ┆ … ┆ 0.020833  ┆ null      ┆ null      ┆ null     │\n",
       "│ 2019      ┆ 113150    ┆ A010      ┆ 1         ┆ … ┆ 0.020833  ┆ null      ┆ null      ┆ null     │\n",
       "└───────────┴───────────┴───────────┴───────────┴───┴───────────┴───────────┴───────────┴──────────┘"
      ]
     },
     "execution_count": 32,
     "metadata": {},
     "output_type": "execute_result"
    }
   ],
   "source": [
    "comparacion_grd_deis"
   ]
  },
  {
   "cell_type": "code",
   "execution_count": null,
   "metadata": {},
   "outputs": [],
   "source": []
  }
 ],
 "metadata": {
  "kernelspec": {
   "display_name": "grd-fonasa",
   "language": "python",
   "name": "python3"
  },
  "language_info": {
   "codemirror_mode": {
    "name": "ipython",
    "version": 3
   },
   "file_extension": ".py",
   "mimetype": "text/x-python",
   "name": "python",
   "nbconvert_exporter": "python",
   "pygments_lexer": "ipython3",
   "version": "3.11.5"
  }
 },
 "nbformat": 4,
 "nbformat_minor": 2
}
