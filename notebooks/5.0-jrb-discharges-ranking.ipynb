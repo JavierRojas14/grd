{
 "cells": [
  {
   "cell_type": "code",
   "execution_count": 3,
   "metadata": {},
   "outputs": [],
   "source": [
    "import pandas as pd\n",
    "import numpy as np\n",
    "import polars as pl\n",
    "\n",
    "import matplotlib.pyplot as plt\n",
    "import seaborn as sns\n",
    "\n",
    "sns.set_style()\n",
    "plt.rcParams[\"figure.figsize\"] = (12, 6)"
   ]
  },
  {
   "cell_type": "code",
   "execution_count": 13,
   "metadata": {},
   "outputs": [],
   "source": [
    "df = pl.read_csv(\n",
    "    \"../data/processed/df_procesada.csv\",\n",
    "    separator=\";\",\n",
    "    columns=[\"ESTANCIA\", \"COD_HOSPITAL\", \"DIAGNOSTICO1\", \"ANIO_EGRESO\"],\n",
    ")\n",
    "\n",
    "df = df.with_columns(pl.col(\"DIAGNOSTICO1\").str.replace(\".\", \"\", literal=True).str.pad_end(4, \"X\"))"
   ]
  },
  {
   "cell_type": "code",
   "execution_count": 5,
   "metadata": {},
   "outputs": [],
   "source": [
    "ranking_egresos_nacionales = (\n",
    "    df.group_by(pl.col([\"ANIO_EGRESO\", \"COD_HOSPITAL\", \"DIAGNOSTICO1\"]))\n",
    "    .agg([pl.len().alias(\"n_egresos\"), pl.col(\"ESTANCIA\").sum().alias(\"dias_estada_totales\")])\n",
    "    .sort(by=[\"ANIO_EGRESO\", \"DIAGNOSTICO1\", \"n_egresos\"], descending=True)\n",
    "    .with_columns(\n",
    "        pl.col(\"n_egresos\")\n",
    "        .rank(method=\"min\", descending=True)\n",
    "        .over([\"ANIO_EGRESO\", \"DIAGNOSTICO1\"])\n",
    "        .alias(\"ranking_egresos\")\n",
    "    )\n",
    ")"
   ]
  },
  {
   "cell_type": "code",
   "execution_count": 7,
   "metadata": {},
   "outputs": [
    {
     "data": {
      "text/html": [
       "<div><style>\n",
       ".dataframe > thead > tr,\n",
       ".dataframe > tbody > tr {\n",
       "  text-align: right;\n",
       "  white-space: pre-wrap;\n",
       "}\n",
       "</style>\n",
       "<small>shape: (310_228, 1)</small><table border=\"1\" class=\"dataframe\"><thead><tr><th>DIAGNOSTICO1</th></tr><tr><td>str</td></tr></thead><tbody><tr><td>&quot;DESCONOCIDO&quot;</td></tr><tr><td>&quot;DESCONOCIDO&quot;</td></tr><tr><td>&quot;Z988&quot;</td></tr><tr><td>&quot;Z978&quot;</td></tr><tr><td>&quot;Z968&quot;</td></tr><tr><td>&hellip;</td></tr><tr><td>&quot;A010&quot;</td></tr><tr><td>&quot;A010&quot;</td></tr><tr><td>&quot;A010&quot;</td></tr><tr><td>&quot;A010&quot;</td></tr><tr><td>&quot;A010&quot;</td></tr></tbody></table></div>"
      ],
      "text/plain": [
       "shape: (310_228, 1)\n",
       "┌──────────────┐\n",
       "│ DIAGNOSTICO1 │\n",
       "│ ---          │\n",
       "│ str          │\n",
       "╞══════════════╡\n",
       "│ DESCONOCIDO  │\n",
       "│ DESCONOCIDO  │\n",
       "│ Z988         │\n",
       "│ Z978         │\n",
       "│ Z968         │\n",
       "│ …            │\n",
       "│ A010         │\n",
       "│ A010         │\n",
       "│ A010         │\n",
       "│ A010         │\n",
       "│ A010         │\n",
       "└──────────────┘"
      ]
     },
     "execution_count": 7,
     "metadata": {},
     "output_type": "execute_result"
    }
   ],
   "source": [
    "ranking_egresos_nacionales.select(pl.col(\"DIAGNOSTICO1\").str.replace(\".\", \"\", literal=True))"
   ]
  },
  {
   "cell_type": "code",
   "execution_count": null,
   "metadata": {},
   "outputs": [],
   "source": []
  }
 ],
 "metadata": {
  "kernelspec": {
   "display_name": "grd-fonasa",
   "language": "python",
   "name": "python3"
  },
  "language_info": {
   "codemirror_mode": {
    "name": "ipython",
    "version": 3
   },
   "file_extension": ".py",
   "mimetype": "text/x-python",
   "name": "python",
   "nbconvert_exporter": "python",
   "pygments_lexer": "ipython3",
   "version": "3.11.5"
  }
 },
 "nbformat": 4,
 "nbformat_minor": 2
}
