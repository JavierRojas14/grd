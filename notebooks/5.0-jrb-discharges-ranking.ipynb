{
 "cells": [
  {
   "cell_type": "code",
   "execution_count": 1,
   "metadata": {},
   "outputs": [],
   "source": [
    "import pandas as pd\n",
    "import numpy as np\n",
    "import polars as pl\n",
    "\n",
    "import matplotlib.pyplot as plt\n",
    "import seaborn as sns\n",
    "\n",
    "sns.set_style()\n",
    "plt.rcParams[\"figure.figsize\"] = (12, 6)"
   ]
  },
  {
   "cell_type": "code",
   "execution_count": 12,
   "metadata": {},
   "outputs": [],
   "source": [
    "df = pl.read_csv(\n",
    "    \"../data/processed/df_procesada.csv\",\n",
    "    separator=\";\",\n",
    "    columns=[\"ESTANCIA\", \"COD_HOSPITAL\", \"DIAGNOSTICO1\", \"ANIO_EGRESO\"],\n",
    ")"
   ]
  },
  {
   "cell_type": "code",
   "execution_count": 25,
   "metadata": {},
   "outputs": [],
   "source": [
    "resumen_egresos_nacionales = (\n",
    "    df.group_by(pl.col([\"ANIO_EGRESO\", \"COD_HOSPITAL\", \"DIAGNOSTICO1\"]))\n",
    "    .agg([pl.count().alias(\"n_egresos\"), pl.col(\"ESTANCIA\").sum().alias(\"dias_estada_totales\")])\n",
    "    .sort(by=[\"ANIO_EGRESO\", \"DIAGNOSTICO1\", \"n_egresos\"], descending=True)\n",
    "    .with_columns(\n",
    "        pl.col(\"n_egresos\")\n",
    "        .rank(method=\"min\", descending=True)\n",
    "        .over([\"ANIO_EGRESO\", \"DIAGNOSTICO1\"])\n",
    "        .alias(\"ranking_egresos\")\n",
    "    )\n",
    ")"
   ]
  },
  {
   "cell_type": "code",
   "execution_count": 49,
   "metadata": {},
   "outputs": [],
   "source": [
    "diags_ranking_1_o_2_torax = resumen_egresos_nacionales.filter(\n",
    "    (pl.col(\"COD_HOSPITAL\") == 112103)\n",
    "    & ((pl.col(\"ranking_egresos\")) == 1 | (pl.col(\"ranking_egresos\") == 2))\n",
    ").sort([\"ANIO_EGRESO\", \"n_egresos\"], descending=True)"
   ]
  },
  {
   "cell_type": "code",
   "execution_count": 50,
   "metadata": {},
   "outputs": [
    {
     "data": {
      "text/html": [
       "<div><style>\n",
       ".dataframe > thead > tr > th,\n",
       ".dataframe > tbody > tr > td {\n",
       "  text-align: right;\n",
       "  white-space: pre-wrap;\n",
       "}\n",
       "</style>\n",
       "<small>shape: (263, 6)</small><table border=\"1\" class=\"dataframe\"><thead><tr><th>ANIO_EGRESO</th><th>COD_HOSPITAL</th><th>DIAGNOSTICO1</th><th>n_egresos</th><th>dias_estada_totales</th><th>ranking_egresos</th></tr><tr><td>i64</td><td>i64</td><td>str</td><td>u32</td><td>i64</td><td>u32</td></tr></thead><tbody><tr><td>2021</td><td>112103</td><td>&quot;I35.0&quot;</td><td>122</td><td>1404</td><td>1</td></tr><tr><td>2021</td><td>112103</td><td>&quot;Z45.0&quot;</td><td>109</td><td>124</td><td>1</td></tr><tr><td>2021</td><td>112103</td><td>&quot;C34.1&quot;</td><td>74</td><td>550</td><td>1</td></tr><tr><td>2021</td><td>112103</td><td>&quot;J95.5&quot;</td><td>68</td><td>718</td><td>1</td></tr><tr><td>2021</td><td>112103</td><td>&quot;C78.2&quot;</td><td>65</td><td>754</td><td>1</td></tr><tr><td>2021</td><td>112103</td><td>&quot;J84.1&quot;</td><td>63</td><td>998</td><td>1</td></tr><tr><td>2021</td><td>112103</td><td>&quot;C34.3&quot;</td><td>61</td><td>480</td><td>1</td></tr><tr><td>2021</td><td>112103</td><td>&quot;E84.8&quot;</td><td>51</td><td>1121</td><td>1</td></tr><tr><td>2021</td><td>112103</td><td>&quot;Q21.1&quot;</td><td>50</td><td>254</td><td>1</td></tr><tr><td>2021</td><td>112103</td><td>&quot;I71.0&quot;</td><td>34</td><td>639</td><td>1</td></tr><tr><td>2021</td><td>112103</td><td>&quot;I71.2&quot;</td><td>32</td><td>450</td><td>1</td></tr><tr><td>2021</td><td>112103</td><td>&quot;D38.1&quot;</td><td>29</td><td>164</td><td>1</td></tr><tr><td>&hellip;</td><td>&hellip;</td><td>&hellip;</td><td>&hellip;</td><td>&hellip;</td><td>&hellip;</td></tr><tr><td>2019</td><td>112103</td><td>&quot;I28.0&quot;</td><td>1</td><td>1</td><td>1</td></tr><tr><td>2019</td><td>112103</td><td>&quot;I25.3&quot;</td><td>1</td><td>4</td><td>1</td></tr><tr><td>2019</td><td>112103</td><td>&quot;I06.1&quot;</td><td>1</td><td>7</td><td>1</td></tr><tr><td>2019</td><td>112103</td><td>&quot;G53.0&quot;</td><td>1</td><td>2</td><td>1</td></tr><tr><td>2019</td><td>112103</td><td>&quot;E04.8&quot;</td><td>1</td><td>5</td><td>1</td></tr><tr><td>2019</td><td>112103</td><td>&quot;D86.2&quot;</td><td>1</td><td>30</td><td>1</td></tr><tr><td>2019</td><td>112103</td><td>&quot;D47.4&quot;</td><td>1</td><td>3</td><td>1</td></tr><tr><td>2019</td><td>112103</td><td>&quot;D19.0&quot;</td><td>1</td><td>4</td><td>1</td></tr><tr><td>2019</td><td>112103</td><td>&quot;C47.3&quot;</td><td>1</td><td>8</td><td>1</td></tr><tr><td>2019</td><td>112103</td><td>&quot;A42.0&quot;</td><td>1</td><td>16</td><td>1</td></tr><tr><td>2019</td><td>112103</td><td>&quot;A19.8&quot;</td><td>1</td><td>14</td><td>1</td></tr><tr><td>2019</td><td>112103</td><td>&quot;A19.0&quot;</td><td>1</td><td>63</td><td>1</td></tr></tbody></table></div>"
      ],
      "text/plain": [
       "shape: (263, 6)\n",
       "┌─────────────┬──────────────┬──────────────┬───────────┬─────────────────────┬─────────────────┐\n",
       "│ ANIO_EGRESO ┆ COD_HOSPITAL ┆ DIAGNOSTICO1 ┆ n_egresos ┆ dias_estada_totales ┆ ranking_egresos │\n",
       "│ ---         ┆ ---          ┆ ---          ┆ ---       ┆ ---                 ┆ ---             │\n",
       "│ i64         ┆ i64          ┆ str          ┆ u32       ┆ i64                 ┆ u32             │\n",
       "╞═════════════╪══════════════╪══════════════╪═══════════╪═════════════════════╪═════════════════╡\n",
       "│ 2021        ┆ 112103       ┆ I35.0        ┆ 122       ┆ 1404                ┆ 1               │\n",
       "│ 2021        ┆ 112103       ┆ Z45.0        ┆ 109       ┆ 124                 ┆ 1               │\n",
       "│ 2021        ┆ 112103       ┆ C34.1        ┆ 74        ┆ 550                 ┆ 1               │\n",
       "│ 2021        ┆ 112103       ┆ J95.5        ┆ 68        ┆ 718                 ┆ 1               │\n",
       "│ …           ┆ …            ┆ …            ┆ …         ┆ …                   ┆ …               │\n",
       "│ 2019        ┆ 112103       ┆ C47.3        ┆ 1         ┆ 8                   ┆ 1               │\n",
       "│ 2019        ┆ 112103       ┆ A42.0        ┆ 1         ┆ 16                  ┆ 1               │\n",
       "│ 2019        ┆ 112103       ┆ A19.8        ┆ 1         ┆ 14                  ┆ 1               │\n",
       "│ 2019        ┆ 112103       ┆ A19.0        ┆ 1         ┆ 63                  ┆ 1               │\n",
       "└─────────────┴──────────────┴──────────────┴───────────┴─────────────────────┴─────────────────┘"
      ]
     },
     "execution_count": 50,
     "metadata": {},
     "output_type": "execute_result"
    }
   ],
   "source": [
    "diags_ranking_1_o_2_torax"
   ]
  },
  {
   "cell_type": "code",
   "execution_count": null,
   "metadata": {},
   "outputs": [],
   "source": []
  }
 ],
 "metadata": {
  "kernelspec": {
   "display_name": "grd-fonasa",
   "language": "python",
   "name": "python3"
  },
  "language_info": {
   "codemirror_mode": {
    "name": "ipython",
    "version": 3
   },
   "file_extension": ".py",
   "mimetype": "text/x-python",
   "name": "python",
   "nbconvert_exporter": "python",
   "pygments_lexer": "ipython3",
   "version": "3.11.5"
  }
 },
 "nbformat": 4,
 "nbformat_minor": 2
}
