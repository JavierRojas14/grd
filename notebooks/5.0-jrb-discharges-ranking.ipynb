{
 "cells": [
  {
   "cell_type": "code",
   "execution_count": 1,
   "metadata": {},
   "outputs": [],
   "source": [
    "import pandas as pd\n",
    "import numpy as np\n",
    "import polars as pl\n",
    "\n",
    "import matplotlib.pyplot as plt\n",
    "import seaborn as sns\n",
    "\n",
    "sns.set_style()\n",
    "plt.rcParams[\"figure.figsize\"] = (12, 6)"
   ]
  },
  {
   "cell_type": "code",
   "execution_count": 12,
   "metadata": {},
   "outputs": [],
   "source": [
    "df = pl.read_csv(\n",
    "    \"../data/processed/df_procesada.csv\",\n",
    "    separator=\";\",\n",
    "    columns=[\"ESTANCIA\", \"COD_HOSPITAL\", \"DIAGNOSTICO1\", \"ANIO_EGRESO\"],\n",
    ")"
   ]
  },
  {
   "cell_type": "code",
   "execution_count": 25,
   "metadata": {},
   "outputs": [],
   "source": [
    "resumen_egresos_nacionales = (\n",
    "    df.group_by(pl.col([\"ANIO_EGRESO\", \"COD_HOSPITAL\", \"DIAGNOSTICO1\"]))\n",
    "    .agg([pl.count().alias(\"n_egresos\"), pl.col(\"ESTANCIA\").sum().alias(\"dias_estada_totales\")])\n",
    "    .sort(by=[\"ANIO_EGRESO\", \"DIAGNOSTICO1\", \"n_egresos\"], descending=True)\n",
    "    .with_columns(\n",
    "        pl.col(\"n_egresos\")\n",
    "        .rank(method=\"min\", descending=True)\n",
    "        .over([\"ANIO_EGRESO\", \"DIAGNOSTICO1\"])\n",
    "        .alias(\"ranking_egresos\")\n",
    "    )\n",
    ")"
   ]
  },
  {
   "cell_type": "code",
   "execution_count": 49,
   "metadata": {},
   "outputs": [],
   "source": [
    "diags_ranking_1_o_2_torax = resumen_egresos_nacionales.filter(\n",
    "    (pl.col(\"COD_HOSPITAL\") == 112103)\n",
    "    & ((pl.col(\"ranking_egresos\")) == 1 | (pl.col(\"ranking_egresos\") == 2))\n",
    ").sort([\"ANIO_EGRESO\", \"n_egresos\"], descending=True)"
   ]
  },
  {
   "cell_type": "code",
   "execution_count": 53,
   "metadata": {},
   "outputs": [
    {
     "data": {
      "text/html": [
       "<div><style>\n",
       ".dataframe > thead > tr > th,\n",
       ".dataframe > tbody > tr > td {\n",
       "  text-align: right;\n",
       "  white-space: pre-wrap;\n",
       "}\n",
       "</style>\n",
       "<small>shape: (3, 2)</small><table border=\"1\" class=\"dataframe\"><thead><tr><th>ANIO_EGRESO</th><th>DIAGNOSTICO1</th></tr><tr><td>i64</td><td>str</td></tr></thead><tbody><tr><td>2021</td><td>&quot;I35.0, Z45.0, …</td></tr><tr><td>2020</td><td>&quot;Z51.4, Z29.1, …</td></tr><tr><td>2019</td><td>&quot;I25.1, Z51.4, …</td></tr></tbody></table></div>"
      ],
      "text/plain": [
       "shape: (3, 2)\n",
       "┌─────────────┬───────────────────────────────────┐\n",
       "│ ANIO_EGRESO ┆ DIAGNOSTICO1                      │\n",
       "│ ---         ┆ ---                               │\n",
       "│ i64         ┆ str                               │\n",
       "╞═════════════╪═══════════════════════════════════╡\n",
       "│ 2021        ┆ I35.0, Z45.0, C34.1, J95.5, C78.… │\n",
       "│ 2020        ┆ Z51.4, Z29.1, C34.1, Z45.0, J84.… │\n",
       "│ 2019        ┆ I25.1, Z51.4, Z29.1, C34.1, Z09.… │\n",
       "└─────────────┴───────────────────────────────────┘"
      ]
     },
     "execution_count": 53,
     "metadata": {},
     "output_type": "execute_result"
    }
   ],
   "source": [
    "diags_ranking_1_o_2_torax.group_by(pl.col([\"ANIO_EGRESO\"])).agg(\n",
    "    pl.col(\"DIAGNOSTICO1\").str.concat(\", \")\n",
    ")"
   ]
  },
  {
   "cell_type": "code",
   "execution_count": null,
   "metadata": {},
   "outputs": [],
   "source": []
  }
 ],
 "metadata": {
  "kernelspec": {
   "display_name": "grd-fonasa",
   "language": "python",
   "name": "python3"
  },
  "language_info": {
   "codemirror_mode": {
    "name": "ipython",
    "version": 3
   },
   "file_extension": ".py",
   "mimetype": "text/x-python",
   "name": "python",
   "nbconvert_exporter": "python",
   "pygments_lexer": "ipython3",
   "version": "3.11.5"
  }
 },
 "nbformat": 4,
 "nbformat_minor": 2
}
