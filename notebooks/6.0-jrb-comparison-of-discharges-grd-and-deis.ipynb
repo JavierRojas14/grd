{
 "cells": [
  {
   "cell_type": "code",
   "execution_count": 1,
   "metadata": {},
   "outputs": [],
   "source": [
    "import sys\n",
    "import os\n",
    "\n",
    "project_root = os.path.abspath('..')\n",
    "if project_root not in sys.path:\n",
    "    sys.path.append(project_root)\n",
    "\n",
    "%load_ext autoreload\n",
    "%autoreload 2"
   ]
  },
  {
   "cell_type": "code",
   "execution_count": 2,
   "metadata": {},
   "outputs": [],
   "source": [
    "import pandas as pd\n",
    "import numpy as np\n",
    "import polars as pl\n",
    "\n",
    "import matplotlib.pyplot as plt\n",
    "import seaborn as sns\n",
    "\n",
    "from src.features import build_features\n",
    "\n",
    "sns.set_style()\n",
    "plt.rcParams[\"figure.figsize\"] = (12, 6)"
   ]
  },
  {
   "cell_type": "markdown",
   "metadata": {},
   "source": [
    "# Comparacion de Resultados GRD y DEIS\n",
    "\n",
    "En este cuadernillo se quieren calcular las diferencias entre las bases de egresos hospitalarios GRD y DEIS. Se compararán:\n",
    "\n",
    "1. Cantidad de egresos hospitalarios\n",
    "2. Ranking para cada uno de los diagnósticos\n",
    "\n",
    "Este análisis se realizará a nivel Nacional y a nivel del Hospital del Tórax"
   ]
  },
  {
   "cell_type": "code",
   "execution_count": 17,
   "metadata": {},
   "outputs": [],
   "source": [
    "# Lee ranking de egresos DEIS\n",
    "ranking_egresos_nacionales_deis = pl.read_csv(\n",
    "    \"../data/external/ranking_nacional_egresos.csv\", encoding=\"latin-1\", separator=\";\"\n",
    ").to_pandas()\n",
    "\n",
    "# Solo deja los estblecimientos publicos en DEIS\n",
    "ranking_egresos_publicos_deis = ranking_egresos_nacionales_deis.dropna(\n",
    "    subset=\"ranking_publicos_n_egresos\"\n",
    ").copy()\n",
    "\n",
    "# Lee ranking de egresos GRD\n",
    "ranking_egresos_nacionales_grd = pl.read_csv(\n",
    "    \"../data/interim/ranking_nacionales_egresos_grd.csv\", separator=\";\"\n",
    ").to_pandas()"
   ]
  },
  {
   "cell_type": "code",
   "execution_count": 18,
   "metadata": {},
   "outputs": [],
   "source": [
    "# Define columnas a analizar entre ambas bases\n",
    "COLUMNAS_A_SELECCIONAR = [\n",
    "    \"ANIO_EGRESO\",\n",
    "    \"COD_HOSPITAL\",\n",
    "    \"DIAGNOSTICO1\",\n",
    "    \"Capítulo\",\n",
    "    \"Sección\",\n",
    "    \"Categoría\",\n",
    "    \"Descripción\",\n",
    "    \"GLOSA_ESTABLECIMIENTO_SALUD\",\n",
    "    \"n_egresos_GRD\",\n",
    "    \"n_egresos_DEIS\",\n",
    "    \"ranking_egresos\",\n",
    "    \"ranking_grd_n_egresos\",\n",
    "    \"dias_estada_totales_GRD\",\n",
    "    \"dias_estada_totales_DEIS\",\n",
    "    \"ranking_nacionales_n_egresos\",\n",
    "    \"ranking_publicos_n_egresos\",\n",
    "]\n",
    "\n",
    "# Une ambas bases de datos segun el anio, hospital y diagnostico principal\n",
    "comparacion_grd_deis_pais = (\n",
    "    ranking_egresos_nacionales_grd.merge(\n",
    "        ranking_egresos_nacionales_deis,\n",
    "        left_on=[\"ANIO_EGRESO\", \"COD_HOSPITAL\", \"DIAGNOSTICO1\"],\n",
    "        right_on=[\"ANO_EGRESO\", \"ESTABLECIMIENTO_SALUD\", \"DIAG1\"],\n",
    "        how=\"inner\",\n",
    "        suffixes=(\"_GRD\", \"_DEIS\"),\n",
    "    )[COLUMNAS_A_SELECCIONAR]\n",
    ")\n",
    "\n",
    "# Obtiene comparacion de egresos solamente para el Torax\n",
    "comparacion_grd_deis_torax = comparacion_grd_deis_pais.query(\"COD_HOSPITAL == 112103\").copy()"
   ]
  },
  {
   "cell_type": "code",
   "execution_count": 19,
   "metadata": {},
   "outputs": [],
   "source": [
    "DIFERENCIAS_A_CALCULAR = [\n",
    "    (\"n_egresos_GRD\", \"n_egresos_DEIS\"),\n",
    "    (\"ranking_egresos\", \"ranking_grd_n_egresos\"),\n",
    "]\n",
    "\n",
    "# Calcula diferencias entre egresos y rankings a nivel pais y Torax\n",
    "comparacion_grd_deis_torax = build_features.calculate_and_add_difference(\n",
    "    comparacion_grd_deis_torax, DIFERENCIAS_A_CALCULAR\n",
    ")\n",
    "\n",
    "comparacion_grd_deis_pais = build_features.calculate_and_add_difference(\n",
    "    comparacion_grd_deis_pais, DIFERENCIAS_A_CALCULAR\n",
    ")"
   ]
  },
  {
   "cell_type": "code",
   "execution_count": 20,
   "metadata": {},
   "outputs": [
    {
     "name": "stdout",
     "output_type": "stream",
     "text": [
      "> diferencia_promedio_egresos_torax=3.08 egresos\n",
      "> diferencia_promedio_ranking_torax=4.46 posiciones\n"
     ]
    }
   ],
   "source": [
    "# Obtiene el promedio de las diferencias de egresos\n",
    "diferencia_promedio_egresos_torax = comparacion_grd_deis_torax[\n",
    "    \"n_egresos_GRD_n_egresos_DEIS_difference\"\n",
    "].mean()\n",
    "\n",
    "# Obtiene el promedio de las diferencias de rankings\n",
    "diferencia_promedio_ranking_torax = comparacion_grd_deis_torax[\n",
    "    \"ranking_egresos_ranking_grd_n_egresos_difference\"\n",
    "].mean()\n",
    "\n",
    "print(f\"> {diferencia_promedio_egresos_torax=:.2f} egresos\")\n",
    "print(f\"> {diferencia_promedio_ranking_torax=:.2f} posiciones\")"
   ]
  },
  {
   "cell_type": "code",
   "execution_count": 21,
   "metadata": {},
   "outputs": [
    {
     "name": "stdout",
     "output_type": "stream",
     "text": [
      "> diferencia_promedio_egresos_pais=6.95 egresos\n",
      "> diferencia_promedio_ranking_pais=6.14 posiciones\n"
     ]
    }
   ],
   "source": [
    "# Obtiene el promedio de las diferencias de egresos\n",
    "diferencia_promedio_egresos_pais = comparacion_grd_deis_pais[\n",
    "    \"n_egresos_GRD_n_egresos_DEIS_difference\"\n",
    "].mean()\n",
    "\n",
    "# Obtiene el promedio de las diferencias de rankings\n",
    "diferencia_promedio_ranking_pais = comparacion_grd_deis_pais[\n",
    "    \"ranking_egresos_ranking_grd_n_egresos_difference\"\n",
    "].mean()\n",
    "\n",
    "print(f\"> {diferencia_promedio_egresos_pais=:.2f} egresos\")\n",
    "print(f\"> {diferencia_promedio_ranking_pais=:.2f} posiciones\")"
   ]
  },
  {
   "cell_type": "markdown",
   "metadata": {},
   "source": [
    "# Diferencias en cantidad de Hospitales presentes"
   ]
  },
  {
   "cell_type": "code",
   "execution_count": 22,
   "metadata": {},
   "outputs": [],
   "source": [
    "cantidad_hospitales_totales_deis = (\n",
    "    ranking_egresos_nacionales_deis.groupby(\"ANO_EGRESO\")[\"ESTABLECIMIENTO_SALUD\"]\n",
    "    .nunique()\n",
    "    .to_frame()\n",
    ")\n",
    "\n",
    "cantidad_hospitales_publicos_deis = (\n",
    "    ranking_egresos_publicos_deis.groupby(\"ANO_EGRESO\")[\"ESTABLECIMIENTO_SALUD\"]\n",
    "    .nunique()\n",
    "    .to_frame()\n",
    ")\n",
    "\n",
    "cantidad_hospitales_grd = (\n",
    "    ranking_egresos_nacionales_grd.groupby(\"ANIO_EGRESO\")[\"COD_HOSPITAL\"].nunique().to_frame()\n",
    ")\n",
    "\n",
    "comparacion_cantidad_de_hospitales = cantidad_hospitales_totales_deis.merge(\n",
    "    cantidad_hospitales_publicos_deis, how=\"inner\", left_index=True, right_index=True\n",
    ").merge(cantidad_hospitales_grd, how=\"inner\", left_index=True, right_index=True)"
   ]
  },
  {
   "cell_type": "code",
   "execution_count": 24,
   "metadata": {},
   "outputs": [
    {
     "data": {
      "image/png": "[encoded data removed]",
      "text/plain": [
       "<Figure size 1200x600 with 1 Axes>"
      ]
     },
     "metadata": {},
     "output_type": "display_data"
    }
   ],
   "source": [
    "axis = comparacion_cantidad_de_hospitales.plot(kind=\"bar\")\n",
    "axis.legend(labels=[\"DEIS - Totales\", \"DEIS - Públicos\", \"GRD\"])\n",
    "plt.title(\"Cantidad de Hospitales distintos en cada base de datos\")\n",
    "plt.show()"
   ]
  }
 ],
 "metadata": {
  "kernelspec": {
   "display_name": "grd-fonasa",
   "language": "python",
   "name": "python3"
  },
  "language_info": {
   "codemirror_mode": {
    "name": "ipython",
    "version": 3
   },
   "file_extension": ".py",
   "mimetype": "text/x-python",
   "name": "python",
   "nbconvert_exporter": "python",
   "pygments_lexer": "ipython3",
   "version": "3.11.5"
  }
 },
 "nbformat": 4,
 "nbformat_minor": 2
}
