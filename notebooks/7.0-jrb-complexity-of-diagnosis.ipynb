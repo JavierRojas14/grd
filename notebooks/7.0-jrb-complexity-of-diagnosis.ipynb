{
 "cells": [
  {
   "cell_type": "code",
   "execution_count": 4,
   "metadata": {},
   "outputs": [],
   "source": [
    "import sys\n",
    "import os\n",
    "\n",
    "project_root = os.path.abspath('..')\n",
    "if project_root not in sys.path:\n",
    "    sys.path.append(project_root)\n",
    "\n",
    "%load_ext autoreload\n",
    "%autoreload 2"
   ]
  },
  {
   "cell_type": "code",
   "execution_count": 5,
   "metadata": {},
   "outputs": [],
   "source": [
    "import pandas as pd\n",
    "import numpy as np\n",
    "import polars as pl\n",
    "\n",
    "import matplotlib.pyplot as plt\n",
    "import seaborn as sns\n",
    "\n",
    "sns.set_style()\n",
    "plt.rcParams['figure.figsize'] = (12, 6)"
   ]
  },
  {
   "cell_type": "code",
   "execution_count": 30,
   "metadata": {},
   "outputs": [],
   "source": [
    "df = (\n",
    "    pl.scan_csv(\"../data/processed/df_procesada.csv\", separator=\";\")\n",
    "    .filter((pl.col(\"COD_HOSPITAL\") == 112103) & (pl.col(\"TIPO_ACTIVIDAD\") == \"HOSPITALIZACIÓN\"))\n",
    "    .group_by([\"ANIO_EGRESO\", \"DIAGNOSTICO1\"])\n",
    "    .agg(\n",
    "        [\n",
    "            pl.col(\"CIP_ENCRIPTADO\").n_unique().alias(\"n_pacientes_distintos\"),\n",
    "            pl.len().alias(\"n_egresos\"),\n",
    "            pl.col(\"IR_29301_PESO\").mean().round(4).alias(\"peso_grd_promedio\"),\n",
    "            pl.col(\"ESTANCIA\").sum().alias(\"dias_estada_totales\"),\n",
    "        ]\n",
    "    )\n",
    "    .sort(by=[\"ANIO_EGRESO\", \"n_egresos\"], descending=True)\n",
    ")"
   ]
  },
  {
   "cell_type": "code",
   "execution_count": 31,
   "metadata": {},
   "outputs": [],
   "source": [
    "df = df.collect(streaming=True)"
   ]
  },
  {
   "cell_type": "code",
   "execution_count": 32,
   "metadata": {},
   "outputs": [
    {
     "data": {
      "text/html": [
       "<div><style>\n",
       ".dataframe > thead > tr,\n",
       ".dataframe > tbody > tr {\n",
       "  text-align: right;\n",
       "  white-space: pre-wrap;\n",
       "}\n",
       "</style>\n",
       "<small>shape: (1_056, 6)</small><table border=\"1\" class=\"dataframe\"><thead><tr><th>ANIO_EGRESO</th><th>DIAGNOSTICO1</th><th>n_pacientes_distintos</th><th>n_egresos</th><th>peso_grd_promedio</th><th>dias_estada_totales</th></tr><tr><td>i64</td><td>str</td><td>u32</td><td>u32</td><td>f64</td><td>i64</td></tr></thead><tbody><tr><td>2021</td><td>&quot;U07.1&quot;</td><td>448</td><td>449</td><td>4.0172</td><td>8768</td></tr><tr><td>2021</td><td>&quot;I25.1&quot;</td><td>285</td><td>304</td><td>2.5258</td><td>2784</td></tr><tr><td>2021</td><td>&quot;I35.0&quot;</td><td>114</td><td>122</td><td>3.7032</td><td>1404</td></tr><tr><td>2021</td><td>&quot;Z45.0&quot;</td><td>107</td><td>109</td><td>2.2902</td><td>124</td></tr><tr><td>2021</td><td>&quot;C34.1&quot;</td><td>60</td><td>74</td><td>1.5312</td><td>550</td></tr><tr><td>&hellip;</td><td>&hellip;</td><td>&hellip;</td><td>&hellip;</td><td>&hellip;</td><td>&hellip;</td></tr><tr><td>2019</td><td>&quot;I48.2&quot;</td><td>1</td><td>1</td><td>1.8191</td><td>1</td></tr><tr><td>2019</td><td>&quot;Q89.3&quot;</td><td>1</td><td>1</td><td>0.6736</td><td>2</td></tr><tr><td>2019</td><td>&quot;Q24.8&quot;</td><td>1</td><td>1</td><td>1.0746</td><td>1</td></tr><tr><td>2019</td><td>&quot;O88.3&quot;</td><td>1</td><td>1</td><td>2.7231</td><td>15</td></tr><tr><td>2019</td><td>&quot;I45.1&quot;</td><td>1</td><td>1</td><td>5.8864</td><td>13</td></tr></tbody></table></div>"
      ],
      "text/plain": [
       "shape: (1_056, 6)\n",
       "┌─────────────┬──────────────┬───────────────────┬───────────┬──────────────────┬──────────────────┐\n",
       "│ ANIO_EGRESO ┆ DIAGNOSTICO1 ┆ n_pacientes_disti ┆ n_egresos ┆ peso_grd_promedi ┆ dias_estada_tota │\n",
       "│ ---         ┆ ---          ┆ ntos              ┆ ---       ┆ o                ┆ les              │\n",
       "│ i64         ┆ str          ┆ ---               ┆ u32       ┆ ---              ┆ ---              │\n",
       "│             ┆              ┆ u32               ┆           ┆ f64              ┆ i64              │\n",
       "╞═════════════╪══════════════╪═══════════════════╪═══════════╪══════════════════╪══════════════════╡\n",
       "│ 2021        ┆ U07.1        ┆ 448               ┆ 449       ┆ 4.0172           ┆ 8768             │\n",
       "│ 2021        ┆ I25.1        ┆ 285               ┆ 304       ┆ 2.5258           ┆ 2784             │\n",
       "│ 2021        ┆ I35.0        ┆ 114               ┆ 122       ┆ 3.7032           ┆ 1404             │\n",
       "│ 2021        ┆ Z45.0        ┆ 107               ┆ 109       ┆ 2.2902           ┆ 124              │\n",
       "│ 2021        ┆ C34.1        ┆ 60                ┆ 74        ┆ 1.5312           ┆ 550              │\n",
       "│ …           ┆ …            ┆ …                 ┆ …         ┆ …                ┆ …                │\n",
       "│ 2019        ┆ I48.2        ┆ 1                 ┆ 1         ┆ 1.8191           ┆ 1                │\n",
       "│ 2019        ┆ Q89.3        ┆ 1                 ┆ 1         ┆ 0.6736           ┆ 2                │\n",
       "│ 2019        ┆ Q24.8        ┆ 1                 ┆ 1         ┆ 1.0746           ┆ 1                │\n",
       "│ 2019        ┆ O88.3        ┆ 1                 ┆ 1         ┆ 2.7231           ┆ 15               │\n",
       "│ 2019        ┆ I45.1        ┆ 1                 ┆ 1         ┆ 5.8864           ┆ 13               │\n",
       "└─────────────┴──────────────┴───────────────────┴───────────┴──────────────────┴──────────────────┘"
      ]
     },
     "execution_count": 32,
     "metadata": {},
     "output_type": "execute_result"
    }
   ],
   "source": [
    "df"
   ]
  },
  {
   "cell_type": "code",
   "execution_count": null,
   "metadata": {},
   "outputs": [],
   "source": []
  }
 ],
 "metadata": {
  "kernelspec": {
   "display_name": "grd-fonasa",
   "language": "python",
   "name": "python3"
  },
  "language_info": {
   "codemirror_mode": {
    "name": "ipython",
    "version": 3
   },
   "file_extension": ".py",
   "mimetype": "text/x-python",
   "name": "python",
   "nbconvert_exporter": "python",
   "pygments_lexer": "ipython3",
   "version": "3.11.5"
  }
 },
 "nbformat": 4,
 "nbformat_minor": 2
}
