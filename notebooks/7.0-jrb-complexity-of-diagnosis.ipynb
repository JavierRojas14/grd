{
 "cells": [
  {
   "cell_type": "code",
   "execution_count": 4,
   "metadata": {},
   "outputs": [],
   "source": [
    "import sys\n",
    "import os\n",
    "\n",
    "project_root = os.path.abspath('..')\n",
    "if project_root not in sys.path:\n",
    "    sys.path.append(project_root)\n",
    "\n",
    "%load_ext autoreload\n",
    "%autoreload 2"
   ]
  },
  {
   "cell_type": "code",
   "execution_count": 5,
   "metadata": {},
   "outputs": [],
   "source": [
    "import pandas as pd\n",
    "import numpy as np\n",
    "import polars as pl\n",
    "\n",
    "import matplotlib.pyplot as plt\n",
    "import seaborn as sns\n",
    "\n",
    "sns.set_style()\n",
    "plt.rcParams['figure.figsize'] = (12, 6)"
   ]
  },
  {
   "cell_type": "code",
   "execution_count": 56,
   "metadata": {},
   "outputs": [],
   "source": [
    "df = (\n",
    "    (\n",
    "        pl.scan_csv(\"../data/processed/df_procesada.csv\", separator=\";\")\n",
    "        .filter(\n",
    "            (pl.col(\"COD_HOSPITAL\") == 112103) & (pl.col(\"TIPO_ACTIVIDAD\") == \"HOSPITALIZACIÓN\")\n",
    "        )\n",
    "        .with_columns(pl.col(\"DIAGNOSTICO1\").str.replace(\".\", \"\", literal=True).str.pad_end(4, \"X\"))\n",
    "        .group_by([\"ANIO_EGRESO\", \"DIAGNOSTICO1\"])\n",
    "        .agg(\n",
    "            [\n",
    "                pl.col(\"CIP_ENCRIPTADO\").n_unique().alias(\"n_pacientes_distintos\"),\n",
    "                pl.len().alias(\"n_egresos\"),\n",
    "                pl.col(\"IR_29301_PESO\").mean().round(4).alias(\"peso_grd_promedio\"),\n",
    "                pl.col(\"ESTANCIA\").sum().alias(\"dias_estada_totales\"),\n",
    "            ]\n",
    "        )\n",
    "        .sort(by=[\"ANIO_EGRESO\", \"n_egresos\"], descending=True)\n",
    "    )\n",
    "    .collect(streaming=True)\n",
    "    .to_pandas()\n",
    ")"
   ]
  }
 ],
 "metadata": {
  "kernelspec": {
   "display_name": "grd-fonasa",
   "language": "python",
   "name": "python3"
  },
  "language_info": {
   "codemirror_mode": {
    "name": "ipython",
    "version": 3
   },
   "file_extension": ".py",
   "mimetype": "text/x-python",
   "name": "python",
   "nbconvert_exporter": "python",
   "pygments_lexer": "ipython3",
   "version": "3.11.5"
  }
 },
 "nbformat": 4,
 "nbformat_minor": 2
}
