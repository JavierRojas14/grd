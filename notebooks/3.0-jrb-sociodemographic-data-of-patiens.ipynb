{
 "cells": [
  {
   "cell_type": "code",
   "execution_count": 89,
   "metadata": {},
   "outputs": [],
   "source": [
    "import sys\n",
    "import os\n",
    "\n",
    "project_root = os.path.abspath('..')\n",
    "if project_root not in sys.path:\n",
    "    sys.path.append(project_root)\n",
    "\n",
    "%load_ext autoreload\n",
    "%autoreload 2"
   ]
  },
  {
   "cell_type": "code",
   "execution_count": 90,
   "metadata": {},
   "outputs": [],
   "source": [
    "import pandas as pd\n",
    "import numpy as np\n",
    "import polars as pl\n",
    "import matplotlib.pyplot as plt\n",
    "import seaborn as sns\n",
    "\n",
    "import warnings\n",
    "\n",
    "from src.features import build_features\n",
    "\n",
    "warnings.filterwarnings('ignore')\n",
    "sns.set_style()\n",
    "plt.rcParams['figure.figsize'] = (12, 6)"
   ]
  },
  {
   "cell_type": "code",
   "execution_count": 74,
   "metadata": {},
   "outputs": [],
   "source": [
    "vars_procedimientos = {f\"PROCEDIMIENTO{i}\": str for i in range(1, 31)}\n",
    "df_procesada = pd.read_csv(\"../data/processed/df_procesada.csv\", sep=\";\", dtype=vars_procedimientos)"
   ]
  },
  {
   "cell_type": "code",
   "execution_count": 84,
   "metadata": {},
   "outputs": [],
   "source": [
    "df_torax = df_procesada.query(\"COD_HOSPITAL == 112103\")"
   ]
  },
  {
   "cell_type": "markdown",
   "metadata": {},
   "source": [
    "## 1. Análisis Sociodemográfico de los pacientes\n",
    "\n",
    "En este apartado se quiere responder las siguientes preguntas:\n",
    "\n",
    "- ¿Cuál es la **edad** de los pacientes que se realizan los procedimientos en el hospital del Tórax?\n",
    "- ¿Cuál es el **sexo** de los pacientes que se realizan los procedimientos en el hospital del Tórax?\n",
    "- ¿Cuál es la **previsión** de los pacientes que se realizan los procedimientos en el hospital del Tórax?\n",
    "- ¿Cuál es la **letra de FONASA** de los pacientes que se realizan los procedimientos en el hospital del Tórax?\n",
    "\n",
    "Para responder estas preguntas se utilizará la base de datos de GRD Público entre 2019 y 2021."
   ]
  },
  {
   "cell_type": "code",
   "execution_count": 86,
   "metadata": {},
   "outputs": [],
   "source": [
    "columnas_sociodemográficas = [\"PREVISION\", \"SEXO\", \"RANGO_ETARIO\", \"Nombre Región\"]\n",
    "\n",
    "df_procesada_formato_largo = pd.melt(\n",
    "    df_torax,\n",
    "    id_vars=[\"COD_HOSPITAL\", \"ANIO_EGRESO\", \"CIP_ENCRIPTADO\"] + columnas_sociodemográficas,\n",
    "    value_vars=vars_procedimientos.keys(),\n",
    "    value_name=\"procedimiento\",\n",
    ")"
   ]
  },
  {
   "cell_type": "code",
   "execution_count": 92,
   "metadata": {},
   "outputs": [],
   "source": [
    "agrupacion_estatica = [\"ANIO_EGRESO\", \"Nombre Región\"]\n",
    "agrupacion_variable = [\"PREVISION\", \"SEXO\", \"RANGO_ETARIO\"]\n",
    "variable_a_contar = \"procedimiento\""
   ]
  },
  {
   "cell_type": "code",
   "execution_count": 93,
   "metadata": {},
   "outputs": [],
   "source": [
    "resultados_sociodemograficos = build_features.obtener_desglose_sociodemografico(\n",
    "    df_procesada_formato_largo, agrupacion_estatica, agrupacion_variable, variable_a_contar\n",
    ")"
   ]
  },
  {
   "cell_type": "code",
   "execution_count": 98,
   "metadata": {},
   "outputs": [],
   "source": [
    "ruta_a_guardar = \"../data/interim/sociodemografico/desglose_sociodemografico_proced.xlsx\"\n",
    "\n",
    "with pd.ExcelWriter(ruta_a_guardar) as file:\n",
    "    for nombre_hoja, df_a_guardar in resultados_sociodemograficos.items():\n",
    "        df_a_guardar.to_excel(file, sheet_name=nombre_hoja, index=False)"
   ]
  }
 ],
 "metadata": {
  "kernelspec": {
   "display_name": "base",
   "language": "python",
   "name": "python3"
  },
  "language_info": {
   "codemirror_mode": {
    "name": "ipython",
    "version": 3
   },
   "file_extension": ".py",
   "mimetype": "text/x-python",
   "name": "python",
   "nbconvert_exporter": "python",
   "pygments_lexer": "ipython3",
   "version": "3.10.9"
  },
  "orig_nbformat": 4
 },
 "nbformat": 4,
 "nbformat_minor": 2
}
