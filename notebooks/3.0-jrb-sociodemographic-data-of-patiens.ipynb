{
 "cells": [
  {
   "cell_type": "code",
   "execution_count": 2,
   "metadata": {},
   "outputs": [],
   "source": [
    "import pandas as pd\n",
    "import numpy as np\n",
    "import polars as pl\n",
    "import matplotlib.pyplot as plt\n",
    "import seaborn as sns\n",
    "\n",
    "import warnings\n",
    "\n",
    "warnings.filterwarnings('ignore')\n",
    "sns.set_style()\n",
    "plt.rcParams['figure.figsize'] = (12, 6)"
   ]
  },
  {
   "cell_type": "code",
   "execution_count": 32,
   "metadata": {},
   "outputs": [],
   "source": [
    "vars_procedimientos = {f\"PROCEDIMIENTO{i}\": str for i in range(1, 31)}\n",
    "df_procesada = pd.read_csv(\"../data/processed/df_procesada.csv\", sep=\";\", dtype=vars_procedimientos)"
   ]
  },
  {
   "cell_type": "markdown",
   "metadata": {},
   "source": [
    "## 1. Análisis Sociodemográfico de los pacientes\n",
    "\n",
    "En este apartado se quiere responder las siguientes preguntas:\n",
    "\n",
    "- ¿Cuál es la **edad** de los pacientes que se realizan los procedimientos en el hospital del Tórax?\n",
    "- ¿Cuál es el **sexo** de los pacientes que se realizan los procedimientos en el hospital del Tórax?\n",
    "- ¿Cuál es la **previsión** de los pacientes que se realizan los procedimientos en el hospital del Tórax?\n",
    "- ¿Cuál es la **letra de FONASA** de los pacientes que se realizan los procedimientos en el hospital del Tórax?\n",
    "\n",
    "Para responder estas preguntas se utilizará la base de datos de GRD Público entre 2019 y 2021."
   ]
  },
  {
   "cell_type": "code",
   "execution_count": 35,
   "metadata": {},
   "outputs": [],
   "source": [
    "columnas_sociodemográficas = [\"PREVISION\", \"SEXO\", \"RANGO_ETARIO\"]"
   ]
  },
  {
   "cell_type": "code",
   "execution_count": 36,
   "metadata": {},
   "outputs": [
    {
     "data": {
      "text/html": [
       "<div>\n",
       "<style scoped>\n",
       "    .dataframe tbody tr th:only-of-type {\n",
       "        vertical-align: middle;\n",
       "    }\n",
       "\n",
       "    .dataframe tbody tr th {\n",
       "        vertical-align: top;\n",
       "    }\n",
       "\n",
       "    .dataframe thead th {\n",
       "        text-align: right;\n",
       "    }\n",
       "</style>\n",
       "<table border=\"1\" class=\"dataframe\">\n",
       "  <thead>\n",
       "    <tr style=\"text-align: right;\">\n",
       "      <th></th>\n",
       "      <th>PREVISION</th>\n",
       "      <th>SEXO</th>\n",
       "      <th>RANGO_ETARIO</th>\n",
       "    </tr>\n",
       "  </thead>\n",
       "  <tbody>\n",
       "    <tr>\n",
       "      <th>0</th>\n",
       "      <td>FONASA INSTITUCIONAL - (MAI) A</td>\n",
       "      <td>MUJER</td>\n",
       "      <td>(30, 40]</td>\n",
       "    </tr>\n",
       "    <tr>\n",
       "      <th>1</th>\n",
       "      <td>FONASA INSTITUCIONAL - (MAI) D</td>\n",
       "      <td>MUJER</td>\n",
       "      <td>(30, 40]</td>\n",
       "    </tr>\n",
       "    <tr>\n",
       "      <th>2</th>\n",
       "      <td>FONASA INSTITUCIONAL - (MAI) B</td>\n",
       "      <td>MUJER</td>\n",
       "      <td>(0, 10]</td>\n",
       "    </tr>\n",
       "    <tr>\n",
       "      <th>3</th>\n",
       "      <td>FONASA INSTITUCIONAL - (MAI) A</td>\n",
       "      <td>HOMBRE</td>\n",
       "      <td>(0, 10]</td>\n",
       "    </tr>\n",
       "    <tr>\n",
       "      <th>4</th>\n",
       "      <td>FONASA INSTITUCIONAL - (MAI) C</td>\n",
       "      <td>MUJER</td>\n",
       "      <td>(20, 30]</td>\n",
       "    </tr>\n",
       "    <tr>\n",
       "      <th>...</th>\n",
       "      <td>...</td>\n",
       "      <td>...</td>\n",
       "      <td>...</td>\n",
       "    </tr>\n",
       "    <tr>\n",
       "      <th>2750291</th>\n",
       "      <td>FONASA INSTITUCIONAL - (MAI) B</td>\n",
       "      <td>HOMBRE</td>\n",
       "      <td>(70, 80]</td>\n",
       "    </tr>\n",
       "    <tr>\n",
       "      <th>2750292</th>\n",
       "      <td>FONASA INSTITUCIONAL - (MAI) B</td>\n",
       "      <td>HOMBRE</td>\n",
       "      <td>(-inf, 0]</td>\n",
       "    </tr>\n",
       "    <tr>\n",
       "      <th>2750293</th>\n",
       "      <td>FONASA INSTITUCIONAL - (MAI) B</td>\n",
       "      <td>MUJER</td>\n",
       "      <td>(70, 80]</td>\n",
       "    </tr>\n",
       "    <tr>\n",
       "      <th>2750294</th>\n",
       "      <td>FONASA INSTITUCIONAL - (MAI) D</td>\n",
       "      <td>HOMBRE</td>\n",
       "      <td>(60, 70]</td>\n",
       "    </tr>\n",
       "    <tr>\n",
       "      <th>2750295</th>\n",
       "      <td>FONASA INSTITUCIONAL - (MAI) B</td>\n",
       "      <td>MUJER</td>\n",
       "      <td>(40, 50]</td>\n",
       "    </tr>\n",
       "  </tbody>\n",
       "</table>\n",
       "<p>2750296 rows × 3 columns</p>\n",
       "</div>"
      ],
      "text/plain": [
       "                              PREVISION    SEXO RANGO_ETARIO\n",
       "0        FONASA INSTITUCIONAL - (MAI) A   MUJER     (30, 40]\n",
       "1        FONASA INSTITUCIONAL - (MAI) D   MUJER     (30, 40]\n",
       "2        FONASA INSTITUCIONAL - (MAI) B   MUJER      (0, 10]\n",
       "3        FONASA INSTITUCIONAL - (MAI) A  HOMBRE      (0, 10]\n",
       "4        FONASA INSTITUCIONAL - (MAI) C   MUJER     (20, 30]\n",
       "...                                 ...     ...          ...\n",
       "2750291  FONASA INSTITUCIONAL - (MAI) B  HOMBRE     (70, 80]\n",
       "2750292  FONASA INSTITUCIONAL - (MAI) B  HOMBRE    (-inf, 0]\n",
       "2750293  FONASA INSTITUCIONAL - (MAI) B   MUJER     (70, 80]\n",
       "2750294  FONASA INSTITUCIONAL - (MAI) D  HOMBRE     (60, 70]\n",
       "2750295  FONASA INSTITUCIONAL - (MAI) B   MUJER     (40, 50]\n",
       "\n",
       "[2750296 rows x 3 columns]"
      ]
     },
     "execution_count": 36,
     "metadata": {},
     "output_type": "execute_result"
    }
   ],
   "source": [
    "df_procesada[columnas_sociodemográficas]"
   ]
  }
 ],
 "metadata": {
  "kernelspec": {
   "display_name": "base",
   "language": "python",
   "name": "python3"
  },
  "language_info": {
   "codemirror_mode": {
    "name": "ipython",
    "version": 3
   },
   "file_extension": ".py",
   "mimetype": "text/x-python",
   "name": "python",
   "nbconvert_exporter": "python",
   "pygments_lexer": "ipython3",
   "version": "3.10.9"
  },
  "orig_nbformat": 4
 },
 "nbformat": 4,
 "nbformat_minor": 2
}
