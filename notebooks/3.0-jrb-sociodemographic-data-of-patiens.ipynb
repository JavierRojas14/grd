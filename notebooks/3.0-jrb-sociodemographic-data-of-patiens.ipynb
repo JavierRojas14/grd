{
 "cells": [
  {
   "cell_type": "code",
   "execution_count": 31,
   "metadata": {},
   "outputs": [
    {
     "name": "stdout",
     "output_type": "stream",
     "text": [
      "The autoreload extension is already loaded. To reload it, use:\n",
      "  %reload_ext autoreload\n"
     ]
    }
   ],
   "source": [
    "import sys\n",
    "import os\n",
    "\n",
    "project_root = os.path.abspath('..')\n",
    "if project_root not in sys.path:\n",
    "    sys.path.append(project_root)\n",
    "\n",
    "%load_ext autoreload\n",
    "%autoreload 2"
   ]
  },
  {
   "cell_type": "code",
   "execution_count": 32,
   "metadata": {},
   "outputs": [],
   "source": [
    "import pandas as pd\n",
    "import numpy as np\n",
    "import polars as pl\n",
    "import matplotlib.pyplot as plt\n",
    "import seaborn as sns\n",
    "\n",
    "import warnings\n",
    "\n",
    "from src.features import build_features\n",
    "\n",
    "warnings.filterwarnings('ignore')\n",
    "sns.set_style()\n",
    "plt.rcParams['figure.figsize'] = (12, 6)"
   ]
  },
  {
   "cell_type": "code",
   "execution_count": 33,
   "metadata": {},
   "outputs": [],
   "source": [
    "vars_procedimientos = {f\"PROCEDIMIENTO{i}\": str for i in range(1, 31)}\n",
    "df_procesada = pd.read_csv(\"../data/processed/df_procesada.csv\", sep=\";\", dtype=vars_procedimientos)"
   ]
  },
  {
   "cell_type": "code",
   "execution_count": 34,
   "metadata": {},
   "outputs": [],
   "source": [
    "df_torax = df_procesada.query(\"COD_HOSPITAL == 112103\")"
   ]
  },
  {
   "cell_type": "markdown",
   "metadata": {},
   "source": [
    "## 1. Análisis Sociodemográfico de los pacientes\n",
    "\n",
    "En este apartado se quiere responder las siguientes preguntas:\n",
    "\n",
    "- ¿Cuál es la **edad** de los pacientes que se realizan los procedimientos en el hospital del Tórax?\n",
    "- ¿Cuál es el **sexo** de los pacientes que se realizan los procedimientos en el hospital del Tórax?\n",
    "- ¿Cuál es la **previsión** de los pacientes que se realizan los procedimientos en el hospital del Tórax?\n",
    "- ¿Cuál es la **letra de FONASA** de los pacientes que se realizan los procedimientos en el hospital del Tórax?\n",
    "\n",
    "Para responder estas preguntas se utilizará la base de datos de GRD Público entre 2019 y 2021."
   ]
  },
  {
   "cell_type": "code",
   "execution_count": 35,
   "metadata": {},
   "outputs": [],
   "source": [
    "columnas_sociodemográficas = [\"PREVISION\", \"SEXO\", \"RANGO_ETARIO\", \"Región y País\"]\n",
    "\n",
    "df_procesada_formato_largo = pd.melt(\n",
    "    df_torax,\n",
    "    id_vars=[\"COD_HOSPITAL\", \"ANIO_EGRESO\", \"CIP_ENCRIPTADO\"] + columnas_sociodemográficas,\n",
    "    value_vars=vars_procedimientos.keys(),\n",
    "    value_name=\"procedimiento\",\n",
    ")"
   ]
  },
  {
   "cell_type": "code",
   "execution_count": 36,
   "metadata": {},
   "outputs": [],
   "source": [
    "agrupacion_estatica = [\"ANIO_EGRESO\", \"Región y País\"]\n",
    "agrupacion_variable = [\"PREVISION\", \"SEXO\", \"RANGO_ETARIO\"]\n",
    "variable_a_contar = \"procedimiento\""
   ]
  },
  {
   "cell_type": "code",
   "execution_count": 37,
   "metadata": {},
   "outputs": [],
   "source": [
    "resultados_sociodemograficos = build_features.obtener_desglose_sociodemografico(\n",
    "    df_procesada_formato_largo, agrupacion_estatica, agrupacion_variable, variable_a_contar\n",
    ")"
   ]
  },
  {
   "cell_type": "code",
   "execution_count": 38,
   "metadata": {},
   "outputs": [],
   "source": [
    "ruta_a_guardar = \"../data/interim/sociodemografico/desglose_sociodemografico_proced.xlsx\"\n",
    "\n",
    "with pd.ExcelWriter(ruta_a_guardar) as file:\n",
    "    for nombre_hoja, df_a_guardar in resultados_sociodemograficos.items():\n",
    "        df_a_guardar.to_excel(file, sheet_name=nombre_hoja, index=False)"
   ]
  },
  {
   "cell_type": "markdown",
   "metadata": {},
   "source": [
    "A modo de ejemplo, se quiere saber el desglose sociodemográfico de las Angioplastías (00.66) en 2019\n",
    "para el Hospital del Tórax"
   ]
  },
  {
   "cell_type": "code",
   "execution_count": 42,
   "metadata": {},
   "outputs": [
    {
     "data": {
      "text/html": [
       "<div>\n",
       "<style scoped>\n",
       "    .dataframe tbody tr th:only-of-type {\n",
       "        vertical-align: middle;\n",
       "    }\n",
       "\n",
       "    .dataframe tbody tr th {\n",
       "        vertical-align: top;\n",
       "    }\n",
       "\n",
       "    .dataframe thead th {\n",
       "        text-align: right;\n",
       "    }\n",
       "</style>\n",
       "<table border=\"1\" class=\"dataframe\">\n",
       "  <thead>\n",
       "    <tr style=\"text-align: right;\">\n",
       "      <th></th>\n",
       "      <th>ANIO_EGRESO</th>\n",
       "      <th>Región y País</th>\n",
       "      <th>procedimiento</th>\n",
       "      <th>conteo_global</th>\n",
       "      <th>llave_id</th>\n",
       "    </tr>\n",
       "  </thead>\n",
       "  <tbody>\n",
       "    <tr>\n",
       "      <th>23</th>\n",
       "      <td>2019.0</td>\n",
       "      <td>Región  Metropolitana de Santiago, Chile</td>\n",
       "      <td>00.66</td>\n",
       "      <td>618</td>\n",
       "      <td>2019.0-Región  Metropolitana de Santiago, Chil...</td>\n",
       "    </tr>\n",
       "    <tr>\n",
       "      <th>579</th>\n",
       "      <td>2019.0</td>\n",
       "      <td>Región  de Antofagasta, Chile</td>\n",
       "      <td>00.66</td>\n",
       "      <td>2</td>\n",
       "      <td>2019.0-Región  de Antofagasta, Chile-00.66</td>\n",
       "    </tr>\n",
       "    <tr>\n",
       "      <th>690</th>\n",
       "      <td>2019.0</td>\n",
       "      <td>Región  de Arica y Parinacota, Chile</td>\n",
       "      <td>00.66</td>\n",
       "      <td>14</td>\n",
       "      <td>2019.0-Región  de Arica y Parinacota, Chile-00.66</td>\n",
       "    </tr>\n",
       "    <tr>\n",
       "      <th>831</th>\n",
       "      <td>2019.0</td>\n",
       "      <td>Región  de Atacama, Chile</td>\n",
       "      <td>00.66</td>\n",
       "      <td>59</td>\n",
       "      <td>2019.0-Región  de Atacama, Chile-00.66</td>\n",
       "    </tr>\n",
       "    <tr>\n",
       "      <th>1043</th>\n",
       "      <td>2019.0</td>\n",
       "      <td>Región  de Aysén del General Carlos Ibáñez del...</td>\n",
       "      <td>00.66</td>\n",
       "      <td>21</td>\n",
       "      <td>2019.0-Región  de Aysén del General Carlos Ibá...</td>\n",
       "    </tr>\n",
       "    <tr>\n",
       "      <th>1185</th>\n",
       "      <td>2019.0</td>\n",
       "      <td>Región  de Coquimbo, Chile</td>\n",
       "      <td>00.66</td>\n",
       "      <td>33</td>\n",
       "      <td>2019.0-Región  de Coquimbo, Chile-00.66</td>\n",
       "    </tr>\n",
       "    <tr>\n",
       "      <th>1581</th>\n",
       "      <td>2019.0</td>\n",
       "      <td>Región  de Los Lagos, Chile</td>\n",
       "      <td>00.66</td>\n",
       "      <td>10</td>\n",
       "      <td>2019.0-Región  de Los Lagos, Chile-00.66</td>\n",
       "    </tr>\n",
       "    <tr>\n",
       "      <th>1897</th>\n",
       "      <td>2019.0</td>\n",
       "      <td>Región  de Magallanes y de la Antártica Chilen...</td>\n",
       "      <td>00.66</td>\n",
       "      <td>2</td>\n",
       "      <td>2019.0-Región  de Magallanes y de la Antártica...</td>\n",
       "    </tr>\n",
       "    <tr>\n",
       "      <th>2028</th>\n",
       "      <td>2019.0</td>\n",
       "      <td>Región  de Tarapacá, Chile</td>\n",
       "      <td>00.66</td>\n",
       "      <td>9</td>\n",
       "      <td>2019.0-Región  de Tarapacá, Chile-00.66</td>\n",
       "    </tr>\n",
       "    <tr>\n",
       "      <th>2228</th>\n",
       "      <td>2019.0</td>\n",
       "      <td>Región  de Valparaíso, Chile</td>\n",
       "      <td>00.66</td>\n",
       "      <td>25</td>\n",
       "      <td>2019.0-Región  de Valparaíso, Chile-00.66</td>\n",
       "    </tr>\n",
       "    <tr>\n",
       "      <th>2479</th>\n",
       "      <td>2019.0</td>\n",
       "      <td>Región  de Ñuble, Chile</td>\n",
       "      <td>00.66</td>\n",
       "      <td>5</td>\n",
       "      <td>2019.0-Región  de Ñuble, Chile-00.66</td>\n",
       "    </tr>\n",
       "    <tr>\n",
       "      <th>2598</th>\n",
       "      <td>2019.0</td>\n",
       "      <td>Región  del Biobío, Chile</td>\n",
       "      <td>00.66</td>\n",
       "      <td>7</td>\n",
       "      <td>2019.0-Región  del Biobío, Chile-00.66</td>\n",
       "    </tr>\n",
       "    <tr>\n",
       "      <th>2762</th>\n",
       "      <td>2019.0</td>\n",
       "      <td>Región  del Libertador General Bernardo O'Higg...</td>\n",
       "      <td>00.66</td>\n",
       "      <td>21</td>\n",
       "      <td>2019.0-Región  del Libertador General Bernardo...</td>\n",
       "    </tr>\n",
       "    <tr>\n",
       "      <th>3059</th>\n",
       "      <td>2019.0</td>\n",
       "      <td>Región  del Maule, Chile</td>\n",
       "      <td>00.66</td>\n",
       "      <td>5</td>\n",
       "      <td>2019.0-Región  del Maule, Chile-00.66</td>\n",
       "    </tr>\n",
       "  </tbody>\n",
       "</table>\n",
       "</div>"
      ],
      "text/plain": [
       "      ANIO_EGRESO                                      Región y País  \\\n",
       "23         2019.0           Región  Metropolitana de Santiago, Chile   \n",
       "579        2019.0                      Región  de Antofagasta, Chile   \n",
       "690        2019.0               Región  de Arica y Parinacota, Chile   \n",
       "831        2019.0                          Región  de Atacama, Chile   \n",
       "1043       2019.0  Región  de Aysén del General Carlos Ibáñez del...   \n",
       "1185       2019.0                         Región  de Coquimbo, Chile   \n",
       "1581       2019.0                        Región  de Los Lagos, Chile   \n",
       "1897       2019.0  Región  de Magallanes y de la Antártica Chilen...   \n",
       "2028       2019.0                         Región  de Tarapacá, Chile   \n",
       "2228       2019.0                       Región  de Valparaíso, Chile   \n",
       "2479       2019.0                            Región  de Ñuble, Chile   \n",
       "2598       2019.0                          Región  del Biobío, Chile   \n",
       "2762       2019.0  Región  del Libertador General Bernardo O'Higg...   \n",
       "3059       2019.0                           Región  del Maule, Chile   \n",
       "\n",
       "     procedimiento  conteo_global  \\\n",
       "23           00.66            618   \n",
       "579          00.66              2   \n",
       "690          00.66             14   \n",
       "831          00.66             59   \n",
       "1043         00.66             21   \n",
       "1185         00.66             33   \n",
       "1581         00.66             10   \n",
       "1897         00.66              2   \n",
       "2028         00.66              9   \n",
       "2228         00.66             25   \n",
       "2479         00.66              5   \n",
       "2598         00.66              7   \n",
       "2762         00.66             21   \n",
       "3059         00.66              5   \n",
       "\n",
       "                                               llave_id  \n",
       "23    2019.0-Región  Metropolitana de Santiago, Chil...  \n",
       "579          2019.0-Región  de Antofagasta, Chile-00.66  \n",
       "690   2019.0-Región  de Arica y Parinacota, Chile-00.66  \n",
       "831              2019.0-Región  de Atacama, Chile-00.66  \n",
       "1043  2019.0-Región  de Aysén del General Carlos Ibá...  \n",
       "1185            2019.0-Región  de Coquimbo, Chile-00.66  \n",
       "1581           2019.0-Región  de Los Lagos, Chile-00.66  \n",
       "1897  2019.0-Región  de Magallanes y de la Antártica...  \n",
       "2028            2019.0-Región  de Tarapacá, Chile-00.66  \n",
       "2228          2019.0-Región  de Valparaíso, Chile-00.66  \n",
       "2479               2019.0-Región  de Ñuble, Chile-00.66  \n",
       "2598             2019.0-Región  del Biobío, Chile-00.66  \n",
       "2762  2019.0-Región  del Libertador General Bernardo...  \n",
       "3059              2019.0-Región  del Maule, Chile-00.66  "
      ]
     },
     "execution_count": 42,
     "metadata": {},
     "output_type": "execute_result"
    }
   ],
   "source": [
    "resultados_sociodemograficos[\"global\"].query(\"procedimiento == '00.66' and ANIO_EGRESO == 2019.0\")"
   ]
  },
  {
   "cell_type": "markdown",
   "metadata": {},
   "source": [
    "Los resultados muestran el desglose por región para las angioplastias."
   ]
  }
 ],
 "metadata": {
  "kernelspec": {
   "display_name": "base",
   "language": "python",
   "name": "python3"
  },
  "language_info": {
   "codemirror_mode": {
    "name": "ipython",
    "version": 3
   },
   "file_extension": ".py",
   "mimetype": "text/x-python",
   "name": "python",
   "nbconvert_exporter": "python",
   "pygments_lexer": "ipython3",
   "version": "3.10.9"
  },
  "orig_nbformat": 4
 },
 "nbformat": 4,
 "nbformat_minor": 2
}
