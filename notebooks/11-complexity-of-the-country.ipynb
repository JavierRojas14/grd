{
 "cells": [
  {
   "cell_type": "code",
   "execution_count": 1,
   "id": "93e94beb",
   "metadata": {},
   "outputs": [],
   "source": [
    "import sys\n",
    "import os\n",
    "\n",
    "project_root = os.path.abspath('..')\n",
    "if project_root not in sys.path:\n",
    "    sys.path.append(project_root)\n",
    " \n",
    "%load_ext autoreload\n",
    "%autoreload 2"
   ]
  },
  {
   "cell_type": "code",
   "execution_count": 2,
   "id": "079e2864",
   "metadata": {},
   "outputs": [],
   "source": [
    "import pandas as pd\n",
    "import numpy as np\n",
    "\n",
    "import polars as pl\n",
    "\n",
    "pd.set_option('display.max_columns', None)"
   ]
  },
  {
   "cell_type": "code",
   "execution_count": 11,
   "id": "73191384",
   "metadata": {},
   "outputs": [],
   "source": [
    "df = (\n",
    "    pl.scan_csv(\"../data/processed/df_procesada.csv\", separator=\";\")\n",
    "    .filter((pl.col(\"TIPO_ACTIVIDAD\") == \"HOSPITALIZACIÓN\"))\n",
    "    .group_by(pl.col([\"ANIO_EGRESO\", \"COD_HOSPITAL\"]))\n",
    "    .agg(\n",
    "        pl.col(\"DIAGNOSTICO1\").count().alias(\"n_egresos\"),\n",
    "        pl.col(\"ESTANCIA\").sum().alias(\"dias_estada_totales\"),\n",
    "        pl.col(\"IR_29301_PESO\").mean().alias(\"promedio_peso_grd\"),\n",
    "    )\n",
    "    .sort(by=[\"ANIO_EGRESO\", \"promedio_peso_grd\"], descending=True)\n",
    ").collect()"
   ]
  },
  {
   "cell_type": "code",
   "execution_count": 12,
   "id": "ea49116d",
   "metadata": {},
   "outputs": [
    {
     "data": {
      "text/html": [
       "<div><style>\n",
       ".dataframe > thead > tr > th,\n",
       ".dataframe > tbody > tr > td {\n",
       "  text-align: right;\n",
       "  white-space: pre-wrap;\n",
       "}\n",
       "</style>\n",
       "<small>shape: (328, 5)</small><table border=\"1\" class=\"dataframe\"><thead><tr><th>ANIO_EGRESO</th><th>COD_HOSPITAL</th><th>n_egresos</th><th>dias_estada_totales</th><th>promedio_peso_grd</th></tr><tr><td>i64</td><td>i64</td><td>u32</td><td>i64</td><td>f64</td></tr></thead><tbody><tr><td>2023</td><td>112103</td><td>3594</td><td>32385</td><td>2.374888</td></tr><tr><td>2023</td><td>112104</td><td>3558</td><td>23945</td><td>1.875305</td></tr><tr><td>2023</td><td>111195</td><td>11198</td><td>102014</td><td>1.503182</td></tr><tr><td>2023</td><td>112102</td><td>7519</td><td>48336</td><td>1.389222</td></tr><tr><td>2023</td><td>112100</td><td>10721</td><td>112952</td><td>1.303186</td></tr><tr><td>2023</td><td>110110</td><td>3115</td><td>15961</td><td>1.301621</td></tr><tr><td>2023</td><td>106102</td><td>4224</td><td>48442</td><td>1.300842</td></tr><tr><td>2023</td><td>107100</td><td>21896</td><td>168148</td><td>1.279759</td></tr><tr><td>2023</td><td>110100</td><td>20198</td><td>151901</td><td>1.242069</td></tr><tr><td>2023</td><td>118100</td><td>31014</td><td>244721</td><td>1.217586</td></tr><tr><td>2023</td><td>113100</td><td>22791</td><td>192047</td><td>1.210207</td></tr><tr><td>2023</td><td>109101</td><td>7723</td><td>47892</td><td>1.195931</td></tr><tr><td>&hellip;</td><td>&hellip;</td><td>&hellip;</td><td>&hellip;</td><td>&hellip;</td></tr><tr><td>2019</td><td>103101</td><td>8816</td><td>45920</td><td>0.718982</td></tr><tr><td>2019</td><td>116110</td><td>4681</td><td>19299</td><td>0.716264</td></tr><tr><td>2019</td><td>117102</td><td>7387</td><td>32715</td><td>0.716099</td></tr><tr><td>2019</td><td>129100</td><td>7751</td><td>39533</td><td>0.690179</td></tr><tr><td>2019</td><td>110130</td><td>6675</td><td>34012</td><td>0.687818</td></tr><tr><td>2019</td><td>128109</td><td>6265</td><td>27457</td><td>0.682933</td></tr><tr><td>2019</td><td>121121</td><td>4768</td><td>18667</td><td>0.646241</td></tr><tr><td>2019</td><td>110150</td><td>7018</td><td>38789</td><td>0.640521</td></tr><tr><td>2019</td><td>118105</td><td>6740</td><td>34935</td><td>0.61755</td></tr><tr><td>2019</td><td>113150</td><td>5434</td><td>25193</td><td>0.602644</td></tr><tr><td>2019</td><td>114103</td><td>17488</td><td>108099</td><td>NaN</td></tr><tr><td>2019</td><td>111100</td><td>25303</td><td>139710</td><td>NaN</td></tr></tbody></table></div>"
      ],
      "text/plain": [
       "shape: (328, 5)\n",
       "┌─────────────┬──────────────┬───────────┬─────────────────────┬───────────────────┐\n",
       "│ ANIO_EGRESO ┆ COD_HOSPITAL ┆ n_egresos ┆ dias_estada_totales ┆ promedio_peso_grd │\n",
       "│ ---         ┆ ---          ┆ ---       ┆ ---                 ┆ ---               │\n",
       "│ i64         ┆ i64          ┆ u32       ┆ i64                 ┆ f64               │\n",
       "╞═════════════╪══════════════╪═══════════╪═════════════════════╪═══════════════════╡\n",
       "│ 2023        ┆ 112103       ┆ 3594      ┆ 32385               ┆ 2.374888          │\n",
       "│ 2023        ┆ 112104       ┆ 3558      ┆ 23945               ┆ 1.875305          │\n",
       "│ 2023        ┆ 111195       ┆ 11198     ┆ 102014              ┆ 1.503182          │\n",
       "│ 2023        ┆ 112102       ┆ 7519      ┆ 48336               ┆ 1.389222          │\n",
       "│ …           ┆ …            ┆ …         ┆ …                   ┆ …                 │\n",
       "│ 2019        ┆ 118105       ┆ 6740      ┆ 34935               ┆ 0.61755           │\n",
       "│ 2019        ┆ 113150       ┆ 5434      ┆ 25193               ┆ 0.602644          │\n",
       "│ 2019        ┆ 114103       ┆ 17488     ┆ 108099              ┆ NaN               │\n",
       "│ 2019        ┆ 111100       ┆ 25303     ┆ 139710              ┆ NaN               │\n",
       "└─────────────┴──────────────┴───────────┴─────────────────────┴───────────────────┘"
      ]
     },
     "execution_count": 12,
     "metadata": {},
     "output_type": "execute_result"
    }
   ],
   "source": [
    "df"
   ]
  },
  {
   "cell_type": "code",
   "execution_count": null,
   "id": "c239cdf6",
   "metadata": {},
   "outputs": [],
   "source": []
  }
 ],
 "metadata": {
  "kernelspec": {
   "display_name": "egresos-deis",
   "language": "python",
   "name": "python3"
  },
  "language_info": {
   "codemirror_mode": {
    "name": "ipython",
    "version": 3
   },
   "file_extension": ".py",
   "mimetype": "text/x-python",
   "name": "python",
   "nbconvert_exporter": "python",
   "pygments_lexer": "ipython3",
   "version": "3.11.5"
  }
 },
 "nbformat": 4,
 "nbformat_minor": 5
}
