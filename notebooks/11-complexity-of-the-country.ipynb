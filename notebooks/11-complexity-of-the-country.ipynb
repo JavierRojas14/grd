{
 "cells": [
  {
   "cell_type": "code",
   "execution_count": 2,
   "id": "93e94beb",
   "metadata": {},
   "outputs": [],
   "source": [
    "import sys\n",
    "import os\n",
    "\n",
    "project_root = os.path.abspath('..')\n",
    "if project_root not in sys.path:\n",
    "    sys.path.append(project_root)\n",
    " \n",
    "%load_ext autoreload\n",
    "%autoreload 2"
   ]
  },
  {
   "cell_type": "code",
   "execution_count": 3,
   "id": "079e2864",
   "metadata": {},
   "outputs": [],
   "source": [
    "import pandas as pd\n",
    "import numpy as np\n",
    "\n",
    "import polars as pl\n",
    "\n",
    "pd.set_option('display.max_columns', None)"
   ]
  },
  {
   "cell_type": "code",
   "execution_count": 15,
   "id": "ec3770d5",
   "metadata": {},
   "outputs": [],
   "source": [
    "esquema_hospitales = pd.read_excel(\n",
    "    \"../data/external/Esquema_Registro-2023.xls\", sheet_name=4, header=7\n",
    ").dropna(how=\"all\", axis=1)[[\"Código nuevo Establecimiento\", \"Nombre Oficial\"]]"
   ]
  },
  {
   "cell_type": "code",
   "execution_count": 16,
   "id": "73191384",
   "metadata": {},
   "outputs": [],
   "source": [
    "df = (\n",
    "    (\n",
    "        pl.scan_csv(\"../data/processed/df_procesada.csv\", separator=\";\")\n",
    "        .filter((pl.col(\"TIPO_ACTIVIDAD\") == \"HOSPITALIZACIÓN\"))\n",
    "        .group_by(pl.col([\"ANIO_EGRESO\", \"COD_HOSPITAL\"]))\n",
    "        .agg(\n",
    "            pl.col(\"DIAGNOSTICO1\").count().alias(\"n_egresos\"),\n",
    "            pl.col(\"ESTANCIA\").sum().alias(\"dias_estada_totales\"),\n",
    "            pl.col(\"IR_29301_PESO\").mean().alias(\"promedio_peso_grd\"),\n",
    "        )\n",
    "    )\n",
    "    .collect()\n",
    "    .to_pandas()\n",
    "    .sort_values([\"ANIO_EGRESO\", \"promedio_peso_grd\"], ascending=False)\n",
    ")"
   ]
  },
  {
   "cell_type": "code",
   "execution_count": 19,
   "id": "ea49116d",
   "metadata": {},
   "outputs": [],
   "source": [
    "resumen_complejidad = df.merge(\n",
    "    esquema_hospitales, how=\"left\", left_on=\"COD_HOSPITAL\", right_on=\"Código nuevo Establecimiento\"\n",
    ")"
   ]
  },
  {
   "cell_type": "code",
   "execution_count": 20,
   "id": "18d0b836",
   "metadata": {},
   "outputs": [],
   "source": [
    "resumen_complejidad.to_excel(\"../data/interim/resumen_complejidad_pais.xlsx\", index=False)"
   ]
  }
 ],
 "metadata": {
  "kernelspec": {
   "display_name": "grd-fonasa",
   "language": "python",
   "name": "python3"
  },
  "language_info": {
   "codemirror_mode": {
    "name": "ipython",
    "version": 3
   },
   "file_extension": ".py",
   "mimetype": "text/x-python",
   "name": "python",
   "nbconvert_exporter": "python",
   "pygments_lexer": "ipython3",
   "version": "3.11.5"
  }
 },
 "nbformat": 4,
 "nbformat_minor": 5
}
