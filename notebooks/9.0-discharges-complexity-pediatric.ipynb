{
 "cells": [
  {
   "cell_type": "code",
   "execution_count": 4,
   "metadata": {},
   "outputs": [
    {
     "name": "stdout",
     "output_type": "stream",
     "text": [
      "The autoreload extension is already loaded. To reload it, use:\n",
      "  %reload_ext autoreload\n"
     ]
    }
   ],
   "source": [
    "import sys\n",
    "import os\n",
    "\n",
    "project_root = os.path.abspath('..')\n",
    "if project_root not in sys.path:\n",
    "    sys.path.append(project_root)\n",
    " \n",
    "%load_ext autoreload\n",
    "%autoreload 2"
   ]
  },
  {
   "cell_type": "code",
   "execution_count": 7,
   "metadata": {},
   "outputs": [],
   "source": [
    "import pandas as pd\n",
    "import numpy as np\n",
    "\n",
    "import matplotlib.pyplot as plt\n",
    "import seaborn as sns\n",
    "\n",
    "import polars as pl\n",
    "\n",
    "sns.set_theme(palette='pastel')\n",
    "plt.rcParams['figure.figsize'] = (12, 6)\n",
    "pd.set_option('display.max_columns', None)\n",
    "\n",
    "CODIGO_ROBERTO = 109101\n",
    "CODIGO_EXEQUIEL = 113130\n",
    "CODIGO_CALVO = 112102\n",
    "CODIGO_INT = 112103\n",
    "\n",
    "CODIGOS_PEDIATRICOS = [CODIGO_ROBERTO, CODIGO_EXEQUIEL, CODIGO_CALVO]"
   ]
  },
  {
   "cell_type": "code",
   "execution_count": 25,
   "metadata": {},
   "outputs": [],
   "source": [
    "df_pediatricos = (\n",
    "    pl.scan_csv(\"../data/processed/df_procesada.csv\", separator=\";\")\n",
    "    .filter(\n",
    "        (pl.col(\"COD_HOSPITAL\").is_in(CODIGOS_PEDIATRICOS))\n",
    "        & (pl.col(\"TIPO_ACTIVIDAD\") == \"HOSPITALIZACIÓN\")\n",
    "    )\n",
    "    .group_by(pl.col([\"ANIO_EGRESO\", \"COD_HOSPITAL\"]))\n",
    "    .agg(\n",
    "        pl.col(\"DIAGNOSTICO1\").count().alias(\"n_egresos\"),\n",
    "        pl.col(\"ESTANCIA\").sum().alias(\"dias_estada_totales\"),\n",
    "        pl.col(\"IR_29301_PESO\").mean().alias(\"promedio_peso_grd\"),\n",
    "    )\n",
    "    .sort(by=[\"COD_HOSPITAL\", \"ANIO_EGRESO\", \"n_egresos\"], descending=False)\n",
    ").collect().to_pandas()"
   ]
  },
  {
   "cell_type": "code",
   "execution_count": 51,
   "metadata": {},
   "outputs": [],
   "source": [
    "comparacion_pesos_pediatricos = pd.pivot_table(\n",
    "    df_pediatricos,\n",
    "    values=[\"n_egresos\", \"dias_estada_totales\", \"promedio_peso_grd\"],\n",
    "    index=[\"COD_HOSPITAL\"],\n",
    "    columns=[\"ANIO_EGRESO\"],\n",
    "    aggfunc=\"sum\"\n",
    ")"
   ]
  },
  {
   "cell_type": "code",
   "execution_count": 52,
   "metadata": {},
   "outputs": [
    {
     "data": {
      "text/html": [
       "<div>\n",
       "<style scoped>\n",
       "    .dataframe tbody tr th:only-of-type {\n",
       "        vertical-align: middle;\n",
       "    }\n",
       "\n",
       "    .dataframe tbody tr th {\n",
       "        vertical-align: top;\n",
       "    }\n",
       "\n",
       "    .dataframe thead tr th {\n",
       "        text-align: left;\n",
       "    }\n",
       "\n",
       "    .dataframe thead tr:last-of-type th {\n",
       "        text-align: right;\n",
       "    }\n",
       "</style>\n",
       "<table border=\"1\" class=\"dataframe\">\n",
       "  <thead>\n",
       "    <tr>\n",
       "      <th></th>\n",
       "      <th colspan=\"5\" halign=\"left\">dias_estada_totales</th>\n",
       "      <th colspan=\"5\" halign=\"left\">n_egresos</th>\n",
       "      <th colspan=\"5\" halign=\"left\">promedio_peso_grd</th>\n",
       "    </tr>\n",
       "    <tr>\n",
       "      <th>ANIO_EGRESO</th>\n",
       "      <th>2019</th>\n",
       "      <th>2020</th>\n",
       "      <th>2021</th>\n",
       "      <th>2022</th>\n",
       "      <th>2023</th>\n",
       "      <th>2019</th>\n",
       "      <th>2020</th>\n",
       "      <th>2021</th>\n",
       "      <th>2022</th>\n",
       "      <th>2023</th>\n",
       "      <th>2019</th>\n",
       "      <th>2020</th>\n",
       "      <th>2021</th>\n",
       "      <th>2022</th>\n",
       "      <th>2023</th>\n",
       "    </tr>\n",
       "    <tr>\n",
       "      <th>COD_HOSPITAL</th>\n",
       "      <th></th>\n",
       "      <th></th>\n",
       "      <th></th>\n",
       "      <th></th>\n",
       "      <th></th>\n",
       "      <th></th>\n",
       "      <th></th>\n",
       "      <th></th>\n",
       "      <th></th>\n",
       "      <th></th>\n",
       "      <th></th>\n",
       "      <th></th>\n",
       "      <th></th>\n",
       "      <th></th>\n",
       "      <th></th>\n",
       "    </tr>\n",
       "  </thead>\n",
       "  <tbody>\n",
       "    <tr>\n",
       "      <th>109101</th>\n",
       "      <td>51598</td>\n",
       "      <td>35201</td>\n",
       "      <td>41939</td>\n",
       "      <td>45218</td>\n",
       "      <td>47892</td>\n",
       "      <td>9200</td>\n",
       "      <td>4960</td>\n",
       "      <td>5640</td>\n",
       "      <td>6890</td>\n",
       "      <td>7723</td>\n",
       "      <td>1.109254</td>\n",
       "      <td>1.329573</td>\n",
       "      <td>1.271459</td>\n",
       "      <td>1.258852</td>\n",
       "      <td>1.195931</td>\n",
       "    </tr>\n",
       "    <tr>\n",
       "      <th>112102</th>\n",
       "      <td>50801</td>\n",
       "      <td>42709</td>\n",
       "      <td>48518</td>\n",
       "      <td>47070</td>\n",
       "      <td>48336</td>\n",
       "      <td>8424</td>\n",
       "      <td>5308</td>\n",
       "      <td>6771</td>\n",
       "      <td>7045</td>\n",
       "      <td>7519</td>\n",
       "      <td>1.418824</td>\n",
       "      <td>1.627579</td>\n",
       "      <td>1.617592</td>\n",
       "      <td>1.517342</td>\n",
       "      <td>1.389222</td>\n",
       "    </tr>\n",
       "    <tr>\n",
       "      <th>113130</th>\n",
       "      <td>46371</td>\n",
       "      <td>31534</td>\n",
       "      <td>39876</td>\n",
       "      <td>39975</td>\n",
       "      <td>40706</td>\n",
       "      <td>7329</td>\n",
       "      <td>4866</td>\n",
       "      <td>6302</td>\n",
       "      <td>7074</td>\n",
       "      <td>7401</td>\n",
       "      <td>1.019888</td>\n",
       "      <td>1.147688</td>\n",
       "      <td>1.121131</td>\n",
       "      <td>1.117089</td>\n",
       "      <td>1.085647</td>\n",
       "    </tr>\n",
       "  </tbody>\n",
       "</table>\n",
       "</div>"
      ],
      "text/plain": [
       "             dias_estada_totales                             n_egresos        \\\n",
       "ANIO_EGRESO                 2019   2020   2021   2022   2023      2019  2020   \n",
       "COD_HOSPITAL                                                                   \n",
       "109101                     51598  35201  41939  45218  47892      9200  4960   \n",
       "112102                     50801  42709  48518  47070  48336      8424  5308   \n",
       "113130                     46371  31534  39876  39975  40706      7329  4866   \n",
       "\n",
       "                               promedio_peso_grd                      \\\n",
       "ANIO_EGRESO   2021  2022  2023              2019      2020      2021   \n",
       "COD_HOSPITAL                                                           \n",
       "109101        5640  6890  7723          1.109254  1.329573  1.271459   \n",
       "112102        6771  7045  7519          1.418824  1.627579  1.617592   \n",
       "113130        6302  7074  7401          1.019888  1.147688  1.121131   \n",
       "\n",
       "                                  \n",
       "ANIO_EGRESO       2022      2023  \n",
       "COD_HOSPITAL                      \n",
       "109101        1.258852  1.195931  \n",
       "112102        1.517342  1.389222  \n",
       "113130        1.117089  1.085647  "
      ]
     },
     "execution_count": 52,
     "metadata": {},
     "output_type": "execute_result"
    }
   ],
   "source": [
    "comparacion_pesos_pediatricos"
   ]
  },
  {
   "cell_type": "code",
   "execution_count": 37,
   "metadata": {},
   "outputs": [],
   "source": [
    "df = (\n",
    "    (\n",
    "        pl.scan_csv(\"../data/processed/df_procesada.csv\", separator=\";\")\n",
    "        .filter((pl.col(\"TIPO_ACTIVIDAD\") == \"HOSPITALIZACIÓN\"))\n",
    "        .with_columns(pl.col(\"IR_29301_PESO\").cast(pl.Float64))\n",
    "        .group_by(pl.col([\"ANIO_EGRESO\"]))\n",
    "        .agg(\n",
    "            pl.col(\"DIAGNOSTICO1\").count().alias(\"n_egresos\"),\n",
    "            pl.col(\"ESTANCIA\").sum().alias(\"dias_estada_totales\"),\n",
    "            pl.col(\"IR_29301_PESO\").fill_null(0).mean().alias(\"promedio_peso_grd\"),\n",
    "        )\n",
    "        .sort(by=[\"ANIO_EGRESO\", \"n_egresos\"], descending=False)\n",
    "    )\n",
    "    .collect()\n",
    "    .to_pandas()\n",
    ")"
   ]
  },
  {
   "cell_type": "code",
   "execution_count": 39,
   "metadata": {},
   "outputs": [
    {
     "name": "stderr",
     "output_type": "stream",
     "text": [
      "C:\\Users\\jarojas\\AppData\\Local\\Temp\\ipykernel_14252\\1252128792.py:1: DtypeWarning: Columns (1,26,27,28,29,30,31,32,33,37,41,43,47,51,75,76,77,78,79,80,81,82,83,84,85,86,87,88,89,90,91,92,93,94,95,96,97,98,101,105,113,123,124,126,127) have mixed types. Specify dtype option on import or set low_memory=False.\n",
      "  df = pd.read_csv(\"../data/processed/df_procesada.csv\", sep=\";\")\n"
     ]
    }
   ],
   "source": [
    "df = pd.read_csv(\"../data/processed/df_procesada.csv\", sep=\";\")"
   ]
  },
  {
   "cell_type": "code",
   "execution_count": 43,
   "metadata": {},
   "outputs": [],
   "source": [
    "comparacion_pesos_pais = (\n",
    "    df.query(\"TIPO_ACTIVIDAD == 'HOSPITALIZACIÓN'\")\n",
    "    .groupby([\"ANIO_EGRESO\"])\n",
    "    .agg(\n",
    "        n_egresos=(\"DIAGNOSTICO1\", \"count\"),\n",
    "        dias_estada_totales=(\"ESTANCIA\", \"sum\"),\n",
    "        promedio_peso_grd=(\"IR_29301_PESO\", \"mean\"),\n",
    "    )\n",
    ")"
   ]
  },
  {
   "cell_type": "code",
   "execution_count": 45,
   "metadata": {},
   "outputs": [],
   "source": [
    "comparacion_pesos_pais[\"COD_HOSPITAL\"] = \"Pais\""
   ]
  },
  {
   "cell_type": "code",
   "execution_count": 47,
   "metadata": {},
   "outputs": [],
   "source": [
    "comparacion_pesos_pais = comparacion_pesos_pais.reset_index()"
   ]
  },
  {
   "cell_type": "code",
   "execution_count": 60,
   "metadata": {},
   "outputs": [],
   "source": [
    "comparacion_pesos_pais[\"ANIO_EGRESO\"] = comparacion_pesos_pais[\"ANIO_EGRESO\"].astype(int)"
   ]
  },
  {
   "cell_type": "code",
   "execution_count": 61,
   "metadata": {},
   "outputs": [],
   "source": [
    "fila_pesos_pais = pd.pivot_table(\n",
    "    comparacion_pesos_pais,\n",
    "    index=\"COD_HOSPITAL\",\n",
    "    values=[\"n_egresos\", \"dias_estada_totales\", \"promedio_peso_grd\"],\n",
    "    columns=\"ANIO_EGRESO\",\n",
    "    aggfunc=\"sum\",\n",
    ")"
   ]
  },
  {
   "cell_type": "code",
   "execution_count": 64,
   "metadata": {},
   "outputs": [
    {
     "data": {
      "text/html": [
       "<div>\n",
       "<style scoped>\n",
       "    .dataframe tbody tr th:only-of-type {\n",
       "        vertical-align: middle;\n",
       "    }\n",
       "\n",
       "    .dataframe tbody tr th {\n",
       "        vertical-align: top;\n",
       "    }\n",
       "\n",
       "    .dataframe thead th {\n",
       "        text-align: right;\n",
       "    }\n",
       "</style>\n",
       "<table border=\"1\" class=\"dataframe\">\n",
       "  <thead>\n",
       "    <tr style=\"text-align: right;\">\n",
       "      <th></th>\n",
       "      <th>ANIO_EGRESO</th>\n",
       "      <th>n_egresos</th>\n",
       "      <th>dias_estada_totales</th>\n",
       "      <th>promedio_peso_grd</th>\n",
       "      <th>COD_HOSPITAL</th>\n",
       "    </tr>\n",
       "  </thead>\n",
       "  <tbody>\n",
       "    <tr>\n",
       "      <th>0</th>\n",
       "      <td>2019</td>\n",
       "      <td>886166</td>\n",
       "      <td>5994123.0</td>\n",
       "      <td>0.927393</td>\n",
       "      <td>Pais</td>\n",
       "    </tr>\n",
       "    <tr>\n",
       "      <th>1</th>\n",
       "      <td>2020</td>\n",
       "      <td>702098</td>\n",
       "      <td>5178989.0</td>\n",
       "      <td>1.058420</td>\n",
       "      <td>Pais</td>\n",
       "    </tr>\n",
       "    <tr>\n",
       "      <th>2</th>\n",
       "      <td>2021</td>\n",
       "      <td>713946</td>\n",
       "      <td>5636831.0</td>\n",
       "      <td>1.184195</td>\n",
       "      <td>Pais</td>\n",
       "    </tr>\n",
       "    <tr>\n",
       "      <th>3</th>\n",
       "      <td>2022</td>\n",
       "      <td>777974</td>\n",
       "      <td>5795982.0</td>\n",
       "      <td>1.058281</td>\n",
       "      <td>Pais</td>\n",
       "    </tr>\n",
       "    <tr>\n",
       "      <th>4</th>\n",
       "      <td>2023</td>\n",
       "      <td>846010</td>\n",
       "      <td>6054140.0</td>\n",
       "      <td>1.054084</td>\n",
       "      <td>Pais</td>\n",
       "    </tr>\n",
       "  </tbody>\n",
       "</table>\n",
       "</div>"
      ],
      "text/plain": [
       "   ANIO_EGRESO  n_egresos  dias_estada_totales  promedio_peso_grd COD_HOSPITAL\n",
       "0         2019     886166            5994123.0           0.927393         Pais\n",
       "1         2020     702098            5178989.0           1.058420         Pais\n",
       "2         2021     713946            5636831.0           1.184195         Pais\n",
       "3         2022     777974            5795982.0           1.058281         Pais\n",
       "4         2023     846010            6054140.0           1.054084         Pais"
      ]
     },
     "execution_count": 64,
     "metadata": {},
     "output_type": "execute_result"
    }
   ],
   "source": [
    "comparacion_pesos_pais"
   ]
  },
  {
   "cell_type": "code",
   "execution_count": 66,
   "metadata": {},
   "outputs": [],
   "source": [
    "pd.concat([comparacion_pesos_pediatricos, fila_pesos_pais]).to_excel(\"comparacion_complejidad_GRD.xlsx\")"
   ]
  },
  {
   "cell_type": "code",
   "execution_count": null,
   "metadata": {},
   "outputs": [],
   "source": []
  }
 ],
 "metadata": {
  "kernelspec": {
   "display_name": "grd-fonasa",
   "language": "python",
   "name": "python3"
  },
  "language_info": {
   "codemirror_mode": {
    "name": "ipython",
    "version": 3
   },
   "file_extension": ".py",
   "mimetype": "text/x-python",
   "name": "python",
   "nbconvert_exporter": "python",
   "pygments_lexer": "ipython3",
   "version": "3.11.5"
  }
 },
 "nbformat": 4,
 "nbformat_minor": 2
}
